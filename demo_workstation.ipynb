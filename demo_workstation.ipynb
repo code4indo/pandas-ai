{
 "cells": [
  {
   "cell_type": "code",
   "execution_count": null,
   "id": "b9605bc7",
   "metadata": {
<<<<<<< HEAD
    "ExecuteTime": {
     "end_time": "2023-05-29T06:56:04.104044849Z",
     "start_time": "2023-05-29T06:56:03.415520376Z"
    }
=======
    "is_executing": true
>>>>>>> 1e93c2a6c15279cec9900946186812711fdf2ba0
   },
   "outputs": [],
   "source": [
    "import os\n",
    "from dotenv import load_dotenv\n",
    "import matplotlib.pyplot as plt\n",
    "from pandasai.llm.openai import OpenAI\n",
    "from examples.data.aml import dataframe\n",
    "from sklearn.preprocessing import StandardScaler\n",
    "from sklearn.cluster import DBSCAN"
   ]
  },
  {
   "cell_type": "code",
   "execution_count": 3,
   "id": "583bc2ad",
   "metadata": {
    "ExecuteTime": {
<<<<<<< HEAD
     "end_time": "2023-05-29T06:56:06.095736498Z",
     "start_time": "2023-05-29T06:56:06.088986465Z"
=======
     "end_time": "2023-05-27T10:44:20.956553383Z",
     "start_time": "2023-05-27T10:44:20.952368573Z"
>>>>>>> 1e93c2a6c15279cec9900946186812711fdf2ba0
    }
   },
   "outputs": [
    {
     "ename": "NameError",
     "evalue": "name 'load_dotenv' is not defined",
     "output_type": "error",
     "traceback": [
      "\u001B[0;31m---------------------------------------------------------------------------\u001B[0m",
      "\u001B[0;31mNameError\u001B[0m                                 Traceback (most recent call last)",
      "Cell \u001B[0;32mIn[3], line 1\u001B[0m\n\u001B[0;32m----> 1\u001B[0m \u001B[43mload_dotenv\u001B[49m()\n\u001B[1;32m      2\u001B[0m \u001B[38;5;66;03m# Dapatkan API key dari variabel lingkungan\u001B[39;00m\n\u001B[1;32m      3\u001B[0m OPENAI_API_KEY \u001B[38;5;241m=\u001B[39m os\u001B[38;5;241m.\u001B[39mgetenv(\u001B[38;5;124m\"\u001B[39m\u001B[38;5;124mOPENAI_API_KEY\u001B[39m\u001B[38;5;124m\"\u001B[39m)\n",
      "\u001B[0;31mNameError\u001B[0m: name 'load_dotenv' is not defined"
     ]
    }
   ],
   "source": [
    "load_dotenv()\n",
    "\n",
    "# Dapatkan API key dari variabel lingkungan\n",
    "OPENAI_API_KEY = os.getenv(\"OPENAI_API_KEY\")\n",
    "# Inisialisasi OpenAI dengan API key yang dibaca\n",
    "llm = OpenAI(model='gpt-4')"
   ]
  },
  {
   "cell_type": "code",
   "execution_count": 8,
   "id": "0a6f6432",
   "metadata": {
    "ExecuteTime": {
<<<<<<< HEAD
     "end_time": "2023-05-29T06:56:06.978528020Z",
     "start_time": "2023-05-29T06:56:06.973643536Z"
=======
     "end_time": "2023-05-27T09:21:23.607015046Z",
     "start_time": "2023-05-27T09:21:23.603920618Z"
>>>>>>> 1e93c2a6c15279cec9900946186812711fdf2ba0
    }
   },
   "outputs": [],
   "source": [
    "#contoh sumber data yang berasal dari file csv yang disimpan di examples/data/Loan payments data.csv\n",
    "from pandasai import PandasAI\n",
    "from pandasai.llm.openai import OpenAI\n",
<<<<<<< HEAD
    "APUChat = PandasAI(llm, verbose=True, conversational=False)\n",
=======
    "pandas_ai = PandasAI(llm, verbose=True, conversational=False)\n",
>>>>>>> 1e93c2a6c15279cec9900946186812711fdf2ba0
    "df = dataframe"
   ]
  },
  {
   "cell_type": "markdown",
   "id": "b699cfec",
   "metadata": {},
   "source": [
    "### memeriksa dataframe berhasil di load atau tidak\n"
   ]
  },
  {
   "cell_type": "code",
   "execution_count": 4,
   "id": "f4ee2841",
   "metadata": {
    "ExecuteTime": {
     "end_time": "2023-05-29T06:56:07.808622428Z",
     "start_time": "2023-05-29T06:56:07.805471083Z"
    }
   },
   "outputs": [
    {
     "name": "stdout",
     "output_type": "stream",
     "text": [
      "Data berhasil dimuat!\n"
     ]
    }
   ],
   "source": [
    "import pandas as pd\n",
    "\n",
    "try:\n",
    "    df = dataframe\n",
    "    print(\"Data berhasil dimuat!\")\n",
    "except FileNotFoundError:\n",
    "    print(\"File tidak ditemukan!\")\n",
    "except Exception as e:\n",
    "    print(\"Terjadi kesalahan saat memuat data: \", e)\n"
<<<<<<< HEAD
   ]
=======
   ],
   "metadata": {
    "collapsed": false,
    "ExecuteTime": {
     "end_time": "2023-05-27T08:56:11.133753259Z",
     "start_time": "2023-05-27T08:56:11.123563048Z"
    }
   }
>>>>>>> 1e93c2a6c15279cec9900946186812711fdf2ba0
  },
  {
   "cell_type": "markdown",
   "id": "4046f95b",
   "metadata": {},
   "source": [
    "### Menampilkan Informasi RIngkas tentang Dataframe"
   ]
  },
  {
   "cell_type": "code",
<<<<<<< HEAD
   "execution_count": 8,
   "id": "a15f0099",
   "metadata": {
    "ExecuteTime": {
     "end_time": "2023-05-23T09:29:30.683116Z",
     "start_time": "2023-05-23T09:28:51.225810Z"
    }
   },
=======
   "execution_count": null,
>>>>>>> 1e93c2a6c15279cec9900946186812711fdf2ba0
   "outputs": [
    {
     "name": "stdout",
     "output_type": "stream",
     "text": [
      "Running PandasAI with openai LLM...\n",
      "\n",
      "Code generated:\n",
      "```\n",
      "import pandas as pd\n",
      "\n",
<<<<<<< HEAD
      "# Load the dataframe\n",
      "df = pd.read_csv('data.csv')\n",
      "\n",
      "# Print the first 5 rows of the dataframe\n",
      "print(df.head(5))\n",
      "\n",
      "# Get information about the dataframe\n",
      "df.info()\n",
      "\n",
      "# Get summary statistics for the numerical columns\n",
      "df.describe()\n",
      "\n",
      "# Check for missing values\n",
      "df.isnull().sum()\n",
      "\n",
      "# Check for duplicate rows\n",
      "df.duplicated().sum()\n",
=======
      "# Print the shape of the dataframe\n",
      "print(\"Shape of the dataframe:\", df.shape)\n",
      "\n",
      "# Print the column names\n",
      "print(\"Column names:\", df.columns)\n",
      "\n",
      "# Print the data types of each column\n",
      "print(\"Data types of each column:\", df.dtypes)\n",
      "\n",
      "# Print a summary of the dataframe\n",
      "print(\"Summary of the dataframe:\")\n",
      "print(df.describe())\n",
      "\n",
      "# Print the number of unique values in each column\n",
      "print(\"Number of unique values in each column:\")\n",
      "for col in df.columns:\n",
      "    print(f\"{col}: {df[col].nunique()}\")\n",
      "\n",
      "# Print the number of missing values in each column\n",
      "print(\"Number of missing values in each column:\")\n",
      "print(df.isnull().sum())\n",
>>>>>>> 1e93c2a6c15279cec9900946186812711fdf2ba0
      "```\n",
      "\n",
      "Code running:\n",
      "```\n",
<<<<<<< HEAD
      "print(df.head(5))\n",
      "df.info()\n",
      "df.describe()\n",
      "df.isnull().sum()\n",
      "df.duplicated().sum()\n",
      "```\n",
      "Answer: 9\n",
      "Conversational answer: Can you give me a brief overview of this dataframe?\n"
     ]
    },
    {
     "data": {
      "text/plain": [
       "'Can you give me a brief overview of this dataframe?'"
      ]
     },
     "execution_count": 8,
     "metadata": {},
     "output_type": "execute_result"
=======
      "print('Shape of the dataframe:', df.shape)\n",
      "print('Column names:', df.columns)\n",
      "print('Data types of each column:', df.dtypes)\n",
      "print('Summary of the dataframe:')\n",
      "print(df.describe())\n",
      "print('Number of unique values in each column:')\n",
      "for col in df.columns:\n",
      "    print(f'{col}: {df[col].nunique()}')\n",
      "print('Number of missing values in each column:')\n",
      "print(df.isnull().sum())\n",
      "```\n"
     ]
>>>>>>> 1e93c2a6c15279cec9900946186812711fdf2ba0
    }
   ],
   "source": [
    "pandas_ai.run(df, 'berikan informasi ringkas tentang dataframe ini')"
<<<<<<< HEAD
   ]
=======
   ],
   "metadata": {
    "collapsed": false,
    "ExecuteTime": {
     "start_time": "2023-05-27T08:50:02.178304361Z"
    }
   }
>>>>>>> 1e93c2a6c15279cec9900946186812711fdf2ba0
  },
  {
   "cell_type": "markdown",
   "id": "897daf5c",
   "metadata": {},
   "source": [
    "### Menampilkan 5 baris pertama dari Dataframe"
   ]
  },
  {
   "cell_type": "code",
<<<<<<< HEAD
   "execution_count": 10,
   "id": "bf9c4b3c",
   "metadata": {
    "ExecuteTime": {
     "end_time": "2023-05-27T12:45:14.074419816Z",
     "start_time": "2023-05-27T12:43:43.875576729Z"
    }
   },
=======
   "execution_count": 5,
>>>>>>> 1e93c2a6c15279cec9900946186812711fdf2ba0
   "outputs": [
    {
     "name": "stdout",
     "output_type": "stream",
     "text": [
      "Running PandasAI with openai LLM...\n",
      "\n",
      "Code generated:\n",
      "```\n",
      "print(df.head(5))\n",
      "```\n",
      "\n",
      "Code running:\n",
      "```\n",
      "print(df.head(5))\n",
      "```\n",
      "Answer:           Timestamp  From Bank    Account  To Bank  Account.1   \n",
      "0  2022/09/01 00:20         10  8000EBD30       10  8000EBD30  \\\n",
      "1  2022/09/01 00:20       3208  8000F4580        1  8000F5340   \n",
      "2  2022/09/01 00:00       3209  8000F4670     3209  8000F4670   \n",
      "3  2022/09/01 00:02         12  8000F5030       12  8000F5030   \n",
      "4  2022/09/01 00:06         10  8000F5200       10  8000F5200   \n",
      "\n",
      "   Amount Received Receiving Currency  Amount Paid Payment Currency   \n",
      "0          3697.34          US Dollar      3697.34        US Dollar  \\\n",
      "1             0.01          US Dollar         0.01        US Dollar   \n",
      "2         14675.57          US Dollar     14675.57        US Dollar   \n",
      "3          2806.97          US Dollar      2806.97        US Dollar   \n",
      "4         36682.97          US Dollar     36682.97        US Dollar   \n",
      "\n",
      "  Payment Format  Is Laundering  \n",
      "0   Reinvestment              0  \n",
      "1         Cheque              0  \n",
      "2   Reinvestment              0  \n",
      "3   Reinvestment              0  \n",
      "4   Reinvestment              0  \n",
      "Conversational answer: Berikut ini adalah 5 baris pertama dari dataframe yang diminta:\n",
      "\n",
<<<<<<< HEAD
      "1. Timestamp: 2022/09/01 00:20, From Bank: 10, Account: 8000EBD30, To Bank: 10, Account.1: 8000EBD30, Amount Received: 3697.34, Receiving Currency: US Dollar, Amount Paid: 3697.34, Payment Currency: US Dollar, Payment Format: Reinvestment, Is Laundering: 0\n",
      "2. Timestamp: 2022/09/01 00:20, From Bank: 3208, Account: 8000F4580, To Bank: 1, Account.1: 8000F5340, Amount Received: 0.01, Receiving Currency: US Dollar, Amount Paid: 0.01, Payment Currency: US Dollar, Payment Format: Cheque, Is Laundering: 0\n",
      "3. Timestamp: 2022/09/01 00:00, From Bank: 3209, Account: 8000F4670, To Bank: 3209, Account.1: 8000F4670, Amount Received: 14675.57, Receiving Currency: US Dollar, Amount Paid: 14675.57, Payment Currency: US Dollar, Payment Format: Reinvestment, Is Laundering: 0\n",
      "4. Timestamp: 2022/09/01 00:02, From Bank: 12, Account: 8000F5030, To Bank: 12, Account.1: 8000F5030, Amount Received: 2806.97, Receiving Currency: US Dollar, Amount Paid: 2806.97, Payment Currency: US Dollar, Payment Format: Reinvestment, Is Laundering: 0\n",
      "5. Timestamp: 2022/09/01 00:06, From Bank: 10, Account: 8000F5200, To Bank: 10, Account.1: 8000F5200, Amount Received: 36682.97, Receiving Currency: US Dollar, Amount Paid: 36682.97, Payment Currency: US Dollar, Payment Format: Reinvestment, Is Laundering: 0\n"
=======
      "1. Pada tanggal 1 September 2022 pukul 00:08, transaksi dilakukan antara bank 11 dengan nomor rekening 8000ECA90 ke bank yang sama dan nomor rekening yang sama. Jumlah yang diterima dan dibayarkan adalah 3,195,403.00 Dolar AS dengan format pembayaran Reinvestment dan bukan pencucian uang.\n",
      "2. Pada tanggal 1 September 2022 pukul 00:21, transaksi dilakukan antara bank 3402 dengan nomor rekening 80021DAD0 ke bank yang sama dan nomor rekening yang sama. Jumlah yang diterima dan dibayarkan adalah 1,858.96 Dolar AS dengan format pembayaran Reinvestment dan bukan pencucian uang.\n",
      "3. Pada tanggal 1 September 2022 pukul 00:00, transaksi dilakukan antara bank 11 dengan nomor rekening 8000ECA90 ke bank 1120 dengan nomor rekening 8006AA910. Jumlah yang diterima dan dibayarkan adalah 592,571.00 Dolar AS dengan format pembayaran Cheque dan bukan pencucian uang.\n",
      "4. Pada tanggal 1 September 2022 pukul 00:16, transaksi dilakukan antara bank 3814 dengan nomor rekening 8006AD080 ke bank yang sama dan nomor rekening yang sama. Jumlah yang diterima dan dibayarkan adalah 12.32 Dolar AS dengan format pembayaran Reinvestment dan bukan pencucian uang.\n",
      "5. Pada tanggal 1 September 2022 pukul 00:00, transaksi dilakukan antara bank 20 dengan nomor rekening 8006AD530 ke bank yang sama dan nomor rekening yang sama. Jumlah yang diterima dan dibayarkan adalah 2,941.56 Dolar AS dengan format pembayaran Reinvestment dan bukan pencucian uang.\n"
>>>>>>> 1e93c2a6c15279cec9900946186812711fdf2ba0
     ]
    },
    {
     "data": {
<<<<<<< HEAD
      "text/plain": [
       "'Berikut ini adalah 5 baris pertama dari dataframe yang diminta:\\n\\n1. Timestamp: 2022/09/01 00:20, From Bank: 10, Account: 8000EBD30, To Bank: 10, Account.1: 8000EBD30, Amount Received: 3697.34, Receiving Currency: US Dollar, Amount Paid: 3697.34, Payment Currency: US Dollar, Payment Format: Reinvestment, Is Laundering: 0\\n2. Timestamp: 2022/09/01 00:20, From Bank: 3208, Account: 8000F4580, To Bank: 1, Account.1: 8000F5340, Amount Received: 0.01, Receiving Currency: US Dollar, Amount Paid: 0.01, Payment Currency: US Dollar, Payment Format: Cheque, Is Laundering: 0\\n3. Timestamp: 2022/09/01 00:00, From Bank: 3209, Account: 8000F4670, To Bank: 3209, Account.1: 8000F4670, Amount Received: 14675.57, Receiving Currency: US Dollar, Amount Paid: 14675.57, Payment Currency: US Dollar, Payment Format: Reinvestment, Is Laundering: 0\\n4. Timestamp: 2022/09/01 00:02, From Bank: 12, Account: 8000F5030, To Bank: 12, Account.1: 8000F5030, Amount Received: 2806.97, Receiving Currency: US Dollar, Amount Paid: 2806.97, Payment Currency: US Dollar, Payment Format: Reinvestment, Is Laundering: 0\\n5. Timestamp: 2022/09/01 00:06, From Bank: 10, Account: 8000F5200, To Bank: 10, Account.1: 8000F5200, Amount Received: 36682.97, Receiving Currency: US Dollar, Amount Paid: 36682.97, Payment Currency: US Dollar, Payment Format: Reinvestment, Is Laundering: 0'"
      ]
     },
     "execution_count": 10,
=======
      "text/plain": "'Berikut ini adalah 5 baris pertama dari dataframe yang diminta:\\n\\n1. Pada tanggal 1 September 2022 pukul 00:08, transaksi dilakukan antara bank 11 dengan nomor rekening 8000ECA90 ke bank yang sama dan nomor rekening yang sama. Jumlah yang diterima dan dibayarkan adalah 3,195,403.00 Dolar AS dengan format pembayaran Reinvestment dan bukan pencucian uang.\\n2. Pada tanggal 1 September 2022 pukul 00:21, transaksi dilakukan antara bank 3402 dengan nomor rekening 80021DAD0 ke bank yang sama dan nomor rekening yang sama. Jumlah yang diterima dan dibayarkan adalah 1,858.96 Dolar AS dengan format pembayaran Reinvestment dan bukan pencucian uang.\\n3. Pada tanggal 1 September 2022 pukul 00:00, transaksi dilakukan antara bank 11 dengan nomor rekening 8000ECA90 ke bank 1120 dengan nomor rekening 8006AA910. Jumlah yang diterima dan dibayarkan adalah 592,571.00 Dolar AS dengan format pembayaran Cheque dan bukan pencucian uang.\\n4. Pada tanggal 1 September 2022 pukul 00:16, transaksi dilakukan antara bank 3814 dengan nomor rekening 8006AD080 ke bank yang sama dan nomor rekening yang sama. Jumlah yang diterima dan dibayarkan adalah 12.32 Dolar AS dengan format pembayaran Reinvestment dan bukan pencucian uang.\\n5. Pada tanggal 1 September 2022 pukul 00:00, transaksi dilakukan antara bank 20 dengan nomor rekening 8006AD530 ke bank yang sama dan nomor rekening yang sama. Jumlah yang diterima dan dibayarkan adalah 2,941.56 Dolar AS dengan format pembayaran Reinvestment dan bukan pencucian uang.'"
     },
     "execution_count": 5,
>>>>>>> 1e93c2a6c15279cec9900946186812711fdf2ba0
     "metadata": {},
     "output_type": "execute_result"
    }
   ],
   "source": [
    "pandas_ai.run(df, 'tampilkan 5 baris pertama dari dataframe ini')"
<<<<<<< HEAD
   ]
=======
   ],
   "metadata": {
    "collapsed": false,
    "ExecuteTime": {
     "end_time": "2023-05-27T08:57:39.936011931Z",
     "start_time": "2023-05-27T08:56:17.886981536Z"
    }
   }
>>>>>>> 1e93c2a6c15279cec9900946186812711fdf2ba0
  },
  {
   "cell_type": "markdown",
   "id": "7b65b874",
   "metadata": {},
   "source": [
    "### Mendapatkan nama kolom dari Dataframe"
   ]
  },
  {
   "cell_type": "markdown",
   "source": [],
   "metadata": {
    "collapsed": false
   }
  },
  {
   "cell_type": "code",
<<<<<<< HEAD
   "execution_count": 12,
   "id": "15a6c564",
   "metadata": {
    "ExecuteTime": {
     "end_time": "2023-05-27T12:54:49.331233553Z",
     "start_time": "2023-05-27T12:54:33.823527719Z"
    }
   },
=======
   "execution_count": 8,
>>>>>>> 1e93c2a6c15279cec9900946186812711fdf2ba0
   "outputs": [
    {
     "name": "stdout",
     "output_type": "stream",
     "text": [
      "Running PandasAI with openai LLM...\n"
     ]
    },
    {
<<<<<<< HEAD
     "data": {
      "text/plain": [
       "\"Kolom-kolom yang ada di dataframe ini meliputi 'Timestamp', 'From Bank', 'Account', 'To Bank', 'Account.1', 'Amount Received', 'Receiving Currency', 'Amount Paid', 'Payment Currency', 'Payment Format', dan 'Is Laundering'.\""
      ]
     },
     "execution_count": 12,
     "metadata": {},
     "output_type": "execute_result"
=======
     "ename": "KeyboardInterrupt",
     "evalue": "",
     "output_type": "error",
     "traceback": [
      "\u001B[0;31m---------------------------------------------------------------------------\u001B[0m",
      "\u001B[0;31mKeyboardInterrupt\u001B[0m                         Traceback (most recent call last)",
      "Cell \u001B[0;32mIn[8], line 1\u001B[0m\n\u001B[0;32m----> 1\u001B[0m \u001B[43mpandas_ai\u001B[49m\u001B[38;5;241;43m.\u001B[39;49m\u001B[43mrun\u001B[49m\u001B[43m(\u001B[49m\u001B[43mdf\u001B[49m\u001B[43m,\u001B[49m\u001B[43m \u001B[49m\u001B[38;5;124;43m'\u001B[39;49m\u001B[38;5;124;43mapa saja kolom yang ada di dataframe ini\u001B[39;49m\u001B[38;5;124;43m'\u001B[39;49m\u001B[43m)\u001B[49m\n",
      "File \u001B[0;32m~/DataspellProjects/APUChat/pandasai/__init__.py:92\u001B[0m, in \u001B[0;36mPandasAI.run\u001B[0;34m(self, data_frame, prompt, is_conversational_answer, show_code, anonymize_df, use_error_correction_framework)\u001B[0m\n\u001B[1;32m     89\u001B[0m \u001B[38;5;28;01mif\u001B[39;00m anonymize_df:\n\u001B[1;32m     90\u001B[0m     df_head \u001B[38;5;241m=\u001B[39m anonymize_dataframe_head(df_head)\n\u001B[0;32m---> 92\u001B[0m code \u001B[38;5;241m=\u001B[39m \u001B[38;5;28;43mself\u001B[39;49m\u001B[38;5;241;43m.\u001B[39;49m\u001B[43m_llm\u001B[49m\u001B[38;5;241;43m.\u001B[39;49m\u001B[43mgenerate_code\u001B[49m\u001B[43m(\u001B[49m\n\u001B[1;32m     93\u001B[0m \u001B[43m    \u001B[49m\u001B[43mGeneratePythonCodePrompt\u001B[49m\u001B[43m(\u001B[49m\n\u001B[1;32m     94\u001B[0m \u001B[43m        \u001B[49m\u001B[43mprompt\u001B[49m\u001B[38;5;241;43m=\u001B[39;49m\u001B[43mprompt\u001B[49m\u001B[43m,\u001B[49m\n\u001B[1;32m     95\u001B[0m \u001B[43m        \u001B[49m\u001B[43mdf_head\u001B[49m\u001B[38;5;241;43m=\u001B[39;49m\u001B[43mdf_head\u001B[49m\u001B[43m,\u001B[49m\n\u001B[1;32m     96\u001B[0m \u001B[43m        \u001B[49m\u001B[43mnum_rows\u001B[49m\u001B[38;5;241;43m=\u001B[39;49m\u001B[43mdata_frame\u001B[49m\u001B[38;5;241;43m.\u001B[39;49m\u001B[43mshape\u001B[49m\u001B[43m[\u001B[49m\u001B[38;5;241;43m0\u001B[39;49m\u001B[43m]\u001B[49m\u001B[43m,\u001B[49m\n\u001B[1;32m     97\u001B[0m \u001B[43m        \u001B[49m\u001B[43mnum_columns\u001B[49m\u001B[38;5;241;43m=\u001B[39;49m\u001B[43mdata_frame\u001B[49m\u001B[38;5;241;43m.\u001B[39;49m\u001B[43mshape\u001B[49m\u001B[43m[\u001B[49m\u001B[38;5;241;43m1\u001B[39;49m\u001B[43m]\u001B[49m\u001B[43m,\u001B[49m\n\u001B[1;32m     98\u001B[0m \u001B[43m        \u001B[49m\u001B[43mrows_to_display\u001B[49m\u001B[38;5;241;43m=\u001B[39;49m\u001B[43mrows_to_display\u001B[49m\u001B[43m,\u001B[49m\n\u001B[1;32m     99\u001B[0m \u001B[43m    \u001B[49m\u001B[43m)\u001B[49m\u001B[43m,\u001B[49m\n\u001B[1;32m    100\u001B[0m \u001B[43m    \u001B[49m\u001B[43mprompt\u001B[49m\u001B[43m,\u001B[49m\n\u001B[1;32m    101\u001B[0m \u001B[43m\u001B[49m\u001B[43m)\u001B[49m\n\u001B[1;32m    102\u001B[0m \u001B[38;5;28mself\u001B[39m\u001B[38;5;241m.\u001B[39m_original_instructions \u001B[38;5;241m=\u001B[39m {\n\u001B[1;32m    103\u001B[0m     \u001B[38;5;124m\"\u001B[39m\u001B[38;5;124mquestion\u001B[39m\u001B[38;5;124m\"\u001B[39m: prompt,\n\u001B[1;32m    104\u001B[0m     \u001B[38;5;124m\"\u001B[39m\u001B[38;5;124mdf_head\u001B[39m\u001B[38;5;124m\"\u001B[39m: df_head,\n\u001B[0;32m   (...)\u001B[0m\n\u001B[1;32m    107\u001B[0m     \u001B[38;5;124m\"\u001B[39m\u001B[38;5;124mrows_to_display\u001B[39m\u001B[38;5;124m\"\u001B[39m: rows_to_display,\n\u001B[1;32m    108\u001B[0m }\n\u001B[1;32m    109\u001B[0m \u001B[38;5;28mself\u001B[39m\u001B[38;5;241m.\u001B[39mlast_code_generated \u001B[38;5;241m=\u001B[39m code\n",
      "File \u001B[0;32m~/DataspellProjects/APUChat/pandasai/llm/base.py:115\u001B[0m, in \u001B[0;36mLLM.generate_code\u001B[0;34m(self, instruction, prompt)\u001B[0m\n\u001B[1;32m    108\u001B[0m \u001B[38;5;28;01mdef\u001B[39;00m \u001B[38;5;21mgenerate_code\u001B[39m(\u001B[38;5;28mself\u001B[39m, instruction: \u001B[38;5;28mstr\u001B[39m, prompt: \u001B[38;5;28mstr\u001B[39m) \u001B[38;5;241m-\u001B[39m\u001B[38;5;241m>\u001B[39m \u001B[38;5;28mstr\u001B[39m:\n\u001B[1;32m    109\u001B[0m \u001B[38;5;250m    \u001B[39m\u001B[38;5;124;03m\"\"\"\u001B[39;00m\n\u001B[1;32m    110\u001B[0m \u001B[38;5;124;03m    Generate the code based on the instruction and the given prompt.\u001B[39;00m\n\u001B[1;32m    111\u001B[0m \n\u001B[1;32m    112\u001B[0m \u001B[38;5;124;03m    Returns:\u001B[39;00m\n\u001B[1;32m    113\u001B[0m \u001B[38;5;124;03m        str: Code\u001B[39;00m\n\u001B[1;32m    114\u001B[0m \u001B[38;5;124;03m    \"\"\"\u001B[39;00m\n\u001B[0;32m--> 115\u001B[0m     \u001B[38;5;28;01mreturn\u001B[39;00m \u001B[38;5;28mself\u001B[39m\u001B[38;5;241m.\u001B[39m_extract_code(\u001B[38;5;28;43mself\u001B[39;49m\u001B[38;5;241;43m.\u001B[39;49m\u001B[43mcall\u001B[49m\u001B[43m(\u001B[49m\u001B[43minstruction\u001B[49m\u001B[43m,\u001B[49m\u001B[43m \u001B[49m\u001B[43mprompt\u001B[49m\u001B[43m,\u001B[49m\u001B[43m \u001B[49m\u001B[43msuffix\u001B[49m\u001B[38;5;241;43m=\u001B[39;49m\u001B[38;5;124;43m\"\u001B[39;49m\u001B[38;5;130;43;01m\\n\u001B[39;49;00m\u001B[38;5;130;43;01m\\n\u001B[39;49;00m\u001B[38;5;124;43mCode:\u001B[39;49m\u001B[38;5;130;43;01m\\n\u001B[39;49;00m\u001B[38;5;124;43m\"\u001B[39;49m\u001B[43m)\u001B[49m)\n",
      "File \u001B[0;32m~/DataspellProjects/APUChat/pandasai/llm/openai.py:71\u001B[0m, in \u001B[0;36mOpenAI.call\u001B[0;34m(self, instruction, value, suffix)\u001B[0m\n\u001B[1;32m     69\u001B[0m     response \u001B[38;5;241m=\u001B[39m \u001B[38;5;28mself\u001B[39m\u001B[38;5;241m.\u001B[39mcompletion(\u001B[38;5;28mstr\u001B[39m(instruction) \u001B[38;5;241m+\u001B[39m \u001B[38;5;28mstr\u001B[39m(value) \u001B[38;5;241m+\u001B[39m suffix)\n\u001B[1;32m     70\u001B[0m \u001B[38;5;28;01melif\u001B[39;00m \u001B[38;5;28mself\u001B[39m\u001B[38;5;241m.\u001B[39mmodel \u001B[38;5;129;01min\u001B[39;00m \u001B[38;5;28mself\u001B[39m\u001B[38;5;241m.\u001B[39m_supported_chat_models:\n\u001B[0;32m---> 71\u001B[0m     response \u001B[38;5;241m=\u001B[39m \u001B[38;5;28;43mself\u001B[39;49m\u001B[38;5;241;43m.\u001B[39;49m\u001B[43mchat_completion\u001B[49m\u001B[43m(\u001B[49m\u001B[38;5;28;43mstr\u001B[39;49m\u001B[43m(\u001B[49m\u001B[43minstruction\u001B[49m\u001B[43m)\u001B[49m\u001B[43m \u001B[49m\u001B[38;5;241;43m+\u001B[39;49m\u001B[43m \u001B[49m\u001B[38;5;28;43mstr\u001B[39;49m\u001B[43m(\u001B[49m\u001B[43mvalue\u001B[49m\u001B[43m)\u001B[49m\u001B[43m \u001B[49m\u001B[38;5;241;43m+\u001B[39;49m\u001B[43m \u001B[49m\u001B[43msuffix\u001B[49m\u001B[43m)\u001B[49m\n\u001B[1;32m     72\u001B[0m \u001B[38;5;28;01melse\u001B[39;00m:\n\u001B[1;32m     73\u001B[0m     \u001B[38;5;28;01mraise\u001B[39;00m UnsupportedOpenAIModelError(\u001B[38;5;124m\"\u001B[39m\u001B[38;5;124mUnsupported model\u001B[39m\u001B[38;5;124m\"\u001B[39m)\n",
      "File \u001B[0;32m~/DataspellProjects/APUChat/pandasai/llm/base.py:198\u001B[0m, in \u001B[0;36mBaseOpenAI.chat_completion\u001B[0;34m(self, value)\u001B[0m\n\u001B[1;32m    195\u001B[0m \u001B[38;5;28;01mif\u001B[39;00m \u001B[38;5;28mself\u001B[39m\u001B[38;5;241m.\u001B[39mstop \u001B[38;5;129;01mis\u001B[39;00m \u001B[38;5;129;01mnot\u001B[39;00m \u001B[38;5;28;01mNone\u001B[39;00m:\n\u001B[1;32m    196\u001B[0m     params[\u001B[38;5;124m\"\u001B[39m\u001B[38;5;124mstop\u001B[39m\u001B[38;5;124m\"\u001B[39m] \u001B[38;5;241m=\u001B[39m [\u001B[38;5;28mself\u001B[39m\u001B[38;5;241m.\u001B[39mstop]\n\u001B[0;32m--> 198\u001B[0m response \u001B[38;5;241m=\u001B[39m \u001B[43mopenai\u001B[49m\u001B[38;5;241;43m.\u001B[39;49m\u001B[43mChatCompletion\u001B[49m\u001B[38;5;241;43m.\u001B[39;49m\u001B[43mcreate\u001B[49m\u001B[43m(\u001B[49m\u001B[38;5;241;43m*\u001B[39;49m\u001B[38;5;241;43m*\u001B[39;49m\u001B[43mparams\u001B[49m\u001B[43m)\u001B[49m\n\u001B[1;32m    200\u001B[0m \u001B[38;5;28;01mreturn\u001B[39;00m response[\u001B[38;5;124m\"\u001B[39m\u001B[38;5;124mchoices\u001B[39m\u001B[38;5;124m\"\u001B[39m][\u001B[38;5;241m0\u001B[39m][\u001B[38;5;124m\"\u001B[39m\u001B[38;5;124mmessage\u001B[39m\u001B[38;5;124m\"\u001B[39m][\u001B[38;5;124m\"\u001B[39m\u001B[38;5;124mcontent\u001B[39m\u001B[38;5;124m\"\u001B[39m]\n",
      "File \u001B[0;32m~/anaconda3/envs/APUChat/lib/python3.10/site-packages/openai/api_resources/chat_completion.py:25\u001B[0m, in \u001B[0;36mChatCompletion.create\u001B[0;34m(cls, *args, **kwargs)\u001B[0m\n\u001B[1;32m     23\u001B[0m \u001B[38;5;28;01mwhile\u001B[39;00m \u001B[38;5;28;01mTrue\u001B[39;00m:\n\u001B[1;32m     24\u001B[0m     \u001B[38;5;28;01mtry\u001B[39;00m:\n\u001B[0;32m---> 25\u001B[0m         \u001B[38;5;28;01mreturn\u001B[39;00m \u001B[38;5;28;43msuper\u001B[39;49m\u001B[43m(\u001B[49m\u001B[43m)\u001B[49m\u001B[38;5;241;43m.\u001B[39;49m\u001B[43mcreate\u001B[49m\u001B[43m(\u001B[49m\u001B[38;5;241;43m*\u001B[39;49m\u001B[43margs\u001B[49m\u001B[43m,\u001B[49m\u001B[43m \u001B[49m\u001B[38;5;241;43m*\u001B[39;49m\u001B[38;5;241;43m*\u001B[39;49m\u001B[43mkwargs\u001B[49m\u001B[43m)\u001B[49m\n\u001B[1;32m     26\u001B[0m     \u001B[38;5;28;01mexcept\u001B[39;00m TryAgain \u001B[38;5;28;01mas\u001B[39;00m e:\n\u001B[1;32m     27\u001B[0m         \u001B[38;5;28;01mif\u001B[39;00m timeout \u001B[38;5;129;01mis\u001B[39;00m \u001B[38;5;129;01mnot\u001B[39;00m \u001B[38;5;28;01mNone\u001B[39;00m \u001B[38;5;129;01mand\u001B[39;00m time\u001B[38;5;241m.\u001B[39mtime() \u001B[38;5;241m>\u001B[39m start \u001B[38;5;241m+\u001B[39m timeout:\n",
      "File \u001B[0;32m~/anaconda3/envs/APUChat/lib/python3.10/site-packages/openai/api_resources/abstract/engine_api_resource.py:153\u001B[0m, in \u001B[0;36mEngineAPIResource.create\u001B[0;34m(cls, api_key, api_base, api_type, request_id, api_version, organization, **params)\u001B[0m\n\u001B[1;32m    127\u001B[0m \u001B[38;5;129m@classmethod\u001B[39m\n\u001B[1;32m    128\u001B[0m \u001B[38;5;28;01mdef\u001B[39;00m \u001B[38;5;21mcreate\u001B[39m(\n\u001B[1;32m    129\u001B[0m     \u001B[38;5;28mcls\u001B[39m,\n\u001B[0;32m   (...)\u001B[0m\n\u001B[1;32m    136\u001B[0m     \u001B[38;5;241m*\u001B[39m\u001B[38;5;241m*\u001B[39mparams,\n\u001B[1;32m    137\u001B[0m ):\n\u001B[1;32m    138\u001B[0m     (\n\u001B[1;32m    139\u001B[0m         deployment_id,\n\u001B[1;32m    140\u001B[0m         engine,\n\u001B[0;32m   (...)\u001B[0m\n\u001B[1;32m    150\u001B[0m         api_key, api_base, api_type, api_version, organization, \u001B[38;5;241m*\u001B[39m\u001B[38;5;241m*\u001B[39mparams\n\u001B[1;32m    151\u001B[0m     )\n\u001B[0;32m--> 153\u001B[0m     response, _, api_key \u001B[38;5;241m=\u001B[39m \u001B[43mrequestor\u001B[49m\u001B[38;5;241;43m.\u001B[39;49m\u001B[43mrequest\u001B[49m\u001B[43m(\u001B[49m\n\u001B[1;32m    154\u001B[0m \u001B[43m        \u001B[49m\u001B[38;5;124;43m\"\u001B[39;49m\u001B[38;5;124;43mpost\u001B[39;49m\u001B[38;5;124;43m\"\u001B[39;49m\u001B[43m,\u001B[49m\n\u001B[1;32m    155\u001B[0m \u001B[43m        \u001B[49m\u001B[43murl\u001B[49m\u001B[43m,\u001B[49m\n\u001B[1;32m    156\u001B[0m \u001B[43m        \u001B[49m\u001B[43mparams\u001B[49m\u001B[38;5;241;43m=\u001B[39;49m\u001B[43mparams\u001B[49m\u001B[43m,\u001B[49m\n\u001B[1;32m    157\u001B[0m \u001B[43m        \u001B[49m\u001B[43mheaders\u001B[49m\u001B[38;5;241;43m=\u001B[39;49m\u001B[43mheaders\u001B[49m\u001B[43m,\u001B[49m\n\u001B[1;32m    158\u001B[0m \u001B[43m        \u001B[49m\u001B[43mstream\u001B[49m\u001B[38;5;241;43m=\u001B[39;49m\u001B[43mstream\u001B[49m\u001B[43m,\u001B[49m\n\u001B[1;32m    159\u001B[0m \u001B[43m        \u001B[49m\u001B[43mrequest_id\u001B[49m\u001B[38;5;241;43m=\u001B[39;49m\u001B[43mrequest_id\u001B[49m\u001B[43m,\u001B[49m\n\u001B[1;32m    160\u001B[0m \u001B[43m        \u001B[49m\u001B[43mrequest_timeout\u001B[49m\u001B[38;5;241;43m=\u001B[39;49m\u001B[43mrequest_timeout\u001B[49m\u001B[43m,\u001B[49m\n\u001B[1;32m    161\u001B[0m \u001B[43m    \u001B[49m\u001B[43m)\u001B[49m\n\u001B[1;32m    163\u001B[0m     \u001B[38;5;28;01mif\u001B[39;00m stream:\n\u001B[1;32m    164\u001B[0m         \u001B[38;5;66;03m# must be an iterator\u001B[39;00m\n\u001B[1;32m    165\u001B[0m         \u001B[38;5;28;01massert\u001B[39;00m \u001B[38;5;129;01mnot\u001B[39;00m \u001B[38;5;28misinstance\u001B[39m(response, OpenAIResponse)\n",
      "File \u001B[0;32m~/anaconda3/envs/APUChat/lib/python3.10/site-packages/openai/api_requestor.py:220\u001B[0m, in \u001B[0;36mAPIRequestor.request\u001B[0;34m(self, method, url, params, headers, files, stream, request_id, request_timeout)\u001B[0m\n\u001B[1;32m    209\u001B[0m \u001B[38;5;28;01mdef\u001B[39;00m \u001B[38;5;21mrequest\u001B[39m(\n\u001B[1;32m    210\u001B[0m     \u001B[38;5;28mself\u001B[39m,\n\u001B[1;32m    211\u001B[0m     method,\n\u001B[0;32m   (...)\u001B[0m\n\u001B[1;32m    218\u001B[0m     request_timeout: Optional[Union[\u001B[38;5;28mfloat\u001B[39m, Tuple[\u001B[38;5;28mfloat\u001B[39m, \u001B[38;5;28mfloat\u001B[39m]]] \u001B[38;5;241m=\u001B[39m \u001B[38;5;28;01mNone\u001B[39;00m,\n\u001B[1;32m    219\u001B[0m ) \u001B[38;5;241m-\u001B[39m\u001B[38;5;241m>\u001B[39m Tuple[Union[OpenAIResponse, Iterator[OpenAIResponse]], \u001B[38;5;28mbool\u001B[39m, \u001B[38;5;28mstr\u001B[39m]:\n\u001B[0;32m--> 220\u001B[0m     result \u001B[38;5;241m=\u001B[39m \u001B[38;5;28;43mself\u001B[39;49m\u001B[38;5;241;43m.\u001B[39;49m\u001B[43mrequest_raw\u001B[49m\u001B[43m(\u001B[49m\n\u001B[1;32m    221\u001B[0m \u001B[43m        \u001B[49m\u001B[43mmethod\u001B[49m\u001B[38;5;241;43m.\u001B[39;49m\u001B[43mlower\u001B[49m\u001B[43m(\u001B[49m\u001B[43m)\u001B[49m\u001B[43m,\u001B[49m\n\u001B[1;32m    222\u001B[0m \u001B[43m        \u001B[49m\u001B[43murl\u001B[49m\u001B[43m,\u001B[49m\n\u001B[1;32m    223\u001B[0m \u001B[43m        \u001B[49m\u001B[43mparams\u001B[49m\u001B[38;5;241;43m=\u001B[39;49m\u001B[43mparams\u001B[49m\u001B[43m,\u001B[49m\n\u001B[1;32m    224\u001B[0m \u001B[43m        \u001B[49m\u001B[43msupplied_headers\u001B[49m\u001B[38;5;241;43m=\u001B[39;49m\u001B[43mheaders\u001B[49m\u001B[43m,\u001B[49m\n\u001B[1;32m    225\u001B[0m \u001B[43m        \u001B[49m\u001B[43mfiles\u001B[49m\u001B[38;5;241;43m=\u001B[39;49m\u001B[43mfiles\u001B[49m\u001B[43m,\u001B[49m\n\u001B[1;32m    226\u001B[0m \u001B[43m        \u001B[49m\u001B[43mstream\u001B[49m\u001B[38;5;241;43m=\u001B[39;49m\u001B[43mstream\u001B[49m\u001B[43m,\u001B[49m\n\u001B[1;32m    227\u001B[0m \u001B[43m        \u001B[49m\u001B[43mrequest_id\u001B[49m\u001B[38;5;241;43m=\u001B[39;49m\u001B[43mrequest_id\u001B[49m\u001B[43m,\u001B[49m\n\u001B[1;32m    228\u001B[0m \u001B[43m        \u001B[49m\u001B[43mrequest_timeout\u001B[49m\u001B[38;5;241;43m=\u001B[39;49m\u001B[43mrequest_timeout\u001B[49m\u001B[43m,\u001B[49m\n\u001B[1;32m    229\u001B[0m \u001B[43m    \u001B[49m\u001B[43m)\u001B[49m\n\u001B[1;32m    230\u001B[0m     resp, got_stream \u001B[38;5;241m=\u001B[39m \u001B[38;5;28mself\u001B[39m\u001B[38;5;241m.\u001B[39m_interpret_response(result, stream)\n\u001B[1;32m    231\u001B[0m     \u001B[38;5;28;01mreturn\u001B[39;00m resp, got_stream, \u001B[38;5;28mself\u001B[39m\u001B[38;5;241m.\u001B[39mapi_key\n",
      "File \u001B[0;32m~/anaconda3/envs/APUChat/lib/python3.10/site-packages/openai/api_requestor.py:520\u001B[0m, in \u001B[0;36mAPIRequestor.request_raw\u001B[0;34m(self, method, url, params, supplied_headers, files, stream, request_id, request_timeout)\u001B[0m\n\u001B[1;32m    518\u001B[0m     _thread_context\u001B[38;5;241m.\u001B[39msession \u001B[38;5;241m=\u001B[39m _make_session()\n\u001B[1;32m    519\u001B[0m \u001B[38;5;28;01mtry\u001B[39;00m:\n\u001B[0;32m--> 520\u001B[0m     result \u001B[38;5;241m=\u001B[39m \u001B[43m_thread_context\u001B[49m\u001B[38;5;241;43m.\u001B[39;49m\u001B[43msession\u001B[49m\u001B[38;5;241;43m.\u001B[39;49m\u001B[43mrequest\u001B[49m\u001B[43m(\u001B[49m\n\u001B[1;32m    521\u001B[0m \u001B[43m        \u001B[49m\u001B[43mmethod\u001B[49m\u001B[43m,\u001B[49m\n\u001B[1;32m    522\u001B[0m \u001B[43m        \u001B[49m\u001B[43mabs_url\u001B[49m\u001B[43m,\u001B[49m\n\u001B[1;32m    523\u001B[0m \u001B[43m        \u001B[49m\u001B[43mheaders\u001B[49m\u001B[38;5;241;43m=\u001B[39;49m\u001B[43mheaders\u001B[49m\u001B[43m,\u001B[49m\n\u001B[1;32m    524\u001B[0m \u001B[43m        \u001B[49m\u001B[43mdata\u001B[49m\u001B[38;5;241;43m=\u001B[39;49m\u001B[43mdata\u001B[49m\u001B[43m,\u001B[49m\n\u001B[1;32m    525\u001B[0m \u001B[43m        \u001B[49m\u001B[43mfiles\u001B[49m\u001B[38;5;241;43m=\u001B[39;49m\u001B[43mfiles\u001B[49m\u001B[43m,\u001B[49m\n\u001B[1;32m    526\u001B[0m \u001B[43m        \u001B[49m\u001B[43mstream\u001B[49m\u001B[38;5;241;43m=\u001B[39;49m\u001B[43mstream\u001B[49m\u001B[43m,\u001B[49m\n\u001B[1;32m    527\u001B[0m \u001B[43m        \u001B[49m\u001B[43mtimeout\u001B[49m\u001B[38;5;241;43m=\u001B[39;49m\u001B[43mrequest_timeout\u001B[49m\u001B[43m \u001B[49m\u001B[38;5;28;43;01mif\u001B[39;49;00m\u001B[43m \u001B[49m\u001B[43mrequest_timeout\u001B[49m\u001B[43m \u001B[49m\u001B[38;5;28;43;01melse\u001B[39;49;00m\u001B[43m \u001B[49m\u001B[43mTIMEOUT_SECS\u001B[49m\u001B[43m,\u001B[49m\n\u001B[1;32m    528\u001B[0m \u001B[43m        \u001B[49m\u001B[43mproxies\u001B[49m\u001B[38;5;241;43m=\u001B[39;49m\u001B[43m_thread_context\u001B[49m\u001B[38;5;241;43m.\u001B[39;49m\u001B[43msession\u001B[49m\u001B[38;5;241;43m.\u001B[39;49m\u001B[43mproxies\u001B[49m\u001B[43m,\u001B[49m\n\u001B[1;32m    529\u001B[0m \u001B[43m    \u001B[49m\u001B[43m)\u001B[49m\n\u001B[1;32m    530\u001B[0m \u001B[38;5;28;01mexcept\u001B[39;00m requests\u001B[38;5;241m.\u001B[39mexceptions\u001B[38;5;241m.\u001B[39mTimeout \u001B[38;5;28;01mas\u001B[39;00m e:\n\u001B[1;32m    531\u001B[0m     \u001B[38;5;28;01mraise\u001B[39;00m error\u001B[38;5;241m.\u001B[39mTimeout(\u001B[38;5;124m\"\u001B[39m\u001B[38;5;124mRequest timed out: \u001B[39m\u001B[38;5;132;01m{}\u001B[39;00m\u001B[38;5;124m\"\u001B[39m\u001B[38;5;241m.\u001B[39mformat(e)) \u001B[38;5;28;01mfrom\u001B[39;00m \u001B[38;5;21;01me\u001B[39;00m\n",
      "File \u001B[0;32m~/.local/lib/python3.10/site-packages/requests/sessions.py:587\u001B[0m, in \u001B[0;36mSession.request\u001B[0;34m(self, method, url, params, data, headers, cookies, files, auth, timeout, allow_redirects, proxies, hooks, stream, verify, cert, json)\u001B[0m\n\u001B[1;32m    582\u001B[0m send_kwargs \u001B[38;5;241m=\u001B[39m {\n\u001B[1;32m    583\u001B[0m     \u001B[38;5;124m\"\u001B[39m\u001B[38;5;124mtimeout\u001B[39m\u001B[38;5;124m\"\u001B[39m: timeout,\n\u001B[1;32m    584\u001B[0m     \u001B[38;5;124m\"\u001B[39m\u001B[38;5;124mallow_redirects\u001B[39m\u001B[38;5;124m\"\u001B[39m: allow_redirects,\n\u001B[1;32m    585\u001B[0m }\n\u001B[1;32m    586\u001B[0m send_kwargs\u001B[38;5;241m.\u001B[39mupdate(settings)\n\u001B[0;32m--> 587\u001B[0m resp \u001B[38;5;241m=\u001B[39m \u001B[38;5;28;43mself\u001B[39;49m\u001B[38;5;241;43m.\u001B[39;49m\u001B[43msend\u001B[49m\u001B[43m(\u001B[49m\u001B[43mprep\u001B[49m\u001B[43m,\u001B[49m\u001B[43m \u001B[49m\u001B[38;5;241;43m*\u001B[39;49m\u001B[38;5;241;43m*\u001B[39;49m\u001B[43msend_kwargs\u001B[49m\u001B[43m)\u001B[49m\n\u001B[1;32m    589\u001B[0m \u001B[38;5;28;01mreturn\u001B[39;00m resp\n",
      "File \u001B[0;32m~/.local/lib/python3.10/site-packages/requests/sessions.py:701\u001B[0m, in \u001B[0;36mSession.send\u001B[0;34m(self, request, **kwargs)\u001B[0m\n\u001B[1;32m    698\u001B[0m start \u001B[38;5;241m=\u001B[39m preferred_clock()\n\u001B[1;32m    700\u001B[0m \u001B[38;5;66;03m# Send the request\u001B[39;00m\n\u001B[0;32m--> 701\u001B[0m r \u001B[38;5;241m=\u001B[39m \u001B[43madapter\u001B[49m\u001B[38;5;241;43m.\u001B[39;49m\u001B[43msend\u001B[49m\u001B[43m(\u001B[49m\u001B[43mrequest\u001B[49m\u001B[43m,\u001B[49m\u001B[43m \u001B[49m\u001B[38;5;241;43m*\u001B[39;49m\u001B[38;5;241;43m*\u001B[39;49m\u001B[43mkwargs\u001B[49m\u001B[43m)\u001B[49m\n\u001B[1;32m    703\u001B[0m \u001B[38;5;66;03m# Total elapsed time of the request (approximately)\u001B[39;00m\n\u001B[1;32m    704\u001B[0m elapsed \u001B[38;5;241m=\u001B[39m preferred_clock() \u001B[38;5;241m-\u001B[39m start\n",
      "File \u001B[0;32m~/.local/lib/python3.10/site-packages/requests/adapters.py:489\u001B[0m, in \u001B[0;36mHTTPAdapter.send\u001B[0;34m(self, request, stream, timeout, verify, cert, proxies)\u001B[0m\n\u001B[1;32m    487\u001B[0m \u001B[38;5;28;01mtry\u001B[39;00m:\n\u001B[1;32m    488\u001B[0m     \u001B[38;5;28;01mif\u001B[39;00m \u001B[38;5;129;01mnot\u001B[39;00m chunked:\n\u001B[0;32m--> 489\u001B[0m         resp \u001B[38;5;241m=\u001B[39m \u001B[43mconn\u001B[49m\u001B[38;5;241;43m.\u001B[39;49m\u001B[43murlopen\u001B[49m\u001B[43m(\u001B[49m\n\u001B[1;32m    490\u001B[0m \u001B[43m            \u001B[49m\u001B[43mmethod\u001B[49m\u001B[38;5;241;43m=\u001B[39;49m\u001B[43mrequest\u001B[49m\u001B[38;5;241;43m.\u001B[39;49m\u001B[43mmethod\u001B[49m\u001B[43m,\u001B[49m\n\u001B[1;32m    491\u001B[0m \u001B[43m            \u001B[49m\u001B[43murl\u001B[49m\u001B[38;5;241;43m=\u001B[39;49m\u001B[43murl\u001B[49m\u001B[43m,\u001B[49m\n\u001B[1;32m    492\u001B[0m \u001B[43m            \u001B[49m\u001B[43mbody\u001B[49m\u001B[38;5;241;43m=\u001B[39;49m\u001B[43mrequest\u001B[49m\u001B[38;5;241;43m.\u001B[39;49m\u001B[43mbody\u001B[49m\u001B[43m,\u001B[49m\n\u001B[1;32m    493\u001B[0m \u001B[43m            \u001B[49m\u001B[43mheaders\u001B[49m\u001B[38;5;241;43m=\u001B[39;49m\u001B[43mrequest\u001B[49m\u001B[38;5;241;43m.\u001B[39;49m\u001B[43mheaders\u001B[49m\u001B[43m,\u001B[49m\n\u001B[1;32m    494\u001B[0m \u001B[43m            \u001B[49m\u001B[43mredirect\u001B[49m\u001B[38;5;241;43m=\u001B[39;49m\u001B[38;5;28;43;01mFalse\u001B[39;49;00m\u001B[43m,\u001B[49m\n\u001B[1;32m    495\u001B[0m \u001B[43m            \u001B[49m\u001B[43massert_same_host\u001B[49m\u001B[38;5;241;43m=\u001B[39;49m\u001B[38;5;28;43;01mFalse\u001B[39;49;00m\u001B[43m,\u001B[49m\n\u001B[1;32m    496\u001B[0m \u001B[43m            \u001B[49m\u001B[43mpreload_content\u001B[49m\u001B[38;5;241;43m=\u001B[39;49m\u001B[38;5;28;43;01mFalse\u001B[39;49;00m\u001B[43m,\u001B[49m\n\u001B[1;32m    497\u001B[0m \u001B[43m            \u001B[49m\u001B[43mdecode_content\u001B[49m\u001B[38;5;241;43m=\u001B[39;49m\u001B[38;5;28;43;01mFalse\u001B[39;49;00m\u001B[43m,\u001B[49m\n\u001B[1;32m    498\u001B[0m \u001B[43m            \u001B[49m\u001B[43mretries\u001B[49m\u001B[38;5;241;43m=\u001B[39;49m\u001B[38;5;28;43mself\u001B[39;49m\u001B[38;5;241;43m.\u001B[39;49m\u001B[43mmax_retries\u001B[49m\u001B[43m,\u001B[49m\n\u001B[1;32m    499\u001B[0m \u001B[43m            \u001B[49m\u001B[43mtimeout\u001B[49m\u001B[38;5;241;43m=\u001B[39;49m\u001B[43mtimeout\u001B[49m\u001B[43m,\u001B[49m\n\u001B[1;32m    500\u001B[0m \u001B[43m        \u001B[49m\u001B[43m)\u001B[49m\n\u001B[1;32m    502\u001B[0m     \u001B[38;5;66;03m# Send the request.\u001B[39;00m\n\u001B[1;32m    503\u001B[0m     \u001B[38;5;28;01melse\u001B[39;00m:\n\u001B[1;32m    504\u001B[0m         \u001B[38;5;28;01mif\u001B[39;00m \u001B[38;5;28mhasattr\u001B[39m(conn, \u001B[38;5;124m\"\u001B[39m\u001B[38;5;124mproxy_pool\u001B[39m\u001B[38;5;124m\"\u001B[39m):\n",
      "File \u001B[0;32m~/anaconda3/envs/APUChat/lib/python3.10/site-packages/urllib3/connectionpool.py:714\u001B[0m, in \u001B[0;36mHTTPConnectionPool.urlopen\u001B[0;34m(self, method, url, body, headers, retries, redirect, assert_same_host, timeout, pool_timeout, release_conn, chunked, body_pos, **response_kw)\u001B[0m\n\u001B[1;32m    711\u001B[0m     \u001B[38;5;28mself\u001B[39m\u001B[38;5;241m.\u001B[39m_prepare_proxy(conn)\n\u001B[1;32m    713\u001B[0m \u001B[38;5;66;03m# Make the request on the httplib connection object.\u001B[39;00m\n\u001B[0;32m--> 714\u001B[0m httplib_response \u001B[38;5;241m=\u001B[39m \u001B[38;5;28;43mself\u001B[39;49m\u001B[38;5;241;43m.\u001B[39;49m\u001B[43m_make_request\u001B[49m\u001B[43m(\u001B[49m\n\u001B[1;32m    715\u001B[0m \u001B[43m    \u001B[49m\u001B[43mconn\u001B[49m\u001B[43m,\u001B[49m\n\u001B[1;32m    716\u001B[0m \u001B[43m    \u001B[49m\u001B[43mmethod\u001B[49m\u001B[43m,\u001B[49m\n\u001B[1;32m    717\u001B[0m \u001B[43m    \u001B[49m\u001B[43murl\u001B[49m\u001B[43m,\u001B[49m\n\u001B[1;32m    718\u001B[0m \u001B[43m    \u001B[49m\u001B[43mtimeout\u001B[49m\u001B[38;5;241;43m=\u001B[39;49m\u001B[43mtimeout_obj\u001B[49m\u001B[43m,\u001B[49m\n\u001B[1;32m    719\u001B[0m \u001B[43m    \u001B[49m\u001B[43mbody\u001B[49m\u001B[38;5;241;43m=\u001B[39;49m\u001B[43mbody\u001B[49m\u001B[43m,\u001B[49m\n\u001B[1;32m    720\u001B[0m \u001B[43m    \u001B[49m\u001B[43mheaders\u001B[49m\u001B[38;5;241;43m=\u001B[39;49m\u001B[43mheaders\u001B[49m\u001B[43m,\u001B[49m\n\u001B[1;32m    721\u001B[0m \u001B[43m    \u001B[49m\u001B[43mchunked\u001B[49m\u001B[38;5;241;43m=\u001B[39;49m\u001B[43mchunked\u001B[49m\u001B[43m,\u001B[49m\n\u001B[1;32m    722\u001B[0m \u001B[43m\u001B[49m\u001B[43m)\u001B[49m\n\u001B[1;32m    724\u001B[0m \u001B[38;5;66;03m# If we're going to release the connection in ``finally:``, then\u001B[39;00m\n\u001B[1;32m    725\u001B[0m \u001B[38;5;66;03m# the response doesn't need to know about the connection. Otherwise\u001B[39;00m\n\u001B[1;32m    726\u001B[0m \u001B[38;5;66;03m# it will also try to release it and we'll have a double-release\u001B[39;00m\n\u001B[1;32m    727\u001B[0m \u001B[38;5;66;03m# mess.\u001B[39;00m\n\u001B[1;32m    728\u001B[0m response_conn \u001B[38;5;241m=\u001B[39m conn \u001B[38;5;28;01mif\u001B[39;00m \u001B[38;5;129;01mnot\u001B[39;00m release_conn \u001B[38;5;28;01melse\u001B[39;00m \u001B[38;5;28;01mNone\u001B[39;00m\n",
      "File \u001B[0;32m~/anaconda3/envs/APUChat/lib/python3.10/site-packages/urllib3/connectionpool.py:466\u001B[0m, in \u001B[0;36mHTTPConnectionPool._make_request\u001B[0;34m(self, conn, method, url, timeout, chunked, **httplib_request_kw)\u001B[0m\n\u001B[1;32m    461\u001B[0m             httplib_response \u001B[38;5;241m=\u001B[39m conn\u001B[38;5;241m.\u001B[39mgetresponse()\n\u001B[1;32m    462\u001B[0m         \u001B[38;5;28;01mexcept\u001B[39;00m \u001B[38;5;167;01mBaseException\u001B[39;00m \u001B[38;5;28;01mas\u001B[39;00m e:\n\u001B[1;32m    463\u001B[0m             \u001B[38;5;66;03m# Remove the TypeError from the exception chain in\u001B[39;00m\n\u001B[1;32m    464\u001B[0m             \u001B[38;5;66;03m# Python 3 (including for exceptions like SystemExit).\u001B[39;00m\n\u001B[1;32m    465\u001B[0m             \u001B[38;5;66;03m# Otherwise it looks like a bug in the code.\u001B[39;00m\n\u001B[0;32m--> 466\u001B[0m             \u001B[43msix\u001B[49m\u001B[38;5;241;43m.\u001B[39;49m\u001B[43mraise_from\u001B[49m\u001B[43m(\u001B[49m\u001B[43me\u001B[49m\u001B[43m,\u001B[49m\u001B[43m \u001B[49m\u001B[38;5;28;43;01mNone\u001B[39;49;00m\u001B[43m)\u001B[49m\n\u001B[1;32m    467\u001B[0m \u001B[38;5;28;01mexcept\u001B[39;00m (SocketTimeout, BaseSSLError, SocketError) \u001B[38;5;28;01mas\u001B[39;00m e:\n\u001B[1;32m    468\u001B[0m     \u001B[38;5;28mself\u001B[39m\u001B[38;5;241m.\u001B[39m_raise_timeout(err\u001B[38;5;241m=\u001B[39me, url\u001B[38;5;241m=\u001B[39murl, timeout_value\u001B[38;5;241m=\u001B[39mread_timeout)\n",
      "File \u001B[0;32m<string>:3\u001B[0m, in \u001B[0;36mraise_from\u001B[0;34m(value, from_value)\u001B[0m\n",
      "File \u001B[0;32m~/anaconda3/envs/APUChat/lib/python3.10/site-packages/urllib3/connectionpool.py:461\u001B[0m, in \u001B[0;36mHTTPConnectionPool._make_request\u001B[0;34m(self, conn, method, url, timeout, chunked, **httplib_request_kw)\u001B[0m\n\u001B[1;32m    458\u001B[0m \u001B[38;5;28;01mexcept\u001B[39;00m \u001B[38;5;167;01mTypeError\u001B[39;00m:\n\u001B[1;32m    459\u001B[0m     \u001B[38;5;66;03m# Python 3\u001B[39;00m\n\u001B[1;32m    460\u001B[0m     \u001B[38;5;28;01mtry\u001B[39;00m:\n\u001B[0;32m--> 461\u001B[0m         httplib_response \u001B[38;5;241m=\u001B[39m \u001B[43mconn\u001B[49m\u001B[38;5;241;43m.\u001B[39;49m\u001B[43mgetresponse\u001B[49m\u001B[43m(\u001B[49m\u001B[43m)\u001B[49m\n\u001B[1;32m    462\u001B[0m     \u001B[38;5;28;01mexcept\u001B[39;00m \u001B[38;5;167;01mBaseException\u001B[39;00m \u001B[38;5;28;01mas\u001B[39;00m e:\n\u001B[1;32m    463\u001B[0m         \u001B[38;5;66;03m# Remove the TypeError from the exception chain in\u001B[39;00m\n\u001B[1;32m    464\u001B[0m         \u001B[38;5;66;03m# Python 3 (including for exceptions like SystemExit).\u001B[39;00m\n\u001B[1;32m    465\u001B[0m         \u001B[38;5;66;03m# Otherwise it looks like a bug in the code.\u001B[39;00m\n\u001B[1;32m    466\u001B[0m         six\u001B[38;5;241m.\u001B[39mraise_from(e, \u001B[38;5;28;01mNone\u001B[39;00m)\n",
      "File \u001B[0;32m~/anaconda3/envs/APUChat/lib/python3.10/http/client.py:1375\u001B[0m, in \u001B[0;36mHTTPConnection.getresponse\u001B[0;34m(self)\u001B[0m\n\u001B[1;32m   1373\u001B[0m \u001B[38;5;28;01mtry\u001B[39;00m:\n\u001B[1;32m   1374\u001B[0m     \u001B[38;5;28;01mtry\u001B[39;00m:\n\u001B[0;32m-> 1375\u001B[0m         \u001B[43mresponse\u001B[49m\u001B[38;5;241;43m.\u001B[39;49m\u001B[43mbegin\u001B[49m\u001B[43m(\u001B[49m\u001B[43m)\u001B[49m\n\u001B[1;32m   1376\u001B[0m     \u001B[38;5;28;01mexcept\u001B[39;00m \u001B[38;5;167;01mConnectionError\u001B[39;00m:\n\u001B[1;32m   1377\u001B[0m         \u001B[38;5;28mself\u001B[39m\u001B[38;5;241m.\u001B[39mclose()\n",
      "File \u001B[0;32m~/anaconda3/envs/APUChat/lib/python3.10/http/client.py:318\u001B[0m, in \u001B[0;36mHTTPResponse.begin\u001B[0;34m(self)\u001B[0m\n\u001B[1;32m    316\u001B[0m \u001B[38;5;66;03m# read until we get a non-100 response\u001B[39;00m\n\u001B[1;32m    317\u001B[0m \u001B[38;5;28;01mwhile\u001B[39;00m \u001B[38;5;28;01mTrue\u001B[39;00m:\n\u001B[0;32m--> 318\u001B[0m     version, status, reason \u001B[38;5;241m=\u001B[39m \u001B[38;5;28;43mself\u001B[39;49m\u001B[38;5;241;43m.\u001B[39;49m\u001B[43m_read_status\u001B[49m\u001B[43m(\u001B[49m\u001B[43m)\u001B[49m\n\u001B[1;32m    319\u001B[0m     \u001B[38;5;28;01mif\u001B[39;00m status \u001B[38;5;241m!=\u001B[39m CONTINUE:\n\u001B[1;32m    320\u001B[0m         \u001B[38;5;28;01mbreak\u001B[39;00m\n",
      "File \u001B[0;32m~/anaconda3/envs/APUChat/lib/python3.10/http/client.py:279\u001B[0m, in \u001B[0;36mHTTPResponse._read_status\u001B[0;34m(self)\u001B[0m\n\u001B[1;32m    278\u001B[0m \u001B[38;5;28;01mdef\u001B[39;00m \u001B[38;5;21m_read_status\u001B[39m(\u001B[38;5;28mself\u001B[39m):\n\u001B[0;32m--> 279\u001B[0m     line \u001B[38;5;241m=\u001B[39m \u001B[38;5;28mstr\u001B[39m(\u001B[38;5;28;43mself\u001B[39;49m\u001B[38;5;241;43m.\u001B[39;49m\u001B[43mfp\u001B[49m\u001B[38;5;241;43m.\u001B[39;49m\u001B[43mreadline\u001B[49m\u001B[43m(\u001B[49m\u001B[43m_MAXLINE\u001B[49m\u001B[43m \u001B[49m\u001B[38;5;241;43m+\u001B[39;49m\u001B[43m \u001B[49m\u001B[38;5;241;43m1\u001B[39;49m\u001B[43m)\u001B[49m, \u001B[38;5;124m\"\u001B[39m\u001B[38;5;124miso-8859-1\u001B[39m\u001B[38;5;124m\"\u001B[39m)\n\u001B[1;32m    280\u001B[0m     \u001B[38;5;28;01mif\u001B[39;00m \u001B[38;5;28mlen\u001B[39m(line) \u001B[38;5;241m>\u001B[39m _MAXLINE:\n\u001B[1;32m    281\u001B[0m         \u001B[38;5;28;01mraise\u001B[39;00m LineTooLong(\u001B[38;5;124m\"\u001B[39m\u001B[38;5;124mstatus line\u001B[39m\u001B[38;5;124m\"\u001B[39m)\n",
      "File \u001B[0;32m~/anaconda3/envs/APUChat/lib/python3.10/socket.py:705\u001B[0m, in \u001B[0;36mSocketIO.readinto\u001B[0;34m(self, b)\u001B[0m\n\u001B[1;32m    703\u001B[0m \u001B[38;5;28;01mwhile\u001B[39;00m \u001B[38;5;28;01mTrue\u001B[39;00m:\n\u001B[1;32m    704\u001B[0m     \u001B[38;5;28;01mtry\u001B[39;00m:\n\u001B[0;32m--> 705\u001B[0m         \u001B[38;5;28;01mreturn\u001B[39;00m \u001B[38;5;28;43mself\u001B[39;49m\u001B[38;5;241;43m.\u001B[39;49m\u001B[43m_sock\u001B[49m\u001B[38;5;241;43m.\u001B[39;49m\u001B[43mrecv_into\u001B[49m\u001B[43m(\u001B[49m\u001B[43mb\u001B[49m\u001B[43m)\u001B[49m\n\u001B[1;32m    706\u001B[0m     \u001B[38;5;28;01mexcept\u001B[39;00m timeout:\n\u001B[1;32m    707\u001B[0m         \u001B[38;5;28mself\u001B[39m\u001B[38;5;241m.\u001B[39m_timeout_occurred \u001B[38;5;241m=\u001B[39m \u001B[38;5;28;01mTrue\u001B[39;00m\n",
      "File \u001B[0;32m~/anaconda3/envs/APUChat/lib/python3.10/ssl.py:1274\u001B[0m, in \u001B[0;36mSSLSocket.recv_into\u001B[0;34m(self, buffer, nbytes, flags)\u001B[0m\n\u001B[1;32m   1270\u001B[0m     \u001B[38;5;28;01mif\u001B[39;00m flags \u001B[38;5;241m!=\u001B[39m \u001B[38;5;241m0\u001B[39m:\n\u001B[1;32m   1271\u001B[0m         \u001B[38;5;28;01mraise\u001B[39;00m \u001B[38;5;167;01mValueError\u001B[39;00m(\n\u001B[1;32m   1272\u001B[0m           \u001B[38;5;124m\"\u001B[39m\u001B[38;5;124mnon-zero flags not allowed in calls to recv_into() on \u001B[39m\u001B[38;5;132;01m%s\u001B[39;00m\u001B[38;5;124m\"\u001B[39m \u001B[38;5;241m%\u001B[39m\n\u001B[1;32m   1273\u001B[0m           \u001B[38;5;28mself\u001B[39m\u001B[38;5;241m.\u001B[39m\u001B[38;5;18m__class__\u001B[39m)\n\u001B[0;32m-> 1274\u001B[0m     \u001B[38;5;28;01mreturn\u001B[39;00m \u001B[38;5;28;43mself\u001B[39;49m\u001B[38;5;241;43m.\u001B[39;49m\u001B[43mread\u001B[49m\u001B[43m(\u001B[49m\u001B[43mnbytes\u001B[49m\u001B[43m,\u001B[49m\u001B[43m \u001B[49m\u001B[43mbuffer\u001B[49m\u001B[43m)\u001B[49m\n\u001B[1;32m   1275\u001B[0m \u001B[38;5;28;01melse\u001B[39;00m:\n\u001B[1;32m   1276\u001B[0m     \u001B[38;5;28;01mreturn\u001B[39;00m \u001B[38;5;28msuper\u001B[39m()\u001B[38;5;241m.\u001B[39mrecv_into(buffer, nbytes, flags)\n",
      "File \u001B[0;32m~/anaconda3/envs/APUChat/lib/python3.10/ssl.py:1130\u001B[0m, in \u001B[0;36mSSLSocket.read\u001B[0;34m(self, len, buffer)\u001B[0m\n\u001B[1;32m   1128\u001B[0m \u001B[38;5;28;01mtry\u001B[39;00m:\n\u001B[1;32m   1129\u001B[0m     \u001B[38;5;28;01mif\u001B[39;00m buffer \u001B[38;5;129;01mis\u001B[39;00m \u001B[38;5;129;01mnot\u001B[39;00m \u001B[38;5;28;01mNone\u001B[39;00m:\n\u001B[0;32m-> 1130\u001B[0m         \u001B[38;5;28;01mreturn\u001B[39;00m \u001B[38;5;28;43mself\u001B[39;49m\u001B[38;5;241;43m.\u001B[39;49m\u001B[43m_sslobj\u001B[49m\u001B[38;5;241;43m.\u001B[39;49m\u001B[43mread\u001B[49m\u001B[43m(\u001B[49m\u001B[38;5;28;43mlen\u001B[39;49m\u001B[43m,\u001B[49m\u001B[43m \u001B[49m\u001B[43mbuffer\u001B[49m\u001B[43m)\u001B[49m\n\u001B[1;32m   1131\u001B[0m     \u001B[38;5;28;01melse\u001B[39;00m:\n\u001B[1;32m   1132\u001B[0m         \u001B[38;5;28;01mreturn\u001B[39;00m \u001B[38;5;28mself\u001B[39m\u001B[38;5;241m.\u001B[39m_sslobj\u001B[38;5;241m.\u001B[39mread(\u001B[38;5;28mlen\u001B[39m)\n",
      "\u001B[0;31mKeyboardInterrupt\u001B[0m: "
     ]
>>>>>>> 1e93c2a6c15279cec9900946186812711fdf2ba0
    }
   ],
   "source": [
    "pandas_ai.run(df, 'apa saja kolom yang ada di dataframe ini')"
<<<<<<< HEAD
   ]
=======
   ],
   "metadata": {
    "collapsed": false,
    "ExecuteTime": {
     "end_time": "2023-05-27T09:08:29.909415749Z",
     "start_time": "2023-05-27T09:02:55.616684400Z"
    }
   }
>>>>>>> 1e93c2a6c15279cec9900946186812711fdf2ba0
  },
  {
   "cell_type": "code",
   "execution_count": 13,
   "id": "51df2797",
   "metadata": {
    "ExecuteTime": {
     "end_time": "2023-05-27T12:56:46.185760618Z",
     "start_time": "2023-05-27T12:56:21.089341277Z"
    }
   },
   "outputs": [
    {
     "name": "stdout",
     "output_type": "stream",
     "text": [
      "Running PandasAI with openai LLM...\n",
      "\n",
      "Code generated:\n",
      "```\n",
      "unique_payment_currency_count = df['Payment Currency'].nunique()\n",
      "unique_payment_currency_count\n",
      "```\n",
      "\n",
      "Code running:\n",
      "```\n",
      "unique_payment_currency_count = df['Payment Currency'].nunique()\n",
      "unique_payment_currency_count\n",
      "```\n",
      "Answer: \n",
      "Conversational answer: Untuk menghitung frekuensi unik dari kolom Payment Currency, kita perlu mengidentifikasi berapa banyak jenis mata uang yang berbeda digunakan dalam kolom tersebut. Setelah menemukan semua jenis mata uang yang unik, kita dapat menghitung seberapa sering masing-masing mata uang muncul dalam kolom tersebut. Dengan demikian, kita akan mendapatkan frekuensi unik untuk setiap jenis mata uang dalam kolom Payment Currency.\n"
     ]
    },
    {
     "data": {
      "text/plain": [
       "'Untuk menghitung frekuensi unik dari kolom Payment Currency, kita perlu mengidentifikasi berapa banyak jenis mata uang yang berbeda digunakan dalam kolom tersebut. Setelah menemukan semua jenis mata uang yang unik, kita dapat menghitung seberapa sering masing-masing mata uang muncul dalam kolom tersebut. Dengan demikian, kita akan mendapatkan frekuensi unik untuk setiap jenis mata uang dalam kolom Payment Currency.'"
      ]
     },
     "execution_count": 13,
     "metadata": {},
     "output_type": "execute_result"
    }
   ],
   "source": [
    "pandas_ai.run(df, 'Hitung frekuensi unik dari kolom Payment Currency.')"
   ]
  },
  {
   "cell_type": "markdown",
   "id": "8cbc31c4",
   "metadata": {},
   "source": [
    "### Menampilkan frekuensi unik dari kolom Payment Currency"
   ]
  },
  {
   "cell_type": "code",
   "execution_count": 20,
   "id": "6d5b192b",
   "metadata": {},
   "outputs": [
    {
     "name": "stdout",
     "output_type": "stream",
     "text": [
      "Running PandasAI with openai LLM...\n",
      "\n",
      "Code generated:\n",
      "```\n",
      "import pandas as pd\n",
      "\n",
      "# read the csv file into a pandas dataframe\n",
      "df = pd.read_csv('filename.csv')\n",
      "\n",
      "# display unique value counts for Payment Currency column\n",
      "print(df['Payment Currency'].value_counts())\n",
      "```\n",
      "\n",
      "Code running:\n",
      "```\n",
      "print(df['Payment Currency'].value_counts())\n",
      "```\n",
      "Answer: Payment Currency\n",
      "US Dollar            1895172\n",
      "Euro                 1168297\n",
      "Swiss Franc           234860\n",
      "Yuan                  213752\n",
      "Shekel                192184\n",
      "Rupee                 190202\n",
      "UK Pound              180738\n",
      "Yen                   155209\n",
      "Ruble                 155178\n",
      "Bitcoin               146066\n",
      "Canadian Dollar       140042\n",
      "Australian Dollar     136769\n",
      "Mexican Peso          110159\n",
      "Saudi Riyal            89014\n",
      "Brazil Real            70703\n",
      "Name: count, dtype: int64\n",
      "Conversational answer: Berikut adalah frekuensi unik dari kolom Payment Currency: \n",
      "- US Dollar: 1.895.172\n",
      "- Euro: 1.168.297\n",
      "- Swiss Franc: 234.860\n",
      "- Yuan: 213.752\n",
      "- Shekel: 192.184\n",
      "- Rupee: 190.202\n",
      "- UK Pound: 180.738\n",
      "- Yen: 155.209\n",
      "- Ruble: 155.178\n",
      "- Bitcoin: 146.066\n",
      "- Canadian Dollar: 140.042\n",
      "- Australian Dollar: 136.769\n",
      "- Mexican Peso: 110.159\n",
      "- Saudi Riyal: 89.014\n",
      "- Brazil Real: 70.703\n",
      "\n",
      "Jadi, terdapat 15 jenis mata uang yang digunakan dalam pembayaran dan jumlah transaksi tertinggi menggunakan US Dollar.\n"
     ]
    },
    {
     "data": {
      "text/plain": [
       "'Berikut adalah frekuensi unik dari kolom Payment Currency: \\n- US Dollar: 1.895.172\\n- Euro: 1.168.297\\n- Swiss Franc: 234.860\\n- Yuan: 213.752\\n- Shekel: 192.184\\n- Rupee: 190.202\\n- UK Pound: 180.738\\n- Yen: 155.209\\n- Ruble: 155.178\\n- Bitcoin: 146.066\\n- Canadian Dollar: 140.042\\n- Australian Dollar: 136.769\\n- Mexican Peso: 110.159\\n- Saudi Riyal: 89.014\\n- Brazil Real: 70.703\\n\\nJadi, terdapat 15 jenis mata uang yang digunakan dalam pembayaran dan jumlah transaksi tertinggi menggunakan US Dollar.'"
      ]
     },
     "execution_count": 20,
     "metadata": {},
     "output_type": "execute_result"
    }
   ],
   "source": [
    "pandas_ai.run(df, 'tampilkan frekuensi unik dari kolom Payment Currency')"
   ]
  },
  {
   "cell_type": "markdown",
   "id": "d2cbc6f3",
   "metadata": {},
   "source": [
    "### membuat histogram  dari kolom Payment Currency dengan bins 10"
   ]
  },
  {
   "cell_type": "code",
<<<<<<< HEAD
   "execution_count": 32,
   "id": "82346f45",
   "metadata": {
    "ExecuteTime": {
     "end_time": "2023-05-23T09:57:51.552000Z",
     "start_time": "2023-05-23T09:57:04.436684Z"
    }
   },
   "outputs": [
    {
     "name": "stdout",
     "output_type": "stream",
     "text": [
      "Running PandasAI with openai LLM...\n",
      "\n",
      "Code generated:\n",
      "```\n",
      "import pandas as pd\n",
      "import matplotlib.pyplot as plt\n",
      "\n",
      "# read the dataframe\n",
      "df = pd.read_csv('data.csv')\n",
      "\n",
      "# create histogram\n",
      "plt.hist(df['Payment Currency '], bins=10)\n",
      "plt.xlabel('Payment Currency')\n",
      "plt.ylabel('Frequency')\n",
      "plt.title('Histogram of Payment Currency')\n",
      "plt.show()\n",
      "```\n",
      "\n",
      "Code running:\n",
      "```\n",
      "plt.hist(df['Payment Currency '], bins=10)\n",
      "plt.xlabel('Payment Currency')\n",
      "plt.ylabel('Frequency')\n",
      "plt.title('Histogram of Payment Currency')\n",
      "plt.show()\n",
      "```\n"
     ]
    },
    {
     "ename": "RateLimitError",
     "evalue": "That model is currently overloaded with other requests. You can retry your request, or contact us through our help center at help.openai.com if the error persists. (Please include the request ID 2b179542716868297bc4c516c84c6c5b in your message.)",
     "output_type": "error",
     "traceback": [
      "\u001B[0;31m---------------------------------------------------------------------------\u001B[0m",
      "\u001B[0;31mImportError\u001B[0m                               Traceback (most recent call last)",
      "File \u001B[0;32m~/DataspellProjects/pandas-ai/pandasai/__init__.py:258\u001B[0m, in \u001B[0;36mPandasAI.run_code\u001B[0;34m(self, code, data_frame, use_error_correction_framework)\u001B[0m\n\u001B[1;32m    256\u001B[0m \u001B[38;5;28;01mtry\u001B[39;00m:\n\u001B[1;32m    257\u001B[0m     \u001B[38;5;66;03m# Execute the code\u001B[39;00m\n\u001B[0;32m--> 258\u001B[0m     \u001B[43mexec\u001B[49m\u001B[43m(\u001B[49m\n\u001B[1;32m    259\u001B[0m \u001B[43m        \u001B[49m\u001B[43mcode_to_run\u001B[49m\u001B[43m,\u001B[49m\n\u001B[1;32m    260\u001B[0m \u001B[43m        \u001B[49m\u001B[43m{\u001B[49m\n\u001B[1;32m    261\u001B[0m \u001B[43m            \u001B[49m\u001B[38;5;124;43m\"\u001B[39;49m\u001B[38;5;124;43mpd\u001B[39;49m\u001B[38;5;124;43m\"\u001B[39;49m\u001B[43m:\u001B[49m\u001B[43m \u001B[49m\u001B[43mpd\u001B[49m\u001B[43m,\u001B[49m\n\u001B[1;32m    262\u001B[0m \u001B[43m            \u001B[49m\u001B[38;5;124;43m\"\u001B[39;49m\u001B[38;5;124;43mdf\u001B[39;49m\u001B[38;5;124;43m\"\u001B[39;49m\u001B[43m:\u001B[49m\u001B[43m \u001B[49m\u001B[43mdata_frame\u001B[49m\u001B[43m,\u001B[49m\n\u001B[1;32m    263\u001B[0m \u001B[43m            \u001B[49m\u001B[38;5;124;43m\"\u001B[39;49m\u001B[38;5;124;43mplt\u001B[39;49m\u001B[38;5;124;43m\"\u001B[39;49m\u001B[43m:\u001B[49m\u001B[43m \u001B[49m\u001B[43mplt\u001B[49m\u001B[43m,\u001B[49m\n\u001B[1;32m    264\u001B[0m \u001B[43m            \u001B[49m\u001B[38;5;124;43m\"\u001B[39;49m\u001B[38;5;124;43m__builtins__\u001B[39;49m\u001B[38;5;124;43m\"\u001B[39;49m\u001B[43m:\u001B[49m\u001B[43m \u001B[49m\u001B[43m{\u001B[49m\n\u001B[1;32m    265\u001B[0m \u001B[43m                \u001B[49m\u001B[38;5;241;43m*\u001B[39;49m\u001B[38;5;241;43m*\u001B[39;49m\u001B[43m{\u001B[49m\n\u001B[1;32m    266\u001B[0m \u001B[43m                    \u001B[49m\u001B[43mbuiltin\u001B[49m\u001B[43m:\u001B[49m\u001B[43m \u001B[49m\u001B[43m__builtins__\u001B[49m\u001B[43m[\u001B[49m\u001B[43mbuiltin\u001B[49m\u001B[43m]\u001B[49m\n\u001B[1;32m    267\u001B[0m \u001B[43m                    \u001B[49m\u001B[38;5;28;43;01mfor\u001B[39;49;00m\u001B[43m \u001B[49m\u001B[43mbuiltin\u001B[49m\u001B[43m \u001B[49m\u001B[38;5;129;43;01min\u001B[39;49;00m\u001B[43m \u001B[49m\u001B[43mWHITELISTED_BUILTINS\u001B[49m\n\u001B[1;32m    268\u001B[0m \u001B[43m                \u001B[49m\u001B[43m}\u001B[49m\u001B[43m,\u001B[49m\n\u001B[1;32m    269\u001B[0m \u001B[43m            \u001B[49m\u001B[43m}\u001B[49m\u001B[43m,\u001B[49m\n\u001B[1;32m    270\u001B[0m \u001B[43m        \u001B[49m\u001B[43m}\u001B[49m\u001B[43m,\u001B[49m\n\u001B[1;32m    271\u001B[0m \u001B[43m    \u001B[49m\u001B[43m)\u001B[49m\n\u001B[1;32m    272\u001B[0m     code \u001B[38;5;241m=\u001B[39m code_to_run\n",
      "File \u001B[0;32m<string>:1\u001B[0m\n",
      "\u001B[0;31mImportError\u001B[0m: __import__ not found",
      "\nDuring handling of the above exception, another exception occurred:\n",
      "\u001B[0;31mRateLimitError\u001B[0m                            Traceback (most recent call last)",
      "Cell \u001B[0;32mIn[32], line 1\u001B[0m\n\u001B[0;32m----> 1\u001B[0m \u001B[43mpandas_ai\u001B[49m\u001B[38;5;241;43m.\u001B[39;49m\u001B[43mrun\u001B[49m\u001B[43m(\u001B[49m\u001B[43mdf\u001B[49m\u001B[43m,\u001B[49m\u001B[43m \u001B[49m\u001B[38;5;124;43m'\u001B[39;49m\u001B[38;5;124;43mbuat histogram dari kolom \u001B[39;49m\u001B[38;5;124;43m\"\u001B[39;49m\u001B[38;5;124;43mPayment Currency\u001B[39;49m\u001B[38;5;124;43m\"\u001B[39;49m\u001B[38;5;124;43m dengan bins 10\u001B[39;49m\u001B[38;5;124;43m'\u001B[39;49m\u001B[43m)\u001B[49m\n",
      "File \u001B[0;32m~/DataspellProjects/pandas-ai/pandasai/__init__.py:159\u001B[0m, in \u001B[0;36mPandasAI.run\u001B[0;34m(self, data_frame, prompt, is_conversational_answer, show_code, anonymize_df, use_error_correction_framework)\u001B[0m\n\u001B[1;32m    156\u001B[0m \u001B[38;5;28;01mif\u001B[39;00m show_code \u001B[38;5;129;01mand\u001B[39;00m \u001B[38;5;28mself\u001B[39m\u001B[38;5;241m.\u001B[39m_in_notebook:\n\u001B[1;32m    157\u001B[0m     \u001B[38;5;28mself\u001B[39m\u001B[38;5;241m.\u001B[39mnotebook\u001B[38;5;241m.\u001B[39mcreate_new_cell(code)\n\u001B[0;32m--> 159\u001B[0m answer \u001B[38;5;241m=\u001B[39m \u001B[38;5;28;43mself\u001B[39;49m\u001B[38;5;241;43m.\u001B[39;49m\u001B[43mrun_code\u001B[49m\u001B[43m(\u001B[49m\n\u001B[1;32m    160\u001B[0m \u001B[43m    \u001B[49m\u001B[43mcode\u001B[49m\u001B[43m,\u001B[49m\n\u001B[1;32m    161\u001B[0m \u001B[43m    \u001B[49m\u001B[43mdata_frame\u001B[49m\u001B[43m,\u001B[49m\n\u001B[1;32m    162\u001B[0m \u001B[43m    \u001B[49m\u001B[43muse_error_correction_framework\u001B[49m\u001B[38;5;241;43m=\u001B[39;49m\u001B[43muse_error_correction_framework\u001B[49m\u001B[43m,\u001B[49m\n\u001B[1;32m    163\u001B[0m \u001B[43m\u001B[49m\u001B[43m)\u001B[49m\n\u001B[1;32m    164\u001B[0m \u001B[38;5;28mself\u001B[39m\u001B[38;5;241m.\u001B[39mcode_output \u001B[38;5;241m=\u001B[39m answer\n\u001B[1;32m    165\u001B[0m \u001B[38;5;28mself\u001B[39m\u001B[38;5;241m.\u001B[39mlog(\u001B[38;5;124mf\u001B[39m\u001B[38;5;124m\"\u001B[39m\u001B[38;5;124mAnswer: \u001B[39m\u001B[38;5;132;01m{\u001B[39;00manswer\u001B[38;5;132;01m}\u001B[39;00m\u001B[38;5;124m\"\u001B[39m)\n",
      "File \u001B[0;32m~/DataspellProjects/pandas-ai/pandasai/__init__.py:295\u001B[0m, in \u001B[0;36mPandasAI.run_code\u001B[0;34m(self, code, data_frame, use_error_correction_framework)\u001B[0m\n\u001B[1;32m    278\u001B[0m             count \u001B[38;5;241m+\u001B[39m\u001B[38;5;241m=\u001B[39m \u001B[38;5;241m1\u001B[39m\n\u001B[1;32m    279\u001B[0m             error_correcting_instruction \u001B[38;5;241m=\u001B[39m (\n\u001B[1;32m    280\u001B[0m                 \u001B[38;5;28mself\u001B[39m\u001B[38;5;241m.\u001B[39m_error_correct_instruction\u001B[38;5;241m.\u001B[39mformat(\n\u001B[1;32m    281\u001B[0m                     today_date\u001B[38;5;241m=\u001B[39mdate\u001B[38;5;241m.\u001B[39mtoday(),\n\u001B[0;32m   (...)\u001B[0m\n\u001B[1;32m    293\u001B[0m                 )\n\u001B[1;32m    294\u001B[0m             )\n\u001B[0;32m--> 295\u001B[0m             code_to_run \u001B[38;5;241m=\u001B[39m \u001B[38;5;28;43mself\u001B[39;49m\u001B[38;5;241;43m.\u001B[39;49m\u001B[43m_llm\u001B[49m\u001B[38;5;241;43m.\u001B[39;49m\u001B[43mgenerate_code\u001B[49m\u001B[43m(\u001B[49m\n\u001B[1;32m    296\u001B[0m \u001B[43m                \u001B[49m\u001B[43merror_correcting_instruction\u001B[49m\u001B[43m,\u001B[49m\u001B[43m \u001B[49m\u001B[38;5;124;43m\"\u001B[39;49m\u001B[38;5;124;43m\"\u001B[39;49m\n\u001B[1;32m    297\u001B[0m \u001B[43m            \u001B[49m\u001B[43m)\u001B[49m\n\u001B[1;32m    299\u001B[0m captured_output \u001B[38;5;241m=\u001B[39m output\u001B[38;5;241m.\u001B[39mgetvalue()\n\u001B[1;32m    301\u001B[0m \u001B[38;5;66;03m# Evaluate the last line and return its value or the captured output\u001B[39;00m\n",
      "File \u001B[0;32m~/DataspellProjects/pandas-ai/pandasai/llm/base.py:115\u001B[0m, in \u001B[0;36mLLM.generate_code\u001B[0;34m(self, instruction, prompt)\u001B[0m\n\u001B[1;32m    108\u001B[0m \u001B[38;5;28;01mdef\u001B[39;00m \u001B[38;5;21mgenerate_code\u001B[39m(\u001B[38;5;28mself\u001B[39m, instruction: \u001B[38;5;28mstr\u001B[39m, prompt: \u001B[38;5;28mstr\u001B[39m) \u001B[38;5;241m-\u001B[39m\u001B[38;5;241m>\u001B[39m \u001B[38;5;28mstr\u001B[39m:\n\u001B[1;32m    109\u001B[0m \u001B[38;5;250m    \u001B[39m\u001B[38;5;124;03m\"\"\"\u001B[39;00m\n\u001B[1;32m    110\u001B[0m \u001B[38;5;124;03m    Generate the code based on the instruction and the given prompt.\u001B[39;00m\n\u001B[1;32m    111\u001B[0m \n\u001B[1;32m    112\u001B[0m \u001B[38;5;124;03m    Returns:\u001B[39;00m\n\u001B[1;32m    113\u001B[0m \u001B[38;5;124;03m        str: Code\u001B[39;00m\n\u001B[1;32m    114\u001B[0m \u001B[38;5;124;03m    \"\"\"\u001B[39;00m\n\u001B[0;32m--> 115\u001B[0m     \u001B[38;5;28;01mreturn\u001B[39;00m \u001B[38;5;28mself\u001B[39m\u001B[38;5;241m.\u001B[39m_extract_code(\u001B[38;5;28;43mself\u001B[39;49m\u001B[38;5;241;43m.\u001B[39;49m\u001B[43mcall\u001B[49m\u001B[43m(\u001B[49m\u001B[43minstruction\u001B[49m\u001B[43m,\u001B[49m\u001B[43m \u001B[49m\u001B[43mprompt\u001B[49m\u001B[43m,\u001B[49m\u001B[43m \u001B[49m\u001B[43msuffix\u001B[49m\u001B[38;5;241;43m=\u001B[39;49m\u001B[38;5;124;43m\"\u001B[39;49m\u001B[38;5;130;43;01m\\n\u001B[39;49;00m\u001B[38;5;130;43;01m\\n\u001B[39;49;00m\u001B[38;5;124;43mCode:\u001B[39;49m\u001B[38;5;130;43;01m\\n\u001B[39;49;00m\u001B[38;5;124;43m\"\u001B[39;49m\u001B[43m)\u001B[49m)\n",
      "File \u001B[0;32m~/DataspellProjects/pandas-ai/pandasai/llm/openai.py:70\u001B[0m, in \u001B[0;36mOpenAI.call\u001B[0;34m(self, instruction, value, suffix)\u001B[0m\n\u001B[1;32m     68\u001B[0m     response \u001B[38;5;241m=\u001B[39m \u001B[38;5;28mself\u001B[39m\u001B[38;5;241m.\u001B[39mcompletion(\u001B[38;5;28mstr\u001B[39m(instruction) \u001B[38;5;241m+\u001B[39m \u001B[38;5;28mstr\u001B[39m(value) \u001B[38;5;241m+\u001B[39m suffix)\n\u001B[1;32m     69\u001B[0m \u001B[38;5;28;01melif\u001B[39;00m \u001B[38;5;28mself\u001B[39m\u001B[38;5;241m.\u001B[39mmodel \u001B[38;5;129;01min\u001B[39;00m \u001B[38;5;28mself\u001B[39m\u001B[38;5;241m.\u001B[39m_supported_chat_models:\n\u001B[0;32m---> 70\u001B[0m     response \u001B[38;5;241m=\u001B[39m \u001B[38;5;28;43mself\u001B[39;49m\u001B[38;5;241;43m.\u001B[39;49m\u001B[43mchat_completion\u001B[49m\u001B[43m(\u001B[49m\u001B[38;5;28;43mstr\u001B[39;49m\u001B[43m(\u001B[49m\u001B[43minstruction\u001B[49m\u001B[43m)\u001B[49m\u001B[43m \u001B[49m\u001B[38;5;241;43m+\u001B[39;49m\u001B[43m \u001B[49m\u001B[38;5;28;43mstr\u001B[39;49m\u001B[43m(\u001B[49m\u001B[43mvalue\u001B[49m\u001B[43m)\u001B[49m\u001B[43m \u001B[49m\u001B[38;5;241;43m+\u001B[39;49m\u001B[43m \u001B[49m\u001B[43msuffix\u001B[49m\u001B[43m)\u001B[49m\n\u001B[1;32m     71\u001B[0m \u001B[38;5;28;01melse\u001B[39;00m:\n\u001B[1;32m     72\u001B[0m     \u001B[38;5;28;01mraise\u001B[39;00m UnsupportedOpenAIModelError(\u001B[38;5;124m\"\u001B[39m\u001B[38;5;124mUnsupported model\u001B[39m\u001B[38;5;124m\"\u001B[39m)\n",
      "File \u001B[0;32m~/DataspellProjects/pandas-ai/pandasai/llm/base.py:198\u001B[0m, in \u001B[0;36mBaseOpenAI.chat_completion\u001B[0;34m(self, value)\u001B[0m\n\u001B[1;32m    195\u001B[0m \u001B[38;5;28;01mif\u001B[39;00m \u001B[38;5;28mself\u001B[39m\u001B[38;5;241m.\u001B[39mstop \u001B[38;5;129;01mis\u001B[39;00m \u001B[38;5;129;01mnot\u001B[39;00m \u001B[38;5;28;01mNone\u001B[39;00m:\n\u001B[1;32m    196\u001B[0m     params[\u001B[38;5;124m\"\u001B[39m\u001B[38;5;124mstop\u001B[39m\u001B[38;5;124m\"\u001B[39m] \u001B[38;5;241m=\u001B[39m [\u001B[38;5;28mself\u001B[39m\u001B[38;5;241m.\u001B[39mstop]\n\u001B[0;32m--> 198\u001B[0m response \u001B[38;5;241m=\u001B[39m \u001B[43mopenai\u001B[49m\u001B[38;5;241;43m.\u001B[39;49m\u001B[43mChatCompletion\u001B[49m\u001B[38;5;241;43m.\u001B[39;49m\u001B[43mcreate\u001B[49m\u001B[43m(\u001B[49m\u001B[38;5;241;43m*\u001B[39;49m\u001B[38;5;241;43m*\u001B[39;49m\u001B[43mparams\u001B[49m\u001B[43m)\u001B[49m\n\u001B[1;32m    200\u001B[0m \u001B[38;5;28;01mreturn\u001B[39;00m response[\u001B[38;5;124m\"\u001B[39m\u001B[38;5;124mchoices\u001B[39m\u001B[38;5;124m\"\u001B[39m][\u001B[38;5;241m0\u001B[39m][\u001B[38;5;124m\"\u001B[39m\u001B[38;5;124mmessage\u001B[39m\u001B[38;5;124m\"\u001B[39m][\u001B[38;5;124m\"\u001B[39m\u001B[38;5;124mcontent\u001B[39m\u001B[38;5;124m\"\u001B[39m]\n",
      "File \u001B[0;32m~/anaconda3/envs/pandas-ai/lib/python3.10/site-packages/openai/api_resources/chat_completion.py:25\u001B[0m, in \u001B[0;36mChatCompletion.create\u001B[0;34m(cls, *args, **kwargs)\u001B[0m\n\u001B[1;32m     23\u001B[0m \u001B[38;5;28;01mwhile\u001B[39;00m \u001B[38;5;28;01mTrue\u001B[39;00m:\n\u001B[1;32m     24\u001B[0m     \u001B[38;5;28;01mtry\u001B[39;00m:\n\u001B[0;32m---> 25\u001B[0m         \u001B[38;5;28;01mreturn\u001B[39;00m \u001B[38;5;28;43msuper\u001B[39;49m\u001B[43m(\u001B[49m\u001B[43m)\u001B[49m\u001B[38;5;241;43m.\u001B[39;49m\u001B[43mcreate\u001B[49m\u001B[43m(\u001B[49m\u001B[38;5;241;43m*\u001B[39;49m\u001B[43margs\u001B[49m\u001B[43m,\u001B[49m\u001B[43m \u001B[49m\u001B[38;5;241;43m*\u001B[39;49m\u001B[38;5;241;43m*\u001B[39;49m\u001B[43mkwargs\u001B[49m\u001B[43m)\u001B[49m\n\u001B[1;32m     26\u001B[0m     \u001B[38;5;28;01mexcept\u001B[39;00m TryAgain \u001B[38;5;28;01mas\u001B[39;00m e:\n\u001B[1;32m     27\u001B[0m         \u001B[38;5;28;01mif\u001B[39;00m timeout \u001B[38;5;129;01mis\u001B[39;00m \u001B[38;5;129;01mnot\u001B[39;00m \u001B[38;5;28;01mNone\u001B[39;00m \u001B[38;5;129;01mand\u001B[39;00m time\u001B[38;5;241m.\u001B[39mtime() \u001B[38;5;241m>\u001B[39m start \u001B[38;5;241m+\u001B[39m timeout:\n",
      "File \u001B[0;32m~/anaconda3/envs/pandas-ai/lib/python3.10/site-packages/openai/api_resources/abstract/engine_api_resource.py:153\u001B[0m, in \u001B[0;36mEngineAPIResource.create\u001B[0;34m(cls, api_key, api_base, api_type, request_id, api_version, organization, **params)\u001B[0m\n\u001B[1;32m    127\u001B[0m \u001B[38;5;129m@classmethod\u001B[39m\n\u001B[1;32m    128\u001B[0m \u001B[38;5;28;01mdef\u001B[39;00m \u001B[38;5;21mcreate\u001B[39m(\n\u001B[1;32m    129\u001B[0m     \u001B[38;5;28mcls\u001B[39m,\n\u001B[0;32m   (...)\u001B[0m\n\u001B[1;32m    136\u001B[0m     \u001B[38;5;241m*\u001B[39m\u001B[38;5;241m*\u001B[39mparams,\n\u001B[1;32m    137\u001B[0m ):\n\u001B[1;32m    138\u001B[0m     (\n\u001B[1;32m    139\u001B[0m         deployment_id,\n\u001B[1;32m    140\u001B[0m         engine,\n\u001B[0;32m   (...)\u001B[0m\n\u001B[1;32m    150\u001B[0m         api_key, api_base, api_type, api_version, organization, \u001B[38;5;241m*\u001B[39m\u001B[38;5;241m*\u001B[39mparams\n\u001B[1;32m    151\u001B[0m     )\n\u001B[0;32m--> 153\u001B[0m     response, _, api_key \u001B[38;5;241m=\u001B[39m \u001B[43mrequestor\u001B[49m\u001B[38;5;241;43m.\u001B[39;49m\u001B[43mrequest\u001B[49m\u001B[43m(\u001B[49m\n\u001B[1;32m    154\u001B[0m \u001B[43m        \u001B[49m\u001B[38;5;124;43m\"\u001B[39;49m\u001B[38;5;124;43mpost\u001B[39;49m\u001B[38;5;124;43m\"\u001B[39;49m\u001B[43m,\u001B[49m\n\u001B[1;32m    155\u001B[0m \u001B[43m        \u001B[49m\u001B[43murl\u001B[49m\u001B[43m,\u001B[49m\n\u001B[1;32m    156\u001B[0m \u001B[43m        \u001B[49m\u001B[43mparams\u001B[49m\u001B[38;5;241;43m=\u001B[39;49m\u001B[43mparams\u001B[49m\u001B[43m,\u001B[49m\n\u001B[1;32m    157\u001B[0m \u001B[43m        \u001B[49m\u001B[43mheaders\u001B[49m\u001B[38;5;241;43m=\u001B[39;49m\u001B[43mheaders\u001B[49m\u001B[43m,\u001B[49m\n\u001B[1;32m    158\u001B[0m \u001B[43m        \u001B[49m\u001B[43mstream\u001B[49m\u001B[38;5;241;43m=\u001B[39;49m\u001B[43mstream\u001B[49m\u001B[43m,\u001B[49m\n\u001B[1;32m    159\u001B[0m \u001B[43m        \u001B[49m\u001B[43mrequest_id\u001B[49m\u001B[38;5;241;43m=\u001B[39;49m\u001B[43mrequest_id\u001B[49m\u001B[43m,\u001B[49m\n\u001B[1;32m    160\u001B[0m \u001B[43m        \u001B[49m\u001B[43mrequest_timeout\u001B[49m\u001B[38;5;241;43m=\u001B[39;49m\u001B[43mrequest_timeout\u001B[49m\u001B[43m,\u001B[49m\n\u001B[1;32m    161\u001B[0m \u001B[43m    \u001B[49m\u001B[43m)\u001B[49m\n\u001B[1;32m    163\u001B[0m     \u001B[38;5;28;01mif\u001B[39;00m stream:\n\u001B[1;32m    164\u001B[0m         \u001B[38;5;66;03m# must be an iterator\u001B[39;00m\n\u001B[1;32m    165\u001B[0m         \u001B[38;5;28;01massert\u001B[39;00m \u001B[38;5;129;01mnot\u001B[39;00m \u001B[38;5;28misinstance\u001B[39m(response, OpenAIResponse)\n",
      "File \u001B[0;32m~/anaconda3/envs/pandas-ai/lib/python3.10/site-packages/openai/api_requestor.py:230\u001B[0m, in \u001B[0;36mAPIRequestor.request\u001B[0;34m(self, method, url, params, headers, files, stream, request_id, request_timeout)\u001B[0m\n\u001B[1;32m    209\u001B[0m \u001B[38;5;28;01mdef\u001B[39;00m \u001B[38;5;21mrequest\u001B[39m(\n\u001B[1;32m    210\u001B[0m     \u001B[38;5;28mself\u001B[39m,\n\u001B[1;32m    211\u001B[0m     method,\n\u001B[0;32m   (...)\u001B[0m\n\u001B[1;32m    218\u001B[0m     request_timeout: Optional[Union[\u001B[38;5;28mfloat\u001B[39m, Tuple[\u001B[38;5;28mfloat\u001B[39m, \u001B[38;5;28mfloat\u001B[39m]]] \u001B[38;5;241m=\u001B[39m \u001B[38;5;28;01mNone\u001B[39;00m,\n\u001B[1;32m    219\u001B[0m ) \u001B[38;5;241m-\u001B[39m\u001B[38;5;241m>\u001B[39m Tuple[Union[OpenAIResponse, Iterator[OpenAIResponse]], \u001B[38;5;28mbool\u001B[39m, \u001B[38;5;28mstr\u001B[39m]:\n\u001B[1;32m    220\u001B[0m     result \u001B[38;5;241m=\u001B[39m \u001B[38;5;28mself\u001B[39m\u001B[38;5;241m.\u001B[39mrequest_raw(\n\u001B[1;32m    221\u001B[0m         method\u001B[38;5;241m.\u001B[39mlower(),\n\u001B[1;32m    222\u001B[0m         url,\n\u001B[0;32m   (...)\u001B[0m\n\u001B[1;32m    228\u001B[0m         request_timeout\u001B[38;5;241m=\u001B[39mrequest_timeout,\n\u001B[1;32m    229\u001B[0m     )\n\u001B[0;32m--> 230\u001B[0m     resp, got_stream \u001B[38;5;241m=\u001B[39m \u001B[38;5;28;43mself\u001B[39;49m\u001B[38;5;241;43m.\u001B[39;49m\u001B[43m_interpret_response\u001B[49m\u001B[43m(\u001B[49m\u001B[43mresult\u001B[49m\u001B[43m,\u001B[49m\u001B[43m \u001B[49m\u001B[43mstream\u001B[49m\u001B[43m)\u001B[49m\n\u001B[1;32m    231\u001B[0m     \u001B[38;5;28;01mreturn\u001B[39;00m resp, got_stream, \u001B[38;5;28mself\u001B[39m\u001B[38;5;241m.\u001B[39mapi_key\n",
      "File \u001B[0;32m~/anaconda3/envs/pandas-ai/lib/python3.10/site-packages/openai/api_requestor.py:624\u001B[0m, in \u001B[0;36mAPIRequestor._interpret_response\u001B[0;34m(self, result, stream)\u001B[0m\n\u001B[1;32m    616\u001B[0m     \u001B[38;5;28;01mreturn\u001B[39;00m (\n\u001B[1;32m    617\u001B[0m         \u001B[38;5;28mself\u001B[39m\u001B[38;5;241m.\u001B[39m_interpret_response_line(\n\u001B[1;32m    618\u001B[0m             line, result\u001B[38;5;241m.\u001B[39mstatus_code, result\u001B[38;5;241m.\u001B[39mheaders, stream\u001B[38;5;241m=\u001B[39m\u001B[38;5;28;01mTrue\u001B[39;00m\n\u001B[1;32m    619\u001B[0m         )\n\u001B[1;32m    620\u001B[0m         \u001B[38;5;28;01mfor\u001B[39;00m line \u001B[38;5;129;01min\u001B[39;00m parse_stream(result\u001B[38;5;241m.\u001B[39miter_lines())\n\u001B[1;32m    621\u001B[0m     ), \u001B[38;5;28;01mTrue\u001B[39;00m\n\u001B[1;32m    622\u001B[0m \u001B[38;5;28;01melse\u001B[39;00m:\n\u001B[1;32m    623\u001B[0m     \u001B[38;5;28;01mreturn\u001B[39;00m (\n\u001B[0;32m--> 624\u001B[0m         \u001B[38;5;28;43mself\u001B[39;49m\u001B[38;5;241;43m.\u001B[39;49m\u001B[43m_interpret_response_line\u001B[49m\u001B[43m(\u001B[49m\n\u001B[1;32m    625\u001B[0m \u001B[43m            \u001B[49m\u001B[43mresult\u001B[49m\u001B[38;5;241;43m.\u001B[39;49m\u001B[43mcontent\u001B[49m\u001B[38;5;241;43m.\u001B[39;49m\u001B[43mdecode\u001B[49m\u001B[43m(\u001B[49m\u001B[38;5;124;43m\"\u001B[39;49m\u001B[38;5;124;43mutf-8\u001B[39;49m\u001B[38;5;124;43m\"\u001B[39;49m\u001B[43m)\u001B[49m\u001B[43m,\u001B[49m\n\u001B[1;32m    626\u001B[0m \u001B[43m            \u001B[49m\u001B[43mresult\u001B[49m\u001B[38;5;241;43m.\u001B[39;49m\u001B[43mstatus_code\u001B[49m\u001B[43m,\u001B[49m\n\u001B[1;32m    627\u001B[0m \u001B[43m            \u001B[49m\u001B[43mresult\u001B[49m\u001B[38;5;241;43m.\u001B[39;49m\u001B[43mheaders\u001B[49m\u001B[43m,\u001B[49m\n\u001B[1;32m    628\u001B[0m \u001B[43m            \u001B[49m\u001B[43mstream\u001B[49m\u001B[38;5;241;43m=\u001B[39;49m\u001B[38;5;28;43;01mFalse\u001B[39;49;00m\u001B[43m,\u001B[49m\n\u001B[1;32m    629\u001B[0m \u001B[43m        \u001B[49m\u001B[43m)\u001B[49m,\n\u001B[1;32m    630\u001B[0m         \u001B[38;5;28;01mFalse\u001B[39;00m,\n\u001B[1;32m    631\u001B[0m     )\n",
      "File \u001B[0;32m~/anaconda3/envs/pandas-ai/lib/python3.10/site-packages/openai/api_requestor.py:687\u001B[0m, in \u001B[0;36mAPIRequestor._interpret_response_line\u001B[0;34m(self, rbody, rcode, rheaders, stream)\u001B[0m\n\u001B[1;32m    685\u001B[0m stream_error \u001B[38;5;241m=\u001B[39m stream \u001B[38;5;129;01mand\u001B[39;00m \u001B[38;5;124m\"\u001B[39m\u001B[38;5;124merror\u001B[39m\u001B[38;5;124m\"\u001B[39m \u001B[38;5;129;01min\u001B[39;00m resp\u001B[38;5;241m.\u001B[39mdata\n\u001B[1;32m    686\u001B[0m \u001B[38;5;28;01mif\u001B[39;00m stream_error \u001B[38;5;129;01mor\u001B[39;00m \u001B[38;5;129;01mnot\u001B[39;00m \u001B[38;5;241m200\u001B[39m \u001B[38;5;241m<\u001B[39m\u001B[38;5;241m=\u001B[39m rcode \u001B[38;5;241m<\u001B[39m \u001B[38;5;241m300\u001B[39m:\n\u001B[0;32m--> 687\u001B[0m     \u001B[38;5;28;01mraise\u001B[39;00m \u001B[38;5;28mself\u001B[39m\u001B[38;5;241m.\u001B[39mhandle_error_response(\n\u001B[1;32m    688\u001B[0m         rbody, rcode, resp\u001B[38;5;241m.\u001B[39mdata, rheaders, stream_error\u001B[38;5;241m=\u001B[39mstream_error\n\u001B[1;32m    689\u001B[0m     )\n\u001B[1;32m    690\u001B[0m \u001B[38;5;28;01mreturn\u001B[39;00m resp\n",
      "\u001B[0;31mRateLimitError\u001B[0m: That model is currently overloaded with other requests. You can retry your request, or contact us through our help center at help.openai.com if the error persists. (Please include the request ID 2b179542716868297bc4c516c84c6c5b in your message.)"
     ]
    }
   ],
   "source": [
    "pandas_ai.run(df, 'buat histogram dari kolom \"Payment Currency\" dengan bins 10')"
   ]
  },
  {
   "cell_type": "code",
   "execution_count": 33,
   "id": "9fac4400",
   "metadata": {
    "ExecuteTime": {
     "end_time": "2023-05-23T10:00:55.850341Z",
     "start_time": "2023-05-23T10:00:55.016568Z"
    }
   },
   "outputs": [
    {
     "data": {
      "image/png": "iVBORw0KGgoAAAANSUhEUgAAAkAAAAHHCAYAAABXx+fLAAAAOXRFWHRTb2Z0d2FyZQBNYXRwbG90bGliIHZlcnNpb24zLjcuMSwgaHR0cHM6Ly9tYXRwbG90bGliLm9yZy/bCgiHAAAACXBIWXMAAA9hAAAPYQGoP6dpAAB0dUlEQVR4nO3dd1gU1/s28Ht3qdKl2IOKUgQRLEGxoAZjwRJrTGI39hi7okRjB3tBEzuKNSolFtRYYgdL7H7tDbCBgCJFKTvvH7w7P1dAAcEF5/5cl1eys2fOeXZmmH32nDMzMkEQBBARERFJiFzTARARERF9bkyAiIiISHKYABEREZHkMAEiIiIiyWECRERERJLDBIiIiIgkhwkQERERSQ4TICIiIpIcJkBEREQkOUyAiHLRvHlzeHt7azqML96aNWvwzTffwMHBAR06dNB0OEQkEUyASBKCg4NhZ2eHq1ev5vh+z5490bZt209u59ixY/D39//keqTi5MmTmDdvHmrXrg1fX1+MHj0617Le3t6ws7MT/9WuXRvt27fHunXrkJaW9hmj1qy7d+/C398f0dHR+Vrvxo0bGDt2LDw8PODk5ISvv/4affr0QVBQEDIzM4soWqLiS0vTARAVV/v374dMJsvXOseOHcPmzZsxfPjwIorqyxIREQG5XI5Zs2ZBR0fno+V1dHQwc+ZMAMDr169x4MABzJkzB1evXsWiRYuKOtxi4e7du1i2bBm+/vprVKxYMU/r7NixA7///jvMzc3RoUMHWFtbIzk5GREREfDx8UFsbCwGDx5cxJETFS9MgIhykZcv5OImJSUFpUqV0nQYeRYXFwc9Pb08b2stLS21YbIff/wRXbt2RVhYGLy9vVGmTJmiCrXEunTpEn7//Xe4uLhg1apVMDQ0FN/r06cPrl69ijt37hRKW7kdf0qlEunp6dDV1S2UdogKA4fAiHLx/hyg9PR0LFu2DN9++y1q1qwJNzc3/PDDDzh16hSArCGazZs3A4DaUI1KSkoK/Pz8xCGIli1bYu3atRAEQa3dN2/eYObMmXBzc4OrqysGDx6M58+fw87OTm14zd/fH3Z2drh79y7GjBmDevXq4ccffwQA3Lx5E97e3vjmm29Qs2ZNNGzYEBMnTkRCQoJaW6o6Hjx4gLFjx6JOnTqoX78+Fi9eDEEQ8PTpUwwZMgS1a9dGw4YNsW7dujxtu4yMDCxfvhyenp5wcnJC8+bNsXDhQrWhKjs7OwQHByMlJUXcVsHBwXmqX0Uul+Prr78GADx+/BgvX77EnDlz0K5dO7i6uqJ27dr4+eefcfPmTXGd5ORkuLi4iD1J73r27BkcHBywcuVKAP83dHr+/HnMnDkT9evXR926dTFlyhSkpaUhMTER48ePR7169VCvXj3MnTs32/5UKpVYv349vLy8ULNmTbi7u2PKlCl49eqVWrnmzZtj0KBBOH/+PLp06YKaNWvim2++QWhoqFgmODgYI0aMAAD06tVL3G5nzpzJdRstW7YMMpkM8+fPV0t+VGrWrIlOnToBAM6cOZNjfdHR0dn2j7e3N1xdXREZGYkBAwbA1dUVY8eOBZC1b6dPn45du3aJn/vEiRMAgOfPn2PixIlwd3eHk5MTvLy8sHPnTrX2VHGEhYXhzz//RJMmTVCzZk307t0bjx49yvYZLl++jAEDBqBevXpwcXFBu3btsGHDBgBAUFAQ7Ozs8L///S/beitWrICDgwOeP3+e6/ajLxd7gEhSkpKSEB8fn215enr6R9ddtmwZVq5cia5du8LZ2RlJSUm4du0arl+/joYNG+L7779HTEwMTp06hblz56qtKwgChgwZgjNnzqBLly5wcHDAiRMnMHfuXDx//hyTJk0Sy3p7e2Pfvn3o0KEDatWqhXPnzmHgwIG5xjVixAhYW1tj1KhR4pfv6dOnERUVhU6dOsHS0hJ37tzB9u3bcffuXWzfvj3b0N6oUaNgY2ODMWPG4NixY/jzzz9hamqKbdu2oX79+hg7dix2796NOXPmoGbNmqhXr94Ht9Vvv/2GkJAQtGzZEn379sWVK1ewcuVK3Lt3D8uXLwcAzJ07F9u3b8eVK1fEZKR27dof3Q/vi4qKAgCYmpoiKioKhw4dQqtWrVCxYkW8ePECf/31F3r06IG9e/eiTJkyMDAwgKenJ/bt24eJEydCoVCIde3ZsweCIKBdu3ZqbcycORMWFhYYPnw4Ll++jL/++gtGRka4ePEiypUrh1GjRuH48eNYu3YtbG1t8d1334nrTpkyBSEhIejUqRN69uyJ6OhobN68Gf/73/+wdetWaGtri2UfPXqEESNGoEuXLujYsSOCgoLg7e0NR0dHVK9eHfXq1UPPnj2xceNGDB48GFWrVgUA2NjY5LhtUlNTERERgbp166J8+fL53rYfk5GRgf79+6NOnTqYMGEC9PT0xPciIiKwb98+/PTTTzAzM0OFChXw4sULdOvWDTKZDD/99BNKly6N48ePw8fHB0lJSejTp49a/atXr4ZMJkO/fv2QlJSENWvWYOzYsdixY4dY5tSpUxg0aBCsrKzQq1cvWFhY4N69ezh69Ch69+6Nli1bYvr06di9ezdq1KihVv/u3bvx9ddfs+dQqgQiCQgKChJsbW0/+M/Ly0ttnWbNmgkTJkwQX7dv314YOHDgB9uZNm2aYGtrm235wYMHBVtbW+GPP/5QWz58+HDBzs5OePTokSAIgnDt2jXB1tZWmDVrllo5b29vwdbWVli6dKm4bOnSpYKtra0wevTobO2lpqZmW7Znzx7B1tZWOHfuXLY6Jk+eLC7LyMgQmjRpItjZ2QkrV64Ul7969UpwdnZW2yY5uXHjhmBrayv4+PioLffz8xNsbW2F8PBwcdmECRMEFxeXD9b3ftm4uDghLi5OePTokbBixQrBzs5OaNeunSAIgvD27VshMzNTbb2oqCjByclJWLZsmbjsxIkTgq2trXDs2DG1su3atRN69OghvlYdN/369ROUSqW4/Pvvvxfs7OyEKVOmiMtU2+3d9c+dOyfY2toKu3btUmvn+PHj2ZY3a9Ys2/6Ji4sTnJycBD8/P3HZvn37BFtbWyEiIuKj20y1L2bOnPnRsoIgCBERETnWHRUVJdja2gpBQUHisgkTJgi2trbC/Pnzs9Vja2sr2NvbC3fu3FFbPmnSJKFhw4ZCfHy82vJRo0YJderUEY9bVRytW7cW3r59K5bbsGGDYGtrK9y6dUsQhKxt3rx5c6FZs2bCq1ev1Op8d3+NHj1aaNSokdqxcf369WyfiaSFQ2AkKVOmTEFAQEC2f+8OVeXG2NgYd+7cwcOHD/Pd7vHjx6FQKNCzZ0+15f369YMgCDh+/DgAiMMEqqEslR49euRad/fu3bMte/eX+Nu3bxEfH49atWoBAK5fv56tfJcuXcT/VygUcHJygiAIasuNjY1RpUoVscclN8eOHQMA9O3bV215v3791N4viJSUFDRo0AANGjRAixYtsHDhQri4uIi9Sjo6OpDLs05rmZmZSEhIQKlSpVClShW1IRB3d3dYWVlh9+7d4rLbt2/j1q1baN++fbZ2u3TpotZr5uzsnG37qLbbu9tn//79MDIyQsOGDREfHy/+c3R0RKlSpbINNVWrVg1169YVX5cuXTpP2zw3SUlJAAADA4MCrZ8XP/zwQ47L69Wrh2rVqomvBUHAP//8g+bNm0MQBLXt0ahRI7x+/TrbsdmpUye1+WGqbaPaHv/73/8QHR2NXr16wdjYWG3dd/dXhw4dEBMTo7a9d+/eDT09PXz77bcF/ORU0nEI7CPOnTuHtWvX4tq1a4iNjRXnNeSHIAhYt24dtm/fjsePH8PMzAw//vgjhgwZUkRRU26cnZ1Rs2bNbMtNTEyyzY9536+//oqhQ4eiZcuWsLW1RaNGjdChQwfY29t/tN3Hjx/Dysoq2xwM1dDF48ePAQBPnjyBXC7PdnWPtbV1rnXndCXQy5cvsWzZMoSFhSEuLk7tvdevX2cr//7wiJGREXR1dVG6dOlsy1++fJlrLKrPIpfL8dVXX6ktt7S0hLGxsfhZC0JXVxcrVqwAkJXsVKxYEWXLlhXfVyqVCAwMxJYtWxAdHa12ebepqan4/3K5HO3atcPWrVuRmpoKfX197N69G7q6umjVqlW2dnPaPgBQrly5bMvfndvz6NEjvH79Gg0aNMjx87y/b96vD8g6Nt+fL5RXquMtOTm5QOt/jJaWltr2f9f7x2V8fDwSExPx119/4a+//spxnfeHp9/f7qokJzExEcD/JUK2trYfjLNhw4awtLTErl270KBBAyiVSuzZswfffPNNjvOiSBqYAH2EaoJm586d8csvvxSojlmzZuHkyZMYP348bG1t8erVqwKf0Ehz6tWrh4MHD+Lw4cM4deoUdu7ciQ0bNmDatGno2rWrxuLK6cqakSNH4uLFi+jfvz8cHBxQqlQpKJVK/Pzzz9km6QIQe03e9e7cmHfltH5O8nsLgbxQKBRwd3fP9f0VK1ZgyZIl6Ny5M0aMGAETExPI5XLMnj07W9zfffcd1q5di0OHDqFt27bYs2cPmjZtKiY378pp+3xouYpSqYS5uTnmz5+f4/vvJ5i5bfOCsra2hpaWFm7fvp2n8rntM6VSmePyd3vc3vduL+S7dbRv3x4dO3bMcZ33e2Jzqzuvx6CKQqFAu3btsH37dkydOhUXLlxATExMjr19JB1MgD7Cw8MDHh4eub6flpaGRYsWYc+ePXj9+jWqV6+OsWPHws3NDQBw7949bN26Fbt37xYnLFaqVOmzxE6Fz9TUFJ07d0bnzp2RnJyMHj16wN/fX0yAcvsCqVChAsLDw5GUlKT2i/P+/fvi+0DWL16lUono6GhUrlxZLJfTlS+5efXqFcLDwzF8+HC1pL0gQ3cFUaFCBSiVSjx69Ehtcu6LFy+QmJgoftaicODAAbi5uWH27NlqyxMTE2FmZqa2zNbWFjVq1MDu3btRtmxZPHnyBL/99luhxvPVV18hPDwctWvXzpYQFFR+Ekt9fX3Ur18fERERePr0aY49TO9S9bC830v4Kb12KqVLl4aBgQGUSuUHk9j8UJ1Lb9++/dE6O3TogHXr1uHIkSM4fvw4SpcujUaNGhVKHFQycQ7QJ5o+fTouXryIRYsWYdeuXWjVqhV+/vln8cvmyJEjqFixIo4ePYrmzZujefPm8PHx+egwAhU/7w+RGRgY4KuvvlK7tFtfXx/A/3XRqzRp0gSZmZniZfIq69evh0wmQ5MmTQBAPCFv2bJFrdymTZvyHGduvQiqy4KLmuoHw/vtBQQEqL1fFBQKRbbegX379uV6mXOHDh1w6tQpbNiwAaampuJ+KCytW7dGZmYm/vjjj2zvZWRkZDtO8kJ1jOU0lJmTYcOGQRAEjB8/PsehsGvXriEkJARAVvKqUChw7tw5tTJbt27Nd5zvUygUaNmyJQ4cOJBjj1ROV2d+jKOjIypWrIjAwMBs2/L948De3h52dnbYuXMn/vnnH3h5eUFLi30AUsa9/wmePHmC4OBg/Pvvv+JllP3798eJEycQHByM0aNHIyoqCk+ePMH+/fsxd+5cZGZmwtfXF7/++isCAwM1/AkoP7y8vPD111/D0dERpqamuHr1Kg4cOKA2QdnR0RFA1mXTjRo1gkKhgJeXF5o3bw43NzcsWrQIjx8/hp2dHU6dOoXDhw+jd+/e4nwZ1f2BNmzYgJcvX4qXwasS6rz8+jc0NES9evWwZs0apKeno0yZMjh16lS+H51QUPb29ujYsSP++usvJCYmol69erh69SpCQkLg6emJ+vXrF1nbTZs2xfLlyzFx4kS4urri9u3b2L17d669rm3btsW8efNw8OBB/PDDD2qXpBeGr7/+Gt9//z1WrlyJGzduoGHDhtDW1sbDhw+xf/9++Pj45Djn6EMcHBygUCiwevVqvH79Gjo6Oqhfvz7Mzc1zLF+7dm1MmTIF06ZNQ+vWrdXuBH327FkcOXIEI0eOBJA1h6lVq1bYtGkTZDIZKlWqhKNHj2abq1RQY8aMwZkzZ9CtWzd07doV1apVw6tXr3D9+nWEh4fj7Nmz+apPLpdj6tSpGDJkCL777jvxtg/379/H3bt3sXbtWrXy3333HebMmQMAHP4iJkCf4vbt28jMzMx2AktLSxMnXAqCgLS0NMyZMwdVqlQBkDUnqFOnTrh//744LEbFX8+ePXHkyBGcOnUKaWlpKF++PEaOHIn+/fuLZb799lv07NkTe/fuxa5duyAIAry8vCCXy/Hnn39i6dKlCAsLQ3BwMCpUqIDx48eLV0epzJkzBxYWFti7dy8OHjwId3d3LFq0CK1atcrzHZMXLFiAGTNmYMuWLRAEAQ0bNsTq1avRuHHjQt0muZk5cyYqVqyIkJAQHDp0CBYWFhg0aFCB59Hl1eDBg5Gamordu3cjLCwMNWrUwMqVK7FgwYIcy1tYWKBhw4Y4duxYkT2Idfr06XBycsK2bduwaNEiKBQKVKhQAe3bty/QfY8sLS0xbdo0rFy5Ej4+PsjMzERgYGCuCRCQdaVgzZo1sW7dOoSGhopXx9WoUQO+vr5qycBvv/2GjIwMbNu2DTo6OmjVqhXGjx9fKM/Ks7CwwI4dO7B8+XIcPHgQW7duhampKapVqybeRDG/GjdujA0bNmD58uVYt24dBEFApUqV0K1bt2xl27Vrh/nz56NSpUpwdnb+1I9DJZxMyO9sMgmzs7NTuwosLCwMY8eOxZ49e7INO5QqVQqWlpZYunQpVq5cqXZ555s3b1CrVi2sW7cODRs2/KyfgUqmGzdu4LvvvsO8efP4y7WQDRs2DLdv38bBgwc1HQoVsfj4eDRu3BhDhw7FsGHDNB0OaRh7gD6Bg4MDMjMzER8fr3bvjnfVrl0bGRkZiIyMFIc5VMMZRXFnVir53rx5k23C7IYNGyCXyz96B2bKn5iYGBw7dowPApWIkJAQZGZmFllvH5UsTIA+Ijk5GZGRkeLr6Oho3LhxAyYmJqhSpQratWuH8ePHw9vbGw4ODkhISEB4eDjs7OzQtGlTuLu7w9HREZMmTcKkSZOgVCoxffp0NGzYUBwSI3rXmjVrcO3aNdSvXx8KhQLHjx/H8ePH8f3333/0Kh7Km6ioKFy4cAE7d+6ElpYWvv/+e02HREUoPDwc9+7dw4oVK+Dp6ZnjvbNIejgE9hFnzpxBr169si3v2LEj/Pz8kJ6ejj///BOhoaGIiYmBqakpXFxcMHz4cPGeFs+fP8fMmTNx8uRJlCpVCk2aNMGECRPUbsxGpHLq1CksW7YM9+7dQ0pKCsqVK4cOHTpg8ODBvGqlkAQHB2PixIkoX748JkyYkO+JyFSy9OzZExcvXoSrqyvmz5/PZ38RACZAREREJEG8DxARERFJDhMgIiIikhwmQERERCQ5TICIiIhIcnhJyQfExb1GYU8Rl8kAc3OjIqmb7bP9khAD25d2+8UhBrb/5bavqjsvmAB9gCCgyA6Ooqyb7bP9khAD25d2+8UhBrYv7fY5BEZERESSwwSIiIiIJIcJEBEREUkOEyAiIiKSHCZAREREJDlMgIiIiEhymAARERGR5DABIiIiIslhAkRERESSwwSIiIiIJIcJEBEREUkOEyAiIiKSHCZAREREJDlMgIiIiEhytDQdgFQpFJrNPfPbvlIpQKkUiigaIiKiz4sJ0Gcml8uQqRRgZmag0Tjy235GphKvXqYwCSIioi8CE6DPTCaTQSGXYcS2i7gbk6TpcPKkmpUhlnR3hVwuYwJERERfBCZAGnI3JgnXnyRqOgwiIiJJ0uhElJUrV6Jz585wdXVFgwYNMHToUNy/f/+j6+3btw+tWrVCzZo10a5dOxw7dkztfUEQsGTJEjRq1AjOzs7o06cPHj58WESfgoiIiEoajSZAZ8+exU8//YTt27cjICAAGRkZ6N+/P1JSUnJd58KFCxgzZgy6dOmC0NBQfPPNNxg2bBhu374tllm9ejU2btyIqVOnYvv27dDX10f//v3x9u3bz/GxiIiIqJjTaAK0du1adOrUCdWrV4e9vT38/Pzw5MkTXL9+Pdd1AgMD0bhxY/z888+wsbHByJEjUaNGDWzatAlAVu9PYGAghgwZAk9PT9jb22Pu3LmIiYnBoUOHPtdHIyIiomKsWM0Bev36NQDAxMQk1zKXLl1Cnz591JY1atRITG6io6MRGxsLd3d38X0jIyPUqlULFy9ehJeXV57jkcnyEbwG6/ycPjV+1fqa2g5Sb784xMD2pd1+cYiB7X+57eenzmKTACmVSsyePRu1a9eGra1truVevHgBCwsLtWXm5uZ48eIFACA2NlZclluZvDI3N8pX+S9dYV66r+ltK/X2i0MMbF/a7ReHGNi+tNsvNgnQtGnTcOfOHWzZskXToYji4l5DKOSrvrW05DA11ew9gAoqISEZmZnKT6pDJss66Iti27L9khED25d2+8UhBrb/5bavqjsvikUCNH36dBw9ehSbNm1C2bJlP1jWwsIiW09OXFyc2CtkaWkpLrOyslIrY29vn6+4BAGFvnM0dcIpLIUVf1FsW7ZfsmJg+9JuvzjEwPal3b5GJ0ELgoDp06fj4MGD2LBhAypVqvTRdVxcXBAREaG27PTp03BxcQEAVKxYEZaWlggPDxffT0pKwuXLl+Hq6lqo8RMREVHJpNEEaNq0adi1axcWLFgAAwMDxMbGIjY2Fm/evBHLjB8/HgsWLBBf9+rVCydOnMC6detw7949+Pv749q1a+jRoweArDst9+rVC3/++ScOHz6MW7duYfz48bCysoKnp+dn/4xERERU/Gh0CGzr1q0AgJ49e6ot9/X1RadOnQAAT58+hVz+f3la7dq1MX/+fCxevBgLFy5E5cqVsXz5crWJ0wMGDEBqaiqmTJmCxMRE1KlTB2vWrIGuru5n+FRERERU3Gk0Abp169ZHy2zcuDHbstatW6N169a5riOTyTBixAiMGDHik+IjIiKiL5NGh8CIiIiINIEJEBEREUkOEyAiIiKSHCZAREREJDlMgIiIiEhymAARERGR5DABIiIiIslhAkRERESSwwSIiIiIJIcJEBEREUkOEyAiIiKSHCZAREREJDlMgIiIiEhymAARERGR5DABIiIiIslhAkRERESSwwSIiIiIJIcJEBEREUkOEyAiIiKSHCZAREREJDlMgIiIiEhymAARERGR5DABIiIiIslhAkRERESSwwSIiIiIJIcJEBEREUkOEyAiIiKSHCZAREREJDlMgIiIiEhymAARERGR5DABIiIiIslhAkRERESSo6XJxs+dO4e1a9fi2rVriI2NxfLly+Hp6ZlreW9vb4SEhGRbXq1aNezduxcA4O/vj2XLlqm9X6VKFezfv79wgyciIqISS6MJUEpKCuzs7NC5c2f88ssvHy3v4+ODMWPGiK8zMzPRoUMHtGrVSq1c9erVERAQIL5WKBSFFzQRERGVeBpNgDw8PODh4ZHn8kZGRjAyMhJfHzp0CK9evUKnTp3UyikUClhaWhZanERERPRl0WgC9Kl27twJd3d3VKhQQW35o0eP0KhRI+jq6sLFxQVjxoxB+fLl812/TFZYkRZtnZ/Tp8avWl9T20Hq7ReHGNi+tNsvDjGw/S+3/fzUWWIToOfPn+P48eOYP3++2nJnZ2f4+vqiSpUq4ryin376Cbt374ahoWG+2jA3N/p4IQkxMzMotLo0vW2l3n5xiIHtS7v94hAD25d2+yU2AQoNDYWRkVG2SdPvDqnZ29ujVq1aaNasGfbt24euXbvmq424uNcQhEIJV6SlJYepaeElEp9TQkIyMjOVn1SHTJZ10BfFtmX7JSMGti/t9otDDGz/y21fVXdelMgESBAEBAUFoUOHDtDR0flgWWNjY1SuXBmRkZEFaAeFvnM0dcIpLIUVf1FsW7ZfsmJg+9JuvzjEwPal3X6JvA/Q2bNn8ejRI3Tp0uWjZZOTkxEVFcVJ0URERCTSaA9QcnKyWs9MdHQ0bty4ARMTE5QvXx4LFizA8+fPMXfuXLX1du7ciVq1asHW1jZbnXPmzEGzZs1Qvnx5xMTEwN/fH3K5HG3bti3yz0NEREQlg0YToGvXrqFXr17ia19fXwBAx44d4efnh9jYWDx9+lRtndevX+Off/6Bj49PjnU+e/YMo0ePxsuXL1G6dGnUqVMH27dvR+nSpYvugxAREVGJotEEyM3NDbdu3cr1fT8/v2zLjIyMcPny5VzXWbRoUaHERkRERF+uEjkHiIiIiOhTMAEiIiIiyWECRERERJLDBIiIiIgkhwkQERERSQ4TICIiIpIcJkBEREQkOUyAiIiISHKYABEREZHkMAEiIiIiyWECRERERJLDBIiIiIgkhwkQERERSQ4TICIiIpIcJkBEREQkOUyAiIiISHKYABEREZHkMAEiIiIiyWECRERERJLDBIiIiIgkhwkQERERSQ4TICIiIpIcJkBEREQkOUyAiIiISHKYABEREZHkMAEiIiIiyWECRERERJLDBIiIiIgkhwkQERERSQ4TICIiIpIcJkBEREQkOUyAiIiISHI0mgCdO3cOgwcPRqNGjWBnZ4dDhw59sPyZM2dgZ2eX7V9sbKxauc2bN6N58+aoWbMmunbtiitXrhTlxyAiIqISRqMJUEpKCuzs7PD777/na739+/fj5MmT4j9zc3PxvbCwMPj6+mLYsGEICQmBvb09+vfvj7i4uMIOn4iIiEooLU027uHhAQ8Pj3yvZ25uDmNj4xzfCwgIQLdu3dC5c2cAwLRp03D06FEEBQVh4MCBnxQvERERfRk0mgAV1HfffYe0tDRUr14dv/zyC+rUqQMASEtLw/Xr1zFo0CCxrFwuh7u7Oy5evJjvdmSyQgu5SOv8nD41ftX6mtoOUm+/OMTA9qXdfnGIge1/ue3np84SlQBZWlpi2rRpcHJyQlpaGnbs2IFevXph+/btcHR0REJCAjIzM9WGxICsHqP79+/nuz1zc6PCCv2LYGZmUGh1aXrbSr394hAD25d2+8UhBrYv7fZLVAJUtWpVVK1aVXxdu3ZtREVFYf369Zg3b16htxcX9xqCULh1amnJYWpaeInE55SQkIzMTOUn1SGTZR30RbFt2X7JiIHtS7v94hAD2/9y21fVnRclKgHKSc2aNXHhwgUAgJmZGRQKRbYJz3FxcbCwsMh33YKAQt85mjrhFJbCir8oti3bL1kxsH1pt18cYmD70m6/xN8H6ObNm7C0tAQA6OjowNHREeHh4eL7SqUS4eHhcHV11VSIREREVMxotAcoOTkZkZGR4uvo6GjcuHEDJiYmKF++PBYsWIDnz59j7ty5AID169ejYsWKqF69Ot6+fYsdO3YgIiIC69atE+vo27cvJkyYACcnJzg7O2PDhg1ITU1Fp06dPvvnIyIiouJJownQtWvX0KtXL/G1r68vAKBjx47w8/NDbGwsnj59Kr6fnp6OOXPm4Pnz59DX14etrS0CAgJQv359sUybNm0QHx+PpUuXIjY2Fg4ODlizZk2BhsCIiIjoy6TRBMjNzQ23bt3K9X0/Pz+11wMGDMCAAQM+Wm+PHj3Qo0ePT46PiIiIvkwlfg4QERERUX4xASIiIiLJYQJEREREksMEiIiIiCSHCRARERFJDhMgIiIikhwmQERERCQ5TICIiIhIcpgAERERkeQwASIiIiLJYQJEREREksMEiIiIiCSHCRARERFJDhMgIiIikhwmQERERCQ5TICIiIhIcpgAERERkeQwASIiIiLJYQJEREREksMEiIiIiCSHCRARERFJDhMgIiIikhwmQERERCQ5TICIiIhIcpgAERERkeQwASIiIiLJYQJEREREksMEiIiIiCSHCRARERFJDhMgIiIikhwmQERERCQ5TICIiIhIcjSaAJ07dw6DBw9Go0aNYGdnh0OHDn2w/D///IO+ffuifv36qF27Nr7//nucOHFCrYy/vz/s7OzU/rVq1aooPwYRERGVMFqabDwlJQV2dnbo3Lkzfvnll4+WP3fuHNzd3TFq1CgYGxsjODgYQ4YMwfbt21GjRg2xXPXq1REQECC+VigURRI/ERERlUwFSoCioqJQqVKlT27cw8MDHh4eeS7v4+Oj9nr06NE4fPgwjhw5opYAKRQKWFpafnJ8RERE9GUqUALUokUL1KtXD126dEGrVq2gq6tb2HHliVKpRHJyMkxNTdWWP3r0CI0aNYKuri5cXFwwZswYlC9fPt/1y2SFFGgR1/k5fWr8qvU1tR2k3n5xiIHtS7v94hAD2/9y289PnTJBEIT8NnDjxg0EBQVh7969SE9PR5s2bdClSxc4OzvntyqRnZ0dli9fDk9Pzzyvs3r1aqxevRr79u2Dubk5AODYsWNISUlBlSpVEBsbi+XLl+P58+fYvXs3DA0NCxxfYfNaegLXnyRqOow8cSxvjL2/NtZ0GERERIWmQD1ADg4O+O233+Dt7Y0jR44gODgYP/74IypXrozOnTujQ4cOKF26dGHHqmb37t1Yvnw5/vjjDzH5AaA2pGZvb49atWqhWbNm2LdvH7p27ZqvNuLiXiP/6eGHaWnJYWpqULiVfiYJCcnIzFR+Uh0yGWBublQk25btl4wY2L602y8OMbD9L7d9Vd158UmToLW0tPDtt9+iadOm2LJlCxYsWIA5c+Zg4cKFaN26NcaOHQsrK6tPaSJHe/fuxW+//YYlS5bA3d39g2WNjY1RuXJlREZG5rsdQUCh7xxNnXAKS2HFXxTblu2XrBjYvrTbLw4xsH1pt/9JCdDVq1cRFBSEsLAw6Ovro1+/fujSpQueP3+OZcuWYejQodi5c2dhxQoA2LNnDyZNmoSFCxeiadOmHy2fnJyMqKgoToomIiIiUYESoICAAAQHB+PBgwdo0qQJ5syZAw8PD8jlWbcVqlSpEvz8/NC8efMP1pOcnKzWMxMdHY0bN27AxMQE5cuXx4IFC/D8+XPMnTsXQNawl7e3NyZNmoRatWohNjYWAKCnpwcjo6wurzlz5qBZs2YoX748YmJi4O/vD7lcjrZt2xbkoxIREdEXqEAJ0NatW9G5c2d07Ngx1yGu0qVLY9asWR+s59q1a+jVq5f42tfXFwDQsWNH+Pn5ITY2Fk+fPhXf3759OzIyMjB9+nRMnz5dXK4qDwDPnj3D6NGj8fLlS5QuXRp16tTB9u3bi3xOEhEREZUcBUqA/vnnn4+W0dHRQceOHT9Yxs3NDbdu3cr1fVVSo7Jx48aPtrto0aKPliEiIiJpK9CjMIKCgrBv375sy/ft24eQkJBPDoqIiIioKBUoAVq1ahXMzMyyLTc3N8eKFSs+OSgiIiKiolSgBOjJkyeoWLFituXly5dXm7NDREREVBwVKAEyNzfPce7OzZs3sz2WgoiIiKi4KdAkaC8vL8yaNQsGBgaoV68eAODs2bOYPXs2vLy8CjVAIiIiosJWoARoxIgRePz4Mfr06QMtrawqlEolOnTogFGjRhVqgERERESFrUAJkI6ODhYvXowHDx7g5s2b0NPTg62tLSpUqFDY8VExolAUaMS0yOvKjVIpQKks4c8eISKiIvFJj8KoUqUKqlSpUlixUDFlaaiLTKUAY2P9QqvTzKzoHwibkanEq5cpTIKIiCibAiVAmZmZCA4ORkREBOLi4qBUqj8hPDAwsFCCo+LBWF8LCrkMI7ZdxN2YJE2HkyfVrAyxpLsr5HIZEyAiIsqmQAnQrFmzEBISAg8PD1SvXh0ymayw46Ji6G5MEq4/SdR0GERERJ+sQAnQ3r17sXjxYnh4eBR2PERERERFrkAzUbW1tfHVV18VdixEREREn0WBEqB+/fohMDAQgsC5FURERFTyFGgI7L///sOZM2dw/PhxVK9eXbwXkMqyZcsKJTgiIiKiolCgBMjY2BgtWrQo7FiIiIiIPosCJUC+vr6FHQcRERHRZ1Pg2/FmZGTg9OnT2LZtG5KSsu4N8/z5cyQnJxdacERERERFoUA9QI8fP8bPP/+Mp0+fIi0tDQ0bNoShoSFWr16NtLQ0TJ8+vbDjJCIiIio0BeoBmjVrFpycnHD27Fno6uqKy1u0aIGIiIhCC46IiIioKBT4KrCtW7dCR0dHbXmFChXw/PnzQgmMiIiIqKgUqAdIqVRme/4XADx79gwGBkX/kEsiIiKiT1GgBKhhw4bYsGGD2rLk5GT4+/vz8RhERERU7BUoAfL29saFCxfQpk0bpKWlYezYsWjevDmeP3+OsWPHFnaMRERERIWqQHOAypYti7///ht79+7FrVu3kJKSgi5duqBdu3bQ09Mr7BiJiIiIClWBEiAA0NLSQocOHQozFiIiIqLPokAJUGho6Aff/+677wpSLREREdFnUaAEaNasWWqvMzIykJqaCm1tbejr6zMBIiIiomKtQAnQuXPnsi17+PAhpk6div79+39yUERERERFqcDPAntf5cqVMWbMmGy9Q0RERETFTaElQEDWxOiYmJjCrJKIiIio0BVoCOzw4cNqrwVBQGxsLDZv3ozatWsXSmBERERERaVACdCwYcPUXstkMpQuXRr169fHhAkTCiUwIiIioqJSoATo5s2bhdL4uXPnsHbtWly7dg2xsbFYvnw5PD09P7jOmTNn4Ofnhzt37qBcuXIYMmQIOnXqpFZm8+bNWLt2LWJjY2Fvb4/JkyfD2dm5UGImIiKikq9Q5wDlV0pKCuzs7PD777/nqXxUVBQGDRoENzc3/P333+jduzd+++03nDhxQiwTFhYGX19fDBs2DCEhIbC3t0f//v0RFxdXVB+DiIiISpgC9QD5+vrmuezEiRNzfc/DwyNfD0/dtm0bKlasCG9vbwCAjY0N/vvvP6xfvx6NGzcGAAQEBKBbt27o3LkzAGDatGk4evQogoKCMHDgwDy3RURERF+uAiVA//vf/3Djxg1kZGSgSpUqALLuAySXy1GjRg2xnEwmK5wo/79Lly6hQYMGassaNWqE2bNnAwDS0tJw/fp1DBo0SHxfLpfD3d0dFy9ezHd7hRx+kdVJH/buNlf9v6b2g6bbLw4xsH1pt18cYmD7X277+amzQAlQ8+bNYWBggDlz5sDExAQA8OrVK0ycOBF169ZFv379ClLtR7148QIWFhZqyywsLJCUlIQ3b97g1atXyMzMhLm5uVoZc3Nz3L9/P9/tmZsbfVK8pHlmZgY5Ltf0vtV0+8UhBrYv7faLQwxsX9rtFygBWrduHdatWycmPwBgYmKCkSNHol+/fkWWAH1ucXGvIQiFW6eWlhympjl/KVPhS0hIRmamUnwtk2X90RXFvs0LTbdfHGJg+9JuvzjEwPa/3PZVdedFgRKgpKQkxMfHZ1seHx+P5OTkglSZJxYWFnjx4oXashcvXsDQ0BB6enqQy+VQKBTZJjzHxcVl6znKC0FAoe8cTZ1wpCynbV4U+zY/NN1+cYiB7Uu7/eIQA9uXdvsFugqsRYsWmDhxIv755x88e/YMz549w4EDB+Dj44Nvv/22sGMUubi4ICIiQm3Z6dOn4eLiAgDQ0dGBo6MjwsPDxfeVSiXCw8Ph6upaZHERERFRyVKgHqBp06Zhzpw5GDNmDDIyMgAACoUCXbp0wfjx4/NcT3JyMiIjI8XX0dHRuHHjBkxMTFC+fHksWLAAz58/x9y5cwEA3bt3x+bNmzF37lx07twZERER2LdvH1auXCnW0bdvX0yYMAFOTk5wdnbGhg0bkJqamu1eQURERCRdBUqA9PX1MXXqVIwfP15MYL766iuUKlUqX/Vcu3YNvXr1El+rLq/v2LEj/Pz8EBsbi6dPn4rvV6pUCStXroSvry8CAwNRtmxZzJw5U7wEHgDatGmD+Ph4LF26FLGxsXBwcMCaNWsKNARGREREX6YCJUAqsbGxiI2NRb169aCnpwdBEPJ16bubmxtu3bqV6/t+fn45rhMaGvrBenv06IEePXrkOQ4iIiKSlgIlQAkJCRg5ciTOnDkDmUyGf/75B5UqVcKkSZNgYmIi3qiQiIiIqDgq0CRoX19faGlp4ejRo9DT0xOXt2nTRu2xFERERETFUYF6gE6dOoW1a9eibNmyassrV66MJ0+eFEpgREREREWlQD1AKSkpaj0/Ki9fvoSOjs4nB0VERERUlAqUANWtWzfbRGSlUok1a9bAzc2tMOIiIiIiKjIFGgIbN24c+vTpg2vXriE9PR3z5s3D3bt38erVK2zdurWwYyQiIiIqVAVKgGxtbXHgwAFs2rQJBgYGSElJQYsWLfDTTz/BysqqsGMkIiIiKlT5ToDS09Px888/Y9q0aRgyZEhRxERERERUpPI9B0hbW/uDNy8kIiIiKu4KNAm6ffv22LlzZ2HHQkRERPRZFGgOUGZmJrZu3YrTp0/DyckJ+vr6au9PnDixUIIjIiIiKgr5SoCioqJQoUIF3L59GzVq1AAAPHjwQK1Mfp4FRkRERKQJ+UqAvv32W5w8eRIbN24EAIwcORK//fYbn7ROREREJUq+5gAJgqD2+vjx40hNTS3UgIiIiIiKWoEmQau8nxARERERlQT5SoBkMhnn+BAREVGJl685QIIgwNvbW3zgaVpaGqZOnZrtKrBly5YVXoREREREhSxfCVDHjh3VXrdv375QgyEiIiL6HPKVAPn6+hZVHERERESfzSdNgiYiIiIqiZgAERERkeQwASIiIiLJYQJEREREksMEiIiIiCSHCRARERFJDhMgIiIikhwmQERERCQ5TICIiIhIcpgAERERkeQwASIiIiLJYQJEREREksMEiIiIiCQnX0+DLyqbN2/G2rVrERsbC3t7e0yePBnOzs45lu3ZsyfOnj2bbbmHhwdWrVoFAPD29kZISIja+40aNcLatWsLP3giIiIqcTSeAIWFhcHX1xfTpk1DrVq1sGHDBvTv3x/79++Hubl5tvL+/v5IT08XX798+RIdOnRAq1at1Mo1btwYvr6+4msdHZ2i+xBERERUomh8CCwgIADdunVD586dUa1aNUybNg16enoICgrKsbypqSksLS3Ff6dOnYKenl62BEhHR0etnImJyef4OERERFQCaLQHKC0tDdevX8egQYPEZXK5HO7u7rh48WKe6ggKCoKXlxdKlSqltvzs2bNo0KABjI2NUb9+fYwcORJmZmb5ik8my1dxjdVJH/buNlf9v6b2g6bbLw4xsH1pt18cYmD7X277+alTowlQQkICMjMzsw11mZub4/79+x9d/8qVK7h9+zZmzZqltrxx48Zo0aIFKlasiKioKCxcuBADBgzAX3/9BYVCkef4zM2N8lyWiiczM4Mcl2t632q6/eIQA9uXdvvFIQa2L+32NT4H6FPs3LkTtra22SZMe3l5if9vZ2cHOzs7eHp6ir1CeRUX9xqCUGjhAgC0tOQwNc35S5kKX0JCMjIzleJrmSzrj64o9m1eaLr94hAD25d2+8UhBrb/5bavqjsvNJoAmZmZQaFQIC4uTm15XFwcLCwsPrhuSkoK9u7di19//fWj7VSqVAlmZmZ49OhRvhIgQUCh7xxNnXCkLKdtXhT7Nj803X5xiIHtS7v94hAD25d2+xqdBK2jowNHR0eEh4eLy5RKJcLDw+Hq6vrBdffv34+0tDS0b9/+o+08e/YML1++hKWl5SfHTERERCWfxofA+vbtiwkTJsDJyQnOzs7YsGEDUlNT0alTJwDA+PHjUaZMGYwZM0ZtvZ07d8LT0zPbxObk5GQsW7YMLVu2hIWFBaKiojBv3jxYW1ujcePGn+1zERERUfGl8QSoTZs2iI+Px9KlSxEbGwsHBwesWbNGHAJ7+vQp5HL1jqr79+/jv//+w7p167LVp1AocPv2bYSGhuL169ewsrJCw4YNMWLECN4LiIiIiAAUgwQIAHr06IEePXrk+N7GjRuzLatatSpu3bqVY3k9PT3e8ZmIiIg+SOM3QiQiIiL63JgAERERkeQwASIiIiLJYQJEREREksMEiIiIiCSHCRARERFJDhMgIiIikhwmQERERCQ5TICIiIhIcpgAERERkeQwASIiIiLJYQJEREREksMEiIiIiCSHCRARERFJDhMgIiIikhwmQERERCQ5TICIiIhIcpgAERERkeQwASIiIiLJYQJEREREksMEiIiIiCSHCRARERFJDhMgIiIikhwmQERERCQ5TICIiIhIcpgAERERkeQwASIiIiLJYQJEREREksMEiIiIiCSHCRARERFJDhMgIiIikhwmQERERCQ5xSIB2rx5M5o3b46aNWuia9euuHLlSq5lg4ODYWdnp/avZs2aamUEQcCSJUvQqFEjODs7o0+fPnj48GERfwoiIiIqKTSeAIWFhcHX1xfDhg1DSEgI7O3t0b9/f8TFxeW6jqGhIU6ePCn++/fff9XeX716NTZu3IipU6di+/bt0NfXR//+/fH27dui/jhERERUAmg8AQoICEC3bt3QuXNnVKtWDdOmTYOenh6CgoJyXUcmk8HS0lL8Z2FhIb4nCAICAwMxZMgQeHp6wt7eHnPnzkVMTAwOHTr0OT4SERERFXMaTYDS0tJw/fp1uLu7i8vkcjnc3d1x8eLFXNdLSUlBs2bN4OHhgSFDhuDOnTvie9HR0YiNjVWr08jICLVq1fpgnURERCQdWppsPCEhAZmZmTA3N1dbbm5ujvv37+e4TpUqVTB79mzY2dnh9evXWLduHbp37469e/eibNmyiI2NFet4v84XL17kKz6ZLF/FNVYnfdi721z1/5raD5puvzjEwPal3X5xiIHtf7nt56dOjSZABeHq6gpXV1e1123atMG2bdswcuTIQm3L3NyoUOujz8/MzCDH5Zret5puvzjEwPal3X5xiIHtS7t9jSZAZmZmUCgU2SY8x8XFqc3r+RBtbW04ODggMjISAGBpaSnWYWVlpVanvb19vuKLi3sNQcjXKh+lpSWHqWnOX8pU+BISkpGZqRRfy2RZf3RFsW/zQtPtF4cY2L602y8OMbD9L7d9Vd15odEESEdHB46OjggPD4enpycAQKlUIjw8HD169MhTHZmZmbh9+zY8PDwAABUrVoSlpSXCw8Ph4OAAAEhKSsLly5fxww8/5Cs+QUCh7xxNnXCkLKdtXhT7Nj803X5xiIHtS7v94hAD25d2+xofAuvbty8mTJgAJycnODs7Y8OGDUhNTUWnTp0AAOPHj0eZMmUwZswYAMCyZcvg4uICa2trJCYmYu3atXjy5Am6du0KIOsKsV69euHPP/+EtbU1KlasiCVLlsDKykpMsoiIiEjaNJ4AtWnTBvHx8Vi6dCliY2Ph4OCANWvWiENgT58+hVz+fxerJSYmYvLkyYiNjYWJiQkcHR2xbds2VKtWTSwzYMAApKamYsqUKUhMTESdOnWwZs0a6OrqfvbPR0RERMWPxhMgAOjRo0euQ14bN25Uez1p0iRMmjTpg/XJZDKMGDECI0aMKLQYiYiI6Muh8RshEhEREX1uTICIiIhIcpgAERERkeQwASIiIiLJYQJEREREksMEiIiIiCSHCRARERFJDhMgIiIikhwmQERERCQ5TICIiIhIcpgAERERkeQwASIiIiLJYQJEREREksMEiIiIiCRHS9MBEBHRl0kul0Eul+X6vkKh2d/gObWvVApQKgUNREOfGxMgIiIqdHK5DCampaD1gSTHzMzgM0aUt/YzMpV49TKFSZAEMAEiIqJCJ5fLoKWQY8S2i7gbk6TpcPKkmpUhlnR3hVwuYwIkAUyAiIioyNyNScL1J4maDoMoGyZA9EXLbY5BcZx7AHD+ARHR58IEiL5Iloa6yFQKMDbWz/H94jj3AOD8AyKiz4UJEH2RjPW1oJDLOP+AiIhyxASIvmicf0BERDnhjRCJiIhIcpgAERERkeQwASIiIiLJYQJEREREksMEiIiIiCSHCRARERFJDhMgIiIikhzeB4iIJKm4Pg4lN3xMClHhYgJERJIil8uQqRSK7eNQcsPHpFBu5HIZ5HJZvtfT9I8ATWMCRESSIpPJ+JgU+mLI5TKYmJaCVgGSGU3+CMhUClk/RjI1dzwXiwRo8+bNWLt2LWJjY2Fvb4/JkyfD2dk5x7Lbt29HaGgo7ty5AwBwdHTE6NGj1cp7e3sjJCREbb1GjRph7dq1RfchiKhE4WNS6Esgl8ugpZCXyIReJpMBkHACFBYWBl9fX0ybNg21atXChg0b0L9/f+zfvx/m5ubZyp85cwZeXl6oXbs2dHR0sGbNGvTr1w979+5FmTJlxHKNGzeGr6+v+FpHR+ezfB4iIqLPjQl9/ml8ADAgIADdunVD586dUa1aNUybNg16enoICgrKsfyCBQvw008/wcHBATY2Npg5cyaUSiXCw8PVyuno6MDS0lL8Z2Ji8jk+DhEREZUAGk2A0tLScP36dbi7u4vL5HI53N3dcfHixTzVkZqaioyMjGwJztmzZ9GgQQO0bNkSv//+OxISEgo1diIiIiq5NDoElpCQgMzMzGxDXebm5rh//36e6pg/fz6srKzUkqjGjRujRYsWqFixIqKiorBw4UIMGDAAf/31FxQKRZ7jk+V/Ur1G6qQvT1EeJ6q6NXUsFpf2S6pPjV/T27+k+JL/BosLmazwt0F+6tP4HKBPsWrVKoSFhSEwMBC6urrici8vL/H/7ezsYGdnB09PT7FXKK/MzY0KNV6ivPhcV2Zo+vjWdPslUWEeG9z+uZPK36CmmZpq9lYUGk2AzMzMoFAoEBcXp7Y8Li4OFhYWH1x37dq1WLVqFQICAmBvb//BspUqVYKZmRkePXqUrwQoLu41hEKeoK6lJdf4TqfiLSEhGZmZyiKrXybLOvEWxfFdEtovyX+DhXFsfK7tr1DINX6vpYIqSX+DJXk7v3yZjIyMwt3Oqm2bFxpNgHR0dODo6Ijw8HB4enoCgDihuUePHrmut3r1aqxYsQJr165FzZo1P9rOs2fP8PLlS1haWuYrPkFAoZ8gNHHCp5LncxwnRXF8l4T2S/rfYGHFr+n9X9xJ4W9Q0zT9+TU+BNa3b19MmDABTk5OcHZ2xoYNG5CamopOnToBAMaPH48yZcpgzJgxALKGvZYuXYoFCxagQoUKiI2NBQCUKlUKBgYGSE5OxrJly9CyZUtYWFggKioK8+bNg7W1NRo3bqyxz0lERETFh8YToDZt2iA+Ph5Lly5FbGwsHBwcsGbNGnEI7OnTp5DL/+9itW3btiE9PR2//vqrWj2//PILhg8fDoVCgdu3byM0NBSvX7+GlZUVGjZsiBEjRvBeQERERASgGCRAANCjR49ch7w2btyo9vrIkSMfrEtPT493fCYiIqIP0viNEImIiIg+NyZAREREJDlMgIiIiEhyisUcICL6PwrF5/ldUljtKJUClEoJX8tLRCUSEyCiYsLSUBeZSgHGxvqfpb3CunlaRqYSr16mMAkiohKFCRBRMWGsrwWFXIYR2y7ibkySpsPJk2pWhljS3RVyuYwJEBGVKEyAiIqZuzFJuP4kUdNhEBF90TgJmoiIiCSHCRARERFJDofAiOiTFeSKss91tVtxabcwFGbsRb0dSvJ2JmlgAkREBfYpV64V1lVoUlAUVwhy+5PUMQEiogIriVeuNbWzxLiW9poOI1+4nYkKHxMgIvpkJenKNRvLktvzwe1MVHg4SEtERESSwwSIiIiIJIcJEBEREUkOEyAiIiKSHCZAREREJDlMgIiIiEhymAARERGR5DABIiIiIslhAkRERESSwwSIiIiIJIcJEBEREUkOnwVGRET0DoXi8/QNFEY7nyvWLxETICIiIgCWhrrIVAowNtb/LO2ZmfGBsZrEBIiIiAiAsb4WFHIZRmy7iLsxSZoOJ0+a2lliXEt7TYdRIjEBIiIiesfdmCRcf5Ko6TDyxMaSvUgFxcFDIiIikhwmQERERCQ5TICIiIhIcpgAERERkeQUiwRo8+bNaN68OWrWrImuXbviypUrHyy/b98+tGrVCjVr1kS7du1w7NgxtfcFQcCSJUvQqFEjODs7o0+fPnj48GERfgIiIiIqSTSeAIWFhcHX1xfDhg1DSEgI7O3t0b9/f8TFxeVY/sKFCxgzZgy6dOmC0NBQfPPNNxg2bBhu374tllm9ejU2btyIqVOnYvv27dDX10f//v3x9u3bz/WxiIiIqBjTeAIUEBCAbt26oXPnzqhWrRqmTZsGPT09BAUF5Vg+MDAQjRs3xs8//wwbGxuMHDkSNWrUwKZNmwBk9f4EBgZiyJAh8PT0hL29PebOnYuYmBgcOnToc340IiIiKqY0mgClpaXh+vXrcHd3F5fJ5XK4u7vj4sWLOa5z6dIlNGjQQG1Zo0aNcOnSJQBAdHQ0YmNj1eo0MjJCrVq1cq2TiIiIpEWjN0JMSEhAZmYmzM3N1Zabm5vj/v37Oa7z4sULWFhYZCv/4sULAEBsbKy4LLcyeSWXA4KQr1U+SibL+q9jeWPo6ygKt/IiYmNpCIAxFzXG/Hkw5s+DMX8eJTHmqhZZN2+UybK+ZwuT6js2L3gn6A8oXdqoyOqe26VWkdVdVBjz58GYPw/G/Hkw5s+jJMZsaqrZu1hrdAjMzMwMCoUi24TnuLi4bL08KhYWFtl6ct4tb2lpKS7La51EREQkLRpNgHR0dODo6Ijw8HBxmVKpRHh4OFxdXXNcx8XFBREREWrLTp8+DRcXFwBAxYoVYWlpqVZnUlISLl++nGudREREJC0avwqsb9++2L59O0JCQnDv3j1MnToVqamp6NSpEwBg/PjxWLBggVi+V69eOHHiBNatW4d79+7B398f165dQ48ePQAAMpkMvXr1wp9//onDhw/j1q1bGD9+PKysrODp6amRz0hERETFi8bnALVp0wbx8fFYunQpYmNj4eDggDVr1ojDVU+fPoX8nVlStWvXxvz587F48WIsXLgQlStXxvLly2FrayuWGTBgAFJTUzFlyhQkJiaiTp06WLNmDXR1dT/75yMiIqLiRyYIhX2dExEREVHxpvEhMCIiIqLPjQkQERERSQ4TICIiIpIcJkBEREQkOUyAirEzZ87Azs4OiYmJAIDg4GDUrVsXQNYzz+zs7HDjxo0ijcHb2xtDhw4t0jY+lb+/Pzp06CC+Lgkxv69nz56YNWuW+Lp58+ZYv3695gIqpt7/m6D8CQ4Ohp2d3QcfDJ3fc8u79RX1eako/rY/dJ4tLO/X+f45qyi9v83ePdd8yv569xz1sWMqL7p16/ZJx05Bjg2NXwavCT179oS9vT18fHzUlgcHB2P27Nk4f/48ACA1NRV//PEH9u3bh+fPn8PAwADVqlVDnz59cr2nUHBwMCZOnAgg68GuhoaGqFy5Mjw8PNC7d28YGeXt8Rre3t4ICQkBANSrVw+mpqawtLREZmYmAKBcuXI4efIkzMzMAGT9Effq1Qvnzp2DsbFx/jfKey5evIgff/wRDRo0wOLFiz8a47saNWqEtWvX5lr3+9u5sPn4+KAoL24UBAF9+/bFhQsX8PbtWwCArq4uLCwsYGJiggcPHmD//v0oW7ZsobT37nbW0tJCmTJl0KpVK4wYMULjt3ZQxfb9998jMjISCoVC3PfTpk3Dli1bUKtWLdy/fx979uz55G3i6uqKkydP5vnvKDd5PQf4+/vj0KFD+Pvvv8Uy58+fR48ePcRjTF9fH1WqVMHAgQPRunVrREdH45tvvhHLm5qawtHREWPHjkWNGjXyHWtsbCxWrFiBo0eP4smTJ1AqlQCyzi/lypUrNscCkP28FB8fjyVLluDYsWN48eIFTExMYG9vj6FDh6JOnTr5rl/1t12Q8+z75ytTU1M4OTmhVatWALLOs++ys7ND7dq1sXXr1nzH+b769evD09MTTZs2xYsXL6CtrQ2ZTIb//vsvx+3w/jFkYmICW1tbjBw58pOTM39/f2hp5f7V/+62lclksLCwQM2aNWFoaIhz586J+9HGxkbt9jMlkSQToLz6/fffcfnyZUyePBk2NjZ4+fIlLl68iJcvX35wPUNDQ+zfvx+CIOD169e4cOECVq1aheDgYGzduhVlypTJU/vOzs64cuUK9u3bh7dv32LChAlITU0FACgUCvGxH/mRlpYGHR2dj5bbuXMnevTogZ07dyI1NTXXpKpx48bw9fVVW5aX+nMiCAIyMzPFP868xvq+T/1y/BiZTAZfX180a9YMzZo1w4wZM5Ceno6LFy9i/PjxyMjIQEhICIYMGVJobaq2c0ZGBq5fv44JEyZAJpNh3LhxOZbPzMyETCZTu4dWUSlXrhzCwsKwc+dOdOnSBdu2bUPHjh2xZ88eWFlZ4dq1a5g9e3ahJIQ6OjoFOu4Ly9GjRzFixAgYGhqib9++6NatG5KSkhAQEIBRo0ahTJkysLKyAgCsX78e1apVw7NnzzBr1iwMGDAA+/bty9cPlOjoaPzwww8wNjbG+PHjsWvXLsTHx8Pd3R1///03vL29P3osfE7vn5eGDx+O9PR0+Pn5oVKlSoiLi0N4ePhHz6G5efdvuyDn2XfPVy9evBDvJ6fi6+uL169fY8mSJThw4AC0tbWRnp4ObW1ttXpyWvau989d48aNU9sOf/75J44ePfrR7aA6hhISErBixQoMGjQIBw4c+KTHOpmamn60zLvbNjo6Gv369YNMJsOff/6pth9V30clFROgDzhy5Ah8fHzg4eEBIOsxG05OTh9dTyaTiScBKysr2NjYoHnz5vDy8sK8efMwf/58AFl/JHPnzsXevXuRlJQEJycnTJw4Ec7OzgAgJgIWFhYwNjZG06ZNcevWLcTHxyMlJQXffPMN6tWrhzt37oh/SKpfMR07doSfnx+aNWuGKlWq4NKlS0hOToa+vj4GDRokfjnfunULs2bNwqVLl6Cvr49vv/0Wv/76K8LCwhAUFITDhw+jb9++CAsLA5D1y1lLSwvnz5+HIAiQyWTYtm0bHBwcMGzYMNy6dQsAcOzYMQwcOBB6enpQKBSoXLkyxo8fj969e4vbyc7ODgDQtm1bPHjwANevX0enTp2Qnp6O/fv3Q/b/H+trZmYGuVyOhIQEWFhYoF27dhg2bFiuJyBvb28kJibijz/+AAAcP34cf/75J+7cuQOFQgEXFxf4+Pjgq6++AvB/v7b8/f2xceNGXLlyBdbW1pg2bVquj08pV64cTExMcOrUKbx58wYVK1aEt7c3mjVrhoMHD2LJkiVo2bIlqlatisTERNSrVw9VqlRBdHQ0TExMULp0aSQnJ+PFixcoV64clEol7O3txfoTEhKwc+dOZGZmIiwsDOnp6fDy8sLbt29hamoKU1NTnDx5EuPGjUPz5s3h4uKC48ePY86cOViwYAHu3buHXr16iT0cdnZ2+P3333HkyBGcPXsWlpaWGDdunPjrF8i66aifnx9OnToFuVyOOnXqwMfHBxUrVhTL7NixA+vWrUN0dDQqVKgAY2Nj1KhRA1FRUbhy5Qp8fHwwffp0vHnzBuXKlUNMTAysrKxQo0YN/Pzzzzh//ry4XzMyMlClShUMHToUmzdvhq2tLY4cOYKYmBiYmJjghx9+QM+ePdG+fXt07twZI0aMyLGn87///sPixYtx5coV6OjowNnZGQsXLoSJiUmu+17l/X1/4cIFKJVKXLx4Mdu+3717NyZOnAhvb2+sW7cOBgYGsLS0hKWlJaZMmYJdu3bh33//xffffw8AWLVqFa5evQq5XI5q1arhxYsXuHz5Mho3boxly5Zh1apVePv2LWQyGcqVK4dNmzahQoUK4v4yNzdHfHw85HI5hg8fDh8fH1SvXh1mZmbo2LEjli1bBqVSCW1tbaxZswaBgYFIS0uDkZER2rZti3HjxuHAgQOYPHkyMjMzoVAo0LFjRwDAyJEjYWhoiOTkZFhZWWHcuHEoX748Fi1ahGvXrgHI6m2ZMWMGHB0dcfv2bcydOxfnzp1DRkYGlEolvvrqK0yZMkVtG6m2Z2hoKCpUqIDz58+jSZMmmDRpknis//jjj2Lvxpw5c7B37144OTmhTp06WL58OZKTk9G0aVMsW7YM2traaNGiBQYOHIiuXbuKf9uenp5iD8ry5cvx6NEj6Ovro1q1arh79y7mzZuHrl27Yt68ebh79y4yMjKQkZEBAPj111/F8+yAAQPw008/ifGnp6dj9uzZ0NPTw6hRo3D58mX07t0bq1evhpaWlliHmZkZRo0ahTNnzuDcuXOIiYnJ8TxhZGSENm3aiD2KY8aMQffu3VGmTBmYm5vjm2++QWJiIubPn4/du3eLCYUq0dPV1RWPMSMjI/GxTqrtN2/ePGzcuBEKhQL6+vpwd3eHgYEB9u7dC4VCATc3N5w7dw6JiYlwc3ODi4sL4uPjs/0dvO/d7zA9PT0xLicnJxgaGqJChQoYOXIkevXqJa6zZMkShISE4OTJkyhTpgzGjh2L33//HaNHj0bXrl2xdetWLFy4EImJiZDJZLCyssLy5ctRs2bNHGM4evQoxowZg99//x3t27fP0/kpvzgH6AMsLCxw7NgxJCUlfXJd5ubmaNeuHY4cOSIOY82dOxcHDhyAn58fQkJCYG1tjZ9//jnHXwXJycm4ePEiZDKZWgZfp04drF+/HpMnTwYAaGtrIygoSDy4ExMTcerUKXh4eGDDhg2YPXu2+OshJSUF/fv3h4mJCXbu3InFixfj9OnTGD58OKpWrYqqVauiUqVKePLkidqQ0n///QcAaNq0KapVq4bly5dnG7edPXs2AGD+/PkIDg7GgAEDxITup59+gqGhIZYuXQogKwkbM2YMypQpgwMHDuDJkycwMjLClClTEBISgtKlSyMxMRFbt26Fj48PduzYka/5Mampqejbty+CgoKwfv16yGQyDBs2TBxKUFm0aBH69++P0NBQVK5cGWPGjBFPeDkxMDCAtbU1Jk2ahE2bNuHOnTsYOHAggKzerMOHDwOAeHKsWrUq/v77b0yZMgWRkZFwd3fH3r17MWzYMERHR+Phw4dq9UdGRiIyMhKNGzdG2bJlkZqaiqFDh+KXX37B06dPERsbq1b+zZs3WL16NWbOnImqVatCX19f7X1VUvb333+jXbt2GD16NO7duwcg68Tfv39/GBgYYPPmzdi6dStKlSqFn3/+GWlpaQCAXbt2YcmSJRg1ahTCwsIwevRo/O9//8PTp0/RuXNnBAcHo2PHjmjQoAGWL1+Or776CklJSXB1dUXv3r1Ro0YNdO3aFWZmZqhcuTIcHBzQp08fjBs3DomJiQgNDUXLli2hp6cHd3d3LF++HMOGDUOZMmUwbNiwHPfBjRs30KdPH9jY2OCvv/7Cli1b0KxZM/FvLLd9//4QqWrf//rrr5DL5dn2/ebNmzFx4kTMnj1bfOzOu7S0tKClpYX09HRxPX19fbVtqYrn8uXL8Pf3h6OjIwICAjBy5EjExsbiwIEDAICDBw8CyBpKVv136tSp4md615w5c5CZmQkrKys4OztDLpfDy8sLERER8Pb2ho+PD8zMzODm5galUong4GAAWV+sWlpaaNiwoXgs3LlzB9999x2WLFkCICvJHzhwIJ4+fYrevXvDwcEBZcqUQY0aNeDs7Ax9fX3xx1xOSpUqhVKlSuHVq1eYP3++eKwvWrRI/EFVr149xMfHIyIiApGRkXB2doahoSFOnjyJkJAQPH/+HJGRkfj666+z1a9UKjFmzBh07twZYWFhCAwMRJs2bdC6dWscPnwYw4YNQ7169dCyZUsYGRmhatWqcHFxEc+zT548wa5du3LsKXr79i169eqFsLAwVK9eHUBWIjBgwAC0b98eiYmJmDp1KkqXLo1Vq1bByspK/EE2a9Ys/PnnnzA1NYWRkRH27NkDhUIBLS0tjBo1CsuXL0dkZKT4GQYMGIALFy6gffv2mDdvHmbMmIGuXbsCADZs2AAg62/75s2bACC2k5iYiC1btkBbWxs7d+7EmjVrcOXKFezYsQOzZ8/Gli1b8OrVK6SkpKBevXri8X/nzp18TRFITU2FXC6HTCb74Pnw9u3baNiwIXbt2oUmTZpg7NixSE1NRZs2bcQkz83NDWvWrMGCBQuQlpaGnj17ZjsPA1k/NkaPHo358+ejffv2eTo/FQR7gD5gxowZGDt2LOrXrw87OzvUqVMHLVu2LNDYNZD1BZicnIyXL19CX18f27Ztg6+vr9jDNGPGDJw6dQo7d+4EAFy6dAkA0KRJE6SmpsLIyAj6+vpqwxqtWrWCg4ODOIGvUqVKuHTpEpycnJCUlISkpCQ4ODhg0aJF2eLZs2cP0tLSMGfOHPEEPWXKFAwcOBAjRowAAJQpUwYZGRk4e/Ys3NzcAABly5ZFfHw8DA0NcevWLchkMrG3xdXVFYMGDRK/9CtWrIjKlSujcuXKYoylSpVSS+RGjhyJhg0bQktLC19//TVOnjwJX19ftGvXDkBWr0Pz5s1x+vRp/Pzzz3jw4AH27t2LAQMG5Gm7t2zZUu317Nmz0aBBA9y9e1dtDLtfv35o2rQpgKxfiV5eXnj06BFsbGxyrbt169bYuHEjzp8/D39/f5QuXRpAVjfz48ePAUDcn7169YKNjQ1sbGzw4sULzJ8/H9OnT0elSpUwb968bAmQnp4epkyZAh8fHzx//hwAsHjxYiiVSshksmzdz+np6Zg6dSrs7e2ho6OTrYesVatW4ol15MiROH36NDZu3IipU6ciLCwMSqUSs2bNEntofH19Ua9ePZw9exaNGjWCv78/vL298e233wLIOtaqVauGx48fo3379liwYAEeP36MoUOHonPnzjh06BBq1qyJBw8eoEaNGvjll1/w9ddfIyAgAOXKlYOHhwfmzJmD9u3b48iRI7Czs4O3tzdq1aqFCRMmwMLCApcuXcLevXtznbOwZs0aODk5YerUqeIy1RcWkPu+f78nV7Xv4+Pjoauri8ePH+PRo0cAgHv37mH69OmYNWsW2rdvny2GtLQ0BAQE4PXr16hfvz7+/fdfAMAvv/wiTq5VDYekp6eLc6RGjRqFr7/+Gu7u7khMTERQUBD69esnvm9rawtBENC1a1fo6+uLidHRo0dx6tQpAFk9LnK5HDNnzoSNjQ28vLxgbGyMkSNHYuzYsWjcuLE4f1GpVMLDwwPHjh1D27ZtYWtriz/++AMrVqzA6dOncfXqVUydOhXR0dEAgKFDh6Jnz55YsGABatSoATc3N6xbtw4bN26EIAjw8PDAzJkz8dtvv+W4b7S0tODn54fJkyejT58+qFGjBr7++ms0a9YM+/fvR5s2bVC3bl2kp6fD1NQUkydPRsOGDTFo0CCsWbMG4eHh0NPTQ5kyZWBtbZ2tfkEQkJGRgRYtWqj1nG3duhUpKSkAgAYNGmDo0KHw9fXFqVOnsGvXLty8eRNv3rxBs2bNYGlpieHDh4s9WTNnzhTrnjBhAubNmyee73/99VexB1v1g09bWxsODg7Q1taGh4cHMjIycOvWLfHh20lJSShXrhzs7e2xefNmTJ8+Hfr6+jhz5gz09fVx+vRpXLlyBWFhYahSpYr42aKjo7F27Vrs378frq6uSE1NhSAI0NPTQ4MGDQAAmzZtQpkyZZCWliaeo5KSkpCZmYnq1aujSpUqWLt2Lb755huUKlUKDg4O4vH/6tWrHPeZyuvXr+Hq6gpBEMTzjI6ODpo0aSLux/T0dLV1zMzMkJycDGtra4wePRobN24Ue6T++OMPuLi4YNmyZWJ5GxsbdOjQAceOHUOzZs3E5WFhYdi6dStWrFghJr55OT8VBBOgD6hXrx4OHTqEy5cv48KFC4iIiEBgYCCGDx+e6y/SD1Fl3TKZDJGRkUhPT0ft2rXF97W1teHs7Cz+KndwcMD169exefNmZGZmws/PDxcuXBC/WAEgICAAV69exdOnTwEADx48wJMnTwAA9+/fB5A1AS8n9+7dg52dnZj8ABC/wFWJgVwuR5kyZbBz504xASpXrhzi4+MBQPxl+ebNG1y6dAmhoaEwMTFBXFwcAgMDMWXKFLRo0QKtWrXKdez53S7Q8uXLZ9suBw8exNu3b7F06VIsX74cGRkZMDQ0/OC2ftfDhw+xdOlSXL58GQkJCeJ+ePr0qVoCpBqSAyB2/8bHx38wATIwMMD333+Pw4cPw9PTU/zyUA0PAln7BID4GgCePXuGlJQU1K9fH+np6UhNTRW3vYqFhQUUCoUYW0xMDF6+fAmZTAZBEJCSkqKWBGlra6t9hve9P6Tj4uIinshv3ryJyMhIte0OZP0SjoyMREpKCiIjI+Hj4yP2NgJZv0wVCgVKly6Npk2bIiQkBIIgoGrVquJ8kBs3buDu3buoV68e3rx5g+7du4vrd+jQAUqlEjo6OmLsrVu3xqFDh7Bnzx64uLigcuXKuX6mGzduqA3jvS+3ff/+r8Z3t5tqP6mO8bJly8LY2Bhr165FkyZNxDk+8+fPx5IlS/D27VuUKlUKY8aMQdOmTcWrYVTDTe/W+erVK0RFRcHBwQH9+/dHw4YN0aBBA9jY2CAwMBCZmZni3+27v9Jr164t9hC5ublh8ODB6NWrFzw8PMThkd9//x0AsG7dOigUCqSnp8PBwUFMnvX19dGwYUMcO3YMrq6uMDAwQFxcHICsY+HKlSv47bffcPr0aQDAjz/+iLdv3+Lu3bu4e/cuzpw5g8zMTLXt/bG/w5YtW+LZs2fYvHkzbty4gcuXL0OpVIrDFsbGxjAxMYGRkRHu3r0LbW1tdOvWDYsWLUJMTAzOnTuXbXKyilwuR4MGDdCuXTs0atQIjRo1QsuWLcXt5uXlhaFDhyI9PR0PHjxAamoq3NzcMHXqVEydOhU6OjooXbq0Wi/WkCFDsGTJEujp6SE0NBSWlpbi+dbf3x9+fn5ij4Xq7/DkyZN48uQJYmJiIAgCLC0tYWBggHXr1mHIkCGws7MTh46WLl2KGTNm4NmzZ3j+/Dl27NiBsmXLokqVKjh9+jRWrlyJ+/fv4/Xr12JMW7duRVRUFHx8fFC6dGnxh83Nmzfx6NEjCIKQLVmJjIwUh9wFQcCpU6dQu3ZtcdskJyd/cL8ZGBggJCQEGRkZOH78OHbv3o01a9bgxo0buHTpEk6cOIGYmBhcuXJFXMfDw0Ps7VcloKrpHDdv3kRERARq1KgBpVKpdmxfv35dLQFat24dtm7dKq6rWv9D56eCkmQCZGBgkOOwVmJiYrYJtNra2qhbty7q1q2LgQMH4o8//sAff/yBAQMG5HuC7v3792FoaAhTU9Ncx4zfpbqqo1KlSjA2NkanTp3w33//Yfv27eIv+YiICEyePBmvXr2Cj48PqlWrJmbmqvX19PTyHKPqapfhw4dDJpOJB+uLFy/EX0kKhULtChgA4klB9Uutb9++CAwMRJ06dRAREYGlS5di+vTpObb57lDN+7FevHgRY8eOReXKlfHVV1/B29sbe/fuRUBAQJ4/0+DBg1GhQgXMnDkTVlZWUCqVaNu2bbZfMO/2mKi+sHLqnn2flpaWmKioeudevXolnuTf727eu3evOIQ3b948VK5cGT/99FO27mVVXcnJybhx4wbs7e1hZWWF+fPno2/fvnj+/DnS09PFWPX09NTm1+RHSkoKHB0dcxzSKF26tHhCmzFjBmrVqiW+N2/ePPFk2rlzZ3Efu7q64u7du2IszZo1g5eXF0aMGIH58+fD3NxcrFtfXx/jxo0Te3lSU1Nx7do1yGSyjw4/f+zYzm3f6+rqqtX97rCCoaEhkpKSxH1vYGCAgIAA9O3bF7169UJgYCAAoH///ujUqRNKlSoFCwsLcdurvoSmTZsGa2trGBsbi4lC6dKlsWPHDnh6emL27Nk4ceIE9u3bh+vXr6sda6o5GDKZDPfv31f7nPr6+mKPx4gRIzBmzBiEhoaia9euOH/+PFq1aoUGDRrAx8cHSqVSPBbe70VTfYGr3L9/H+np6Rg2bBgmTZqERYsWYdKkSXj79i2aNWsGGxsbhISEiJ8/L9t/7969WLBgASZMmCAmXYMGDUJUVJRYxsLCAi9fvhSTHVNTU5iYmCAxMRFnz55Fv379cqxbJpMhICAAFy5cwKlTp7Bx40YsWrQITZo0gaGhIebPn4/9+/dj1KhR+Pfff3Hr1i24urrC2toapUqVgrGxMWbOnIm9e/eKdaqOS7lcLp7LVqxYASDrOB4xYgRsbW0xb948vHjxAg8fPsTs2bMxf/58dOzYEQcOHEB0dDQCAwPFfa7a7jKZDA0bNkTVqlWhq6uLp0+f4vTp0zA0NER0dDQGDRqEH374AaNGjUJqair69OkDIOtHob29Pfbs2YPDhw+LE6xTUlJgY2ODxMREbNy4EcnJyejYsSPmz58vJo2DBw8WE+FZs2aJx//Hzmvvfn4bGxtERkbC19cX8+bNQ8OGDTFs2DC4urrixIkT4joNGjTA3r17cfHiRXG6hqqOlJQU6OjowMHBAd26dYO5uTmUSiUGDhyo1vMFZCXFQUFBqFmzpvg39bHzU0FJcg5QlSpVcP369WzL//e//33w1yYAVKtWDRkZGfked4yLi8Pu3bvh6ekJuVyOr776Ctra2rhw4YJYJj09HVevXkW1atU+WJfq0msg614MLVq0QNWqVQFA7AkCgMqVK0Mmk2UbWlGxsbHBrVu3xC+3jIwM/P3335DJZNiwYQNCQ0PRvHlzuLm5wcrKCnv27AGQddJLTk5W+5J9f96S6qBs0KAB1q1bh2+//RZ//fUXgKwEKqf5DEBWN+q72+XixYsoV64ckpKSUK9ePVSuXFns4cqLhIQEPHjwAEOGDBF/aX+s+/dTqD63XC4Xb5WgOhGqvmwuXLiA8uXLw8DAAI0bN4a1tbXaPn2fatvWrVsXhoaGsLGxEXtz3rx5g9KlS6v9YkxKShJ7ot6lGlJVuXz5sti75ejoiEePHsHc3BzW1tZq/4yMjGBhYQErKytERUWpvWdoaCgmsI0bNxbnwKgmmANZw4F37txBgwYNoKOjg8zMTLi7u8Pd3R329vawtrZWu4Tbz88PcrkctWrVwr179xAeHp7rtrGzs8v1/Q/teysrq1zPAe/GrmJiYoL169fD0NAQPXv2RGZmJszMzGBtbS0mKiqqXsXq1aujQYMGcHR0VNuWVatWxYULF1CjRg0MGjQI27Ztg6mpKQwNDaFQKFC1alXo6OggOTkZjRo1wubNm3H06NEc523I5XI0adIEGRkZGDx4MICspF31A+vy5ctqx8Lly5cB5HwsJCcno2fPnmJPr5aWFhISElC2bFncuXMHrq6uePHiBfT19cXPc/v27Zx3zP934cIFuLq64qeffkKNGjVgbW2drQfAwsICr169Qnh4uDjkUbZsWcTFxeHhw4c5zv9RkclkqFOnDn799VeEhoZCoVBg//794nm2adOm0NbWRr9+/WBsbIxnz56pnWdlMpnavsuJ6jhxd3fH4MGD4ebmhpiYGKSkpMDS0hIdOnSAtrY2nj9/jocPH6JmzZo5HkPv09XVhVKpxLNnz/Dvv/9CEAR4e3vDxcUFlSpVylZe1du+efNmAFl/s0+ePIFCoYC1tTVq1KgBS0tLPH/+HKVKlRKPf5lMhtKlS3/SuW/gwIFioq6imvOmYmhoCE9PTwQHByMkJEStg6Bq1apISUnBiBEj8N1336Fx48YwMDAQt8O7ZsyYgcOHD2PGjBniso+dnwpKkgnQjz/+iIcPH2LmzJm4efMm7t+/j4CAAOzduxd9+/YVy/Xs2RPbtm3DtWvXEB0djWPHjmHhwoVwc3P7YNevIAiIjY1FTEwM7t27h507d6J79+4wMjLCmDFjAGTNg/nhhx8wd+5cHD9+HHfv3sXkyZPx5s0bdOnSBcD//Yp/8eIF7t27h927dwOAWndhREQEbty4If7qTEtLw5s3b5CcnAxdXV0YGhri33//RWhoKCIjI3Hp0iXs2LEDANCuXTvo6OjA29sbt2/fxsqVK5GYmAgvLy98/fXXsLW1FX+9fvvtt+JcFgsLC+jr6+N///uf2KWvmi8RGxuLJ0+eYO7cubCxsYG/vz927dqFc+fOiV3JlpaWSElJEf+Y3rx5I34ebW1tte2io6ODx48fIzExEfXr10dgYGC+brhlYmICU1NT/PXXX3j06BHCw8Ph5+eX5/U/Jjk5GcnJyUhPT8e5c+fEG4yVK1dOnDulGtLYuHEj7t27hzdv3uDhw4do3rw5Hj16hMWLF3+wS9rQ0BCCIIhzF0JDQ8UEcceOHahfvz4uXrwozj+YMGFCjpe/79+/Hzt37sSDBw+wdOlSXLlyRZzQ265dO5iZmWHIkCE4f/48oqKicObMGcycORPPnj0DkDUHYtWqVQgMDMSDBw9w69YtPHr0SOyCVigU2LdvH8LCwtTar1q1Kl69eoXJkyejbdu2mDVrFvz8/DB8+HBcvXoVGzduFCd0Hz16FEFBQWIvUfXq1eHt7Z3riXvgwIHi3JWbN2/i3r172LJlC+Lj4z+475s0aYKHDx+KcxIeP34sngPevSroXcbGxggICICJiQliY2PVks53qa7QmTVrVo7b0svLC6dPn8Zvv/2GiIgIzJkzBzExMeL8M9XEzj/++AOenp5ITEzE6dOnIZfLxb9t1WRmAOK8JNXQ5L///iv20qiGrVJSUpCWlib+Yt+/f7841KU6FqytrbFr1y7xb3nRokXQ09ND7dq18erVK+zcuRNly5bFiBEjsGXLFgwYMCDHuYUqCQkJOHHiBC5evIgtW7YgPDwcw4cPR2RkpNr508LCAhkZGTh69KiY7JQpUwZxcXGwtLTM1kOgkpGRgQULFuD48eMIDw/H9OnTERsbC0NDQ/zwww9YsGABbt26hXbt2mHGjBl4/fo15HI5xo0bh5SUFNSpUwczZsz44I8PAGJv23///YeQkBAMHjwYb968gVKpRHx8PC5cuIDU1FTs2rUL2traMDAwQGxsLGJjY5GRkSFenJCeno6bN28iNTUViYmJiIuLQ8uWLVG3bl1s3LgR6enp8Pf3x86dO8Vep3e5ubkhMzMTS5cuxe3bt6Gnp4eUlBTEx8fjypUriIyMRJMmTcRL+OPi4qCjoyNOhC7ouS8hIQETJkwQ5xBFRUVh3759SEpKUptvBwBdu3ZFSEgI7t27p9ajrrqMfsKECfjnn3/w999/ixfqvN8bVaFCBQQGBuKff/4Rz6d5OT8VhCSHwCpVqoRNmzZh8eLF6Nu3L9LT01G1alUsWbIETZo0Ecs1atQIoaGhWLRoEVJTU2FlZYWmTZt+dP5PUlISGjVqBJlMBkNDQ1SpUgXfffcdevfurfaHP3bsWAiCgPHjxyM5ORlOTk5Ys2YNTExMAEAcX23dujUMDAxgZmYGPT09uLm5ib/qDAwM0L17d5iZmaFp06Y4deoUtm/fLt5zwsjICNWqVcPSpUsRExMDS0tLcQ6Gvr4+1q5di1mzZqFLly7IzMxEuXLlchyqatmypTjhVFdXF/PmzcP48ePF+UrvbrPKlSvD0dERiYmJuH//PsaNGwczMzP4+flh0KBBqF69Orp3747ly5cDAAIDAzF27Nhct4ulpSVSU1PRo0cPNG3aFEOGDFGbTPchcrkcixYtwsyZM9G2bVtUqVIFv/32G3r27Jmn9T9GdSUbAIwfPx61atWCr68vtm/fjk6dOqFKlSoYN24c+vXrh3v37qFDhw7iTc2OHj2KY8eOwcvLC1ZWVmqJ4LtMTExQvXp1XLt2DW/evMHu3bsxZswYTJgwARs3bsTBgwcRERGBK1euYNCgQRgxYkSOPUDDhw9HWFgYpk2bBktLSyxYsEDsbdTX18emTZswf/58/PLLL0hOTkaZMmXQoEED8Zjt2rUr9PT0sHbtWsydOxelSpWClpaW+AUB5DwnRF9fH1u3bsX8+fNx8OBBpKamYtOmTcjMzMT58+dRo0YN6Orq4s2bN/Dx8cHw4cPh6OgIIGse3N27d/H777/neEPOKlWqYN26dVi4cKEYn7OzM9q2bfvBfW9hYYFNmzaJXwjjxo1D9erVsWTJkg/2OBgZGWHdunVo0KABNm/ejG7dumW7ikg1LGRpaZnjtnR2doaTkxOCg4OxY8cOKBQKuLu7i7F4enpi1KhR+OOPP/D7779DoVDA3t4et27dwo0bN6Cjo6OWYDo5OaFp06Y4duwYAIjDI0DWF8e+ffsQEREBhUKBIUOGYM6cORg+fDi2b98OAAgNDcWCBQtQuXJlTJ48WexJatu2LTZv3gwjIyNx/yUkJODx48e4cOECjI2NsWDBglwvRjAwMICnpyeCgoIwbdo0cfu5uLioJfw6OjpiT6KqR1K1TT+0L1JTU7Fq1SqsWrVKrMfDwwMLFy7EmzdvcP/+fYSEhODly5fQ0dGBUqkUr6wEsr6Uq1atil9++QX+/v65tjNkyBCcPHkSr169wsSJE1GqVClYWVlBR0cHSUlJ6N+/vzhJWalU4uTJk+KkXCMjIzg4OKBSpUp4+PAhevTogeTkZGhpacHU1BRTpkzBmzdvMGfOHDx//hx//PEHZDJZjqMANjY28PHxwezZs9GpUyd4eXmhd+/e2LZtG/r374+0tDSUK1cONjY2mDRpEuRyOZo1a4ZTp04hIiIC8fHxBTr3GRgYoFatWjh48CAePHgALy8vsQdbdUGEiru7O6ysrFCtWjW10Y2yZcti9uzZmDlzpji9oly5cgCQYw9c1apVsWHDBvTs2RMKhQLe3t4fPT8VhEwoylvmElGxYGdnh+XLl+d6B3Miok+VnJyMJk2awNfXN1tyVBxJsgeIiIiICodSqURCQgLWrVsHY2NjNG/eXNMh5QkTICIiIiqwJ0+e4JtvvkHZsmXh5+f3wWeNFSccAiMiIiLJkeRVYERERCRtTICIiIhIcpgAERERkeQwASIiIiLJYQJEREREksMEiEiivL29YWdnJz6tukWLFli2bFm+H6RaHAUHB6Nu3bp5KpuWlobVq1ejffv2qFWrFtzc3NC9e3cEBQVle2AuEX05SsbF+kRUJBo3bgxfX1+kpaXh2LFjmD59OrS1tTFo0CBNh/ZZpKWloX///rh16xZGjBiB2rVrw9DQEJcuXcK6detQo0YNODg4FKju9PR0techqdp79yGRRKQ57AEikjAdHR1YWlqiQoUK+PHHH+Hu7o4jR44AAAICAtCuXTu4uLjAw8MDU6dOFZ/hlJKSgtq1a2P//v1q9R06dAguLi7iE+nt7OwQFhaGH3/8Ec7OzujcuTMePHiAK1euoFOnTnB1dcXPP/+M+Ph4tXp27NiB1q1bo2bNmmjVqpX4BGwAYr3//PMPevbsiVq1aqF9+/a4ePEigKwHgE6cOBGvX78We7hye9bThg0bcP78eaxfvx4//fST+Nymdu3aYfv27bC2tgYANG/eHOvXr1dbt0OHDmr12tnZYcuWLRg8eDBcXFywYsUK+Pv7o0OHDtixYweaN28OZ2dnAEBiYiJ8fHxQv3591K5dG7169cLNmzfFulTrhYaGonnz5qhTpw5GjRqFpKQksYxSqcTq1avRokUL8Xlgf/75JwCgV69e2Z7pFx8fDycnJ4SHh+e4LYikhgkQEYl0dXXFYR+ZTAYfHx/s2bMHfn5+iIiIwLx58wAApUqVgpeXl9pTyQEgKCgILVu2VHtAob+/P4YMGYKQkBBoaWlhzJgxmDdvHnx8fLB582ZERkZiyZIlYvldu3ZhyZIlGDVqFMLCwjB69GgsXboUISEham0tWrQI/fv3R2hoKCpXrowxY8YgIyMDrq6umDRpEgwNDXHy5EmcPHkS/fr1y/Hz7t69G+7u7qhRo0a297S1tVGqVKl8bb9ly5ahRYsW2L17Nzp37gwAiIyMxIEDB7Bs2TKEhoYCAEaMGIG4uDisXr0awcHBcHR0RO/evfHy5UuxrsjISBw+fBgrVqzAypUrce7cOaxevVp8f8GCBVi9ejWGDh2KsLAwzJ8/HxYWFgCyHly7Z88epKWlqW1XKysr1K9fP1+fieiLJRCRJE2YMEEYMmSIIAiCoFQqhVOnTglOTk6Cn59fjuX37dsnfP311+Lry5cvCw4ODsLz588FQRCEFy9eCDVq1BDOnDkjCIIgREVFCba2tsL27dvFdfbs2SPY2toKp0+fFpetXLlSaNmypfja09NT2L17t1rby5cvF77//vtc671z545ga2sr3L17VxAEQQgKChLq1Knz0W3g7OwszJgx46PlmjVrJgQEBKgta9++vbB06VLxta2trTBr1iy1MkuXLhUcHR2FuLg4cdm5c+eE2rVrC2/fvlUr6+npKWzbtk1cr1atWsLr16/F9+fMmSN07dpVEARBeP36teDk5KS2Dd715s0boV69esLevXvFZe3atRP8/f0/+lmJpIJzgIgk7OjRo3B1dUV6ejoEQUDbtm0xfPhwAMDp06excuVK3L9/H0lJScjMzMTbt2+RmpoKfX19ODs7o1q1aggNDcXAgQOxa9culC9fHvXq1VNrw87OTvx/c3PzHJephsBSUlIQGRkJHx8fTJ48WSyTkZEBIyOjXOu1tLQEkDXMY2Njk+fPLxTyk4CcnJyyLStfvjxKly4tvr516xZSUlLg5uamVu7NmzeIjIwUX1eoUEGtJ83KygpxcXEAgPv37yMtLS3X3hxdXV20b98eQUFBaNOmDa5fv447d+6IQ2RExEnQRJLm5uaGqVOnQltbG1ZWVuJDDKOjozFo0CD88MMPGDVqFExMTPDff//Bx8cH6enp0NfXB5A11LJ582YMHDgQwcHB6NSpE2QymVob704EVr337sMSZTIZlEolgKwECABmzJiBWrVqqdUjl6uP2OdUr6qevKpcuTIePHjw0XLvfyYAOV4tl9OQmWpbqSQnJ8PS0hIbN27MVvbdJC+nB0qqEjZdXd2Pxty1a1d89913ePbsGYKDg1G/fn1UqFDho+sRSQXnABFJmL6+PqytrVG+fHm1L9zr169DEAR4e3vDxcUFVapUQUxMTLb127dvjydPniAwMBB3795Fx44dPykeCwsLWFlZISoqCtbW1mr/KlWqlOd6tLW1kZmZ+dFybdu2xenTp/G///0v23vp6eliQla6dGm1z6+a5F0Qjo6OePHiBRQKRbbP+G5P0YdUrlwZenp6iIiIyLWM6vYG27dvx549e8Q5SUSUhQkQEWVjbW2N9PR0bNy4EVFRUQgNDcW2bduylTMxMUGLFi0wd+5cNGzYEGXLlv3ktn/99VesWrUKgYGBePDgAW7duoWgoCAEBATkuY4KFSogJSUF4eHhiI+PR2pqao7l+vTpg9q1a6NPnz7YvHkzbt68iaioKISFheH777/Ho0ePAAD169fHrl27cP78edy6dQsTJkzI1iOVV+7u7nBxccGwYcNw8uRJREdH48KFC1i0aBGuXr2apzp0dXUxYMAAzJs3D6GhoYiMjMSlS5ewY8cOtXJdu3bFqlWrIAgCWrRoUaB4ib5UHAIjomzs7e0xceJErF69GgsXLkTdunUxevRoTJgwIVvZLl26FGoPQ9euXaGnp4e1a9di7ty5KFWqFGxtbdG7d+8811G7dm10794dI0eOxMuXL/HLL7+Ic5vepaOjg4CAAKxfvx7btm3DnDlzoK+vj6pVq6Jnz56oXr06AGDQoEHisKCRkRFGjBhR4B4gmUyGVatWYfHixZg4cSISEhJgYWGBunXrildx5cXQoUOhUCiwdOlSxMTEwNLSEt27d1cr4+XlhdmzZ8PLyytPw2ZEUiITCnsWIBFJSmhoKHx9fXHixAne5K+YiY6ORosWLbBz5044OjpqOhyiYoU9QERUIKmpqYiNjcXq1avRvXt3Jj/FSHp6Ol6+fInFixejVq1aTH6IcsA5QERUIGvWrEHr1q1hYWGBgQMHajoceseFCxfQqFEjXL16FdOmTdN0OETFEofAiIiISHLYA0RERESSwwSIiIiIJIcJEBEREUkOEyAiIiKSHCZAREREJDlMgIiIiEhymAARERGR5DABIiIiIslhAkRERESS8/8AVZ0P1YmUvBYAAAAASUVORK5CYII=",
      "text/plain": [
       "<Figure size 640x480 with 1 Axes>"
      ]
     },
     "metadata": {},
     "output_type": "display_data"
    }
   ],
   "source": [
    "df = dataframe\n",
    "plt.hist(df['Payment Currency'], bins=10)\n",
    "plt.xlabel('Payment Currency')\n",
    "plt.ylabel('Frequency')\n",
    "plt.title('Histogram of Payment Currency')\n",
    "plt.show()"
   ]
  },
  {
   "cell_type": "code",
   "execution_count": 34,
   "id": "9e324a72",
   "metadata": {
    "ExecuteTime": {
     "end_time": "2023-05-23T10:03:14.107311Z",
     "start_time": "2023-05-23T10:02:25.164300Z"
    }
   },
=======
   "execution_count": null,
   "outputs": [],
   "source": [
    "pandas_ai.run(df, 'buat histogram dari kolom \"Payment Currency\" dengan bins 10')"
   ],
   "metadata": {
    "collapsed": false
   }
  },
  {
   "cell_type": "code",
   "execution_count": 10,
>>>>>>> 1e93c2a6c15279cec9900946186812711fdf2ba0
   "outputs": [
    {
     "name": "stdout",
     "output_type": "stream",
     "text": [
      "Running PandasAI with openai LLM...\n",
      "\n",
      "Code generated:\n",
      "```\n",
      "import seaborn as sns\n",
      "import matplotlib.pyplot as plt\n",
      "\n",
      "sns.countplot(x='Payment Currency', data=df)\n",
      "plt.show()\n",
      "```\n",
      "\n",
      "Code running:\n",
      "```\n",
      "sns.countplot(x='Payment Currency', data=df)\n",
      "plt.show()\n",
      "```\n",
      "Answer: \n",
      "Conversational answer: Untuk membuat countplot dari kolom \"Payment Currency\" menggunakan seaborn, Anda perlu mengikuti langkah-langkah berikut:\n",
      "\n",
      "1. Pertama, pastikan Anda telah menginstal library seaborn dengan menjalankan perintah berikut di terminal atau command prompt:\n",
      "   \n",
      "   ```\n",
      "   pip install seaborn\n",
      "   ```\n",
      "\n",
      "2. Kemudian, impor library yang diperlukan untuk analisis data dan visualisasi. Dalam hal ini, Anda akan memerlukan pandas dan seaborn:\n",
      "\n",
      "   ```python\n",
      "   import pandas as pd\n",
      "   import seaborn as sns\n",
      "   ```\n",
      "\n",
      "3. Selanjutnya, baca dataset Anda menggunakan pandas. Asumsikan dataset Anda dalam format CSV dan nama file adalah 'data.csv':\n",
      "\n",
      "   ```python\n",
      "   df = pd.read_csv('data.csv')\n",
      "   ```\n",
      "\n",
      "4. Setelah itu, Anda dapat membuat countplot menggunakan seaborn. Berikut adalah contoh cara melakukannya:\n",
      "\n",
      "   ```python\n",
      "   sns.countplot(x='Payment Currency', data=df)\n",
      "   ```\n",
      "\n",
      "5. Terakhir, tampilkan plot dengan menggunakan `plt.show()` dari matplotlib:\n",
      "\n",
      "   ```python\n",
      "   import matplotlib.pyplot as plt\n",
      "   plt.show()\n",
      "   ```\n",
      "\n",
      "Dengan mengikuti langkah-langkah di atas, Anda akan dapat membuat countplot dari kolom \"Payment Currency\" menggunakan seaborn.\n"
     ]
    },
    {
     "data": {
<<<<<<< HEAD
      "text/plain": [
       "'Sure, to create a countplot of the \"Payment Currency\" column using seaborn, we can use the following code: \\n\\n```python\\nimport seaborn as sns\\nimport matplotlib.pyplot as plt\\n\\nsns.countplot(x=\"Payment Currency\", data=df)\\nplt.show()\\n```\\n\\nThis will generate a bar chart showing the count of each payment currency in the dataset.'"
      ]
=======
      "text/plain": "'Untuk membuat countplot dari kolom \"Payment Currency\" menggunakan seaborn, Anda perlu mengikuti langkah-langkah berikut:\\n\\n1. Pertama, pastikan Anda telah menginstal library seaborn dengan menjalankan perintah berikut di terminal atau command prompt:\\n   \\n   ```\\n   pip install seaborn\\n   ```\\n\\n2. Kemudian, impor library yang diperlukan untuk analisis data dan visualisasi. Dalam hal ini, Anda akan memerlukan pandas dan seaborn:\\n\\n   ```python\\n   import pandas as pd\\n   import seaborn as sns\\n   ```\\n\\n3. Selanjutnya, baca dataset Anda menggunakan pandas. Asumsikan dataset Anda dalam format CSV dan nama file adalah \\'data.csv\\':\\n\\n   ```python\\n   df = pd.read_csv(\\'data.csv\\')\\n   ```\\n\\n4. Setelah itu, Anda dapat membuat countplot menggunakan seaborn. Berikut adalah contoh cara melakukannya:\\n\\n   ```python\\n   sns.countplot(x=\\'Payment Currency\\', data=df)\\n   ```\\n\\n5. Terakhir, tampilkan plot dengan menggunakan `plt.show()` dari matplotlib:\\n\\n   ```python\\n   import matplotlib.pyplot as plt\\n   plt.show()\\n   ```\\n\\nDengan mengikuti langkah-langkah di atas, Anda akan dapat membuat countplot dari kolom \"Payment Currency\" menggunakan seaborn.'"
>>>>>>> 1e93c2a6c15279cec9900946186812711fdf2ba0
     },
     "execution_count": 10,
     "metadata": {},
     "output_type": "execute_result"
    }
   ],
   "source": [
    "pandas_ai.run(df, 'buat countplot dari kolom \"Payment Currency\" dengan menggunakan seaborn')"
<<<<<<< HEAD
   ]
  },
  {
   "cell_type": "code",
   "execution_count": 35,
   "id": "725ef572",
   "metadata": {
    "ExecuteTime": {
     "end_time": "2023-05-23T10:04:00.836505Z",
     "start_time": "2023-05-23T10:03:59.457568Z"
    }
   },
   "outputs": [
    {
     "data": {
      "image/png": "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",
      "text/plain": [
       "<Figure size 640x480 with 1 Axes>"
      ]
     },
     "metadata": {},
     "output_type": "display_data"
    }
   ],
=======
   ],
   "metadata": {
    "collapsed": false,
    "ExecuteTime": {
     "end_time": "2023-05-27T08:32:22.395553251Z",
     "start_time": "2023-05-27T08:30:49.240133379Z"
    }
   }
  },
  {
   "cell_type": "code",
   "execution_count": null,
   "outputs": [],
>>>>>>> 1e93c2a6c15279cec9900946186812711fdf2ba0
   "source": [
    "import seaborn as sns\n",
    "import matplotlib.pyplot as plt\n",
    "\n",
    "df = dataframe\n",
    "sns.countplot(x=\"Payment Currency\", data=df)\n",
    "plt.show()\n"
<<<<<<< HEAD
   ]
=======
   ],
   "metadata": {
    "collapsed": false,
    "ExecuteTime": {
     "start_time": "2023-05-27T08:34:02.537157677Z"
    }
   }
>>>>>>> 1e93c2a6c15279cec9900946186812711fdf2ba0
  },
  {
   "cell_type": "code",
   "execution_count": 36,
   "id": "e8680147",
   "metadata": {
    "ExecuteTime": {
     "end_time": "2023-05-23T10:07:43.710823Z",
     "start_time": "2023-05-23T10:05:46.526869Z"
    }
   },
   "outputs": [
    {
     "name": "stdout",
     "output_type": "stream",
     "text": [
      "Running PandasAI with openai LLM...\n",
      "\n",
      "Code generated:\n",
      "```\n",
      "import pandas as pd\n",
      "\n",
      "# Load the dataframe\n",
      "df = pd.read_csv('data.csv')\n",
      "\n",
      "# Print the first 5 rows of the dataframe\n",
      "print(df.head(5))\n",
      "\n",
      "# Get information about the dataframe\n",
      "print(df.info())\n",
      "\n",
      "# Check for missing values\n",
      "print(df.isnull().sum())\n",
      "\n",
      "# Check for duplicates\n",
      "print(df.duplicated().sum())\n",
      "\n",
      "# Identify suspicious transactions using core detection and clustering algorithm\n",
      "from sklearn.cluster import DBSCAN\n",
      "\n",
      "# Select relevant columns for clustering\n",
      "X = df[['Amount Received', 'Amount Paid']]\n",
      "\n",
      "# Normalize the data\n",
      "from sklearn.preprocessing import StandardScaler\n",
      "scaler = StandardScaler()\n",
      "X_scaled = scaler.fit_transform(X)\n",
      "\n",
      "# Apply DBSCAN clustering algorithm\n",
      "dbscan = DBSCAN(eps=0.5, min_samples=10)\n",
      "clusters = dbscan.fit_predict(X_scaled)\n",
      "\n",
      "# Add cluster labels to the dataframe\n",
      "df['Cluster'] = clusters\n",
      "\n",
      "# Identify suspicious transactions with cluster label -1\n",
      "suspicious_transactions = df[df['Cluster'] == -1]\n",
      "\n",
      "# Print the suspicious transactions\n",
      "print(suspicious_transactions)\n",
      "```\n",
      "\n",
      "Code running:\n",
      "```\n",
      "print(df.head(5))\n",
      "print(df.info())\n",
      "print(df.isnull().sum())\n",
      "print(df.duplicated().sum())\n",
      "X = df[['Amount Received', 'Amount Paid']]\n",
      "scaler = StandardScaler()\n",
      "X_scaled = scaler.fit_transform(X)\n",
      "dbscan = DBSCAN(eps=0.5, min_samples=10)\n",
      "clusters = dbscan.fit_predict(X_scaled)\n",
      "df['Cluster'] = clusters\n",
      "suspicious_transactions = df[df['Cluster'] == -1]\n",
      "print(suspicious_transactions)\n",
      "```\n",
      "Answer:           Timestamp  From Bank    Account  To Bank  Account.1   \n",
      "0  2022/09/01 00:20         10  8000EBD30       10  8000EBD30  \\\n",
      "1  2022/09/01 00:20       3208  8000F4580        1  8000F5340   \n",
      "2  2022/09/01 00:00       3209  8000F4670     3209  8000F4670   \n",
      "3  2022/09/01 00:02         12  8000F5030       12  8000F5030   \n",
      "4  2022/09/01 00:06         10  8000F5200       10  8000F5200   \n",
      "\n",
      "   Amount Received Receiving Currency  Amount Paid Payment Currency   \n",
      "0          3697.34          US Dollar      3697.34        US Dollar  \\\n",
      "1             0.01          US Dollar         0.01        US Dollar   \n",
      "2         14675.57          US Dollar     14675.57        US Dollar   \n",
      "3          2806.97          US Dollar      2806.97        US Dollar   \n",
      "4         36682.97          US Dollar     36682.97        US Dollar   \n",
      "\n",
      "   Is Laundering  Total Amount  \n",
      "0              0           0.0  \n",
      "1              0           0.0  \n",
      "2              0           0.0  \n",
      "3              0           0.0  \n",
      "4              0           0.0  \n",
      "<class 'pandas.core.frame.DataFrame'>\n",
      "RangeIndex: 5078345 entries, 0 to 5078344\n",
      "Data columns (total 11 columns):\n",
      " #   Column              Dtype  \n",
      "---  ------              -----  \n",
      " 0   Timestamp           object \n",
      " 1   From Bank           int64  \n",
      " 2   Account             object \n",
      " 3   To Bank             int64  \n",
      " 4   Account.1           object \n",
      " 5   Amount Received     float64\n",
      " 6   Receiving Currency  object \n",
      " 7   Amount Paid         float64\n",
      " 8   Payment Currency    object \n",
      " 9   Is Laundering       int64  \n",
      " 10  Total Amount        float64\n",
      "dtypes: float64(3), int64(3), object(5)\n",
      "memory usage: 426.2+ MB\n",
      "None\n",
      "Timestamp             0\n",
      "From Bank             0\n",
      "Account               0\n",
      "To Bank               0\n",
      "Account.1             0\n",
      "Amount Received       0\n",
      "Receiving Currency    0\n",
      "Amount Paid           0\n",
      "Payment Currency      0\n",
      "Is Laundering         0\n",
      "Total Amount          0\n",
      "dtype: int64\n",
      "12\n",
      "\n",
      "Conversational answer: To identify suspicious money laundering transactions using the core detection and clustering algorithm method, we can analyze a dataset that includes information such as the timestamp, bank accounts involved, currency used, and amount transferred. By examining patterns in the data, we can flag transactions that appear to be unusual or potentially fraudulent. In one example dataset, there were over 5 million entries, but none of them were flagged as suspicious. However, further analysis may be necessary to detect more subtle patterns of money laundering activity.\n"
     ]
    },
    {
     "data": {
      "text/plain": [
       "'To identify suspicious money laundering transactions using the core detection and clustering algorithm method, we can analyze a dataset that includes information such as the timestamp, bank accounts involved, currency used, and amount transferred. By examining patterns in the data, we can flag transactions that appear to be unusual or potentially fraudulent. In one example dataset, there were over 5 million entries, but none of them were flagged as suspicious. However, further analysis may be necessary to detect more subtle patterns of money laundering activity.'"
      ]
     },
     "execution_count": 36,
     "metadata": {},
     "output_type": "execute_result"
    }
   ],
   "source": [
    "pandas_ai.run(df, 'identifikasi suspicious money laundering transaction detection dengan metode core detection and clustering algorithm')"
   ]
  },
  {
   "cell_type": "code",
   "execution_count": null,
   "id": "e1a7b636",
   "metadata": {},
   "outputs": [
    {
     "name": "stdout",
     "output_type": "stream",
     "text": [
      "          Timestamp  From Bank    Account  To Bank  Account.1   \n",
      "0  2022/09/01 00:20         10  8000EBD30       10  8000EBD30  \\\n",
      "1  2022/09/01 00:20       3208  8000F4580        1  8000F5340   \n",
      "2  2022/09/01 00:00       3209  8000F4670     3209  8000F4670   \n",
      "3  2022/09/01 00:02         12  8000F5030       12  8000F5030   \n",
      "4  2022/09/01 00:06         10  8000F5200       10  8000F5200   \n",
      "\n",
      "   Amount Received Receiving Currency  Amount Paid Payment Currency   \n",
      "0          3697.34          US Dollar      3697.34        US Dollar  \\\n",
      "1             0.01          US Dollar         0.01        US Dollar   \n",
      "2         14675.57          US Dollar     14675.57        US Dollar   \n",
      "3          2806.97          US Dollar      2806.97        US Dollar   \n",
      "4         36682.97          US Dollar     36682.97        US Dollar   \n",
      "\n",
      "  Payment Format  Is Laundering  \n",
      "0   Reinvestment              0  \n",
      "1         Cheque              0  \n",
      "2   Reinvestment              0  \n",
      "3   Reinvestment              0  \n",
      "4   Reinvestment              0  \n",
      "<class 'pandas.core.frame.DataFrame'>\n",
      "RangeIndex: 5078345 entries, 0 to 5078344\n",
      "Data columns (total 11 columns):\n",
      " #   Column              Dtype  \n",
      "---  ------              -----  \n",
      " 0   Timestamp           object \n",
      " 1   From Bank           int64  \n",
      " 2   Account             object \n",
      " 3   To Bank             int64  \n",
      " 4   Account.1           object \n",
      " 5   Amount Received     float64\n",
      " 6   Receiving Currency  object \n",
      " 7   Amount Paid         float64\n",
      " 8   Payment Currency    object \n",
      " 9   Payment Format      object \n",
      " 10  Is Laundering       int64  \n",
      "dtypes: float64(2), int64(3), object(6)\n",
      "memory usage: 426.2+ MB\n",
      "None\n",
      "Timestamp             0\n",
      "From Bank             0\n",
      "Account               0\n",
      "To Bank               0\n",
      "Account.1             0\n",
      "Amount Received       0\n",
      "Receiving Currency    0\n",
      "Amount Paid           0\n",
      "Payment Currency      0\n",
      "Payment Format        0\n",
      "Is Laundering         0\n",
      "dtype: int64\n",
      "9\n"
     ]
    }
   ],
   "source": [
    "print(df.head(5))\n",
    "print(df.info())\n",
    "print(df.isnull().sum())\n",
    "print(df.duplicated().sum())\n",
    "X = df[['Amount Received', 'Amount Paid']]\n",
    "scaler = StandardScaler()\n",
    "X_scaled = scaler.fit_transform(X)\n",
    "dbscan = DBSCAN(eps=0.5, min_samples=10)\n",
    "clusters = dbscan.fit_predict(X_scaled)\n",
    "df['Cluster'] = clusters\n",
    "suspicious_transactions = df[df['Cluster'] == -1]\n",
    "print(suspicious_transactions)"
   ]
  },
  {
   "cell_type": "code",
   "execution_count": 6,
   "id": "3153a8c8",
   "metadata": {
    "ExecuteTime": {
     "end_time": "2023-05-23T10:33:28.788405Z",
     "start_time": "2023-05-23T10:33:17.271501Z"
    }
   },
   "outputs": [
    {
     "name": "stdout",
     "output_type": "stream",
     "text": [
      "Running PandasAI with openai LLM...\n",
      "\n",
      "Code generated:\n",
      "```\n",
      "import pandas as pd\n",
      "\n",
      "df = pd.read_csv('data.csv')\n",
      "\n",
      "print(df['Is Laundering'].value_counts())\n",
      "```\n",
      "\n",
      "Code running:\n",
      "```\n",
      "print(df['Is Laundering'].value_counts())\n",
      "```\n",
      "Answer: Is Laundering\n",
      "0    5073168\n",
      "1       5177\n",
      "Name: count, dtype: int64\n",
      "Conversational answer: Can you show me the unique frequency of the \"Is Laundering\" column? Sure, there are 5,073,168 rows with a value of 0 and 5,177 rows with a value of 1.\n"
     ]
    },
    {
     "data": {
      "text/plain": [
       "'Can you show me the unique frequency of the \"Is Laundering\" column? Sure, there are 5,073,168 rows with a value of 0 and 5,177 rows with a value of 1.'"
      ]
     },
     "execution_count": 6,
     "metadata": {},
     "output_type": "execute_result"
    }
   ],
   "source": [
    "pandas_ai.run(df, 'tampilkan frekuensi unik dari kolom \"Is Laundering\"')"
   ]
  },
  {
   "cell_type": "code",
   "execution_count": 8,
   "id": "97440e29",
   "metadata": {
    "ExecuteTime": {
     "end_time": "2023-05-23T10:39:10.759715Z",
     "start_time": "2023-05-23T10:38:04.709934Z"
    }
   },
   "outputs": [
    {
     "name": "stdout",
     "output_type": "stream",
     "text": [
      "Running PandasAI with openai LLM...\n",
      "\n",
      "Code generated:\n",
      "```\n",
      "# Import necessary libraries\n",
      "import pandas as pd\n",
      "from sklearn.cluster import KMeans\n",
      "\n",
      "# Load the dataframe\n",
      "df = pd.read_csv('data.csv')\n",
      "\n",
      "# Perform clustering on the 'Amount Received' and 'Amount Paid' columns\n",
      "X = df[['Amount Received', 'Amount Paid']]\n",
      "kmeans = KMeans(n_clusters=2, random_state=0).fit(X)\n",
      "df['Cluster'] = kmeans.labels_\n",
      "\n",
      "# Identify suspicious transactions based on clustering\n",
      "suspicious_transactions = df[df['Cluster'] == 1]\n",
      "\n",
      "# Save suspicious transactions to csv file\n",
      "suspicious_transactions.to_csv('suspicious_transactions.csv', index=False)\n",
      "```\n",
      "\n",
      "Code running:\n",
      "```\n",
      "X = df[['Amount Received', 'Amount Paid']]\n",
      "kmeans = KMeans(n_clusters=2, random_state=0).fit(X)\n",
      "df['Cluster'] = kmeans.labels_\n",
      "suspicious_transactions = df[df['Cluster'] == 1]\n",
      "suspicious_transactions.to_csv('suspicious_transactions.csv', index=False)\n",
      "```\n",
      "Answer: \n",
      "Conversational answer: Sure, based on the clustering results, we can identify and print out suspicious transactions that may be related to money laundering. We can save the output in a CSV format.\n"
     ]
    },
    {
     "data": {
      "text/plain": [
       "'Sure, based on the clustering results, we can identify and print out suspicious transactions that may be related to money laundering. We can save the output in a CSV format.'"
      ]
     },
     "execution_count": 8,
     "metadata": {},
     "output_type": "execute_result"
    }
   ],
   "source": [
    "pandas_ai.run(df, 'Identifikasi dan cetak transaksi yang dicurigai sebagai pencucian uang berdasarkan hasil clustering, simpan dalam format csv')"
   ]
  },
  {
   "cell_type": "code",
   "execution_count": 11,
   "id": "f350d90a",
   "metadata": {
    "ExecuteTime": {
     "end_time": "2023-05-23T10:45:27.038353Z",
     "start_time": "2023-05-23T10:45:24.181672Z"
    }
   },
   "outputs": [
    {
     "name": "stderr",
     "output_type": "stream",
     "text": [
      "/home/lambda_one/anaconda3/envs/pandas-ai/lib/python3.10/site-packages/sklearn/cluster/_kmeans.py:870: FutureWarning: The default value of `n_init` will change from 10 to 'auto' in 1.4. Set the value of `n_init` explicitly to suppress the warning\n",
      "  warnings.warn(\n"
     ]
    },
    {
     "name": "stdout",
     "output_type": "stream",
     "text": [
      "         Amount Received   Amount Paid  Is Laundering Day of Week   \n",
      "1711893     6.260355e+11  8.046315e+09              0      Friday  \\\n",
      "1711894     6.260355e+11  6.260355e+11              0      Friday   \n",
      "1773260     5.593344e+11  7.615794e+09              0      Friday   \n",
      "1773261     5.593344e+11  5.593344e+11              0      Friday   \n",
      "1773265     4.536185e+11  4.536185e+11              0      Friday   \n",
      "3130043     1.046302e+12  1.046302e+12              0     Tuesday   \n",
      "3437493     9.659333e+11  9.659333e+11              0   Wednesday   \n",
      "4466473     6.260355e+11  8.046315e+09              0      Friday   \n",
      "4466474     6.260355e+11  6.260355e+11              0      Friday   \n",
      "\n",
      "         Hour of Day  Cluster  \n",
      "1711893           18        1  \n",
      "1711894           18        1  \n",
      "1773260           20        1  \n",
      "1773261           20        1  \n",
      "1773265           20        1  \n",
      "3130043           17        1  \n",
      "3437493            8        1  \n",
      "4466473            8        1  \n",
      "4466474            8        1  \n"
     ]
    }
   ],
   "source": [
    "from sklearn.cluster import KMeans\n",
    "X = df[['Amount Received', 'Amount Paid']]\n",
    "kmeans = KMeans(n_clusters=2, random_state=0).fit(X)\n",
    "df['Cluster'] = kmeans.labels_\n",
    "suspicious_transactions = df[df['Cluster'] == 1]\n",
    "suspicious_transactions.to_csv('suspicious_transactions.csv', index=False)\n",
    "print(suspicious_transactions)"
   ]
  },
  {
   "cell_type": "code",
   "execution_count": 17,
   "id": "49a3aad8",
   "metadata": {
    "ExecuteTime": {
     "end_time": "2023-05-23T11:00:37.713200Z",
     "start_time": "2023-05-23T11:00:13.348089Z"
    }
   },
   "outputs": [
    {
     "name": "stdout",
     "output_type": "stream",
     "text": [
      "Running PandasAI with openai LLM...\n",
      "\n",
      "Code generated:\n",
      "```\n",
      "# Description of the dataframe\n",
      "# The dataframe has 5078345 rows and 6 columns.\n",
      "# The columns are 'Amount Received', 'Amount Paid', 'Is Laundering', 'Day of Week', 'Hour of Day', and 'Cluster'.\n",
      "# 'Amount Received' and 'Amount Paid' represent the amount of money received and paid in a transaction, respectively.\n",
      "# 'Is Laundering' is a binary variable indicating whether the transaction is suspected to be part of a money laundering scheme.\n",
      "# 'Day of Week' and 'Hour of Day' represent the day of the week and hour of the day when the transaction occurred, respectively.\n",
      "# 'Cluster' is a categorical variable indicating the cluster to which the transaction belongs.\n",
      "\n",
      "# Code to display all data with 'Is Laundering' value of 1\n",
      "df[df['Is Laundering'] == 1]\n",
      "```\n",
      "\n",
      "Code running:\n",
      "```\n",
      "df[df['Is Laundering'] == 1]\n",
      "```\n",
      "Answer:          Amount Received  Amount Paid  Is Laundering Day of Week  Hour of Day   \n",
      "4742           389769.39    389769.39              1    Thursday            0  \\\n",
      "40621           29024.33     29024.33              1    Thursday            0   \n",
      "69152             792.92       792.92              1    Thursday            0   \n",
      "85763        13171425.53  13171425.53              1    Thursday            0   \n",
      "90684           14288.83     14288.83              1    Thursday            0   \n",
      "...                  ...          ...            ...         ...          ...   \n",
      "5071168          7773.42      7773.42              1    Saturday           23   \n",
      "5073375        448920.65    448920.65              1    Saturday           23   \n",
      "5074248         20085.71     20085.71              1      Monday            3   \n",
      "5075056          3314.36      3314.36              1    Saturday           23   \n",
      "5077204       3564699.78   3564699.78              1    Saturday           23   \n",
      "\n",
      "         Cluster  \n",
      "4742           0  \n",
      "40621          0  \n",
      "69152          0  \n",
      "85763          0  \n",
      "90684          0  \n",
      "...          ...  \n",
      "5071168        0  \n",
      "5073375        0  \n",
      "5074248        0  \n",
      "5075056        0  \n",
      "5077204        0  \n",
      "\n",
      "[5177 rows x 6 columns]\n",
      "Conversational answer: To display all data with a value of 1 in the Is Laundering column, you can filter the dataset. This will show you all transactions where money laundering is suspected. The resulting table will include columns for Amount Received, Amount Paid, Day of Week, Hour of Day, and Cluster. There are a total of 5177 transactions that meet this criteria.\n"
     ]
    },
    {
     "data": {
      "text/plain": [
       "'To display all data with a value of 1 in the Is Laundering column, you can filter the dataset. This will show you all transactions where money laundering is suspected. The resulting table will include columns for Amount Received, Amount Paid, Day of Week, Hour of Day, and Cluster. There are a total of 5177 transactions that meet this criteria.'"
      ]
     },
     "execution_count": 17,
     "metadata": {},
     "output_type": "execute_result"
    }
   ],
   "source": [
    "pandas_ai.run(df, 'tampilkan semua data yang nilai Is Laundering nya 1')"
   ]
  },
  {
   "cell_type": "code",
   "execution_count": 16,
   "id": "182f1e68",
   "metadata": {
    "ExecuteTime": {
     "end_time": "2023-05-23T10:57:42.403924Z",
     "start_time": "2023-05-23T10:57:42.342152Z"
    }
   },
   "outputs": [],
   "source": [
    "df = dataframe\n",
    "df[df['Is Laundering'] == 1].to_csv('laundering_transactions.csv', index=False)"
   ]
  },
  {
   "cell_type": "code",
   "execution_count": 8,
   "id": "d669be27",
   "metadata": {},
   "outputs": [
    {
     "name": "stdout",
     "output_type": "stream",
     "text": [
      "Running PandasAI with openai LLM...\n",
      "\n",
      "Code generated:\n",
      "```\n",
      "unique_payment_currencies = df['Payment Currency'].unique()\n",
      "unique_payment_currencies\n",
      "```\n",
      "\n",
      "Code running:\n",
      "```\n",
      "unique_payment_currencies = df['Payment Currency'].unique()\n",
      "unique_payment_currencies\n",
      "```\n",
      "Answer: \n",
      "Conversational answer: Untuk menampilkan nilai unik dalam kolom Payment Currency, Anda perlu menggunakan metode yang sesuai dengan alat atau bahasa pemrograman yang Anda gunakan. Misalnya, jika Anda menggunakan Python dan pandas, Anda bisa menggunakan metode `unique()` pada kolom tersebut. Berikut contoh cara melakukannya:\n",
      "\n",
      "```python\n",
      "import pandas as pd\n",
      "\n",
      "# Membaca data dari file CSV\n",
      "data = pd.read_csv('nama_file.csv')\n",
      "\n",
      "# Menampilkan nilai unik dalam kolom Payment Currency\n",
      "nilai_unik = data['Payment Currency'].unique()\n",
      "\n",
      "print(nilai_unik)\n",
      "```\n",
      "\n",
      "Dengan cara ini, Anda akan melihat semua nilai unik yang ada dalam kolom Payment Currency. Jika Anda menggunakan alat atau bahasa pemrograman lain, metodenya mungkin berbeda.\n"
     ]
    },
    {
     "data": {
      "text/plain": [
       "\"Untuk menampilkan nilai unik dalam kolom Payment Currency, Anda perlu menggunakan metode yang sesuai dengan alat atau bahasa pemrograman yang Anda gunakan. Misalnya, jika Anda menggunakan Python dan pandas, Anda bisa menggunakan metode `unique()` pada kolom tersebut. Berikut contoh cara melakukannya:\\n\\n```python\\nimport pandas as pd\\n\\n# Membaca data dari file CSV\\ndata = pd.read_csv('nama_file.csv')\\n\\n# Menampilkan nilai unik dalam kolom Payment Currency\\nnilai_unik = data['Payment Currency'].unique()\\n\\nprint(nilai_unik)\\n```\\n\\nDengan cara ini, Anda akan melihat semua nilai unik yang ada dalam kolom Payment Currency. Jika Anda menggunakan alat atau bahasa pemrograman lain, metodenya mungkin berbeda.\""
      ]
     },
     "execution_count": 8,
     "metadata": {},
     "output_type": "execute_result"
    }
   ],
   "source": [
    "APUChat.run(df, 'Tampilkan nilai unik dalam kolom Payment Currency')"
   ]
  },
  {
   "cell_type": "code",
   "execution_count": 9,
   "id": "459cdd52",
   "metadata": {},
   "outputs": [
    {
     "data": {
      "text/plain": [
       "array(['US Dollar', 'Bitcoin', 'Euro', 'Australian Dollar', 'Yuan',\n",
       "       'Rupee', 'Yen', 'Mexican Peso', 'UK Pound', 'Ruble',\n",
       "       'Canadian Dollar', 'Swiss Franc', 'Brazil Real', 'Saudi Riyal',\n",
       "       'Shekel'], dtype=object)"
      ]
     },
     "execution_count": 9,
     "metadata": {},
     "output_type": "execute_result"
    }
   ],
   "source": [
    "unique_payment_currencies = df['Payment Currency'].unique()\n",
    "unique_payment_currencies"
   ]
  },
  {
   "cell_type": "code",
   "execution_count": 18,
   "id": "64ba0ebc",
   "metadata": {},
   "outputs": [
    {
     "name": "stdout",
     "output_type": "stream",
     "text": [
      "Running PandasAI with openai LLM...\n",
      "\n",
      "Code generated:\n",
      "```\n",
      "unique_payment_currency = df['Payment Currency'].unique()\n",
      "unique_payment_currency_df = pd.DataFrame(unique_payment_currency, columns=['Payment Currency'])\n",
      "unique_payment_currency_df.to_csv('unik_payment_currency.csv', index=False)\n",
      "```\n",
      "\n",
      "Code running:\n",
      "```\n",
      "unique_payment_currency = df['Payment Currency'].unique()\n",
      "unique_payment_currency_df = pd.DataFrame(unique_payment_currency, columns=\n",
      "    ['Payment Currency'])\n",
      "unique_payment_currency_df.to_csv('unik_payment_currency.csv', index=False)\n",
      "```\n",
      "Answer: \n"
     ]
    },
    {
     "data": {
      "text/plain": [
       "''"
      ]
     },
     "execution_count": 18,
     "metadata": {},
     "output_type": "execute_result"
    }
   ],
   "source": [
    "APUChat.run(df, 'Tampilkan nilai unik dalam kolom Payment Currency, simpan hasilnnya dengan nama unik_payment_currency.csv')"
   ]
  },
  {
   "cell_type": "code",
   "execution_count": 19,
   "id": "191c3246",
   "metadata": {},
   "outputs": [
    {
     "name": "stdout",
     "output_type": "stream",
     "text": [
      "Running PandasAI with openai LLM...\n"
     ]
    },
    {
     "data": {
      "image/png": "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",
      "text/plain": [
       "<Figure size 640x480 with 1 Axes>"
      ]
     },
     "metadata": {},
     "output_type": "display_data"
    },
    {
     "name": "stdout",
     "output_type": "stream",
     "text": [
      "\n",
      "Code generated:\n",
      "```\n",
      "import matplotlib.pyplot as plt\n",
      "\n",
      "payment_currency_counts = df['Payment Currency'].value_counts()\n",
      "payment_currency_counts.plot(kind='bar')\n",
      "plt.xlabel('Payment Currency')\n",
      "plt.ylabel('Frequency')\n",
      "plt.title('Frequency of Values in Payment Currency Column')\n",
      "plt.show()\n",
      "```\n",
      "\n",
      "Code running:\n",
      "```\n",
      "payment_currency_counts = df['Payment Currency'].value_counts()\n",
      "payment_currency_counts.plot(kind='bar')\n",
      "plt.xlabel('Payment Currency')\n",
      "plt.ylabel('Frequency')\n",
      "plt.title('Frequency of Values in Payment Currency Column')\n",
      "plt.show()\n",
      "```\n",
      "Answer: \n"
     ]
    },
    {
     "data": {
      "text/plain": [
       "''"
      ]
     },
     "execution_count": 19,
     "metadata": {},
     "output_type": "execute_result"
    }
   ],
   "source": [
    "APUChat.run(df,'Buat bar plot dari frekuensi nilai dalam kolom Payment Currency')"
   ]
  },
  {
   "cell_type": "code",
   "execution_count": 5,
   "id": "2710d066",
   "metadata": {
    "ExecuteTime": {
     "end_time": "2023-05-29T06:56:21.540501324Z",
     "start_time": "2023-05-29T06:56:18.094500147Z"
    }
   },
   "outputs": [
    {
     "name": "stdout",
     "output_type": "stream",
     "text": [
      "Running PandasAI with openai LLM...\n",
      "\n",
      "Code generated:\n",
      "```\n",
      "len(df)\n",
      "```\n",
      "\n",
      "Code running:\n",
      "```\n",
      "len(df)\n",
      "```\n",
      "Answer: 500000\n"
     ]
    },
    {
     "data": {
      "text/plain": "500000"
     },
     "execution_count": 5,
     "metadata": {},
     "output_type": "execute_result"
    }
   ],
   "source": [
    "APUChat.run(df,'berapa jumlah  baris pada dataframe ini ')"
   ]
  },
  {
   "cell_type": "code",
   "execution_count": 6,
   "outputs": [
    {
     "name": "stdout",
     "output_type": "stream",
     "text": [
      "Running PandasAI with openai LLM...\n",
      "\n",
      "Code generated:\n",
      "```\n",
      "# Filter transactions with Payment Format as 'Cash'\n",
      "cash_transactions = df[df['Payment Format'] == 'Cash']\n",
      "\n",
      "# Calculate the mean and standard deviation of Amount Received\n",
      "mean_amount_received = cash_transactions['Amount Received'].mean()\n",
      "std_amount_received = cash_transactions['Amount Received'].std()\n",
      "\n",
      "# Filter transactions with Amount Received outside the normal range (mean +/- 2*std)\n",
      "unusual_cash_transactions = cash_transactions[\n",
      "    (cash_transactions['Amount Received'] < mean_amount_received - 2 * std_amount_received) |\n",
      "    (cash_transactions['Amount Received'] > mean_amount_received + 2 * std_amount_received)\n",
      "]\n",
      "\n",
      "# Save the result to a CSV file\n",
      "unusual_cash_transactions.to_csv('Transaksi_Tunai_Di_Luar_Kebiasaan.csv', index=False)\n",
      "```\n",
      "\n",
      "Code running:\n",
      "```\n",
      "cash_transactions = df[df['Payment Format'] == 'Cash']\n",
      "mean_amount_received = cash_transactions['Amount Received'].mean()\n",
      "std_amount_received = cash_transactions['Amount Received'].std()\n",
      "unusual_cash_transactions = cash_transactions[(cash_transactions[\n",
      "    'Amount Received'] < mean_amount_received - 2 * std_amount_received) |\n",
      "    (cash_transactions['Amount Received'] > mean_amount_received + 2 *\n",
      "    std_amount_received)]\n",
      "unusual_cash_transactions.to_csv('Transaksi_Tunai_Di_Luar_Kebiasaan.csv',\n",
      "    index=False)\n",
      "```\n",
      "Answer: \n"
     ]
    },
    {
     "data": {
      "text/plain": "''"
     },
     "execution_count": 6,
     "metadata": {},
     "output_type": "execute_result"
    }
   ],
   "source": [
    "APUChat.run(df,'Berikan daftar transaksi yang dilakukan secara tunai dalam jumlah di luar kebiasaan yang dilakukan nasabah. Simpan hasilnya dalam format CSV dengan nama Transaksi_Tunai_Di_Luar_Kebiasaan.csv')"
   ],
   "metadata": {
    "collapsed": false,
    "ExecuteTime": {
     "end_time": "2023-05-29T06:58:35.620424491Z",
     "start_time": "2023-05-29T06:57:56.236771216Z"
    }
   }
  },
  {
   "cell_type": "code",
   "execution_count": null,
   "outputs": [],
   "source": [
    "print('Shape of the dataframe:', df.shape)\n",
    "print('Column names:', df.columns)\n",
    "print('Data types of each column:', df.dtypes)\n",
    "print('Summary of the dataframe:')\n",
    "print(df.describe())\n",
    "print('Number of unique values in each column:')\n",
    "for col in df.columns:\n",
    "    print(f'{col}: {df[col].nunique()}')\n",
    "print('Number of missing values in each column:')\n",
    "print(df.isnull().sum())"
   ],
   "metadata": {
    "collapsed": false
   }
  },
  {
   "cell_type": "code",
   "execution_count": 9,
   "outputs": [
    {
     "name": "stdout",
     "output_type": "stream",
     "text": [
      "Running PandasAI with openai LLM...\n",
      "\n",
      "Code generated:\n",
      "```\n",
      "import matplotlib.pyplot as plt\n",
      "\n",
      "df['Payment Format'].value_counts().plot(kind='bar', bins=10)\n",
      "plt.xlabel('Payment Format')\n",
      "plt.ylabel('Frequency')\n",
      "plt.title('Histogram of Payment Format')\n",
      "plt.show()\n",
      "```\n",
      "\n",
      "Code running:\n",
      "```\n",
      "df['Payment Format'].value_counts().plot(kind='bar', bins=10)\n",
      "plt.xlabel('Payment Format')\n",
      "plt.ylabel('Frequency')\n",
      "plt.title('Histogram of Payment Format')\n",
      "plt.show()\n",
      "```\n"
     ]
    },
    {
     "data": {
      "text/plain": "<Figure size 640x480 with 1 Axes>",
      "image/png": "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"
     },
     "metadata": {},
     "output_type": "display_data"
    },
    {
     "name": "stdout",
     "output_type": "stream",
     "text": [
      "Answer: \n"
     ]
    },
    {
     "data": {
      "text/plain": "''"
     },
     "execution_count": 9,
     "metadata": {},
     "output_type": "execute_result"
    }
   ],
   "source": [
    "pandas_ai.run(df, 'buat histogram dari kolom \"Payment Format\" dengan bins 10')"
   ],
   "metadata": {
    "collapsed": false,
    "ExecuteTime": {
     "end_time": "2023-05-27T09:21:53.521050974Z",
     "start_time": "2023-05-27T09:21:32.974478354Z"
    }
   }
  },
  {
   "cell_type": "code",
   "execution_count": 10,
   "outputs": [
    {
     "name": "stdout",
     "output_type": "stream",
     "text": [
      "Running PandasAI with openai LLM...\n",
      "\n",
      "Code generated:\n",
      "```\n",
      "import seaborn as sns\n",
      "import matplotlib.pyplot as plt\n",
      "\n",
      "sns.set(style=\"darkgrid\")\n",
      "plt.figure(figsize=(10, 6))\n",
      "sns.histplot(data=df, x='Receiving Currency', palette='bright')\n",
      "plt.show()\n",
      "```\n",
      "\n",
      "Code running:\n",
      "```\n",
      "sns.set(style='darkgrid')\n",
      "plt.figure(figsize=(10, 6))\n",
      "sns.histplot(data=df, x='Receiving Currency', palette='bright')\n",
      "plt.show()\n",
      "```\n",
      "Answer: \n"
     ]
    },
    {
     "data": {
      "text/plain": "''"
     },
     "execution_count": 10,
     "metadata": {},
     "output_type": "execute_result"
    }
   ],
   "source": [
    "pandas_ai.run(df, 'buat histogram dari kolom \"receiving currency, gunakan seaborn dan warna yang menarik')"
   ],
   "metadata": {
    "collapsed": false,
    "ExecuteTime": {
     "end_time": "2023-05-27T09:27:50.272118272Z",
     "start_time": "2023-05-27T09:27:08.323501899Z"
    }
   }
  },
  {
   "cell_type": "code",
   "execution_count": null,
   "outputs": [
    {
     "name": "stderr",
     "output_type": "stream",
     "text": [
      "/tmp/ipykernel_198340/3626837637.py:6: UserWarning: Ignoring `palette` because no `hue` variable has been assigned.\n",
      "  sns.histplot(data=df, x='Receiving Currency', palette='bright')\n"
     ]
    }
   ],
   "source": [
    "import seaborn as sns\n",
    "import matplotlib.pyplot as plt\n",
    "\n",
    "sns.set(style=\"darkgrid\")\n",
    "plt.figure(figsize=(10, 6))\n",
    "sns.histplot(data=df, x='Receiving Currency', palette='bright')\n",
    "plt.show()\n"
   ],
   "metadata": {
    "collapsed": false,
    "ExecuteTime": {
     "start_time": "2023-05-27T09:28:39.927047574Z"
    }
   }
  },
  {
   "cell_type": "code",
   "execution_count": 3,
   "outputs": [
    {
     "ename": "NameError",
     "evalue": "name 'dataframe' is not defined",
     "output_type": "error",
     "traceback": [
      "\u001B[0;31m---------------------------------------------------------------------------\u001B[0m",
      "\u001B[0;31mNameError\u001B[0m                                 Traceback (most recent call last)",
      "Cell \u001B[0;32mIn[3], line 4\u001B[0m\n\u001B[1;32m      1\u001B[0m \u001B[38;5;28;01mimport\u001B[39;00m \u001B[38;5;21;01mseaborn\u001B[39;00m \u001B[38;5;28;01mas\u001B[39;00m \u001B[38;5;21;01msns\u001B[39;00m\n\u001B[1;32m      2\u001B[0m \u001B[38;5;28;01mimport\u001B[39;00m \u001B[38;5;21;01mmatplotlib\u001B[39;00m\u001B[38;5;21;01m.\u001B[39;00m\u001B[38;5;21;01mpyplot\u001B[39;00m \u001B[38;5;28;01mas\u001B[39;00m \u001B[38;5;21;01mplt\u001B[39;00m\n\u001B[0;32m----> 4\u001B[0m df \u001B[38;5;241m=\u001B[39m \u001B[43mdataframe\u001B[49m\n\u001B[1;32m      5\u001B[0m sns\u001B[38;5;241m.\u001B[39mset(style\u001B[38;5;241m=\u001B[39m\u001B[38;5;124m\"\u001B[39m\u001B[38;5;124mdarkgrid\u001B[39m\u001B[38;5;124m\"\u001B[39m)\n\u001B[1;32m      6\u001B[0m plt\u001B[38;5;241m.\u001B[39mfigure(figsize\u001B[38;5;241m=\u001B[39m(\u001B[38;5;241m10\u001B[39m, \u001B[38;5;241m6\u001B[39m))\n",
      "\u001B[0;31mNameError\u001B[0m: name 'dataframe' is not defined"
     ]
    }
   ],
   "source": [
    "import seaborn as sns\n",
    "import matplotlib.pyplot as plt\n",
    "\n",
    "df = dataframe\n",
    "sns.set(style=\"darkgrid\")\n",
    "plt.figure(figsize=(10, 6))\n",
    "sns.histplot(data=df, x='Receiving Currency', palette='bright')\n",
    "plt.show()"
   ],
   "metadata": {
    "collapsed": false,
    "ExecuteTime": {
     "end_time": "2023-05-27T10:29:04.980362939Z",
     "start_time": "2023-05-27T10:29:04.977370978Z"
    }
   }
  },
  {
   "cell_type": "code",
   "execution_count": 1,
   "outputs": [
    {
     "data": {
      "text/plain": "<Figure size 500x500 with 1 Axes>",
      "image/png": "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"
     },
     "metadata": {},
     "output_type": "display_data"
    }
   ],
   "source": [
    "import seaborn as sns\n",
    "import matplotlib.pyplot as plt\n",
    "\n",
    "# Buat data\n",
    "tips = sns.load_dataset(\"tips\")\n",
    "\n",
    "# Buat plot\n",
    "sns.relplot(x=\"total_bill\", y=\"tip\", data=tips)\n",
    "\n",
    "# Tampilkan plot\n",
    "plt.show()\n"
   ],
   "metadata": {
    "collapsed": false,
    "ExecuteTime": {
     "end_time": "2023-05-27T10:28:25.751044213Z",
     "start_time": "2023-05-27T10:28:25.574686923Z"
    }
   }
  },
  {
   "cell_type": "code",
   "execution_count": null,
   "outputs": [],
   "source": [],
   "metadata": {
    "collapsed": false
   }
  }
 ],
 "metadata": {
  "kernelspec": {
   "display_name": "pandas-ai",
   "language": "python",
   "name": "pandas-ai"
  },
  "language_info": {
   "codemirror_mode": {
    "name": "ipython",
    "version": 3
   },
   "file_extension": ".py",
   "mimetype": "text/x-python",
   "name": "python",
   "nbconvert_exporter": "python",
   "pygments_lexer": "ipython3",
   "version": "3.10.10"
  }
 },
 "nbformat": 4,
 "nbformat_minor": 5
}
