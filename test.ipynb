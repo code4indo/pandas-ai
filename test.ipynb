{
 "cells": [
  {
   "cell_type": "code",
   "execution_count": null,
   "metadata": {
    "collapsed": true,
    "is_executing": true
   },
   "outputs": [],
   "source": [
    "\"\"\"Example of using PandasAI with a Pandas DataFrame\"\"\"\n",
    "\n",
    "import pandas as pd\n",
    "\n",
    "from pandasai import PandasAI\n",
    "from pandasai.llm.openai import OpenAI\n",
    "\n",
    "from examples.data.sample_dataframe import dataframe\n",
    "\n",
    "df = pd.DataFrame(dataframe)\n",
    "\n",
    "llm = OpenAI()\n",
    "pandas_ai = PandasAI(llm, verbose=True, conversational=False)\n",
    "response = pandas_ai(df, \"Calculate the sum of the gdp of north american countries\")\n",
    "print(response)\n",
    "# Output: 20901884461056"
   ]
  },
  {
   "cell_type": "code",
   "execution_count": null,
   "outputs": [],
   "source": [],
   "metadata": {
    "collapsed": false
   }
  }
 ],
 "metadata": {
  "kernelspec": {
   "display_name": "Python 3",
   "language": "python",
   "name": "python3"
  },
  "language_info": {
   "codemirror_mode": {
    "name": "ipython",
    "version": 2
   },
   "file_extension": ".py",
   "mimetype": "text/x-python",
   "name": "python",
   "nbconvert_exporter": "python",
   "pygments_lexer": "ipython2",
   "version": "2.7.6"
  }
 },
 "nbformat": 4,
 "nbformat_minor": 0
}
