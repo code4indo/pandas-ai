{
 "cells": [
  {
   "cell_type": "code",
   "execution_count": 31,
   "outputs": [],
   "source": [
    "import os\n",
    "from dotenv import load_dotenv\n",
    "import pandas as pd\n",
    "from pandasai import PandasAI\n",
    "from pandasai.llm.openai import OpenAI\n",
    "from examples.data.aml import dataframe"
   ],
   "metadata": {
    "collapsed": false,
    "ExecuteTime": {
     "start_time": "2023-05-22T16:18:26.914042Z",
     "end_time": "2023-05-22T16:18:26.918885Z"
    }
   }
  },
  {
   "cell_type": "code",
   "execution_count": 32,
   "outputs": [],
   "source": [
    "load_dotenv()\n",
    "# Dapatkan API key dari variabel lingkungan\n",
    "OPENAI_API_KEY = os.getenv(\"OPENAI_API_KEY\")\n",
    "# Inisialisasi OpenAI dengan API key yang dibaca\n",
    "llm = OpenAI()"
   ],
   "metadata": {
    "collapsed": false,
    "ExecuteTime": {
     "start_time": "2023-05-22T16:18:29.156155Z",
     "end_time": "2023-05-22T16:18:29.165835Z"
    }
   }
  },
  {
   "cell_type": "code",
   "execution_count": 34,
   "outputs": [],
   "source": [
    "#contoh sumber data yang berasal dari file csv yang disimpan di examples/data/Loan payments data.csv\n",
    "from pandasai.llm.openai import OpenAI\n",
    "APUChat = PandasAI(llm, verbose=True, conversational=True)\n",
    "df = pd.read_csv('examples/data/bank.csv')"
   ],
   "metadata": {
    "collapsed": false,
    "ExecuteTime": {
     "start_time": "2023-05-22T16:18:52.141988Z",
     "end_time": "2023-05-22T16:18:52.185554Z"
    }
   }
  },
  {
   "cell_type": "code",
   "execution_count": 19,
   "outputs": [
    {
     "name": "stdout",
     "output_type": "stream",
     "text": [
      "Running PandasAI with openai LLM...\n",
      "\n",
      "Code generated:\n",
      "```\n",
      "import pandas as pd\n",
      "\n",
      "# read the data from a csv file\n",
      "df = pd.read_csv('data.csv')\n",
      "\n",
      "# print the first 5 rows of the dataframe\n",
      "print(df.head(5))\n",
      "```\n",
      "\n",
      "Code running:\n",
      "```\n",
      "print(df.head(5))\n",
      "```\n",
      "Answer:    age          job  marital  education default  balance housing loan   \n",
      "0   30   unemployed  married    primary      no     1787      no   no  \\\n",
      "1   33     services  married  secondary      no     4789     yes  yes   \n",
      "2   35   management   single   tertiary      no     1350     yes   no   \n",
      "3   30   management  married   tertiary      no     1476     yes  yes   \n",
      "4   59  blue-collar  married  secondary      no        0     yes   no   \n",
      "\n",
      "    contact  day month  duration  campaign  pdays  previous poutcome   y  \n",
      "0  cellular   19   oct        79         1     -1         0  unknown  no  \n",
      "1  cellular   11   may       220         1    339         4  failure  no  \n",
      "2  cellular   16   apr       185         1    330         1  failure  no  \n",
      "3   unknown    3   jun       199         4     -1         0  unknown  no  \n",
      "4   unknown    5   may       226         1     -1         0  unknown  no  \n"
     ]
    },
    {
     "data": {
      "text/plain": "   age          job  marital  education default  balance housing loan   \n0   30   unemployed  married    primary      no     1787      no   no  \\\n1   33     services  married  secondary      no     4789     yes  yes   \n2   35   management   single   tertiary      no     1350     yes   no   \n3   30   management  married   tertiary      no     1476     yes  yes   \n4   59  blue-collar  married  secondary      no        0     yes   no   \n\n    contact  day month  duration  campaign  pdays  previous poutcome   y  \n0  cellular   19   oct        79         1     -1         0  unknown  no  \n1  cellular   11   may       220         1    339         4  failure  no  \n2  cellular   16   apr       185         1    330         1  failure  no  \n3   unknown    3   jun       199         4     -1         0  unknown  no  \n4   unknown    5   may       226         1     -1         0  unknown  no  ",
      "text/html": "<div>\n<style scoped>\n    .dataframe tbody tr th:only-of-type {\n        vertical-align: middle;\n    }\n\n    .dataframe tbody tr th {\n        vertical-align: top;\n    }\n\n    .dataframe thead th {\n        text-align: right;\n    }\n</style>\n<table border=\"1\" class=\"dataframe\">\n  <thead>\n    <tr style=\"text-align: right;\">\n      <th></th>\n      <th>age</th>\n      <th>job</th>\n      <th>marital</th>\n      <th>education</th>\n      <th>default</th>\n      <th>balance</th>\n      <th>housing</th>\n      <th>loan</th>\n      <th>contact</th>\n      <th>day</th>\n      <th>month</th>\n      <th>duration</th>\n      <th>campaign</th>\n      <th>pdays</th>\n      <th>previous</th>\n      <th>poutcome</th>\n      <th>y</th>\n    </tr>\n  </thead>\n  <tbody>\n    <tr>\n      <th>0</th>\n      <td>30</td>\n      <td>unemployed</td>\n      <td>married</td>\n      <td>primary</td>\n      <td>no</td>\n      <td>1787</td>\n      <td>no</td>\n      <td>no</td>\n      <td>cellular</td>\n      <td>19</td>\n      <td>oct</td>\n      <td>79</td>\n      <td>1</td>\n      <td>-1</td>\n      <td>0</td>\n      <td>unknown</td>\n      <td>no</td>\n    </tr>\n    <tr>\n      <th>1</th>\n      <td>33</td>\n      <td>services</td>\n      <td>married</td>\n      <td>secondary</td>\n      <td>no</td>\n      <td>4789</td>\n      <td>yes</td>\n      <td>yes</td>\n      <td>cellular</td>\n      <td>11</td>\n      <td>may</td>\n      <td>220</td>\n      <td>1</td>\n      <td>339</td>\n      <td>4</td>\n      <td>failure</td>\n      <td>no</td>\n    </tr>\n    <tr>\n      <th>2</th>\n      <td>35</td>\n      <td>management</td>\n      <td>single</td>\n      <td>tertiary</td>\n      <td>no</td>\n      <td>1350</td>\n      <td>yes</td>\n      <td>no</td>\n      <td>cellular</td>\n      <td>16</td>\n      <td>apr</td>\n      <td>185</td>\n      <td>1</td>\n      <td>330</td>\n      <td>1</td>\n      <td>failure</td>\n      <td>no</td>\n    </tr>\n    <tr>\n      <th>3</th>\n      <td>30</td>\n      <td>management</td>\n      <td>married</td>\n      <td>tertiary</td>\n      <td>no</td>\n      <td>1476</td>\n      <td>yes</td>\n      <td>yes</td>\n      <td>unknown</td>\n      <td>3</td>\n      <td>jun</td>\n      <td>199</td>\n      <td>4</td>\n      <td>-1</td>\n      <td>0</td>\n      <td>unknown</td>\n      <td>no</td>\n    </tr>\n    <tr>\n      <th>4</th>\n      <td>59</td>\n      <td>blue-collar</td>\n      <td>married</td>\n      <td>secondary</td>\n      <td>no</td>\n      <td>0</td>\n      <td>yes</td>\n      <td>no</td>\n      <td>unknown</td>\n      <td>5</td>\n      <td>may</td>\n      <td>226</td>\n      <td>1</td>\n      <td>-1</td>\n      <td>0</td>\n      <td>unknown</td>\n      <td>no</td>\n    </tr>\n  </tbody>\n</table>\n</div>"
     },
     "execution_count": 19,
     "metadata": {},
     "output_type": "execute_result"
    }
   ],
   "source": [
    "APUChat(df, 'tampilkan 5 baris pertama dari data')"
   ],
   "metadata": {
    "collapsed": false,
    "ExecuteTime": {
     "start_time": "2023-05-22T15:50:45.893202Z",
     "end_time": "2023-05-22T15:51:23.328401Z"
    }
   }
  },
  {
   "cell_type": "code",
   "execution_count": 20,
   "outputs": [
    {
     "name": "stdout",
     "output_type": "stream",
     "text": [
      "Running PandasAI with openai LLM...\n",
      "\n",
      "Code generated:\n",
      "```\n",
      "df.tail(5)\n",
      "```\n",
      "\n",
      "Code running:\n",
      "```\n",
      "df.tail(5)\n",
      "```\n",
      "Answer:       age            job  marital  education default  balance housing loan   \n",
      "4516   33       services  married  secondary      no     -333     yes   no  \\\n",
      "4517   57  self-employed  married   tertiary     yes    -3313     yes  yes   \n",
      "4518   57     technician  married  secondary      no      295      no   no   \n",
      "4519   28    blue-collar  married  secondary      no     1137      no   no   \n",
      "4520   44   entrepreneur   single   tertiary      no     1136     yes  yes   \n",
      "\n",
      "       contact  day month  duration  campaign  pdays  previous poutcome   y  \n",
      "4516  cellular   30   jul       329         5     -1         0  unknown  no  \n",
      "4517   unknown    9   may       153         1     -1         0  unknown  no  \n",
      "4518  cellular   19   aug       151        11     -1         0  unknown  no  \n",
      "4519  cellular    6   feb       129         4    211         3    other  no  \n",
      "4520  cellular    3   apr       345         2    249         7    other  no  \n"
     ]
    },
    {
     "data": {
      "text/plain": "      age            job  marital  education default  balance housing loan   \n4516   33       services  married  secondary      no     -333     yes   no  \\\n4517   57  self-employed  married   tertiary     yes    -3313     yes  yes   \n4518   57     technician  married  secondary      no      295      no   no   \n4519   28    blue-collar  married  secondary      no     1137      no   no   \n4520   44   entrepreneur   single   tertiary      no     1136     yes  yes   \n\n       contact  day month  duration  campaign  pdays  previous poutcome   y  \n4516  cellular   30   jul       329         5     -1         0  unknown  no  \n4517   unknown    9   may       153         1     -1         0  unknown  no  \n4518  cellular   19   aug       151        11     -1         0  unknown  no  \n4519  cellular    6   feb       129         4    211         3    other  no  \n4520  cellular    3   apr       345         2    249         7    other  no  ",
      "text/html": "<div>\n<style scoped>\n    .dataframe tbody tr th:only-of-type {\n        vertical-align: middle;\n    }\n\n    .dataframe tbody tr th {\n        vertical-align: top;\n    }\n\n    .dataframe thead th {\n        text-align: right;\n    }\n</style>\n<table border=\"1\" class=\"dataframe\">\n  <thead>\n    <tr style=\"text-align: right;\">\n      <th></th>\n      <th>age</th>\n      <th>job</th>\n      <th>marital</th>\n      <th>education</th>\n      <th>default</th>\n      <th>balance</th>\n      <th>housing</th>\n      <th>loan</th>\n      <th>contact</th>\n      <th>day</th>\n      <th>month</th>\n      <th>duration</th>\n      <th>campaign</th>\n      <th>pdays</th>\n      <th>previous</th>\n      <th>poutcome</th>\n      <th>y</th>\n    </tr>\n  </thead>\n  <tbody>\n    <tr>\n      <th>4516</th>\n      <td>33</td>\n      <td>services</td>\n      <td>married</td>\n      <td>secondary</td>\n      <td>no</td>\n      <td>-333</td>\n      <td>yes</td>\n      <td>no</td>\n      <td>cellular</td>\n      <td>30</td>\n      <td>jul</td>\n      <td>329</td>\n      <td>5</td>\n      <td>-1</td>\n      <td>0</td>\n      <td>unknown</td>\n      <td>no</td>\n    </tr>\n    <tr>\n      <th>4517</th>\n      <td>57</td>\n      <td>self-employed</td>\n      <td>married</td>\n      <td>tertiary</td>\n      <td>yes</td>\n      <td>-3313</td>\n      <td>yes</td>\n      <td>yes</td>\n      <td>unknown</td>\n      <td>9</td>\n      <td>may</td>\n      <td>153</td>\n      <td>1</td>\n      <td>-1</td>\n      <td>0</td>\n      <td>unknown</td>\n      <td>no</td>\n    </tr>\n    <tr>\n      <th>4518</th>\n      <td>57</td>\n      <td>technician</td>\n      <td>married</td>\n      <td>secondary</td>\n      <td>no</td>\n      <td>295</td>\n      <td>no</td>\n      <td>no</td>\n      <td>cellular</td>\n      <td>19</td>\n      <td>aug</td>\n      <td>151</td>\n      <td>11</td>\n      <td>-1</td>\n      <td>0</td>\n      <td>unknown</td>\n      <td>no</td>\n    </tr>\n    <tr>\n      <th>4519</th>\n      <td>28</td>\n      <td>blue-collar</td>\n      <td>married</td>\n      <td>secondary</td>\n      <td>no</td>\n      <td>1137</td>\n      <td>no</td>\n      <td>no</td>\n      <td>cellular</td>\n      <td>6</td>\n      <td>feb</td>\n      <td>129</td>\n      <td>4</td>\n      <td>211</td>\n      <td>3</td>\n      <td>other</td>\n      <td>no</td>\n    </tr>\n    <tr>\n      <th>4520</th>\n      <td>44</td>\n      <td>entrepreneur</td>\n      <td>single</td>\n      <td>tertiary</td>\n      <td>no</td>\n      <td>1136</td>\n      <td>yes</td>\n      <td>yes</td>\n      <td>cellular</td>\n      <td>3</td>\n      <td>apr</td>\n      <td>345</td>\n      <td>2</td>\n      <td>249</td>\n      <td>7</td>\n      <td>other</td>\n      <td>no</td>\n    </tr>\n  </tbody>\n</table>\n</div>"
     },
     "execution_count": 20,
     "metadata": {},
     "output_type": "execute_result"
    }
   ],
   "source": [
    "APUChat(df, 'tampilkan 5 baris terakhir dari data')"
   ],
   "metadata": {
    "collapsed": false,
    "ExecuteTime": {
     "start_time": "2023-05-22T15:53:23.157917Z",
     "end_time": "2023-05-22T15:53:58.740094Z"
    }
   }
  },
  {
   "cell_type": "code",
   "execution_count": 21,
   "outputs": [
    {
     "name": "stdout",
     "output_type": "stream",
     "text": [
      "Running PandasAI with openai LLM...\n",
      "\n",
      "Code generated:\n",
      "```\n",
      "len(df)\n",
      "```\n",
      "\n",
      "Code running:\n",
      "```\n",
      "len(df)\n",
      "```\n",
      "Answer: 4521\n"
     ]
    },
    {
     "data": {
      "text/plain": "4521"
     },
     "execution_count": 21,
     "metadata": {},
     "output_type": "execute_result"
    }
   ],
   "source": [
    "APUChat(df, 'berapa banayak baris pada dataframe?')"
   ],
   "metadata": {
    "collapsed": false,
    "ExecuteTime": {
     "start_time": "2023-05-22T15:54:55.362250Z",
     "end_time": "2023-05-22T15:54:58.035729Z"
    }
   }
  },
  {
   "cell_type": "code",
   "execution_count": 22,
   "outputs": [
    {
     "name": "stdout",
     "output_type": "stream",
     "text": [
      "Running PandasAI with openai LLM...\n",
      "\n",
      "Code generated:\n",
      "```\n",
      "import pandas as pd\n",
      "\n",
      "# read the csv file into a pandas dataframe\n",
      "df = pd.read_csv('filename.csv')\n",
      "\n",
      "# print the number of rows and columns in the dataframe\n",
      "print(\"Number of rows:\", len(df))\n",
      "print(\"Number of columns:\", len(df.columns))\n",
      "```\n",
      "\n",
      "Code running:\n",
      "```\n",
      "print('Number of rows:', len(df))\n",
      "print('Number of columns:', len(df.columns))\n",
      "```\n",
      "Answer: ('Number of columns:', 17)\n"
     ]
    },
    {
     "data": {
      "text/plain": "('Number of columns:', 17)"
     },
     "execution_count": 22,
     "metadata": {},
     "output_type": "execute_result"
    }
   ],
   "source": [
    "APUChat(df, 'berapa banyak elemen pada dataframe?')"
   ],
   "metadata": {
    "collapsed": false,
    "ExecuteTime": {
     "start_time": "2023-05-22T15:55:19.560196Z",
     "end_time": "2023-05-22T15:55:34.116488Z"
    }
   }
  },
  {
   "cell_type": "code",
   "execution_count": 23,
   "outputs": [
    {
     "name": "stdout",
     "output_type": "stream",
     "text": [
      "Running PandasAI with openai LLM...\n",
      "\n",
      "Code generated:\n",
      "```\n",
      "print(df.columns)\n",
      "```\n",
      "\n",
      "Code running:\n",
      "```\n",
      "print(df.columns)\n",
      "```\n",
      "Answer: Index(['age', 'job', 'marital', 'education', 'default', 'balance', 'housing',\n",
      "       'loan', 'contact', 'day', 'month', 'duration', 'campaign', 'pdays',\n",
      "       'previous', 'poutcome', 'y'],\n",
      "      dtype='object')\n"
     ]
    },
    {
     "data": {
      "text/plain": "Index(['age', 'job', 'marital', 'education', 'default', 'balance', 'housing',\n       'loan', 'contact', 'day', 'month', 'duration', 'campaign', 'pdays',\n       'previous', 'poutcome', 'y'],\n      dtype='object')"
     },
     "execution_count": 23,
     "metadata": {},
     "output_type": "execute_result"
    }
   ],
   "source": [
    "APUChat(df, 'apa nama kolom pada dataframe?')"
   ],
   "metadata": {
    "collapsed": false,
    "ExecuteTime": {
     "start_time": "2023-05-22T15:56:33.848681Z",
     "end_time": "2023-05-22T15:56:43.866340Z"
    }
   }
  },
  {
   "cell_type": "code",
   "execution_count": 24,
   "outputs": [
    {
     "name": "stdout",
     "output_type": "stream",
     "text": [
      "Running PandasAI with openai LLM...\n",
      "\n",
      "Code generated:\n",
      "```\n",
      "# Summary of numeric columns\n",
      "df.describe()\n",
      "```\n",
      "\n",
      "Code running:\n",
      "```\n",
      "df.describe()\n",
      "```\n",
      "Answer:                age       balance          day     duration     campaign   \n",
      "count  4521.000000   4521.000000  4521.000000  4521.000000  4521.000000  \\\n",
      "mean     41.170095   1422.657819    15.915284   263.961292     2.793630   \n",
      "std      10.576211   3009.638142     8.247667   259.856633     3.109807   \n",
      "min      19.000000  -3313.000000     1.000000     4.000000     1.000000   \n",
      "25%      33.000000     69.000000     9.000000   104.000000     1.000000   \n",
      "50%      39.000000    444.000000    16.000000   185.000000     2.000000   \n",
      "75%      49.000000   1480.000000    21.000000   329.000000     3.000000   \n",
      "max      87.000000  71188.000000    31.000000  3025.000000    50.000000   \n",
      "\n",
      "             pdays     previous  \n",
      "count  4521.000000  4521.000000  \n",
      "mean     39.766645     0.542579  \n",
      "std     100.121124     1.693562  \n",
      "min      -1.000000     0.000000  \n",
      "25%      -1.000000     0.000000  \n",
      "50%      -1.000000     0.000000  \n",
      "75%      -1.000000     0.000000  \n",
      "max     871.000000    25.000000  \n"
     ]
    },
    {
     "data": {
      "text/plain": "               age       balance          day     duration     campaign   \ncount  4521.000000   4521.000000  4521.000000  4521.000000  4521.000000  \\\nmean     41.170095   1422.657819    15.915284   263.961292     2.793630   \nstd      10.576211   3009.638142     8.247667   259.856633     3.109807   \nmin      19.000000  -3313.000000     1.000000     4.000000     1.000000   \n25%      33.000000     69.000000     9.000000   104.000000     1.000000   \n50%      39.000000    444.000000    16.000000   185.000000     2.000000   \n75%      49.000000   1480.000000    21.000000   329.000000     3.000000   \nmax      87.000000  71188.000000    31.000000  3025.000000    50.000000   \n\n             pdays     previous  \ncount  4521.000000  4521.000000  \nmean     39.766645     0.542579  \nstd     100.121124     1.693562  \nmin      -1.000000     0.000000  \n25%      -1.000000     0.000000  \n50%      -1.000000     0.000000  \n75%      -1.000000     0.000000  \nmax     871.000000    25.000000  ",
      "text/html": "<div>\n<style scoped>\n    .dataframe tbody tr th:only-of-type {\n        vertical-align: middle;\n    }\n\n    .dataframe tbody tr th {\n        vertical-align: top;\n    }\n\n    .dataframe thead th {\n        text-align: right;\n    }\n</style>\n<table border=\"1\" class=\"dataframe\">\n  <thead>\n    <tr style=\"text-align: right;\">\n      <th></th>\n      <th>age</th>\n      <th>balance</th>\n      <th>day</th>\n      <th>duration</th>\n      <th>campaign</th>\n      <th>pdays</th>\n      <th>previous</th>\n    </tr>\n  </thead>\n  <tbody>\n    <tr>\n      <th>count</th>\n      <td>4521.000000</td>\n      <td>4521.000000</td>\n      <td>4521.000000</td>\n      <td>4521.000000</td>\n      <td>4521.000000</td>\n      <td>4521.000000</td>\n      <td>4521.000000</td>\n    </tr>\n    <tr>\n      <th>mean</th>\n      <td>41.170095</td>\n      <td>1422.657819</td>\n      <td>15.915284</td>\n      <td>263.961292</td>\n      <td>2.793630</td>\n      <td>39.766645</td>\n      <td>0.542579</td>\n    </tr>\n    <tr>\n      <th>std</th>\n      <td>10.576211</td>\n      <td>3009.638142</td>\n      <td>8.247667</td>\n      <td>259.856633</td>\n      <td>3.109807</td>\n      <td>100.121124</td>\n      <td>1.693562</td>\n    </tr>\n    <tr>\n      <th>min</th>\n      <td>19.000000</td>\n      <td>-3313.000000</td>\n      <td>1.000000</td>\n      <td>4.000000</td>\n      <td>1.000000</td>\n      <td>-1.000000</td>\n      <td>0.000000</td>\n    </tr>\n    <tr>\n      <th>25%</th>\n      <td>33.000000</td>\n      <td>69.000000</td>\n      <td>9.000000</td>\n      <td>104.000000</td>\n      <td>1.000000</td>\n      <td>-1.000000</td>\n      <td>0.000000</td>\n    </tr>\n    <tr>\n      <th>50%</th>\n      <td>39.000000</td>\n      <td>444.000000</td>\n      <td>16.000000</td>\n      <td>185.000000</td>\n      <td>2.000000</td>\n      <td>-1.000000</td>\n      <td>0.000000</td>\n    </tr>\n    <tr>\n      <th>75%</th>\n      <td>49.000000</td>\n      <td>1480.000000</td>\n      <td>21.000000</td>\n      <td>329.000000</td>\n      <td>3.000000</td>\n      <td>-1.000000</td>\n      <td>0.000000</td>\n    </tr>\n    <tr>\n      <th>max</th>\n      <td>87.000000</td>\n      <td>71188.000000</td>\n      <td>31.000000</td>\n      <td>3025.000000</td>\n      <td>50.000000</td>\n      <td>871.000000</td>\n      <td>25.000000</td>\n    </tr>\n  </tbody>\n</table>\n</div>"
     },
     "execution_count": 24,
     "metadata": {},
     "output_type": "execute_result"
    }
   ],
   "source": [
    "APUChat(df, 'berikan ringkasan kolom numeric pada dataset')"
   ],
   "metadata": {
    "collapsed": false,
    "ExecuteTime": {
     "start_time": "2023-05-22T15:57:30.609418Z",
     "end_time": "2023-05-22T15:57:33.348530Z"
    }
   }
  },
  {
   "cell_type": "code",
   "execution_count": 25,
   "outputs": [
    {
     "name": "stdout",
     "output_type": "stream",
     "text": [
      "Running PandasAI with openai LLM...\n",
      "\n",
      "Code generated:\n",
      "```\n",
      "import pandas as pd\n",
      "import numpy as np\n",
      "\n",
      "# read the dataframe\n",
      "df = pd.read_csv('data.csv')\n",
      "\n",
      "# select only numeric columns\n",
      "numeric_cols = df.select_dtypes(include=[np.number]).columns.tolist()\n",
      "\n",
      "# calculate standard deviation for each numeric column\n",
      "std_devs = df[numeric_cols].std()\n",
      "\n",
      "print(std_devs)\n",
      "```\n",
      "\n",
      "Code running:\n",
      "```\n",
      "import numpy as np\n",
      "numeric_cols = df.select_dtypes(include=[np.number]).columns.tolist()\n",
      "std_devs = df[numeric_cols].std()\n",
      "print(std_devs)\n",
      "```\n",
      "Answer: \n"
     ]
    },
    {
     "data": {
      "text/plain": "''"
     },
     "execution_count": 25,
     "metadata": {},
     "output_type": "execute_result"
    }
   ],
   "source": [
    "APUChat(df, 'hitung stadar deviasi dari kolom numeric pada dataset')"
   ],
   "metadata": {
    "collapsed": false,
    "ExecuteTime": {
     "start_time": "2023-05-22T15:58:31.470681Z",
     "end_time": "2023-05-22T15:59:16.782794Z"
    }
   }
  },
  {
   "cell_type": "code",
   "execution_count": 26,
   "outputs": [
    {
     "name": "stdout",
     "output_type": "stream",
     "text": [
      "Running PandasAI with openai LLM...\n",
      "\n",
      "Code generated:\n",
      "```\n",
      "import pandas as pd\n",
      "\n",
      "# read the data into a pandas dataframe\n",
      "df = pd.read_csv('data.csv')\n",
      "\n",
      "# describe the age column\n",
      "age_stats = df['age'].describe()\n",
      "\n",
      "print(age_stats)\n",
      "```\n",
      "\n",
      "Code running:\n",
      "```\n",
      "age_stats = df['age'].describe()\n",
      "print(age_stats)\n",
      "```\n",
      "Answer: count    4521.000000\n",
      "mean       41.170095\n",
      "std        10.576211\n",
      "min        19.000000\n",
      "25%        33.000000\n",
      "50%        39.000000\n",
      "75%        49.000000\n",
      "max        87.000000\n",
      "Name: age, dtype: float64\n",
      "\n"
     ]
    },
    {
     "data": {
      "text/plain": "'count    4521.000000\\nmean       41.170095\\nstd        10.576211\\nmin        19.000000\\n25%        33.000000\\n50%        39.000000\\n75%        49.000000\\nmax        87.000000\\nName: age, dtype: float64\\n'"
     },
     "execution_count": 26,
     "metadata": {},
     "output_type": "execute_result"
    }
   ],
   "source": [
    "APUChat(df, 'hitung statistik dasar dari kolom age')"
   ],
   "metadata": {
    "collapsed": false,
    "ExecuteTime": {
     "start_time": "2023-05-22T16:01:42.535190Z",
     "end_time": "2023-05-22T16:01:59.033470Z"
    }
   }
  },
  {
   "cell_type": "code",
   "execution_count": 27,
   "outputs": [
    {
     "name": "stdout",
     "output_type": "stream",
     "text": [
      "Running PandasAI with openai LLM...\n",
      "\n",
      "Code generated:\n",
      "```\n",
      "import pandas as pd\n",
      "\n",
      "# read the data from a csv file\n",
      "df = pd.read_csv('data.csv')\n",
      "\n",
      "# display the first 20 rows of the dataframe\n",
      "print(df.head(20))\n",
      "```\n",
      "\n",
      "Code running:\n",
      "```\n",
      "print(df.head(20))\n",
      "```\n",
      "Answer:     age            job  marital  education default  balance housing loan   \n",
      "0    30     unemployed  married    primary      no     1787      no   no  \\\n",
      "1    33       services  married  secondary      no     4789     yes  yes   \n",
      "2    35     management   single   tertiary      no     1350     yes   no   \n",
      "3    30     management  married   tertiary      no     1476     yes  yes   \n",
      "4    59    blue-collar  married  secondary      no        0     yes   no   \n",
      "5    35     management   single   tertiary      no      747      no   no   \n",
      "6    36  self-employed  married   tertiary      no      307     yes   no   \n",
      "7    39     technician  married  secondary      no      147     yes   no   \n",
      "8    41   entrepreneur  married   tertiary      no      221     yes   no   \n",
      "9    43       services  married    primary      no      -88     yes  yes   \n",
      "10   39       services  married  secondary      no     9374     yes   no   \n",
      "11   43         admin.  married  secondary      no      264     yes   no   \n",
      "12   36     technician  married   tertiary      no     1109      no   no   \n",
      "13   20        student   single  secondary      no      502      no   no   \n",
      "14   31    blue-collar  married  secondary      no      360     yes  yes   \n",
      "15   40     management  married   tertiary      no      194      no  yes   \n",
      "16   56     technician  married  secondary      no     4073      no   no   \n",
      "17   37         admin.   single   tertiary      no     2317     yes   no   \n",
      "18   25    blue-collar   single    primary      no     -221     yes   no   \n",
      "19   31       services  married  secondary      no      132      no   no   \n",
      "\n",
      "     contact  day month  duration  campaign  pdays  previous poutcome    y  \n",
      "0   cellular   19   oct        79         1     -1         0  unknown   no  \n",
      "1   cellular   11   may       220         1    339         4  failure   no  \n",
      "2   cellular   16   apr       185         1    330         1  failure   no  \n",
      "3    unknown    3   jun       199         4     -1         0  unknown   no  \n",
      "4    unknown    5   may       226         1     -1         0  unknown   no  \n",
      "5   cellular   23   feb       141         2    176         3  failure   no  \n",
      "6   cellular   14   may       341         1    330         2    other   no  \n",
      "7   cellular    6   may       151         2     -1         0  unknown   no  \n",
      "8    unknown   14   may        57         2     -1         0  unknown   no  \n",
      "9   cellular   17   apr       313         1    147         2  failure   no  \n",
      "10   unknown   20   may       273         1     -1         0  unknown   no  \n",
      "11  cellular   17   apr       113         2     -1         0  unknown   no  \n",
      "12  cellular   13   aug       328         2     -1         0  unknown   no  \n",
      "13  cellular   30   apr       261         1     -1         0  unknown  yes  \n",
      "14  cellular   29   jan        89         1    241         1  failure   no  \n",
      "15  cellular   29   aug       189         2     -1         0  unknown   no  \n",
      "16  cellular   27   aug       239         5     -1         0  unknown   no  \n",
      "17  cellular   20   apr       114         1    152         2  failure   no  \n",
      "18   unknown   23   may       250         1     -1         0  unknown   no  \n",
      "19  cellular    7   jul       148         1    152         1    other   no  \n"
     ]
    },
    {
     "data": {
      "text/plain": "    age            job  marital  education default  balance housing loan   \n0    30     unemployed  married    primary      no     1787      no   no  \\\n1    33       services  married  secondary      no     4789     yes  yes   \n2    35     management   single   tertiary      no     1350     yes   no   \n3    30     management  married   tertiary      no     1476     yes  yes   \n4    59    blue-collar  married  secondary      no        0     yes   no   \n5    35     management   single   tertiary      no      747      no   no   \n6    36  self-employed  married   tertiary      no      307     yes   no   \n7    39     technician  married  secondary      no      147     yes   no   \n8    41   entrepreneur  married   tertiary      no      221     yes   no   \n9    43       services  married    primary      no      -88     yes  yes   \n10   39       services  married  secondary      no     9374     yes   no   \n11   43         admin.  married  secondary      no      264     yes   no   \n12   36     technician  married   tertiary      no     1109      no   no   \n13   20        student   single  secondary      no      502      no   no   \n14   31    blue-collar  married  secondary      no      360     yes  yes   \n15   40     management  married   tertiary      no      194      no  yes   \n16   56     technician  married  secondary      no     4073      no   no   \n17   37         admin.   single   tertiary      no     2317     yes   no   \n18   25    blue-collar   single    primary      no     -221     yes   no   \n19   31       services  married  secondary      no      132      no   no   \n\n     contact  day month  duration  campaign  pdays  previous poutcome    y  \n0   cellular   19   oct        79         1     -1         0  unknown   no  \n1   cellular   11   may       220         1    339         4  failure   no  \n2   cellular   16   apr       185         1    330         1  failure   no  \n3    unknown    3   jun       199         4     -1         0  unknown   no  \n4    unknown    5   may       226         1     -1         0  unknown   no  \n5   cellular   23   feb       141         2    176         3  failure   no  \n6   cellular   14   may       341         1    330         2    other   no  \n7   cellular    6   may       151         2     -1         0  unknown   no  \n8    unknown   14   may        57         2     -1         0  unknown   no  \n9   cellular   17   apr       313         1    147         2  failure   no  \n10   unknown   20   may       273         1     -1         0  unknown   no  \n11  cellular   17   apr       113         2     -1         0  unknown   no  \n12  cellular   13   aug       328         2     -1         0  unknown   no  \n13  cellular   30   apr       261         1     -1         0  unknown  yes  \n14  cellular   29   jan        89         1    241         1  failure   no  \n15  cellular   29   aug       189         2     -1         0  unknown   no  \n16  cellular   27   aug       239         5     -1         0  unknown   no  \n17  cellular   20   apr       114         1    152         2  failure   no  \n18   unknown   23   may       250         1     -1         0  unknown   no  \n19  cellular    7   jul       148         1    152         1    other   no  ",
      "text/html": "<div>\n<style scoped>\n    .dataframe tbody tr th:only-of-type {\n        vertical-align: middle;\n    }\n\n    .dataframe tbody tr th {\n        vertical-align: top;\n    }\n\n    .dataframe thead th {\n        text-align: right;\n    }\n</style>\n<table border=\"1\" class=\"dataframe\">\n  <thead>\n    <tr style=\"text-align: right;\">\n      <th></th>\n      <th>age</th>\n      <th>job</th>\n      <th>marital</th>\n      <th>education</th>\n      <th>default</th>\n      <th>balance</th>\n      <th>housing</th>\n      <th>loan</th>\n      <th>contact</th>\n      <th>day</th>\n      <th>month</th>\n      <th>duration</th>\n      <th>campaign</th>\n      <th>pdays</th>\n      <th>previous</th>\n      <th>poutcome</th>\n      <th>y</th>\n    </tr>\n  </thead>\n  <tbody>\n    <tr>\n      <th>0</th>\n      <td>30</td>\n      <td>unemployed</td>\n      <td>married</td>\n      <td>primary</td>\n      <td>no</td>\n      <td>1787</td>\n      <td>no</td>\n      <td>no</td>\n      <td>cellular</td>\n      <td>19</td>\n      <td>oct</td>\n      <td>79</td>\n      <td>1</td>\n      <td>-1</td>\n      <td>0</td>\n      <td>unknown</td>\n      <td>no</td>\n    </tr>\n    <tr>\n      <th>1</th>\n      <td>33</td>\n      <td>services</td>\n      <td>married</td>\n      <td>secondary</td>\n      <td>no</td>\n      <td>4789</td>\n      <td>yes</td>\n      <td>yes</td>\n      <td>cellular</td>\n      <td>11</td>\n      <td>may</td>\n      <td>220</td>\n      <td>1</td>\n      <td>339</td>\n      <td>4</td>\n      <td>failure</td>\n      <td>no</td>\n    </tr>\n    <tr>\n      <th>2</th>\n      <td>35</td>\n      <td>management</td>\n      <td>single</td>\n      <td>tertiary</td>\n      <td>no</td>\n      <td>1350</td>\n      <td>yes</td>\n      <td>no</td>\n      <td>cellular</td>\n      <td>16</td>\n      <td>apr</td>\n      <td>185</td>\n      <td>1</td>\n      <td>330</td>\n      <td>1</td>\n      <td>failure</td>\n      <td>no</td>\n    </tr>\n    <tr>\n      <th>3</th>\n      <td>30</td>\n      <td>management</td>\n      <td>married</td>\n      <td>tertiary</td>\n      <td>no</td>\n      <td>1476</td>\n      <td>yes</td>\n      <td>yes</td>\n      <td>unknown</td>\n      <td>3</td>\n      <td>jun</td>\n      <td>199</td>\n      <td>4</td>\n      <td>-1</td>\n      <td>0</td>\n      <td>unknown</td>\n      <td>no</td>\n    </tr>\n    <tr>\n      <th>4</th>\n      <td>59</td>\n      <td>blue-collar</td>\n      <td>married</td>\n      <td>secondary</td>\n      <td>no</td>\n      <td>0</td>\n      <td>yes</td>\n      <td>no</td>\n      <td>unknown</td>\n      <td>5</td>\n      <td>may</td>\n      <td>226</td>\n      <td>1</td>\n      <td>-1</td>\n      <td>0</td>\n      <td>unknown</td>\n      <td>no</td>\n    </tr>\n    <tr>\n      <th>5</th>\n      <td>35</td>\n      <td>management</td>\n      <td>single</td>\n      <td>tertiary</td>\n      <td>no</td>\n      <td>747</td>\n      <td>no</td>\n      <td>no</td>\n      <td>cellular</td>\n      <td>23</td>\n      <td>feb</td>\n      <td>141</td>\n      <td>2</td>\n      <td>176</td>\n      <td>3</td>\n      <td>failure</td>\n      <td>no</td>\n    </tr>\n    <tr>\n      <th>6</th>\n      <td>36</td>\n      <td>self-employed</td>\n      <td>married</td>\n      <td>tertiary</td>\n      <td>no</td>\n      <td>307</td>\n      <td>yes</td>\n      <td>no</td>\n      <td>cellular</td>\n      <td>14</td>\n      <td>may</td>\n      <td>341</td>\n      <td>1</td>\n      <td>330</td>\n      <td>2</td>\n      <td>other</td>\n      <td>no</td>\n    </tr>\n    <tr>\n      <th>7</th>\n      <td>39</td>\n      <td>technician</td>\n      <td>married</td>\n      <td>secondary</td>\n      <td>no</td>\n      <td>147</td>\n      <td>yes</td>\n      <td>no</td>\n      <td>cellular</td>\n      <td>6</td>\n      <td>may</td>\n      <td>151</td>\n      <td>2</td>\n      <td>-1</td>\n      <td>0</td>\n      <td>unknown</td>\n      <td>no</td>\n    </tr>\n    <tr>\n      <th>8</th>\n      <td>41</td>\n      <td>entrepreneur</td>\n      <td>married</td>\n      <td>tertiary</td>\n      <td>no</td>\n      <td>221</td>\n      <td>yes</td>\n      <td>no</td>\n      <td>unknown</td>\n      <td>14</td>\n      <td>may</td>\n      <td>57</td>\n      <td>2</td>\n      <td>-1</td>\n      <td>0</td>\n      <td>unknown</td>\n      <td>no</td>\n    </tr>\n    <tr>\n      <th>9</th>\n      <td>43</td>\n      <td>services</td>\n      <td>married</td>\n      <td>primary</td>\n      <td>no</td>\n      <td>-88</td>\n      <td>yes</td>\n      <td>yes</td>\n      <td>cellular</td>\n      <td>17</td>\n      <td>apr</td>\n      <td>313</td>\n      <td>1</td>\n      <td>147</td>\n      <td>2</td>\n      <td>failure</td>\n      <td>no</td>\n    </tr>\n    <tr>\n      <th>10</th>\n      <td>39</td>\n      <td>services</td>\n      <td>married</td>\n      <td>secondary</td>\n      <td>no</td>\n      <td>9374</td>\n      <td>yes</td>\n      <td>no</td>\n      <td>unknown</td>\n      <td>20</td>\n      <td>may</td>\n      <td>273</td>\n      <td>1</td>\n      <td>-1</td>\n      <td>0</td>\n      <td>unknown</td>\n      <td>no</td>\n    </tr>\n    <tr>\n      <th>11</th>\n      <td>43</td>\n      <td>admin.</td>\n      <td>married</td>\n      <td>secondary</td>\n      <td>no</td>\n      <td>264</td>\n      <td>yes</td>\n      <td>no</td>\n      <td>cellular</td>\n      <td>17</td>\n      <td>apr</td>\n      <td>113</td>\n      <td>2</td>\n      <td>-1</td>\n      <td>0</td>\n      <td>unknown</td>\n      <td>no</td>\n    </tr>\n    <tr>\n      <th>12</th>\n      <td>36</td>\n      <td>technician</td>\n      <td>married</td>\n      <td>tertiary</td>\n      <td>no</td>\n      <td>1109</td>\n      <td>no</td>\n      <td>no</td>\n      <td>cellular</td>\n      <td>13</td>\n      <td>aug</td>\n      <td>328</td>\n      <td>2</td>\n      <td>-1</td>\n      <td>0</td>\n      <td>unknown</td>\n      <td>no</td>\n    </tr>\n    <tr>\n      <th>13</th>\n      <td>20</td>\n      <td>student</td>\n      <td>single</td>\n      <td>secondary</td>\n      <td>no</td>\n      <td>502</td>\n      <td>no</td>\n      <td>no</td>\n      <td>cellular</td>\n      <td>30</td>\n      <td>apr</td>\n      <td>261</td>\n      <td>1</td>\n      <td>-1</td>\n      <td>0</td>\n      <td>unknown</td>\n      <td>yes</td>\n    </tr>\n    <tr>\n      <th>14</th>\n      <td>31</td>\n      <td>blue-collar</td>\n      <td>married</td>\n      <td>secondary</td>\n      <td>no</td>\n      <td>360</td>\n      <td>yes</td>\n      <td>yes</td>\n      <td>cellular</td>\n      <td>29</td>\n      <td>jan</td>\n      <td>89</td>\n      <td>1</td>\n      <td>241</td>\n      <td>1</td>\n      <td>failure</td>\n      <td>no</td>\n    </tr>\n    <tr>\n      <th>15</th>\n      <td>40</td>\n      <td>management</td>\n      <td>married</td>\n      <td>tertiary</td>\n      <td>no</td>\n      <td>194</td>\n      <td>no</td>\n      <td>yes</td>\n      <td>cellular</td>\n      <td>29</td>\n      <td>aug</td>\n      <td>189</td>\n      <td>2</td>\n      <td>-1</td>\n      <td>0</td>\n      <td>unknown</td>\n      <td>no</td>\n    </tr>\n    <tr>\n      <th>16</th>\n      <td>56</td>\n      <td>technician</td>\n      <td>married</td>\n      <td>secondary</td>\n      <td>no</td>\n      <td>4073</td>\n      <td>no</td>\n      <td>no</td>\n      <td>cellular</td>\n      <td>27</td>\n      <td>aug</td>\n      <td>239</td>\n      <td>5</td>\n      <td>-1</td>\n      <td>0</td>\n      <td>unknown</td>\n      <td>no</td>\n    </tr>\n    <tr>\n      <th>17</th>\n      <td>37</td>\n      <td>admin.</td>\n      <td>single</td>\n      <td>tertiary</td>\n      <td>no</td>\n      <td>2317</td>\n      <td>yes</td>\n      <td>no</td>\n      <td>cellular</td>\n      <td>20</td>\n      <td>apr</td>\n      <td>114</td>\n      <td>1</td>\n      <td>152</td>\n      <td>2</td>\n      <td>failure</td>\n      <td>no</td>\n    </tr>\n    <tr>\n      <th>18</th>\n      <td>25</td>\n      <td>blue-collar</td>\n      <td>single</td>\n      <td>primary</td>\n      <td>no</td>\n      <td>-221</td>\n      <td>yes</td>\n      <td>no</td>\n      <td>unknown</td>\n      <td>23</td>\n      <td>may</td>\n      <td>250</td>\n      <td>1</td>\n      <td>-1</td>\n      <td>0</td>\n      <td>unknown</td>\n      <td>no</td>\n    </tr>\n    <tr>\n      <th>19</th>\n      <td>31</td>\n      <td>services</td>\n      <td>married</td>\n      <td>secondary</td>\n      <td>no</td>\n      <td>132</td>\n      <td>no</td>\n      <td>no</td>\n      <td>cellular</td>\n      <td>7</td>\n      <td>jul</td>\n      <td>148</td>\n      <td>1</td>\n      <td>152</td>\n      <td>1</td>\n      <td>other</td>\n      <td>no</td>\n    </tr>\n  </tbody>\n</table>\n</div>"
     },
     "execution_count": 27,
     "metadata": {},
     "output_type": "execute_result"
    }
   ],
   "source": [
    "APUChat(df, 'tampilkan 20 baris pertama dari dataframe ini ')"
   ],
   "metadata": {
    "collapsed": false,
    "ExecuteTime": {
     "start_time": "2023-05-22T16:09:46.866951Z",
     "end_time": "2023-05-22T16:09:52.339351Z"
    }
   }
  },
  {
   "cell_type": "code",
   "execution_count": 28,
   "outputs": [
    {
     "name": "stdout",
     "output_type": "stream",
     "text": [
      "Running PandasAI with openai LLM...\n",
      "\n",
      "Code generated:\n",
      "```\n",
      "import pandas as pd\n",
      "\n",
      "# read the data into a pandas dataframe\n",
      "df = pd.read_csv('data.csv')\n",
      "\n",
      "# create a pivot table\n",
      "pivot_table = pd.pivot_table(df, values='balance', index=['job'], columns=['marital'], aggfunc='mean')\n",
      "\n",
      "print(pivot_table)\n",
      "```\n",
      "\n",
      "Code running:\n",
      "```\n",
      "pivot_table = pd.pivot_table(df, values='balance', index=['job'], columns=[\n",
      "    'marital'], aggfunc='mean')\n",
      "print(pivot_table)\n",
      "```\n",
      "Answer: marital           divorced      married       single\n",
      "job                                                 \n",
      "admin.          977.811594  1353.266917  1111.482517\n",
      "blue-collar     744.797468  1064.360750  1322.540230\n",
      "entrepreneur    889.750000  1612.825758  2462.600000\n",
      "housemaid      1166.230769  1759.464286  4695.333333\n",
      "management     1432.352941  1858.082585  1729.529010\n",
      "retired        1771.465116  2383.857955  3425.636364\n",
      "self-employed  2572.066667  1350.944882  1089.268293\n",
      "services        931.564516  1228.025424   947.722689\n",
      "student                NaN   468.300000  1689.162162\n",
      "technician      845.786517  1436.919708  1329.686567\n",
      "unemployed      842.909091  1131.586667  1162.354839\n",
      "unknown         137.000000  1275.933333  2664.285714\n",
      "\n"
     ]
    },
    {
     "data": {
      "text/plain": "'marital           divorced      married       single\\njob                                                 \\nadmin.          977.811594  1353.266917  1111.482517\\nblue-collar     744.797468  1064.360750  1322.540230\\nentrepreneur    889.750000  1612.825758  2462.600000\\nhousemaid      1166.230769  1759.464286  4695.333333\\nmanagement     1432.352941  1858.082585  1729.529010\\nretired        1771.465116  2383.857955  3425.636364\\nself-employed  2572.066667  1350.944882  1089.268293\\nservices        931.564516  1228.025424   947.722689\\nstudent                NaN   468.300000  1689.162162\\ntechnician      845.786517  1436.919708  1329.686567\\nunemployed      842.909091  1131.586667  1162.354839\\nunknown         137.000000  1275.933333  2664.285714\\n'"
     },
     "execution_count": 28,
     "metadata": {},
     "output_type": "execute_result"
    }
   ],
   "source": [
    "APUChat(df, 'buat pivot tabel dari dataframe ini')"
   ],
   "metadata": {
    "collapsed": false,
    "ExecuteTime": {
     "start_time": "2023-05-22T16:11:04.721840Z",
     "end_time": "2023-05-22T16:11:18.474777Z"
    }
   }
  },
  {
   "cell_type": "code",
   "execution_count": 35,
   "outputs": [
    {
     "name": "stdout",
     "output_type": "stream",
     "text": [
      "Running PandasAI with openai LLM...\n",
      "\n",
      "Code generated:\n",
      "```\n",
      "import seaborn as sns\n",
      "\n",
      "sns.countplot(x='age', data=df)\n",
      "```\n",
      "\n",
      "Code running:\n",
      "```\n",
      "sns.countplot(x='age', data=df)\n",
      "```\n",
      "Answer: \n",
      "Conversational answer: Sure, to create a countplot of the age column using seaborn, we can use the following code:\n",
      "\n",
      "```python\n",
      "import seaborn as sns\n",
      "import matplotlib.pyplot as plt\n",
      "\n",
      "sns.countplot(x='age', data=data)\n",
      "plt.show()\n",
      "```\n",
      "\n",
      "This will generate a bar chart showing the count of each unique value in the age column.\n"
     ]
    },
    {
     "data": {
      "text/plain": "\"Sure, to create a countplot of the age column using seaborn, we can use the following code:\\n\\n```python\\nimport seaborn as sns\\nimport matplotlib.pyplot as plt\\n\\nsns.countplot(x='age', data=data)\\nplt.show()\\n```\\n\\nThis will generate a bar chart showing the count of each unique value in the age column.\""
     },
     "execution_count": 35,
     "metadata": {},
     "output_type": "execute_result"
    }
   ],
   "source": [
    "APUChat(df, 'buat countplot dari kolom age menggunakan seaborn')"
   ],
   "metadata": {
    "collapsed": false,
    "ExecuteTime": {
     "start_time": "2023-05-22T16:18:59.938233Z",
     "end_time": "2023-05-22T16:20:06.569440Z"
    }
   }
  },
  {
   "cell_type": "code",
   "execution_count": 37,
   "outputs": [
    {
     "data": {
      "text/plain": "<Figure size 640x480 with 1 Axes>",
      "image/png": "[encoded data removed]"
     },
     "metadata": {},
     "output_type": "display_data"
    }
   ],
   "source": [
    "import seaborn as sns\n",
    "import matplotlib.pyplot as plt\n",
    "\n",
    "sns.countplot(x='age', data=df)\n",
    "plt.show()\n"
   ],
   "metadata": {
    "collapsed": false,
    "ExecuteTime": {
     "start_time": "2023-05-22T16:21:42.962565Z",
     "end_time": "2023-05-22T16:21:43.231836Z"
    }
   }
  },
  {
   "cell_type": "code",
   "execution_count": 38,
   "outputs": [
    {
     "name": "stdout",
     "output_type": "stream",
     "text": [
      "Running PandasAI with openai LLM...\n",
      "\n",
      "Code generated:\n",
      "```\n",
      "import seaborn as sns\n",
      "\n",
      "sns.countplot(x='age', data=df)\n",
      "```\n",
      "\n",
      "Code running:\n",
      "```\n",
      "sns.countplot(x='age', data=df)\n",
      "```\n",
      "Answer: \n",
      "Conversational answer: Sure, to create a countplot of the 'age' column using seaborn, we can use the following code: \n",
      "\n",
      "```python\n",
      "import seaborn as sns\n",
      "\n",
      "sns.countplot(x='age', data=df)\n",
      "```\n",
      "\n",
      "This will generate a bar chart showing the count of each unique age value in the 'age' column of the dataframe 'df'.\n"
     ]
    },
    {
     "data": {
      "text/plain": "\"Sure, to create a countplot of the 'age' column using seaborn, we can use the following code: \\n\\n```python\\nimport seaborn as sns\\n\\nsns.countplot(x='age', data=df)\\n```\\n\\nThis will generate a bar chart showing the count of each unique age value in the 'age' column of the dataframe 'df'.\""
     },
     "execution_count": 38,
     "metadata": {},
     "output_type": "execute_result"
    }
   ],
   "source": [
    "APUChat(df, 'buat countplot dari kolom age menggunakan seaborn, dengan ketentuan data=df')"
   ],
   "metadata": {
    "collapsed": false,
    "ExecuteTime": {
     "start_time": "2023-05-22T16:23:22.955145Z",
     "end_time": "2023-05-22T16:23:45.415999Z"
    }
   }
  },
  {
   "cell_type": "code",
   "execution_count": null,
   "outputs": [],
   "source": [],
   "metadata": {
    "collapsed": false
   }
  }
 ],
 "metadata": {
  "kernelspec": {
   "display_name": "Python 3",
   "language": "python",
   "name": "python3"
  },
  "language_info": {
   "codemirror_mode": {
    "name": "ipython",
    "version": 2
   },
   "file_extension": ".py",
   "mimetype": "text/x-python",
   "name": "python",
   "nbconvert_exporter": "python",
   "pygments_lexer": "ipython2",
   "version": "2.7.6"
  }
 },
 "nbformat": 4,
 "nbformat_minor": 0
}
