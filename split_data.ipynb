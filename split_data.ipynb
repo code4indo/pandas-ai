{
 "cells": [
  {
   "cell_type": "code",
   "execution_count": 1,
   "metadata": {
    "collapsed": true,
    "ExecuteTime": {
     "end_time": "2023-05-29T04:25:28.980308750Z",
     "start_time": "2023-05-29T04:25:23.937054395Z"
    }
   },
   "outputs": [],
   "source": [
    "import pandas as pd\n",
    "from examples.data.aml import dataframe\n",
    "\n",
    "df = dataframe\n",
    "# Misalkan df adalah DataFrame Anda\n",
    "df_500k = df.head(500000)\n",
    "\n",
    "# Simpan df_500k sebagai file CSV\n",
    "df_500k.to_csv('500k.csv', index=False)\n"
   ]
  },
  {
   "cell_type": "code",
   "execution_count": null,
   "outputs": [],
   "source": [],
   "metadata": {
    "collapsed": false
   }
  }
 ],
 "metadata": {
  "kernelspec": {
   "display_name": "Python 3",
   "language": "python",
   "name": "python3"
  },
  "language_info": {
   "codemirror_mode": {
    "name": "ipython",
    "version": 2
   },
   "file_extension": ".py",
   "mimetype": "text/x-python",
   "name": "python",
   "nbconvert_exporter": "python",
   "pygments_lexer": "ipython2",
   "version": "2.7.6"
  }
 },
 "nbformat": 4,
 "nbformat_minor": 0
}
