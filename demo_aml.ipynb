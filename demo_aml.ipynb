{
 "cells": [
  {
   "cell_type": "code",
   "execution_count": 8,
   "id": "b9605bc7",
   "metadata": {
    "ExecuteTime": {
     "end_time": "2023-05-09T10:10:23.407155Z",
     "start_time": "2023-05-09T10:10:23.363485Z"
    }
   },
   "outputs": [],
   "source": [
    "import os\n",
    "from dotenv import load_dotenv\n",
    "import pandas as pd\n",
    "from pandasai import PandasAI\n",
    "from pandasai.llm.openai import OpenAI\n",
    "from examples.data.aml import dataframe"
   ]
  },
  {
   "cell_type": "code",
   "execution_count": 9,
   "id": "583bc2ad",
   "metadata": {
    "ExecuteTime": {
     "end_time": "2023-05-09T10:10:25.785720Z",
     "start_time": "2023-05-09T10:10:25.780404Z"
    }
   },
   "outputs": [],
   "source": [
    "load_dotenv()\n",
    "\n",
    "# Dapatkan API key dari variabel lingkungan\n",
    "OPENAI_API_KEY = os.getenv(\"OPENAI_API_KEY\")\n",
    "# Inisialisasi OpenAI dengan API key yang dibaca\n",
    "llm = OpenAI()"
   ]
  },
  {
   "cell_type": "code",
   "execution_count": 6,
   "id": "0a6f6432",
   "metadata": {
    "ExecuteTime": {
     "end_time": "2023-05-09T10:10:26.905755Z",
     "start_time": "2023-05-09T10:10:26.893782Z"
    }
   },
   "outputs": [],
   "source": [
    "#contoh sumber data yang berasal dari file csv yang disimpan di examples/data/Loan payments data.csv\n",
    "import pandas as pd\n",
    "from pandasai import PandasAI\n",
    "from pandasai.llm.openai import OpenAI\n",
    "pandas_ai = PandasAI(llm, verbose=True)"
   ]
  },
  {
   "cell_type": "code",
   "execution_count": 8,
   "id": "0799f9b5",
   "metadata": {},
   "outputs": [
    {
     "name": "stdout",
     "output_type": "stream",
     "text": [
      "Running PandasAI with openai LLM...\n",
      "\n",
      "Code generated:\n",
      "```\n",
      "df['Timestamp'] = pd.to_datetime(df['Timestamp'])\n",
      "df = df[df['Timestamp'].dt.year >= 2020]\n",
      "na_countries = ['Canada', 'United States', 'Mexico']\n",
      "na_gdp = df[df['Country'].isin(na_countries)]['GDP'].sum()\n",
      "print(na_gdp)\n",
      "```\n",
      "Answer: 0\n",
      "Conversational answer: I'm sorry, but I cannot provide a sum for the GDP of North American countries as you did not specify any countries to include in the calculation.\n"
     ]
    },
    {
     "data": {
      "text/plain": [
       "\"I'm sorry, but I cannot provide a sum for the GDP of North American countries as you did not specify any countries to include in the calculation.\""
      ]
     },
     "execution_count": 8,
     "metadata": {},
     "output_type": "execute_result"
    }
   ],
   "source": [
    "pandas_ai.run(df, \"Calculate the sum of the gdp of north american countries\")"
   ]
  },
  {
   "cell_type": "code",
   "execution_count": 13,
   "id": "93456c3b",
   "metadata": {},
   "outputs": [
    {
     "name": "stdout",
     "output_type": "stream",
     "text": [
      "Running PandasAI with openai LLM...\n",
      "\n",
      "Code generated:\n",
      "```\n",
      "asia_df = df[df['From Bank'].isin(['10', '12', '3208', '3209']) | df[\n",
      "    'To Bank'].isin(['10', '12', '3208', '3209'])]\n",
      "non_asia_df = df[~df['From Bank'].isin(['10', '12', '3208', '3209']) & ~df[\n",
      "    'To Bank'].isin(['10', '12', '3208', '3209'])]\n",
      "asia_percent = len(asia_df) / len(df) * 100\n",
      "non_asia_percent = len(non_asia_df) / len(df) * 100\n",
      "import matplotlib.pyplot as plt\n",
      "labels = ['Asia', 'Non-Asia']\n",
      "sizes = [asia_percent, non_asia_percent]\n",
      "colors = ['#ff9999', '#66b3ff']\n",
      "plt.pie(sizes, labels=labels, colors=colors, autopct='%1.1f%%', startangle=90)\n",
      "plt.axis('equal')\n",
      "plt.title('Percentage of Transactions from Asia and Non-Asia')\n",
      "plt.show()\n",
      "```\n"
     ]
    },
    {
     "data": {
      "image/png": "[encoded data removed]",
      "text/plain": [
       "<Figure size 640x480 with 1 Axes>"
      ]
     },
     "metadata": {},
     "output_type": "display_data"
    },
    {
     "name": "stdout",
     "output_type": "stream",
     "text": [
      "Answer: None\n",
      "Conversational answer: Can you show me a diagram comparing the percentage of transactions from Asia and non-Asia?\n"
     ]
    },
    {
     "data": {
      "text/plain": [
       "'Can you show me a diagram comparing the percentage of transactions from Asia and non-Asia?'"
      ]
     },
     "execution_count": 13,
     "metadata": {},
     "output_type": "execute_result"
    }
   ],
   "source": [
    "pandas_ai.run(df, \"bandingkan prosentase transaksi yang berasal dari asia dan non-asia dalam bentuk diagram\")"
   ]
  },
  {
   "cell_type": "code",
   "execution_count": 14,
   "id": "c6287ca8",
   "metadata": {},
   "outputs": [
    {
     "name": "stdout",
     "output_type": "stream",
     "text": [
      "Running PandasAI with openai LLM...\n",
      "\n",
      "Code generated:\n",
      "```\n",
      "import pandas as pd\n",
      "import matplotlib.pyplot as plt\n",
      "df = pd.read_csv('data.csv')\n",
      "cheque = df[df['Payment Format'] == 'Cheque']\n",
      "credit_card = df[df['Payment Format'] == 'Credit Card']\n",
      "cheque_percent = len(cheque) / len(df) * 100\n",
      "credit_card_percent = len(credit_card) / len(df) * 100\n",
      "labels = ['Cheque', 'Credit Card']\n",
      "sizes = [cheque_percent, credit_card_percent]\n",
      "colors = ['yellowgreen', 'lightskyblue']\n",
      "plt.pie(sizes, labels=labels, colors=colors, autopct='%1.1f%%', startangle=90)\n",
      "plt.axis('equal')\n",
      "plt.title('Percentage of Cheque and Credit Card Transactions')\n",
      "plt.show()\n",
      "```\n"
     ]
    },
    {
     "ename": "SyntaxError",
     "evalue": "invalid syntax (<unknown>, line 1)",
     "output_type": "error",
     "traceback": [
      "Traceback \u001B[0;36m(most recent call last)\u001B[0m:\n",
      "\u001B[0m  File \u001B[1;32m~/DataspellProjects/pandas-ai/pandasai/__init__.py:179\u001B[0m in \u001B[1;35mrun_code\u001B[0m\n    exec(code_to_run)\u001B[0m\n",
      "\u001B[0m  File \u001B[1;32m<string>:3\u001B[0m\n",
      "\u001B[0m  File \u001B[1;32m~/anaconda3/envs/pandas-ai/lib/python3.10/site-packages/pandas/io/parsers/readers.py:912\u001B[0m in \u001B[1;35mread_csv\u001B[0m\n    return _read(filepath_or_buffer, kwds)\u001B[0m\n",
      "\u001B[0m  File \u001B[1;32m~/anaconda3/envs/pandas-ai/lib/python3.10/site-packages/pandas/io/parsers/readers.py:577\u001B[0m in \u001B[1;35m_read\u001B[0m\n    parser = TextFileReader(filepath_or_buffer, **kwds)\u001B[0m\n",
      "\u001B[0m  File \u001B[1;32m~/anaconda3/envs/pandas-ai/lib/python3.10/site-packages/pandas/io/parsers/readers.py:1407\u001B[0m in \u001B[1;35m__init__\u001B[0m\n    self._engine = self._make_engine(f, self.engine)\u001B[0m\n",
      "\u001B[0m  File \u001B[1;32m~/anaconda3/envs/pandas-ai/lib/python3.10/site-packages/pandas/io/parsers/readers.py:1661\u001B[0m in \u001B[1;35m_make_engine\u001B[0m\n    self.handles = get_handle(\u001B[0m\n",
      "\u001B[0;36m  File \u001B[0;32m~/anaconda3/envs/pandas-ai/lib/python3.10/site-packages/pandas/io/common.py:859\u001B[0;36m in \u001B[0;35mget_handle\u001B[0;36m\n\u001B[0;31m    handle = open(\u001B[0;36m\n",
      "\u001B[0;31mFileNotFoundError\u001B[0m\u001B[0;31m:\u001B[0m [Errno 2] No such file or directory: 'data.csv'\n",
      "\nDuring handling of the above exception, another exception occurred:\n",
      "Traceback \u001B[0;36m(most recent call last)\u001B[0m:\n",
      "\u001B[0m  File \u001B[1;32m~/anaconda3/envs/pandas-ai/lib/python3.10/site-packages/IPython/core/interactiveshell.py:3508\u001B[0m in \u001B[1;35mrun_code\u001B[0m\n    exec(code_obj, self.user_global_ns, self.user_ns)\u001B[0m\n",
      "\u001B[0m  Cell \u001B[1;32mIn[14], line 1\u001B[0m\n    pandas_ai.run(df, \"bandingkan prosentase transaksi yang check dan kartu kredit dalam bentuk diagram\")\u001B[0m\n",
      "\u001B[0m  File \u001B[1;32m~/DataspellProjects/pandas-ai/pandasai/__init__.py:148\u001B[0m in \u001B[1;35mrun\u001B[0m\n    answer = self.run_code(\u001B[0m\n",
      "\u001B[0m  File \u001B[1;32m~/DataspellProjects/pandas-ai/pandasai/__init__.py:199\u001B[0m in \u001B[1;35mrun_code\u001B[0m\n    code_to_run = self._llm.generate_code(error_correcting_instruction, \"\")\u001B[0m\n",
      "\u001B[0m  File \u001B[1;32m~/DataspellProjects/pandas-ai/pandasai/llm/base.py:125\u001B[0m in \u001B[1;35mgenerate_code\u001B[0m\n    return self._extract_code(self.call(instruction, prompt, suffix=\"\\n\\nCode:\\n\"))\u001B[0m\n",
      "\u001B[0m  File \u001B[1;32m~/DataspellProjects/pandas-ai/pandasai/llm/base.py:98\u001B[0m in \u001B[1;35m_extract_code\u001B[0m\n    code = self._polish_code(code)\u001B[0m\n",
      "\u001B[0m  File \u001B[1;32m~/DataspellProjects/pandas-ai/pandasai/llm/base.py:64\u001B[0m in \u001B[1;35m_polish_code\u001B[0m\n    code = self._remove_imports(code)\u001B[0m\n",
      "\u001B[0m  File \u001B[1;32m~/DataspellProjects/pandas-ai/pandasai/llm/base.py:36\u001B[0m in \u001B[1;35m_remove_imports\u001B[0m\n    tree = ast.parse(code)\u001B[0m\n",
      "\u001B[0;36m  File \u001B[0;32m~/anaconda3/envs/pandas-ai/lib/python3.10/ast.py:50\u001B[0;36m in \u001B[0;35mparse\u001B[0;36m\n\u001B[0;31m    return compile(source, filename, mode, flags,\u001B[0;36m\n",
      "\u001B[0;36m  File \u001B[0;32m<unknown>:1\u001B[0;36m\u001B[0m\n\u001B[0;31m    <startCode>\u001B[0m\n\u001B[0m    ^\u001B[0m\n\u001B[0;31mSyntaxError\u001B[0m\u001B[0;31m:\u001B[0m invalid syntax\n"
     ]
    }
   ],
   "source": [
    "pandas_ai.run(df, \"bandingkan prosentase transaksi yang check dan kartu kredit dalam bentuk diagram\")"
   ]
  },
  {
   "cell_type": "code",
   "execution_count": 7,
   "id": "68757cdf",
   "metadata": {},
   "outputs": [
    {
     "ename": "NameError",
     "evalue": "name 'df' is not defined",
     "output_type": "error",
     "traceback": [
      "\u001B[0;31m---------------------------------------------------------------------------\u001B[0m",
      "\u001B[0;31mNameError\u001B[0m                                 Traceback (most recent call last)",
      "Cell \u001B[0;32mIn[7], line 26\u001B[0m\n\u001B[1;32m     13\u001B[0m     tx\u001B[38;5;241m.\u001B[39mrun(\n\u001B[1;32m     14\u001B[0m         \u001B[38;5;124m'\u001B[39m\u001B[38;5;124mMERGE (t:Transaction \u001B[39m\u001B[38;5;124m{\u001B[39m\u001B[38;5;124mid: $timestamp, amount_received: $amount_received, receiving_currency: $receiving_currency, amount_paid: $amount_paid, payment_currency: $payment_currency, payment_format: $payment_format, is_laundering: $is_laundering})\u001B[39m\u001B[38;5;124m'\u001B[39m\n\u001B[1;32m     15\u001B[0m         , timestamp\u001B[38;5;241m=\u001B[39mdata[\u001B[38;5;124m'\u001B[39m\u001B[38;5;124mTimestamp\u001B[39m\u001B[38;5;124m'\u001B[39m], amount_received\u001B[38;5;241m=\u001B[39mdata[\n\u001B[0;32m   (...)\u001B[0m\n\u001B[1;32m     18\u001B[0m             \u001B[38;5;124m'\u001B[39m\u001B[38;5;124mPayment Currency\u001B[39m\u001B[38;5;124m'\u001B[39m], payment_format\u001B[38;5;241m=\u001B[39mdata[\u001B[38;5;124m'\u001B[39m\u001B[38;5;124mPayment Format\u001B[39m\u001B[38;5;124m'\u001B[39m],\n\u001B[1;32m     19\u001B[0m         is_laundering\u001B[38;5;241m=\u001B[39mdata[\u001B[38;5;124m'\u001B[39m\u001B[38;5;124mIs Laundering\u001B[39m\u001B[38;5;124m'\u001B[39m])\n\u001B[1;32m     20\u001B[0m     tx\u001B[38;5;241m.\u001B[39mrun(\n\u001B[1;32m     21\u001B[0m         \u001B[38;5;124m'\u001B[39m\u001B[38;5;124mMATCH (a:Account \u001B[39m\u001B[38;5;124m{\u001B[39m\u001B[38;5;124mid: $from_account}) MATCH (b:Account \u001B[39m\u001B[38;5;124m{\u001B[39m\u001B[38;5;124mid: $to_account}) MATCH (t:Transaction \u001B[39m\u001B[38;5;124m{\u001B[39m\u001B[38;5;124mid: $timestamp}) MERGE (a)-[:SENT]->(t) MERGE (t)-[:RECEIVED]->(b)\u001B[39m\u001B[38;5;124m'\u001B[39m\n\u001B[1;32m     22\u001B[0m         , from_account\u001B[38;5;241m=\u001B[39mdata[\u001B[38;5;124m'\u001B[39m\u001B[38;5;124mAccount\u001B[39m\u001B[38;5;124m'\u001B[39m], to_account\u001B[38;5;241m=\u001B[39mdata[\u001B[38;5;124m'\u001B[39m\u001B[38;5;124mAccount.1\u001B[39m\u001B[38;5;124m'\u001B[39m],\n\u001B[1;32m     23\u001B[0m         timestamp\u001B[38;5;241m=\u001B[39mdata[\u001B[38;5;124m'\u001B[39m\u001B[38;5;124mTimestamp\u001B[39m\u001B[38;5;124m'\u001B[39m])\n\u001B[0;32m---> 26\u001B[0m \u001B[38;5;28;01mfor\u001B[39;00m index, row \u001B[38;5;129;01min\u001B[39;00m \u001B[43mdf\u001B[49m\u001B[38;5;241m.\u001B[39miterrows():\n\u001B[1;32m     27\u001B[0m     \u001B[38;5;28;01mwith\u001B[39;00m driver\u001B[38;5;241m.\u001B[39msession() \u001B[38;5;28;01mas\u001B[39;00m session:\n\u001B[1;32m     28\u001B[0m         session\u001B[38;5;241m.\u001B[39mexecute_write(create_nodes, row)\n",
      "\u001B[0;31mNameError\u001B[0m: name 'df' is not defined"
     ]
    }
   ],
   "source": [
    "from neo4j import GraphDatabase\n",
    "uri = 'bolt://localhost:7687'\n",
    "username = 'neo4j'\n",
    "password = 'password'\n",
    "driver = GraphDatabase.driver(uri, auth=(username, password))\n",
    "\n",
    "def create_nodes(tx, data):\n",
    "    tx.run(\n",
    "        'MERGE (a:Account {id: $from_account, bank: $from_bank}) MERGE (b:Account {id: $to_account, bank: $to_bank})'\n",
    "        , from_account=data['Account'], from_bank=data['From Bank'],\n",
    "        to_account=data['Account.1'], to_bank=data['To Bank'])\n",
    "    tx.run(\n",
    "        'MERGE (t:Transaction {id: $timestamp, amount_received: $amount_received, receiving_currency: $receiving_currency, amount_paid: $amount_paid, payment_currency: $payment_currency, payment_format: $payment_format, is_laundering: $is_laundering})'\n",
    "        , timestamp=data['Timestamp'], amount_received=data[\n",
    "            'Amount Received'], receiving_currency=data['Receiving Currency'],\n",
    "        amount_paid=data['Amount Paid'], payment_currency=data[\n",
    "            'Payment Currency'], payment_format=data['Payment Format'],\n",
    "        is_laundering=data['Is Laundering'])\n",
    "    tx.run(\n",
    "        'MATCH (a:Account {id: $from_account}) MATCH (b:Account {id: $to_account}) MATCH (t:Transaction {id: $timestamp}) MERGE (a)-[:SENT]->(t) MERGE (t)-[:RECEIVED]->(b)'\n",
    "        , from_account=data['Account'], to_account=data['Account.1'],\n",
    "        timestamp=data['Timestamp'])\n",
    "\n",
    "\n",
    "for index, row in df.iterrows():\n",
    "    with driver.session() as session:\n",
    "        session.execute_write(create_nodes, row)\n",
    "driver.close()\n",
    "\n",
    "def print_all_nodes_and_relationships(tx):\n",
    "    result = tx.run(\"MATCH (n)-[r]->(m) RETURN n, r, m\")\n",
    "    for record in result:\n",
    "        print(record[\"n\"], record[\"r\"], record[\"m\"])\n",
    "\n",
    "with driver.session() as session:\n",
    "    session.read_transaction(print_all_nodes_and_relationships)"
   ]
  },
  {
   "cell_type": "code",
   "execution_count": null,
   "id": "67add3e2",
   "metadata": {},
   "outputs": [],
   "source": []
  }
 ],
 "metadata": {
  "kernelspec": {
   "display_name": "pandas-ai",
   "language": "python",
   "name": "pandas-ai"
  },
  "language_info": {
   "codemirror_mode": {
    "name": "ipython",
    "version": 3
   },
   "file_extension": ".py",
   "mimetype": "text/x-python",
   "name": "python",
   "nbconvert_exporter": "python",
   "pygments_lexer": "ipython3",
   "version": "3.10.10"
  }
 },
 "nbformat": 4,
 "nbformat_minor": 5
}
