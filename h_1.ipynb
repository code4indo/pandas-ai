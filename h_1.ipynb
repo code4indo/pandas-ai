{
 "cells": [
  {
   "cell_type": "code",
   "execution_count": 1,
   "id": "9b8c37ba",
   "metadata": {},
   "outputs": [],
   "source": [
    "import os\n",
    "from dotenv import load_dotenv\n",
    "import pandas as pd\n",
    "from pandasai import PandasAI\n",
    "from pandasai.llm.openai import OpenAI\n",
    "from examples.data.aml import dataframe"
   ]
  },
  {
   "cell_type": "code",
   "execution_count": 2,
   "id": "269ae29c",
   "metadata": {},
   "outputs": [],
   "source": [
    "load_dotenv()\n",
    "\n",
    "# Dapatkan API key dari variabel lingkungan\n",
    "OPENAI_API_KEY = os.getenv(\"OPENAI_API_KEY\")\n",
    "# Inisialisasi OpenAI dengan API key yang dibaca\n",
    "llm = OpenAI()"
   ]
  },
  {
   "cell_type": "code",
   "execution_count": 3,
   "id": "6ab42f81",
   "metadata": {},
   "outputs": [],
   "source": [
    "#contoh sumber data yang berasal dari file csv yang disimpan di examples/data/Loan payments data.csv\n",
    "import pandas as pd\n",
    "from pandasai import PandasAI\n",
    "from pandasai.llm.openai import OpenAI\n",
    "APUChat = PandasAI(llm, verbose=True)\n",
    "df = dataframe"
   ]
  },
  {
   "cell_type": "code",
   "execution_count": 5,
   "id": "c48b79e4",
   "metadata": {},
   "outputs": [
    {
     "name": "stdout",
     "output_type": "stream",
     "text": [
      "Running PandasAI with openai LLM...\n",
      "\n",
      "Code generated:\n",
      "```\n",
      "import pandas as pd\n",
      "\n",
      "# Filter transactions with suspected structuring\n",
      "suspicious_transactions = df[df['Is Laundering'] == 1]\n",
      "\n",
      "# Save the suspicious transactions to a CSV file\n",
      "suspicious_transactions.to_csv('Laporan_Transaksi_Mencurigakan.csv', index=False)\n",
      "```\n",
      "\n",
      "Code running:\n",
      "```\n",
      "suspicious_transactions = df[df['Is Laundering'] == 1]\n",
      "suspicious_transactions.to_csv('Laporan_Transaksi_Mencurigakan.csv', index=\n",
      "    False)\n",
      "```\n",
      "Answer: \n",
      "Conversational answer: Untuk membuat laporan transaksi yang dicurigai sebagai structuring, Anda perlu mengumpulkan detail transaksi tersebut dan mencatat alasan mengapa transaksi ini dicurigai sebagai structuring. Setelah itu, Anda bisa menyimpan laporan dalam format CSV dengan nama 'Laporan_Transaksi_Mencurigakan.csv'. Pastikan untuk mencakup semua informasi yang relevan dalam laporan tersebut agar dapat digunakan sebagai referensi di kemudian hari.\n"
     ]
    },
    {
     "data": {
      "text/plain": [
       "\"Untuk membuat laporan transaksi yang dicurigai sebagai structuring, Anda perlu mengumpulkan detail transaksi tersebut dan mencatat alasan mengapa transaksi ini dicurigai sebagai structuring. Setelah itu, Anda bisa menyimpan laporan dalam format CSV dengan nama 'Laporan_Transaksi_Mencurigakan.csv'. Pastikan untuk mencakup semua informasi yang relevan dalam laporan tersebut agar dapat digunakan sebagai referensi di kemudian hari.\""
      ]
     },
     "execution_count": 5,
     "metadata": {},
     "output_type": "execute_result"
    }
   ],
   "source": [
    "APUChat.run(df, \"Buat laporan dari transaksi yang dicurigai sebagai structuring. Laporan ini harus mencakup detail transaksi dan alasan mengapa transaksi tersebut dicurigai sebagai structuring. Simpan laporan dalam format CSV dengan nama 'Laporan_Transaksi_Mencurigakan.csv\")"
   ]
  },
  {
   "cell_type": "code",
   "execution_count": 6,
   "id": "391659f4",
   "metadata": {},
   "outputs": [
    {
     "name": "stdout",
     "output_type": "stream",
     "text": [
      "Running PandasAI with openai LLM...\n",
      "\n",
      "Code generated:\n",
      "```\n",
      "import pandas as pd\n",
      "\n",
      "# Filter transactions with suspicious structuring\n",
      "suspicious_transactions = df[(df['Is Laundering'] == 1)]\n",
      "\n",
      "# Save the suspicious transactions to a CSV file\n",
      "suspicious_transactions.to_csv('Laporan_Transaksi_Mencurigakan.csv', index=False)\n",
      "```\n",
      "\n",
      "Code running:\n",
      "```\n",
      "suspicious_transactions = df[df['Is Laundering'] == 1]\n",
      "suspicious_transactions.to_csv('Laporan_Transaksi_Mencurigakan.csv', index=\n",
      "    False)\n",
      "```\n",
      "Answer: \n",
      "Conversational answer: Untuk membuat laporan transaksi yang dicurigai sebagai structuring, Anda perlu mengumpulkan detail transaksi tersebut dan mencatat alasan mengapa transaksi ini dicurigai sebagai structuring. Setelah itu, Anda bisa menyimpan laporan dalam format CSV dengan nama 'Laporan_Transaksi_Mencurigakan.csv'. Berikut adalah langkah-langkah yang dapat Anda ikuti:\n",
      "\n",
      "1. Kumpulkan detail transaksi yang dicurigai, seperti tanggal, jumlah, pihak yang terlibat, dan informasi rekening.\n",
      "2. Analisis transaksi tersebut dan catat alasan mengapa Anda mencurigai adanya structuring. Misalnya, jika ada pola transaksi yang mencurigakan, seperti jumlah yang sering dipecah menjadi beberapa transaksi kecil atau frekuensi transaksi yang tidak wajar.\n",
      "3. Buka aplikasi pengolah spreadsheet seperti Microsoft Excel atau Google Sheets.\n",
      "4. Buat tabel baru dengan kolom berikut: Tanggal, Jumlah, Pihak Terlibat, Informasi Rekening, dan Alasan Mencurigai Structuring.\n",
      "5. Isi tabel dengan detail transaksi yang telah Anda kumpulkan dan analisis.\n",
      "6. Simpan file dalam format CSV dengan nama 'Laporan_Transaksi_Mencurigakan.csv'.\n",
      "\n",
      "Dengan cara ini, Anda akan memiliki laporan yang rapi dan mudah dibaca tentang transaksi yang dicurigai sebagai structuring.\n"
     ]
    },
    {
     "data": {
      "text/plain": [
       "\"Untuk membuat laporan transaksi yang dicurigai sebagai structuring, Anda perlu mengumpulkan detail transaksi tersebut dan mencatat alasan mengapa transaksi ini dicurigai sebagai structuring. Setelah itu, Anda bisa menyimpan laporan dalam format CSV dengan nama 'Laporan_Transaksi_Mencurigakan.csv'. Berikut adalah langkah-langkah yang dapat Anda ikuti:\\n\\n1. Kumpulkan detail transaksi yang dicurigai, seperti tanggal, jumlah, pihak yang terlibat, dan informasi rekening.\\n2. Analisis transaksi tersebut dan catat alasan mengapa Anda mencurigai adanya structuring. Misalnya, jika ada pola transaksi yang mencurigakan, seperti jumlah yang sering dipecah menjadi beberapa transaksi kecil atau frekuensi transaksi yang tidak wajar.\\n3. Buka aplikasi pengolah spreadsheet seperti Microsoft Excel atau Google Sheets.\\n4. Buat tabel baru dengan kolom berikut: Tanggal, Jumlah, Pihak Terlibat, Informasi Rekening, dan Alasan Mencurigai Structuring.\\n5. Isi tabel dengan detail transaksi yang telah Anda kumpulkan dan analisis.\\n6. Simpan file dalam format CSV dengan nama 'Laporan_Transaksi_Mencurigakan.csv'.\\n\\nDengan cara ini, Anda akan memiliki laporan yang rapi dan mudah dibaca tentang transaksi yang dicurigai sebagai structuring.\""
      ]
     },
     "execution_count": 6,
     "metadata": {},
     "output_type": "execute_result"
    }
   ],
   "source": [
    "APUChat.run(df, \"Buat laporan dari transaksi yang dicurigai sebagai structuring. Laporan ini harus mencakup detail transaksi dan alasan mengapa transaksi tersebut dicurigai sebagai structuring. Simpan laporan dalam format CSV dengan nama 'Laporan_Transaksi_Mencurigakan.csv\")"
   ]
  },
  {
   "cell_type": "code",
   "execution_count": null,
   "id": "76a49959",
   "metadata": {},
   "outputs": [],
   "source": []
  }
 ],
 "metadata": {
  "kernelspec": {
   "display_name": "pandas-ai",
   "language": "python",
   "name": "pandas-ai"
  },
  "language_info": {
   "codemirror_mode": {
    "name": "ipython",
    "version": 3
   },
   "file_extension": ".py",
   "mimetype": "text/x-python",
   "name": "python",
   "nbconvert_exporter": "python",
   "pygments_lexer": "ipython3",
   "version": "3.10.10"
  }
 },
 "nbformat": 4,
 "nbformat_minor": 5
}
