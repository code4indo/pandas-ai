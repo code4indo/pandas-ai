{
 "cells": [
  {
   "cell_type": "code",
   "execution_count": 1,
   "id": "b9605bc7",
   "metadata": {
    "ExecuteTime": {
     "end_time": "2023-05-27T08:24:45.263540394Z",
     "start_time": "2023-05-27T08:24:39.420270013Z"
    }
   },
   "outputs": [],
   "source": [
    "import os\n",
    "from dotenv import load_dotenv\n",
    "import matplotlib.pyplot as plt\n",
    "from pandasai.llm.openai import OpenAI\n",
    "from examples.data.aml import dataframe\n",
    "from sklearn.preprocessing import StandardScaler\n",
    "from sklearn.cluster import DBSCAN"
   ]
  },
  {
   "cell_type": "code",
   "execution_count": 2,
   "id": "583bc2ad",
   "metadata": {
    "ExecuteTime": {
     "end_time": "2023-05-27T08:24:47.047965135Z",
     "start_time": "2023-05-27T08:24:47.046340160Z"
    }
   },
   "outputs": [],
   "source": [
    "load_dotenv()\n",
    "# Dapatkan API key dari variabel lingkungan\n",
    "OPENAI_API_KEY = os.getenv(\"OPENAI_API_KEY\")\n",
    "# Inisialisasi OpenAI dengan API key yang dibaca\n",
    "llm = OpenAI()"
   ]
  },
  {
   "cell_type": "code",
   "execution_count": 3,
   "id": "0a6f6432",
   "metadata": {
    "ExecuteTime": {
     "end_time": "2023-05-27T08:24:49.200822853Z",
     "start_time": "2023-05-27T08:24:49.181788133Z"
    }
   },
   "outputs": [],
   "source": [
    "#contoh sumber data yang berasal dari file csv yang disimpan di examples/data/Loan payments data.csv\n",
    "from pandasai import PandasAI\n",
    "from pandasai.llm.openai import OpenAI\n",
    "pandas_ai = PandasAI(llm, verbose=True)\n",
    "df = dataframe"
   ]
  },
  {
   "cell_type": "markdown",
   "source": [
    "### memeriksa dataframe berhasil di load atau tidak\n"
   ],
   "metadata": {
    "collapsed": false
   }
  },
  {
   "cell_type": "code",
   "execution_count": 4,
   "outputs": [
    {
     "name": "stdout",
     "output_type": "stream",
     "text": [
      "Data berhasil dimuat!\n"
     ]
    }
   ],
   "source": [
    "import pandas as pd\n",
    "\n",
    "try:\n",
    "    df = dataframe\n",
    "    print(\"Data berhasil dimuat!\")\n",
    "except FileNotFoundError:\n",
    "    print(\"File tidak ditemukan!\")\n",
    "except Exception as e:\n",
    "    print(\"Terjadi kesalahan saat memuat data: \", e)\n"
   ],
   "metadata": {
    "collapsed": false,
    "ExecuteTime": {
     "end_time": "2023-05-27T08:24:52.942018664Z",
     "start_time": "2023-05-27T08:24:52.924237555Z"
    }
   }
  },
  {
   "cell_type": "markdown",
   "source": [
    "### Menampilkan Informasi RIngkas tentang Dataframe"
   ],
   "metadata": {
    "collapsed": false
   }
  },
  {
   "cell_type": "code",
   "execution_count": 5,
   "outputs": [
    {
     "name": "stdout",
     "output_type": "stream",
     "text": [
      "Running PandasAI with openai LLM...\n",
      "\n",
      "Code generated:\n",
      "```\n",
      "print(df.info())\n",
      "```\n",
      "\n",
      "Code running:\n",
      "```\n",
      "print(df.info())\n",
      "```\n",
      "<class 'pandas.core.frame.DataFrame'>\n",
      "RangeIndex: 6924049 entries, 0 to 6924048\n",
      "Data columns (total 11 columns):\n",
      " #   Column              Dtype  \n",
      "---  ------              -----  \n",
      " 0   Timestamp           object \n",
      " 1   From Bank           int64  \n",
      " 2   Account             object \n",
      " 3   To Bank             int64  \n",
      " 4   Account.1           object \n",
      " 5   Amount Received     float64\n",
      " 6   Receiving Currency  object \n",
      " 7   Amount Paid         float64\n",
      " 8   Payment Currency    object \n",
      " 9   Payment Format      object \n",
      " 10  Is Laundering       int64  \n",
      "dtypes: float64(2), int64(3), object(6)\n",
      "memory usage: 581.1+ MB\n",
      "Answer: None\n",
      "Conversational answer: Dataframe ini adalah sebuah struktur data yang terdiri dari baris dan kolom, mirip dengan tabel pada spreadsheet. Dataframe digunakan untuk menyimpan dan mengolah data dalam format tabular, sehingga memudahkan analisis dan manipulasi data. Biasanya, dataframe digunakan dalam bahasa pemrograman seperti Python (dengan library Pandas) dan R (dengan library dplyr).\n"
     ]
    },
    {
     "data": {
      "text/plain": "'Dataframe ini adalah sebuah struktur data yang terdiri dari baris dan kolom, mirip dengan tabel pada spreadsheet. Dataframe digunakan untuk menyimpan dan mengolah data dalam format tabular, sehingga memudahkan analisis dan manipulasi data. Biasanya, dataframe digunakan dalam bahasa pemrograman seperti Python (dengan library Pandas) dan R (dengan library dplyr).'"
     },
     "execution_count": 5,
     "metadata": {},
     "output_type": "execute_result"
    }
   ],
   "source": [
    "pandas_ai.run(df, 'berikan informasi ringkas tentang dataframe ini')"
   ],
   "metadata": {
    "collapsed": false,
    "ExecuteTime": {
     "end_time": "2023-05-27T08:25:24.191760680Z",
     "start_time": "2023-05-27T08:25:02.519281737Z"
    }
   }
  },
  {
   "cell_type": "markdown",
   "source": [
    "### Menampilkan 5 baris pertama dari Dataframe"
   ],
   "metadata": {
    "collapsed": false
   }
  },
  {
   "cell_type": "code",
   "execution_count": 6,
   "outputs": [
    {
     "name": "stdout",
     "output_type": "stream",
     "text": [
      "Running PandasAI with openai LLM...\n",
      "\n",
      "Code generated:\n",
      "```\n",
      "print(df.head(5))\n",
      "```\n",
      "\n",
      "Code running:\n",
      "```\n",
      "print(df.head(5))\n",
      "```\n",
      "Answer:           Timestamp  From Bank    Account  To Bank  Account.1   \n",
      "0  2022/09/01 00:08         11  8000ECA90       11  8000ECA90  \\\n",
      "1  2022/09/01 00:21       3402  80021DAD0     3402  80021DAD0   \n",
      "2  2022/09/01 00:00         11  8000ECA90     1120  8006AA910   \n",
      "3  2022/09/01 00:16       3814  8006AD080     3814  8006AD080   \n",
      "4  2022/09/01 00:00         20  8006AD530       20  8006AD530   \n",
      "\n",
      "   Amount Received Receiving Currency  Amount Paid Payment Currency   \n",
      "0       3195403.00          US Dollar   3195403.00        US Dollar  \\\n",
      "1          1858.96          US Dollar      1858.96        US Dollar   \n",
      "2        592571.00          US Dollar    592571.00        US Dollar   \n",
      "3            12.32          US Dollar        12.32        US Dollar   \n",
      "4          2941.56          US Dollar      2941.56        US Dollar   \n",
      "\n",
      "  Payment Format  Is Laundering  \n",
      "0   Reinvestment              0  \n",
      "1   Reinvestment              0  \n",
      "2         Cheque              0  \n",
      "3   Reinvestment              0  \n",
      "4   Reinvestment              0  \n",
      "Conversational answer: Berikut adalah 5 baris pertama dari dataframe yang diminta:\n",
      "\n",
      "1. Timestamp: 2022/09/01 00:08, From Bank: 11, Account: 8000ECA90, To Bank: 11, Account.1: 8000ECA90, Amount Received: 3,195,403.00 US Dollar, Amount Paid: 3,195,403.00 US Dollar, Payment Format: Reinvestment, Is Laundering: 0\n",
      "2. Timestamp: 2022/09/01 00:21, From Bank: 3402, Account: 80021DAD0, To Bank: 3402, Account.1: 80021DAD0, Amount Received: 1,858.96 US Dollar, Amount Paid: 1,858.96 US Dollar, Payment Format: Reinvestment, Is Laundering: 0\n",
      "3. Timestamp: 2022/09/01 00:00, From Bank: 11, Account: 8000ECA90, To Bank: 1120, Account.1: 8006AA910, Amount Received: 592,571.00 US Dollar, Amount Paid: 592,571.00 US Dollar, Payment Format: Cheque, Is Laundering: 0\n",
      "4. Timestamp: 2022/09/01 00:16, From Bank: 3814, Account: 8006AD080, To Bank: 3814, Account.1: 8006AD080, Amount Received: 12.32 US Dollar, Amount Paid: 12.32 US Dollar, Payment Format: Reinvestment, Is Laundering: 0\n",
      "5. Timestamp: 2022/09/01 00:00, From Bank: 20, Account: 8006AD530, To Bank: 20, Account.1: 8006AD530, Amount Received: 2,941.56 US Dollar, Amount Paid: 2,941.56 US Dollar, Payment Format: Reinvestment, Is Laundering: 0\n"
     ]
    },
    {
     "data": {
      "text/plain": "'Berikut adalah 5 baris pertama dari dataframe yang diminta:\\n\\n1. Timestamp: 2022/09/01 00:08, From Bank: 11, Account: 8000ECA90, To Bank: 11, Account.1: 8000ECA90, Amount Received: 3,195,403.00 US Dollar, Amount Paid: 3,195,403.00 US Dollar, Payment Format: Reinvestment, Is Laundering: 0\\n2. Timestamp: 2022/09/01 00:21, From Bank: 3402, Account: 80021DAD0, To Bank: 3402, Account.1: 80021DAD0, Amount Received: 1,858.96 US Dollar, Amount Paid: 1,858.96 US Dollar, Payment Format: Reinvestment, Is Laundering: 0\\n3. Timestamp: 2022/09/01 00:00, From Bank: 11, Account: 8000ECA90, To Bank: 1120, Account.1: 8006AA910, Amount Received: 592,571.00 US Dollar, Amount Paid: 592,571.00 US Dollar, Payment Format: Cheque, Is Laundering: 0\\n4. Timestamp: 2022/09/01 00:16, From Bank: 3814, Account: 8006AD080, To Bank: 3814, Account.1: 8006AD080, Amount Received: 12.32 US Dollar, Amount Paid: 12.32 US Dollar, Payment Format: Reinvestment, Is Laundering: 0\\n5. Timestamp: 2022/09/01 00:00, From Bank: 20, Account: 8006AD530, To Bank: 20, Account.1: 8006AD530, Amount Received: 2,941.56 US Dollar, Amount Paid: 2,941.56 US Dollar, Payment Format: Reinvestment, Is Laundering: 0'"
     },
     "execution_count": 6,
     "metadata": {},
     "output_type": "execute_result"
    }
   ],
   "source": [
    "pandas_ai.run(df, 'tampilkan 5 baris pertama dari dataframe ini')"
   ],
   "metadata": {
    "collapsed": false,
    "ExecuteTime": {
     "end_time": "2023-05-27T08:27:17.899535371Z",
     "start_time": "2023-05-27T08:25:47.922195672Z"
    }
   }
  },
  {
   "cell_type": "markdown",
   "source": [
    "### Mendapatkan nama kolom dari Dataframe"
   ],
   "metadata": {
    "collapsed": false
   }
  },
  {
   "cell_type": "code",
   "execution_count": 7,
   "outputs": [
    {
     "name": "stdout",
     "output_type": "stream",
     "text": [
      "Running PandasAI with openai LLM...\n",
      "\n",
      "Code generated:\n",
      "```\n",
      "list(df.columns)\n",
      "```\n",
      "\n",
      "Code running:\n",
      "```\n",
      "list(df.columns)\n",
      "```\n",
      "Answer: ['Timestamp', 'From Bank', 'Account', 'To Bank', 'Account.1', 'Amount Received', 'Receiving Currency', 'Amount Paid', 'Payment Currency', 'Payment Format', 'Is Laundering']\n",
      "Conversational answer: Kolom-kolom yang ada di dataframe ini meliputi 'Timestamp', 'From Bank', 'Account', 'To Bank', 'Account.1', 'Amount Received', 'Receiving Currency', 'Amount Paid', 'Payment Currency', 'Payment Format', dan 'Is Laundering'.\n"
     ]
    },
    {
     "data": {
      "text/plain": "\"Kolom-kolom yang ada di dataframe ini meliputi 'Timestamp', 'From Bank', 'Account', 'To Bank', 'Account.1', 'Amount Received', 'Receiving Currency', 'Amount Paid', 'Payment Currency', 'Payment Format', dan 'Is Laundering'.\""
     },
     "execution_count": 7,
     "metadata": {},
     "output_type": "execute_result"
    }
   ],
   "source": [
    "pandas_ai.run(df, 'apa saja kolom yang ada di dataframe ini')"
   ],
   "metadata": {
    "collapsed": false,
    "ExecuteTime": {
     "end_time": "2023-05-27T08:27:34.971412210Z",
     "start_time": "2023-05-27T08:27:17.899210614Z"
    }
   }
  },
  {
   "cell_type": "code",
   "execution_count": 8,
   "outputs": [
    {
     "name": "stdout",
     "output_type": "stream",
     "text": [
      "Running PandasAI with openai LLM...\n",
      "\n",
      "Code generated:\n",
      "```\n",
      "unique_payment_currency_count = df['Payment Currency'].nunique()\n",
      "unique_payment_currency_count\n",
      "```\n",
      "\n",
      "Code running:\n",
      "```\n",
      "unique_payment_currency_count = df['Payment Currency'].nunique()\n",
      "unique_payment_currency_count\n",
      "```\n",
      "Answer: \n",
      "Conversational answer: Untuk menghitung frekuensi unik dari kolom Payment Currency, kita perlu mengidentifikasi berapa banyak mata uang yang berbeda muncul dalam kolom tersebut dan seberapa sering masing-masing mata uang muncul. Setelah kita memiliki informasi ini, kita dapat menentukan frekuensi unik untuk setiap mata uang dalam kolom Payment Currency.\n"
     ]
    },
    {
     "data": {
      "text/plain": "'Untuk menghitung frekuensi unik dari kolom Payment Currency, kita perlu mengidentifikasi berapa banyak mata uang yang berbeda muncul dalam kolom tersebut dan seberapa sering masing-masing mata uang muncul. Setelah kita memiliki informasi ini, kita dapat menentukan frekuensi unik untuk setiap mata uang dalam kolom Payment Currency.'"
     },
     "execution_count": 8,
     "metadata": {},
     "output_type": "execute_result"
    }
   ],
   "source": [
    "pandas_ai.run(df, 'Hitung frekuensi unik dari kolom Payment Currency.')"
   ],
   "metadata": {
    "collapsed": false,
    "ExecuteTime": {
     "end_time": "2023-05-27T08:28:12.859808567Z",
     "start_time": "2023-05-27T08:27:47.938988302Z"
    }
   }
  },
  {
   "cell_type": "markdown",
   "source": [
    "### Menampilkan frekuensi unik dari kolom Payment Currency"
   ],
   "metadata": {
    "collapsed": false
   }
  },
  {
   "cell_type": "code",
   "execution_count": 20,
   "outputs": [
    {
     "name": "stdout",
     "output_type": "stream",
     "text": [
      "Running PandasAI with openai LLM...\n",
      "\n",
      "Code generated:\n",
      "```\n",
      "import pandas as pd\n",
      "\n",
      "# read the csv file into a pandas dataframe\n",
      "df = pd.read_csv('filename.csv')\n",
      "\n",
      "# display unique value counts for Payment Currency column\n",
      "print(df['Payment Currency'].value_counts())\n",
      "```\n",
      "\n",
      "Code running:\n",
      "```\n",
      "print(df['Payment Currency'].value_counts())\n",
      "```\n",
      "Answer: Payment Currency\n",
      "US Dollar            1895172\n",
      "Euro                 1168297\n",
      "Swiss Franc           234860\n",
      "Yuan                  213752\n",
      "Shekel                192184\n",
      "Rupee                 190202\n",
      "UK Pound              180738\n",
      "Yen                   155209\n",
      "Ruble                 155178\n",
      "Bitcoin               146066\n",
      "Canadian Dollar       140042\n",
      "Australian Dollar     136769\n",
      "Mexican Peso          110159\n",
      "Saudi Riyal            89014\n",
      "Brazil Real            70703\n",
      "Name: count, dtype: int64\n",
      "Conversational answer: Berikut adalah frekuensi unik dari kolom Payment Currency: \n",
      "- US Dollar: 1.895.172\n",
      "- Euro: 1.168.297\n",
      "- Swiss Franc: 234.860\n",
      "- Yuan: 213.752\n",
      "- Shekel: 192.184\n",
      "- Rupee: 190.202\n",
      "- UK Pound: 180.738\n",
      "- Yen: 155.209\n",
      "- Ruble: 155.178\n",
      "- Bitcoin: 146.066\n",
      "- Canadian Dollar: 140.042\n",
      "- Australian Dollar: 136.769\n",
      "- Mexican Peso: 110.159\n",
      "- Saudi Riyal: 89.014\n",
      "- Brazil Real: 70.703\n",
      "\n",
      "Jadi, terdapat 15 jenis mata uang yang digunakan dalam pembayaran dan jumlah transaksi tertinggi menggunakan US Dollar.\n"
     ]
    },
    {
     "data": {
      "text/plain": "'Berikut adalah frekuensi unik dari kolom Payment Currency: \\n- US Dollar: 1.895.172\\n- Euro: 1.168.297\\n- Swiss Franc: 234.860\\n- Yuan: 213.752\\n- Shekel: 192.184\\n- Rupee: 190.202\\n- UK Pound: 180.738\\n- Yen: 155.209\\n- Ruble: 155.178\\n- Bitcoin: 146.066\\n- Canadian Dollar: 140.042\\n- Australian Dollar: 136.769\\n- Mexican Peso: 110.159\\n- Saudi Riyal: 89.014\\n- Brazil Real: 70.703\\n\\nJadi, terdapat 15 jenis mata uang yang digunakan dalam pembayaran dan jumlah transaksi tertinggi menggunakan US Dollar.'"
     },
     "execution_count": 20,
     "metadata": {},
     "output_type": "execute_result"
    }
   ],
   "source": [
    "pandas_ai.run(df, 'tampilkan frekuensi unik dari kolom Payment Currency')"
   ],
   "metadata": {
    "collapsed": false
   }
  },
  {
   "cell_type": "markdown",
   "source": [
    "### membuat histogram  dari kolom Payment Currency dengan bins 10"
   ],
   "metadata": {
    "collapsed": false
   }
  },
  {
   "cell_type": "code",
   "execution_count": 32,
   "outputs": [
    {
     "name": "stdout",
     "output_type": "stream",
     "text": [
      "Running PandasAI with openai LLM...\n",
      "\n",
      "Code generated:\n",
      "```\n",
      "import pandas as pd\n",
      "import matplotlib.pyplot as plt\n",
      "\n",
      "# read the dataframe\n",
      "df = pd.read_csv('data.csv')\n",
      "\n",
      "# create histogram\n",
      "plt.hist(df['Payment Currency '], bins=10)\n",
      "plt.xlabel('Payment Currency')\n",
      "plt.ylabel('Frequency')\n",
      "plt.title('Histogram of Payment Currency')\n",
      "plt.show()\n",
      "```\n",
      "\n",
      "Code running:\n",
      "```\n",
      "plt.hist(df['Payment Currency '], bins=10)\n",
      "plt.xlabel('Payment Currency')\n",
      "plt.ylabel('Frequency')\n",
      "plt.title('Histogram of Payment Currency')\n",
      "plt.show()\n",
      "```\n"
     ]
    },
    {
     "ename": "RateLimitError",
     "evalue": "That model is currently overloaded with other requests. You can retry your request, or contact us through our help center at help.openai.com if the error persists. (Please include the request ID 2b179542716868297bc4c516c84c6c5b in your message.)",
     "output_type": "error",
     "traceback": [
      "\u001B[0;31m---------------------------------------------------------------------------\u001B[0m",
      "\u001B[0;31mImportError\u001B[0m                               Traceback (most recent call last)",
      "File \u001B[0;32m~/DataspellProjects/pandas-ai/pandasai/__init__.py:258\u001B[0m, in \u001B[0;36mPandasAI.run_code\u001B[0;34m(self, code, data_frame, use_error_correction_framework)\u001B[0m\n\u001B[1;32m    256\u001B[0m \u001B[38;5;28;01mtry\u001B[39;00m:\n\u001B[1;32m    257\u001B[0m     \u001B[38;5;66;03m# Execute the code\u001B[39;00m\n\u001B[0;32m--> 258\u001B[0m     \u001B[43mexec\u001B[49m\u001B[43m(\u001B[49m\n\u001B[1;32m    259\u001B[0m \u001B[43m        \u001B[49m\u001B[43mcode_to_run\u001B[49m\u001B[43m,\u001B[49m\n\u001B[1;32m    260\u001B[0m \u001B[43m        \u001B[49m\u001B[43m{\u001B[49m\n\u001B[1;32m    261\u001B[0m \u001B[43m            \u001B[49m\u001B[38;5;124;43m\"\u001B[39;49m\u001B[38;5;124;43mpd\u001B[39;49m\u001B[38;5;124;43m\"\u001B[39;49m\u001B[43m:\u001B[49m\u001B[43m \u001B[49m\u001B[43mpd\u001B[49m\u001B[43m,\u001B[49m\n\u001B[1;32m    262\u001B[0m \u001B[43m            \u001B[49m\u001B[38;5;124;43m\"\u001B[39;49m\u001B[38;5;124;43mdf\u001B[39;49m\u001B[38;5;124;43m\"\u001B[39;49m\u001B[43m:\u001B[49m\u001B[43m \u001B[49m\u001B[43mdata_frame\u001B[49m\u001B[43m,\u001B[49m\n\u001B[1;32m    263\u001B[0m \u001B[43m            \u001B[49m\u001B[38;5;124;43m\"\u001B[39;49m\u001B[38;5;124;43mplt\u001B[39;49m\u001B[38;5;124;43m\"\u001B[39;49m\u001B[43m:\u001B[49m\u001B[43m \u001B[49m\u001B[43mplt\u001B[49m\u001B[43m,\u001B[49m\n\u001B[1;32m    264\u001B[0m \u001B[43m            \u001B[49m\u001B[38;5;124;43m\"\u001B[39;49m\u001B[38;5;124;43m__builtins__\u001B[39;49m\u001B[38;5;124;43m\"\u001B[39;49m\u001B[43m:\u001B[49m\u001B[43m \u001B[49m\u001B[43m{\u001B[49m\n\u001B[1;32m    265\u001B[0m \u001B[43m                \u001B[49m\u001B[38;5;241;43m*\u001B[39;49m\u001B[38;5;241;43m*\u001B[39;49m\u001B[43m{\u001B[49m\n\u001B[1;32m    266\u001B[0m \u001B[43m                    \u001B[49m\u001B[43mbuiltin\u001B[49m\u001B[43m:\u001B[49m\u001B[43m \u001B[49m\u001B[43m__builtins__\u001B[49m\u001B[43m[\u001B[49m\u001B[43mbuiltin\u001B[49m\u001B[43m]\u001B[49m\n\u001B[1;32m    267\u001B[0m \u001B[43m                    \u001B[49m\u001B[38;5;28;43;01mfor\u001B[39;49;00m\u001B[43m \u001B[49m\u001B[43mbuiltin\u001B[49m\u001B[43m \u001B[49m\u001B[38;5;129;43;01min\u001B[39;49;00m\u001B[43m \u001B[49m\u001B[43mWHITELISTED_BUILTINS\u001B[49m\n\u001B[1;32m    268\u001B[0m \u001B[43m                \u001B[49m\u001B[43m}\u001B[49m\u001B[43m,\u001B[49m\n\u001B[1;32m    269\u001B[0m \u001B[43m            \u001B[49m\u001B[43m}\u001B[49m\u001B[43m,\u001B[49m\n\u001B[1;32m    270\u001B[0m \u001B[43m        \u001B[49m\u001B[43m}\u001B[49m\u001B[43m,\u001B[49m\n\u001B[1;32m    271\u001B[0m \u001B[43m    \u001B[49m\u001B[43m)\u001B[49m\n\u001B[1;32m    272\u001B[0m     code \u001B[38;5;241m=\u001B[39m code_to_run\n",
      "File \u001B[0;32m<string>:1\u001B[0m\n",
      "\u001B[0;31mImportError\u001B[0m: __import__ not found",
      "\nDuring handling of the above exception, another exception occurred:\n",
      "\u001B[0;31mRateLimitError\u001B[0m                            Traceback (most recent call last)",
      "Cell \u001B[0;32mIn[32], line 1\u001B[0m\n\u001B[0;32m----> 1\u001B[0m \u001B[43mpandas_ai\u001B[49m\u001B[38;5;241;43m.\u001B[39;49m\u001B[43mrun\u001B[49m\u001B[43m(\u001B[49m\u001B[43mdf\u001B[49m\u001B[43m,\u001B[49m\u001B[43m \u001B[49m\u001B[38;5;124;43m'\u001B[39;49m\u001B[38;5;124;43mbuat histogram dari kolom \u001B[39;49m\u001B[38;5;124;43m\"\u001B[39;49m\u001B[38;5;124;43mPayment Currency\u001B[39;49m\u001B[38;5;124;43m\"\u001B[39;49m\u001B[38;5;124;43m dengan bins 10\u001B[39;49m\u001B[38;5;124;43m'\u001B[39;49m\u001B[43m)\u001B[49m\n",
      "File \u001B[0;32m~/DataspellProjects/pandas-ai/pandasai/__init__.py:159\u001B[0m, in \u001B[0;36mPandasAI.run\u001B[0;34m(self, data_frame, prompt, is_conversational_answer, show_code, anonymize_df, use_error_correction_framework)\u001B[0m\n\u001B[1;32m    156\u001B[0m \u001B[38;5;28;01mif\u001B[39;00m show_code \u001B[38;5;129;01mand\u001B[39;00m \u001B[38;5;28mself\u001B[39m\u001B[38;5;241m.\u001B[39m_in_notebook:\n\u001B[1;32m    157\u001B[0m     \u001B[38;5;28mself\u001B[39m\u001B[38;5;241m.\u001B[39mnotebook\u001B[38;5;241m.\u001B[39mcreate_new_cell(code)\n\u001B[0;32m--> 159\u001B[0m answer \u001B[38;5;241m=\u001B[39m \u001B[38;5;28;43mself\u001B[39;49m\u001B[38;5;241;43m.\u001B[39;49m\u001B[43mrun_code\u001B[49m\u001B[43m(\u001B[49m\n\u001B[1;32m    160\u001B[0m \u001B[43m    \u001B[49m\u001B[43mcode\u001B[49m\u001B[43m,\u001B[49m\n\u001B[1;32m    161\u001B[0m \u001B[43m    \u001B[49m\u001B[43mdata_frame\u001B[49m\u001B[43m,\u001B[49m\n\u001B[1;32m    162\u001B[0m \u001B[43m    \u001B[49m\u001B[43muse_error_correction_framework\u001B[49m\u001B[38;5;241;43m=\u001B[39;49m\u001B[43muse_error_correction_framework\u001B[49m\u001B[43m,\u001B[49m\n\u001B[1;32m    163\u001B[0m \u001B[43m\u001B[49m\u001B[43m)\u001B[49m\n\u001B[1;32m    164\u001B[0m \u001B[38;5;28mself\u001B[39m\u001B[38;5;241m.\u001B[39mcode_output \u001B[38;5;241m=\u001B[39m answer\n\u001B[1;32m    165\u001B[0m \u001B[38;5;28mself\u001B[39m\u001B[38;5;241m.\u001B[39mlog(\u001B[38;5;124mf\u001B[39m\u001B[38;5;124m\"\u001B[39m\u001B[38;5;124mAnswer: \u001B[39m\u001B[38;5;132;01m{\u001B[39;00manswer\u001B[38;5;132;01m}\u001B[39;00m\u001B[38;5;124m\"\u001B[39m)\n",
      "File \u001B[0;32m~/DataspellProjects/pandas-ai/pandasai/__init__.py:295\u001B[0m, in \u001B[0;36mPandasAI.run_code\u001B[0;34m(self, code, data_frame, use_error_correction_framework)\u001B[0m\n\u001B[1;32m    278\u001B[0m             count \u001B[38;5;241m+\u001B[39m\u001B[38;5;241m=\u001B[39m \u001B[38;5;241m1\u001B[39m\n\u001B[1;32m    279\u001B[0m             error_correcting_instruction \u001B[38;5;241m=\u001B[39m (\n\u001B[1;32m    280\u001B[0m                 \u001B[38;5;28mself\u001B[39m\u001B[38;5;241m.\u001B[39m_error_correct_instruction\u001B[38;5;241m.\u001B[39mformat(\n\u001B[1;32m    281\u001B[0m                     today_date\u001B[38;5;241m=\u001B[39mdate\u001B[38;5;241m.\u001B[39mtoday(),\n\u001B[0;32m   (...)\u001B[0m\n\u001B[1;32m    293\u001B[0m                 )\n\u001B[1;32m    294\u001B[0m             )\n\u001B[0;32m--> 295\u001B[0m             code_to_run \u001B[38;5;241m=\u001B[39m \u001B[38;5;28;43mself\u001B[39;49m\u001B[38;5;241;43m.\u001B[39;49m\u001B[43m_llm\u001B[49m\u001B[38;5;241;43m.\u001B[39;49m\u001B[43mgenerate_code\u001B[49m\u001B[43m(\u001B[49m\n\u001B[1;32m    296\u001B[0m \u001B[43m                \u001B[49m\u001B[43merror_correcting_instruction\u001B[49m\u001B[43m,\u001B[49m\u001B[43m \u001B[49m\u001B[38;5;124;43m\"\u001B[39;49m\u001B[38;5;124;43m\"\u001B[39;49m\n\u001B[1;32m    297\u001B[0m \u001B[43m            \u001B[49m\u001B[43m)\u001B[49m\n\u001B[1;32m    299\u001B[0m captured_output \u001B[38;5;241m=\u001B[39m output\u001B[38;5;241m.\u001B[39mgetvalue()\n\u001B[1;32m    301\u001B[0m \u001B[38;5;66;03m# Evaluate the last line and return its value or the captured output\u001B[39;00m\n",
      "File \u001B[0;32m~/DataspellProjects/pandas-ai/pandasai/llm/base.py:115\u001B[0m, in \u001B[0;36mLLM.generate_code\u001B[0;34m(self, instruction, prompt)\u001B[0m\n\u001B[1;32m    108\u001B[0m \u001B[38;5;28;01mdef\u001B[39;00m \u001B[38;5;21mgenerate_code\u001B[39m(\u001B[38;5;28mself\u001B[39m, instruction: \u001B[38;5;28mstr\u001B[39m, prompt: \u001B[38;5;28mstr\u001B[39m) \u001B[38;5;241m-\u001B[39m\u001B[38;5;241m>\u001B[39m \u001B[38;5;28mstr\u001B[39m:\n\u001B[1;32m    109\u001B[0m \u001B[38;5;250m    \u001B[39m\u001B[38;5;124;03m\"\"\"\u001B[39;00m\n\u001B[1;32m    110\u001B[0m \u001B[38;5;124;03m    Generate the code based on the instruction and the given prompt.\u001B[39;00m\n\u001B[1;32m    111\u001B[0m \n\u001B[1;32m    112\u001B[0m \u001B[38;5;124;03m    Returns:\u001B[39;00m\n\u001B[1;32m    113\u001B[0m \u001B[38;5;124;03m        str: Code\u001B[39;00m\n\u001B[1;32m    114\u001B[0m \u001B[38;5;124;03m    \"\"\"\u001B[39;00m\n\u001B[0;32m--> 115\u001B[0m     \u001B[38;5;28;01mreturn\u001B[39;00m \u001B[38;5;28mself\u001B[39m\u001B[38;5;241m.\u001B[39m_extract_code(\u001B[38;5;28;43mself\u001B[39;49m\u001B[38;5;241;43m.\u001B[39;49m\u001B[43mcall\u001B[49m\u001B[43m(\u001B[49m\u001B[43minstruction\u001B[49m\u001B[43m,\u001B[49m\u001B[43m \u001B[49m\u001B[43mprompt\u001B[49m\u001B[43m,\u001B[49m\u001B[43m \u001B[49m\u001B[43msuffix\u001B[49m\u001B[38;5;241;43m=\u001B[39;49m\u001B[38;5;124;43m\"\u001B[39;49m\u001B[38;5;130;43;01m\\n\u001B[39;49;00m\u001B[38;5;130;43;01m\\n\u001B[39;49;00m\u001B[38;5;124;43mCode:\u001B[39;49m\u001B[38;5;130;43;01m\\n\u001B[39;49;00m\u001B[38;5;124;43m\"\u001B[39;49m\u001B[43m)\u001B[49m)\n",
      "File \u001B[0;32m~/DataspellProjects/pandas-ai/pandasai/llm/openai.py:70\u001B[0m, in \u001B[0;36mOpenAI.call\u001B[0;34m(self, instruction, value, suffix)\u001B[0m\n\u001B[1;32m     68\u001B[0m     response \u001B[38;5;241m=\u001B[39m \u001B[38;5;28mself\u001B[39m\u001B[38;5;241m.\u001B[39mcompletion(\u001B[38;5;28mstr\u001B[39m(instruction) \u001B[38;5;241m+\u001B[39m \u001B[38;5;28mstr\u001B[39m(value) \u001B[38;5;241m+\u001B[39m suffix)\n\u001B[1;32m     69\u001B[0m \u001B[38;5;28;01melif\u001B[39;00m \u001B[38;5;28mself\u001B[39m\u001B[38;5;241m.\u001B[39mmodel \u001B[38;5;129;01min\u001B[39;00m \u001B[38;5;28mself\u001B[39m\u001B[38;5;241m.\u001B[39m_supported_chat_models:\n\u001B[0;32m---> 70\u001B[0m     response \u001B[38;5;241m=\u001B[39m \u001B[38;5;28;43mself\u001B[39;49m\u001B[38;5;241;43m.\u001B[39;49m\u001B[43mchat_completion\u001B[49m\u001B[43m(\u001B[49m\u001B[38;5;28;43mstr\u001B[39;49m\u001B[43m(\u001B[49m\u001B[43minstruction\u001B[49m\u001B[43m)\u001B[49m\u001B[43m \u001B[49m\u001B[38;5;241;43m+\u001B[39;49m\u001B[43m \u001B[49m\u001B[38;5;28;43mstr\u001B[39;49m\u001B[43m(\u001B[49m\u001B[43mvalue\u001B[49m\u001B[43m)\u001B[49m\u001B[43m \u001B[49m\u001B[38;5;241;43m+\u001B[39;49m\u001B[43m \u001B[49m\u001B[43msuffix\u001B[49m\u001B[43m)\u001B[49m\n\u001B[1;32m     71\u001B[0m \u001B[38;5;28;01melse\u001B[39;00m:\n\u001B[1;32m     72\u001B[0m     \u001B[38;5;28;01mraise\u001B[39;00m UnsupportedOpenAIModelError(\u001B[38;5;124m\"\u001B[39m\u001B[38;5;124mUnsupported model\u001B[39m\u001B[38;5;124m\"\u001B[39m)\n",
      "File \u001B[0;32m~/DataspellProjects/pandas-ai/pandasai/llm/base.py:198\u001B[0m, in \u001B[0;36mBaseOpenAI.chat_completion\u001B[0;34m(self, value)\u001B[0m\n\u001B[1;32m    195\u001B[0m \u001B[38;5;28;01mif\u001B[39;00m \u001B[38;5;28mself\u001B[39m\u001B[38;5;241m.\u001B[39mstop \u001B[38;5;129;01mis\u001B[39;00m \u001B[38;5;129;01mnot\u001B[39;00m \u001B[38;5;28;01mNone\u001B[39;00m:\n\u001B[1;32m    196\u001B[0m     params[\u001B[38;5;124m\"\u001B[39m\u001B[38;5;124mstop\u001B[39m\u001B[38;5;124m\"\u001B[39m] \u001B[38;5;241m=\u001B[39m [\u001B[38;5;28mself\u001B[39m\u001B[38;5;241m.\u001B[39mstop]\n\u001B[0;32m--> 198\u001B[0m response \u001B[38;5;241m=\u001B[39m \u001B[43mopenai\u001B[49m\u001B[38;5;241;43m.\u001B[39;49m\u001B[43mChatCompletion\u001B[49m\u001B[38;5;241;43m.\u001B[39;49m\u001B[43mcreate\u001B[49m\u001B[43m(\u001B[49m\u001B[38;5;241;43m*\u001B[39;49m\u001B[38;5;241;43m*\u001B[39;49m\u001B[43mparams\u001B[49m\u001B[43m)\u001B[49m\n\u001B[1;32m    200\u001B[0m \u001B[38;5;28;01mreturn\u001B[39;00m response[\u001B[38;5;124m\"\u001B[39m\u001B[38;5;124mchoices\u001B[39m\u001B[38;5;124m\"\u001B[39m][\u001B[38;5;241m0\u001B[39m][\u001B[38;5;124m\"\u001B[39m\u001B[38;5;124mmessage\u001B[39m\u001B[38;5;124m\"\u001B[39m][\u001B[38;5;124m\"\u001B[39m\u001B[38;5;124mcontent\u001B[39m\u001B[38;5;124m\"\u001B[39m]\n",
      "File \u001B[0;32m~/anaconda3/envs/pandas-ai/lib/python3.10/site-packages/openai/api_resources/chat_completion.py:25\u001B[0m, in \u001B[0;36mChatCompletion.create\u001B[0;34m(cls, *args, **kwargs)\u001B[0m\n\u001B[1;32m     23\u001B[0m \u001B[38;5;28;01mwhile\u001B[39;00m \u001B[38;5;28;01mTrue\u001B[39;00m:\n\u001B[1;32m     24\u001B[0m     \u001B[38;5;28;01mtry\u001B[39;00m:\n\u001B[0;32m---> 25\u001B[0m         \u001B[38;5;28;01mreturn\u001B[39;00m \u001B[38;5;28;43msuper\u001B[39;49m\u001B[43m(\u001B[49m\u001B[43m)\u001B[49m\u001B[38;5;241;43m.\u001B[39;49m\u001B[43mcreate\u001B[49m\u001B[43m(\u001B[49m\u001B[38;5;241;43m*\u001B[39;49m\u001B[43margs\u001B[49m\u001B[43m,\u001B[49m\u001B[43m \u001B[49m\u001B[38;5;241;43m*\u001B[39;49m\u001B[38;5;241;43m*\u001B[39;49m\u001B[43mkwargs\u001B[49m\u001B[43m)\u001B[49m\n\u001B[1;32m     26\u001B[0m     \u001B[38;5;28;01mexcept\u001B[39;00m TryAgain \u001B[38;5;28;01mas\u001B[39;00m e:\n\u001B[1;32m     27\u001B[0m         \u001B[38;5;28;01mif\u001B[39;00m timeout \u001B[38;5;129;01mis\u001B[39;00m \u001B[38;5;129;01mnot\u001B[39;00m \u001B[38;5;28;01mNone\u001B[39;00m \u001B[38;5;129;01mand\u001B[39;00m time\u001B[38;5;241m.\u001B[39mtime() \u001B[38;5;241m>\u001B[39m start \u001B[38;5;241m+\u001B[39m timeout:\n",
      "File \u001B[0;32m~/anaconda3/envs/pandas-ai/lib/python3.10/site-packages/openai/api_resources/abstract/engine_api_resource.py:153\u001B[0m, in \u001B[0;36mEngineAPIResource.create\u001B[0;34m(cls, api_key, api_base, api_type, request_id, api_version, organization, **params)\u001B[0m\n\u001B[1;32m    127\u001B[0m \u001B[38;5;129m@classmethod\u001B[39m\n\u001B[1;32m    128\u001B[0m \u001B[38;5;28;01mdef\u001B[39;00m \u001B[38;5;21mcreate\u001B[39m(\n\u001B[1;32m    129\u001B[0m     \u001B[38;5;28mcls\u001B[39m,\n\u001B[0;32m   (...)\u001B[0m\n\u001B[1;32m    136\u001B[0m     \u001B[38;5;241m*\u001B[39m\u001B[38;5;241m*\u001B[39mparams,\n\u001B[1;32m    137\u001B[0m ):\n\u001B[1;32m    138\u001B[0m     (\n\u001B[1;32m    139\u001B[0m         deployment_id,\n\u001B[1;32m    140\u001B[0m         engine,\n\u001B[0;32m   (...)\u001B[0m\n\u001B[1;32m    150\u001B[0m         api_key, api_base, api_type, api_version, organization, \u001B[38;5;241m*\u001B[39m\u001B[38;5;241m*\u001B[39mparams\n\u001B[1;32m    151\u001B[0m     )\n\u001B[0;32m--> 153\u001B[0m     response, _, api_key \u001B[38;5;241m=\u001B[39m \u001B[43mrequestor\u001B[49m\u001B[38;5;241;43m.\u001B[39;49m\u001B[43mrequest\u001B[49m\u001B[43m(\u001B[49m\n\u001B[1;32m    154\u001B[0m \u001B[43m        \u001B[49m\u001B[38;5;124;43m\"\u001B[39;49m\u001B[38;5;124;43mpost\u001B[39;49m\u001B[38;5;124;43m\"\u001B[39;49m\u001B[43m,\u001B[49m\n\u001B[1;32m    155\u001B[0m \u001B[43m        \u001B[49m\u001B[43murl\u001B[49m\u001B[43m,\u001B[49m\n\u001B[1;32m    156\u001B[0m \u001B[43m        \u001B[49m\u001B[43mparams\u001B[49m\u001B[38;5;241;43m=\u001B[39;49m\u001B[43mparams\u001B[49m\u001B[43m,\u001B[49m\n\u001B[1;32m    157\u001B[0m \u001B[43m        \u001B[49m\u001B[43mheaders\u001B[49m\u001B[38;5;241;43m=\u001B[39;49m\u001B[43mheaders\u001B[49m\u001B[43m,\u001B[49m\n\u001B[1;32m    158\u001B[0m \u001B[43m        \u001B[49m\u001B[43mstream\u001B[49m\u001B[38;5;241;43m=\u001B[39;49m\u001B[43mstream\u001B[49m\u001B[43m,\u001B[49m\n\u001B[1;32m    159\u001B[0m \u001B[43m        \u001B[49m\u001B[43mrequest_id\u001B[49m\u001B[38;5;241;43m=\u001B[39;49m\u001B[43mrequest_id\u001B[49m\u001B[43m,\u001B[49m\n\u001B[1;32m    160\u001B[0m \u001B[43m        \u001B[49m\u001B[43mrequest_timeout\u001B[49m\u001B[38;5;241;43m=\u001B[39;49m\u001B[43mrequest_timeout\u001B[49m\u001B[43m,\u001B[49m\n\u001B[1;32m    161\u001B[0m \u001B[43m    \u001B[49m\u001B[43m)\u001B[49m\n\u001B[1;32m    163\u001B[0m     \u001B[38;5;28;01mif\u001B[39;00m stream:\n\u001B[1;32m    164\u001B[0m         \u001B[38;5;66;03m# must be an iterator\u001B[39;00m\n\u001B[1;32m    165\u001B[0m         \u001B[38;5;28;01massert\u001B[39;00m \u001B[38;5;129;01mnot\u001B[39;00m \u001B[38;5;28misinstance\u001B[39m(response, OpenAIResponse)\n",
      "File \u001B[0;32m~/anaconda3/envs/pandas-ai/lib/python3.10/site-packages/openai/api_requestor.py:230\u001B[0m, in \u001B[0;36mAPIRequestor.request\u001B[0;34m(self, method, url, params, headers, files, stream, request_id, request_timeout)\u001B[0m\n\u001B[1;32m    209\u001B[0m \u001B[38;5;28;01mdef\u001B[39;00m \u001B[38;5;21mrequest\u001B[39m(\n\u001B[1;32m    210\u001B[0m     \u001B[38;5;28mself\u001B[39m,\n\u001B[1;32m    211\u001B[0m     method,\n\u001B[0;32m   (...)\u001B[0m\n\u001B[1;32m    218\u001B[0m     request_timeout: Optional[Union[\u001B[38;5;28mfloat\u001B[39m, Tuple[\u001B[38;5;28mfloat\u001B[39m, \u001B[38;5;28mfloat\u001B[39m]]] \u001B[38;5;241m=\u001B[39m \u001B[38;5;28;01mNone\u001B[39;00m,\n\u001B[1;32m    219\u001B[0m ) \u001B[38;5;241m-\u001B[39m\u001B[38;5;241m>\u001B[39m Tuple[Union[OpenAIResponse, Iterator[OpenAIResponse]], \u001B[38;5;28mbool\u001B[39m, \u001B[38;5;28mstr\u001B[39m]:\n\u001B[1;32m    220\u001B[0m     result \u001B[38;5;241m=\u001B[39m \u001B[38;5;28mself\u001B[39m\u001B[38;5;241m.\u001B[39mrequest_raw(\n\u001B[1;32m    221\u001B[0m         method\u001B[38;5;241m.\u001B[39mlower(),\n\u001B[1;32m    222\u001B[0m         url,\n\u001B[0;32m   (...)\u001B[0m\n\u001B[1;32m    228\u001B[0m         request_timeout\u001B[38;5;241m=\u001B[39mrequest_timeout,\n\u001B[1;32m    229\u001B[0m     )\n\u001B[0;32m--> 230\u001B[0m     resp, got_stream \u001B[38;5;241m=\u001B[39m \u001B[38;5;28;43mself\u001B[39;49m\u001B[38;5;241;43m.\u001B[39;49m\u001B[43m_interpret_response\u001B[49m\u001B[43m(\u001B[49m\u001B[43mresult\u001B[49m\u001B[43m,\u001B[49m\u001B[43m \u001B[49m\u001B[43mstream\u001B[49m\u001B[43m)\u001B[49m\n\u001B[1;32m    231\u001B[0m     \u001B[38;5;28;01mreturn\u001B[39;00m resp, got_stream, \u001B[38;5;28mself\u001B[39m\u001B[38;5;241m.\u001B[39mapi_key\n",
      "File \u001B[0;32m~/anaconda3/envs/pandas-ai/lib/python3.10/site-packages/openai/api_requestor.py:624\u001B[0m, in \u001B[0;36mAPIRequestor._interpret_response\u001B[0;34m(self, result, stream)\u001B[0m\n\u001B[1;32m    616\u001B[0m     \u001B[38;5;28;01mreturn\u001B[39;00m (\n\u001B[1;32m    617\u001B[0m         \u001B[38;5;28mself\u001B[39m\u001B[38;5;241m.\u001B[39m_interpret_response_line(\n\u001B[1;32m    618\u001B[0m             line, result\u001B[38;5;241m.\u001B[39mstatus_code, result\u001B[38;5;241m.\u001B[39mheaders, stream\u001B[38;5;241m=\u001B[39m\u001B[38;5;28;01mTrue\u001B[39;00m\n\u001B[1;32m    619\u001B[0m         )\n\u001B[1;32m    620\u001B[0m         \u001B[38;5;28;01mfor\u001B[39;00m line \u001B[38;5;129;01min\u001B[39;00m parse_stream(result\u001B[38;5;241m.\u001B[39miter_lines())\n\u001B[1;32m    621\u001B[0m     ), \u001B[38;5;28;01mTrue\u001B[39;00m\n\u001B[1;32m    622\u001B[0m \u001B[38;5;28;01melse\u001B[39;00m:\n\u001B[1;32m    623\u001B[0m     \u001B[38;5;28;01mreturn\u001B[39;00m (\n\u001B[0;32m--> 624\u001B[0m         \u001B[38;5;28;43mself\u001B[39;49m\u001B[38;5;241;43m.\u001B[39;49m\u001B[43m_interpret_response_line\u001B[49m\u001B[43m(\u001B[49m\n\u001B[1;32m    625\u001B[0m \u001B[43m            \u001B[49m\u001B[43mresult\u001B[49m\u001B[38;5;241;43m.\u001B[39;49m\u001B[43mcontent\u001B[49m\u001B[38;5;241;43m.\u001B[39;49m\u001B[43mdecode\u001B[49m\u001B[43m(\u001B[49m\u001B[38;5;124;43m\"\u001B[39;49m\u001B[38;5;124;43mutf-8\u001B[39;49m\u001B[38;5;124;43m\"\u001B[39;49m\u001B[43m)\u001B[49m\u001B[43m,\u001B[49m\n\u001B[1;32m    626\u001B[0m \u001B[43m            \u001B[49m\u001B[43mresult\u001B[49m\u001B[38;5;241;43m.\u001B[39;49m\u001B[43mstatus_code\u001B[49m\u001B[43m,\u001B[49m\n\u001B[1;32m    627\u001B[0m \u001B[43m            \u001B[49m\u001B[43mresult\u001B[49m\u001B[38;5;241;43m.\u001B[39;49m\u001B[43mheaders\u001B[49m\u001B[43m,\u001B[49m\n\u001B[1;32m    628\u001B[0m \u001B[43m            \u001B[49m\u001B[43mstream\u001B[49m\u001B[38;5;241;43m=\u001B[39;49m\u001B[38;5;28;43;01mFalse\u001B[39;49;00m\u001B[43m,\u001B[49m\n\u001B[1;32m    629\u001B[0m \u001B[43m        \u001B[49m\u001B[43m)\u001B[49m,\n\u001B[1;32m    630\u001B[0m         \u001B[38;5;28;01mFalse\u001B[39;00m,\n\u001B[1;32m    631\u001B[0m     )\n",
      "File \u001B[0;32m~/anaconda3/envs/pandas-ai/lib/python3.10/site-packages/openai/api_requestor.py:687\u001B[0m, in \u001B[0;36mAPIRequestor._interpret_response_line\u001B[0;34m(self, rbody, rcode, rheaders, stream)\u001B[0m\n\u001B[1;32m    685\u001B[0m stream_error \u001B[38;5;241m=\u001B[39m stream \u001B[38;5;129;01mand\u001B[39;00m \u001B[38;5;124m\"\u001B[39m\u001B[38;5;124merror\u001B[39m\u001B[38;5;124m\"\u001B[39m \u001B[38;5;129;01min\u001B[39;00m resp\u001B[38;5;241m.\u001B[39mdata\n\u001B[1;32m    686\u001B[0m \u001B[38;5;28;01mif\u001B[39;00m stream_error \u001B[38;5;129;01mor\u001B[39;00m \u001B[38;5;129;01mnot\u001B[39;00m \u001B[38;5;241m200\u001B[39m \u001B[38;5;241m<\u001B[39m\u001B[38;5;241m=\u001B[39m rcode \u001B[38;5;241m<\u001B[39m \u001B[38;5;241m300\u001B[39m:\n\u001B[0;32m--> 687\u001B[0m     \u001B[38;5;28;01mraise\u001B[39;00m \u001B[38;5;28mself\u001B[39m\u001B[38;5;241m.\u001B[39mhandle_error_response(\n\u001B[1;32m    688\u001B[0m         rbody, rcode, resp\u001B[38;5;241m.\u001B[39mdata, rheaders, stream_error\u001B[38;5;241m=\u001B[39mstream_error\n\u001B[1;32m    689\u001B[0m     )\n\u001B[1;32m    690\u001B[0m \u001B[38;5;28;01mreturn\u001B[39;00m resp\n",
      "\u001B[0;31mRateLimitError\u001B[0m: That model is currently overloaded with other requests. You can retry your request, or contact us through our help center at help.openai.com if the error persists. (Please include the request ID 2b179542716868297bc4c516c84c6c5b in your message.)"
     ]
    }
   ],
   "source": [
    "pandas_ai.run(df, 'buat histogram dari kolom \"Payment Currency\" dengan bins 10')"
   ],
   "metadata": {
    "collapsed": false,
    "ExecuteTime": {
     "start_time": "2023-05-23T09:57:04.436684Z",
     "end_time": "2023-05-23T09:57:51.552000Z"
    }
   }
  },
  {
   "cell_type": "code",
   "execution_count": 33,
   "outputs": [
    {
     "data": {
      "text/plain": "<Figure size 640x480 with 1 Axes>",
      "image/png": "[encoded data removed]"
     },
     "metadata": {},
     "output_type": "display_data"
    }
   ],
   "source": [
    "df = dataframe\n",
    "plt.hist(df['Payment Currency'], bins=10)\n",
    "plt.xlabel('Payment Currency')\n",
    "plt.ylabel('Frequency')\n",
    "plt.title('Histogram of Payment Currency')\n",
    "plt.show()"
   ],
   "metadata": {
    "collapsed": false,
    "ExecuteTime": {
     "start_time": "2023-05-23T10:00:55.016568Z",
     "end_time": "2023-05-23T10:00:55.850341Z"
    }
   }
  },
  {
   "cell_type": "code",
   "execution_count": 34,
   "outputs": [
    {
     "name": "stdout",
     "output_type": "stream",
     "text": [
      "Running PandasAI with openai LLM...\n",
      "\n",
      "Code generated:\n",
      "```\n",
      "import seaborn as sns\n",
      "\n",
      "sns.countplot(x=\"Payment Currency\", data=df)\n",
      "```\n",
      "\n",
      "Code running:\n",
      "```\n",
      "sns.countplot(x='Payment Currency', data=df)\n",
      "```\n",
      "Answer: \n",
      "Conversational answer: Sure, to create a countplot of the \"Payment Currency\" column using seaborn, we can use the following code: \n",
      "\n",
      "```python\n",
      "import seaborn as sns\n",
      "import matplotlib.pyplot as plt\n",
      "\n",
      "sns.countplot(x=\"Payment Currency\", data=df)\n",
      "plt.show()\n",
      "```\n",
      "\n",
      "This will generate a bar chart showing the count of each payment currency in the dataset.\n"
     ]
    },
    {
     "data": {
      "text/plain": "'Sure, to create a countplot of the \"Payment Currency\" column using seaborn, we can use the following code: \\n\\n```python\\nimport seaborn as sns\\nimport matplotlib.pyplot as plt\\n\\nsns.countplot(x=\"Payment Currency\", data=df)\\nplt.show()\\n```\\n\\nThis will generate a bar chart showing the count of each payment currency in the dataset.'"
     },
     "execution_count": 34,
     "metadata": {},
     "output_type": "execute_result"
    }
   ],
   "source": [
    "pandas_ai.run(df, 'buat countplot dari kolom \"Payment Currency\" dengan menggunakan seaborn')"
   ],
   "metadata": {
    "collapsed": false,
    "ExecuteTime": {
     "start_time": "2023-05-23T10:02:25.164300Z",
     "end_time": "2023-05-23T10:03:14.107311Z"
    }
   }
  },
  {
   "cell_type": "code",
   "execution_count": 35,
   "outputs": [
    {
     "data": {
      "text/plain": "<Figure size 640x480 with 1 Axes>",
      "image/png": "[encoded data removed]"
     },
     "metadata": {},
     "output_type": "display_data"
    }
   ],
   "source": [
    "import seaborn as sns\n",
    "import matplotlib.pyplot as plt\n",
    "\n",
    "df = dataframe\n",
    "sns.countplot(x=\"Payment Currency\", data=df)\n",
    "plt.show()\n"
   ],
   "metadata": {
    "collapsed": false,
    "ExecuteTime": {
     "start_time": "2023-05-23T10:03:59.457568Z",
     "end_time": "2023-05-23T10:04:00.836505Z"
    }
   }
  },
  {
   "cell_type": "code",
   "execution_count": 36,
   "outputs": [
    {
     "name": "stdout",
     "output_type": "stream",
     "text": [
      "Running PandasAI with openai LLM...\n",
      "\n",
      "Code generated:\n",
      "```\n",
      "import pandas as pd\n",
      "\n",
      "# Load the dataframe\n",
      "df = pd.read_csv('data.csv')\n",
      "\n",
      "# Print the first 5 rows of the dataframe\n",
      "print(df.head(5))\n",
      "\n",
      "# Get information about the dataframe\n",
      "print(df.info())\n",
      "\n",
      "# Check for missing values\n",
      "print(df.isnull().sum())\n",
      "\n",
      "# Check for duplicates\n",
      "print(df.duplicated().sum())\n",
      "\n",
      "# Identify suspicious transactions using core detection and clustering algorithm\n",
      "from sklearn.cluster import DBSCAN\n",
      "\n",
      "# Select relevant columns for clustering\n",
      "X = df[['Amount Received', 'Amount Paid']]\n",
      "\n",
      "# Normalize the data\n",
      "from sklearn.preprocessing import StandardScaler\n",
      "scaler = StandardScaler()\n",
      "X_scaled = scaler.fit_transform(X)\n",
      "\n",
      "# Apply DBSCAN clustering algorithm\n",
      "dbscan = DBSCAN(eps=0.5, min_samples=10)\n",
      "clusters = dbscan.fit_predict(X_scaled)\n",
      "\n",
      "# Add cluster labels to the dataframe\n",
      "df['Cluster'] = clusters\n",
      "\n",
      "# Identify suspicious transactions with cluster label -1\n",
      "suspicious_transactions = df[df['Cluster'] == -1]\n",
      "\n",
      "# Print the suspicious transactions\n",
      "print(suspicious_transactions)\n",
      "```\n",
      "\n",
      "Code running:\n",
      "```\n",
      "print(df.head(5))\n",
      "print(df.info())\n",
      "print(df.isnull().sum())\n",
      "print(df.duplicated().sum())\n",
      "X = df[['Amount Received', 'Amount Paid']]\n",
      "scaler = StandardScaler()\n",
      "X_scaled = scaler.fit_transform(X)\n",
      "dbscan = DBSCAN(eps=0.5, min_samples=10)\n",
      "clusters = dbscan.fit_predict(X_scaled)\n",
      "df['Cluster'] = clusters\n",
      "suspicious_transactions = df[df['Cluster'] == -1]\n",
      "print(suspicious_transactions)\n",
      "```\n",
      "Answer:           Timestamp  From Bank    Account  To Bank  Account.1   \n",
      "0  2022/09/01 00:20         10  8000EBD30       10  8000EBD30  \\\n",
      "1  2022/09/01 00:20       3208  8000F4580        1  8000F5340   \n",
      "2  2022/09/01 00:00       3209  8000F4670     3209  8000F4670   \n",
      "3  2022/09/01 00:02         12  8000F5030       12  8000F5030   \n",
      "4  2022/09/01 00:06         10  8000F5200       10  8000F5200   \n",
      "\n",
      "   Amount Received Receiving Currency  Amount Paid Payment Currency   \n",
      "0          3697.34          US Dollar      3697.34        US Dollar  \\\n",
      "1             0.01          US Dollar         0.01        US Dollar   \n",
      "2         14675.57          US Dollar     14675.57        US Dollar   \n",
      "3          2806.97          US Dollar      2806.97        US Dollar   \n",
      "4         36682.97          US Dollar     36682.97        US Dollar   \n",
      "\n",
      "   Is Laundering  Total Amount  \n",
      "0              0           0.0  \n",
      "1              0           0.0  \n",
      "2              0           0.0  \n",
      "3              0           0.0  \n",
      "4              0           0.0  \n",
      "<class 'pandas.core.frame.DataFrame'>\n",
      "RangeIndex: 5078345 entries, 0 to 5078344\n",
      "Data columns (total 11 columns):\n",
      " #   Column              Dtype  \n",
      "---  ------              -----  \n",
      " 0   Timestamp           object \n",
      " 1   From Bank           int64  \n",
      " 2   Account             object \n",
      " 3   To Bank             int64  \n",
      " 4   Account.1           object \n",
      " 5   Amount Received     float64\n",
      " 6   Receiving Currency  object \n",
      " 7   Amount Paid         float64\n",
      " 8   Payment Currency    object \n",
      " 9   Is Laundering       int64  \n",
      " 10  Total Amount        float64\n",
      "dtypes: float64(3), int64(3), object(5)\n",
      "memory usage: 426.2+ MB\n",
      "None\n",
      "Timestamp             0\n",
      "From Bank             0\n",
      "Account               0\n",
      "To Bank               0\n",
      "Account.1             0\n",
      "Amount Received       0\n",
      "Receiving Currency    0\n",
      "Amount Paid           0\n",
      "Payment Currency      0\n",
      "Is Laundering         0\n",
      "Total Amount          0\n",
      "dtype: int64\n",
      "12\n",
      "\n",
      "Conversational answer: To identify suspicious money laundering transactions using the core detection and clustering algorithm method, we can analyze a dataset that includes information such as the timestamp, bank accounts involved, currency used, and amount transferred. By examining patterns in the data, we can flag transactions that appear to be unusual or potentially fraudulent. In one example dataset, there were over 5 million entries, but none of them were flagged as suspicious. However, further analysis may be necessary to detect more subtle patterns of money laundering activity.\n"
     ]
    },
    {
     "data": {
      "text/plain": "'To identify suspicious money laundering transactions using the core detection and clustering algorithm method, we can analyze a dataset that includes information such as the timestamp, bank accounts involved, currency used, and amount transferred. By examining patterns in the data, we can flag transactions that appear to be unusual or potentially fraudulent. In one example dataset, there were over 5 million entries, but none of them were flagged as suspicious. However, further analysis may be necessary to detect more subtle patterns of money laundering activity.'"
     },
     "execution_count": 36,
     "metadata": {},
     "output_type": "execute_result"
    }
   ],
   "source": [
    "pandas_ai.run(df, 'identifikasi suspicious money laundering transaction detection dengan metode core detection and clustering algorithm')"
   ],
   "metadata": {
    "collapsed": false,
    "ExecuteTime": {
     "start_time": "2023-05-23T10:05:46.526869Z",
     "end_time": "2023-05-23T10:07:43.710823Z"
    }
   }
  },
  {
   "cell_type": "code",
   "execution_count": null,
   "outputs": [
    {
     "name": "stdout",
     "output_type": "stream",
     "text": [
      "          Timestamp  From Bank    Account  To Bank  Account.1   \n",
      "0  2022/09/01 00:20         10  8000EBD30       10  8000EBD30  \\\n",
      "1  2022/09/01 00:20       3208  8000F4580        1  8000F5340   \n",
      "2  2022/09/01 00:00       3209  8000F4670     3209  8000F4670   \n",
      "3  2022/09/01 00:02         12  8000F5030       12  8000F5030   \n",
      "4  2022/09/01 00:06         10  8000F5200       10  8000F5200   \n",
      "\n",
      "   Amount Received Receiving Currency  Amount Paid Payment Currency   \n",
      "0          3697.34          US Dollar      3697.34        US Dollar  \\\n",
      "1             0.01          US Dollar         0.01        US Dollar   \n",
      "2         14675.57          US Dollar     14675.57        US Dollar   \n",
      "3          2806.97          US Dollar      2806.97        US Dollar   \n",
      "4         36682.97          US Dollar     36682.97        US Dollar   \n",
      "\n",
      "  Payment Format  Is Laundering  \n",
      "0   Reinvestment              0  \n",
      "1         Cheque              0  \n",
      "2   Reinvestment              0  \n",
      "3   Reinvestment              0  \n",
      "4   Reinvestment              0  \n",
      "<class 'pandas.core.frame.DataFrame'>\n",
      "RangeIndex: 5078345 entries, 0 to 5078344\n",
      "Data columns (total 11 columns):\n",
      " #   Column              Dtype  \n",
      "---  ------              -----  \n",
      " 0   Timestamp           object \n",
      " 1   From Bank           int64  \n",
      " 2   Account             object \n",
      " 3   To Bank             int64  \n",
      " 4   Account.1           object \n",
      " 5   Amount Received     float64\n",
      " 6   Receiving Currency  object \n",
      " 7   Amount Paid         float64\n",
      " 8   Payment Currency    object \n",
      " 9   Payment Format      object \n",
      " 10  Is Laundering       int64  \n",
      "dtypes: float64(2), int64(3), object(6)\n",
      "memory usage: 426.2+ MB\n",
      "None\n",
      "Timestamp             0\n",
      "From Bank             0\n",
      "Account               0\n",
      "To Bank               0\n",
      "Account.1             0\n",
      "Amount Received       0\n",
      "Receiving Currency    0\n",
      "Amount Paid           0\n",
      "Payment Currency      0\n",
      "Payment Format        0\n",
      "Is Laundering         0\n",
      "dtype: int64\n",
      "9\n"
     ]
    }
   ],
   "source": [
    "print(df.head(5))\n",
    "print(df.info())\n",
    "print(df.isnull().sum())\n",
    "print(df.duplicated().sum())\n",
    "X = df[['Amount Received', 'Amount Paid']]\n",
    "scaler = StandardScaler()\n",
    "X_scaled = scaler.fit_transform(X)\n",
    "dbscan = DBSCAN(eps=0.5, min_samples=10)\n",
    "clusters = dbscan.fit_predict(X_scaled)\n",
    "df['Cluster'] = clusters\n",
    "suspicious_transactions = df[df['Cluster'] == -1]\n",
    "print(suspicious_transactions)"
   ],
   "metadata": {
    "collapsed": false
   }
  },
  {
   "cell_type": "code",
   "execution_count": 6,
   "outputs": [
    {
     "name": "stdout",
     "output_type": "stream",
     "text": [
      "Running PandasAI with openai LLM...\n",
      "\n",
      "Code generated:\n",
      "```\n",
      "import pandas as pd\n",
      "\n",
      "df = pd.read_csv('data.csv')\n",
      "\n",
      "print(df['Is Laundering'].value_counts())\n",
      "```\n",
      "\n",
      "Code running:\n",
      "```\n",
      "print(df['Is Laundering'].value_counts())\n",
      "```\n",
      "Answer: Is Laundering\n",
      "0    5073168\n",
      "1       5177\n",
      "Name: count, dtype: int64\n",
      "Conversational answer: Can you show me the unique frequency of the \"Is Laundering\" column? Sure, there are 5,073,168 rows with a value of 0 and 5,177 rows with a value of 1.\n"
     ]
    },
    {
     "data": {
      "text/plain": "'Can you show me the unique frequency of the \"Is Laundering\" column? Sure, there are 5,073,168 rows with a value of 0 and 5,177 rows with a value of 1.'"
     },
     "execution_count": 6,
     "metadata": {},
     "output_type": "execute_result"
    }
   ],
   "source": [
    "pandas_ai.run(df, 'tampilkan frekuensi unik dari kolom \"Is Laundering\"')"
   ],
   "metadata": {
    "collapsed": false,
    "ExecuteTime": {
     "start_time": "2023-05-23T10:33:17.271501Z",
     "end_time": "2023-05-23T10:33:28.788405Z"
    }
   }
  },
  {
   "cell_type": "code",
   "execution_count": 8,
   "outputs": [
    {
     "name": "stdout",
     "output_type": "stream",
     "text": [
      "Running PandasAI with openai LLM...\n",
      "\n",
      "Code generated:\n",
      "```\n",
      "# Import necessary libraries\n",
      "import pandas as pd\n",
      "from sklearn.cluster import KMeans\n",
      "\n",
      "# Load the dataframe\n",
      "df = pd.read_csv('data.csv')\n",
      "\n",
      "# Perform clustering on the 'Amount Received' and 'Amount Paid' columns\n",
      "X = df[['Amount Received', 'Amount Paid']]\n",
      "kmeans = KMeans(n_clusters=2, random_state=0).fit(X)\n",
      "df['Cluster'] = kmeans.labels_\n",
      "\n",
      "# Identify suspicious transactions based on clustering\n",
      "suspicious_transactions = df[df['Cluster'] == 1]\n",
      "\n",
      "# Save suspicious transactions to csv file\n",
      "suspicious_transactions.to_csv('suspicious_transactions.csv', index=False)\n",
      "```\n",
      "\n",
      "Code running:\n",
      "```\n",
      "X = df[['Amount Received', 'Amount Paid']]\n",
      "kmeans = KMeans(n_clusters=2, random_state=0).fit(X)\n",
      "df['Cluster'] = kmeans.labels_\n",
      "suspicious_transactions = df[df['Cluster'] == 1]\n",
      "suspicious_transactions.to_csv('suspicious_transactions.csv', index=False)\n",
      "```\n",
      "Answer: \n",
      "Conversational answer: Sure, based on the clustering results, we can identify and print out suspicious transactions that may be related to money laundering. We can save the output in a CSV format.\n"
     ]
    },
    {
     "data": {
      "text/plain": "'Sure, based on the clustering results, we can identify and print out suspicious transactions that may be related to money laundering. We can save the output in a CSV format.'"
     },
     "execution_count": 8,
     "metadata": {},
     "output_type": "execute_result"
    }
   ],
   "source": [
    "pandas_ai.run(df, 'Identifikasi dan cetak transaksi yang dicurigai sebagai pencucian uang berdasarkan hasil clustering, simpan dalam format csv')"
   ],
   "metadata": {
    "collapsed": false,
    "ExecuteTime": {
     "start_time": "2023-05-23T10:38:04.709934Z",
     "end_time": "2023-05-23T10:39:10.759715Z"
    }
   }
  },
  {
   "cell_type": "code",
   "execution_count": 11,
   "outputs": [
    {
     "name": "stderr",
     "output_type": "stream",
     "text": [
      "/home/lambda_one/anaconda3/envs/pandas-ai/lib/python3.10/site-packages/sklearn/cluster/_kmeans.py:870: FutureWarning: The default value of `n_init` will change from 10 to 'auto' in 1.4. Set the value of `n_init` explicitly to suppress the warning\n",
      "  warnings.warn(\n"
     ]
    },
    {
     "name": "stdout",
     "output_type": "stream",
     "text": [
      "         Amount Received   Amount Paid  Is Laundering Day of Week   \n",
      "1711893     6.260355e+11  8.046315e+09              0      Friday  \\\n",
      "1711894     6.260355e+11  6.260355e+11              0      Friday   \n",
      "1773260     5.593344e+11  7.615794e+09              0      Friday   \n",
      "1773261     5.593344e+11  5.593344e+11              0      Friday   \n",
      "1773265     4.536185e+11  4.536185e+11              0      Friday   \n",
      "3130043     1.046302e+12  1.046302e+12              0     Tuesday   \n",
      "3437493     9.659333e+11  9.659333e+11              0   Wednesday   \n",
      "4466473     6.260355e+11  8.046315e+09              0      Friday   \n",
      "4466474     6.260355e+11  6.260355e+11              0      Friday   \n",
      "\n",
      "         Hour of Day  Cluster  \n",
      "1711893           18        1  \n",
      "1711894           18        1  \n",
      "1773260           20        1  \n",
      "1773261           20        1  \n",
      "1773265           20        1  \n",
      "3130043           17        1  \n",
      "3437493            8        1  \n",
      "4466473            8        1  \n",
      "4466474            8        1  \n"
     ]
    }
   ],
   "source": [
    "from sklearn.cluster import KMeans\n",
    "X = df[['Amount Received', 'Amount Paid']]\n",
    "kmeans = KMeans(n_clusters=2, random_state=0).fit(X)\n",
    "df['Cluster'] = kmeans.labels_\n",
    "suspicious_transactions = df[df['Cluster'] == 1]\n",
    "suspicious_transactions.to_csv('suspicious_transactions.csv', index=False)\n",
    "print(suspicious_transactions)"
   ],
   "metadata": {
    "collapsed": false,
    "ExecuteTime": {
     "start_time": "2023-05-23T10:45:24.181672Z",
     "end_time": "2023-05-23T10:45:27.038353Z"
    }
   }
  },
  {
   "cell_type": "code",
   "execution_count": 17,
   "outputs": [
    {
     "name": "stdout",
     "output_type": "stream",
     "text": [
      "Running PandasAI with openai LLM...\n",
      "\n",
      "Code generated:\n",
      "```\n",
      "# Description of the dataframe\n",
      "# The dataframe has 5078345 rows and 6 columns.\n",
      "# The columns are 'Amount Received', 'Amount Paid', 'Is Laundering', 'Day of Week', 'Hour of Day', and 'Cluster'.\n",
      "# 'Amount Received' and 'Amount Paid' represent the amount of money received and paid in a transaction, respectively.\n",
      "# 'Is Laundering' is a binary variable indicating whether the transaction is suspected to be part of a money laundering scheme.\n",
      "# 'Day of Week' and 'Hour of Day' represent the day of the week and hour of the day when the transaction occurred, respectively.\n",
      "# 'Cluster' is a categorical variable indicating the cluster to which the transaction belongs.\n",
      "\n",
      "# Code to display all data with 'Is Laundering' value of 1\n",
      "df[df['Is Laundering'] == 1]\n",
      "```\n",
      "\n",
      "Code running:\n",
      "```\n",
      "df[df['Is Laundering'] == 1]\n",
      "```\n",
      "Answer:          Amount Received  Amount Paid  Is Laundering Day of Week  Hour of Day   \n",
      "4742           389769.39    389769.39              1    Thursday            0  \\\n",
      "40621           29024.33     29024.33              1    Thursday            0   \n",
      "69152             792.92       792.92              1    Thursday            0   \n",
      "85763        13171425.53  13171425.53              1    Thursday            0   \n",
      "90684           14288.83     14288.83              1    Thursday            0   \n",
      "...                  ...          ...            ...         ...          ...   \n",
      "5071168          7773.42      7773.42              1    Saturday           23   \n",
      "5073375        448920.65    448920.65              1    Saturday           23   \n",
      "5074248         20085.71     20085.71              1      Monday            3   \n",
      "5075056          3314.36      3314.36              1    Saturday           23   \n",
      "5077204       3564699.78   3564699.78              1    Saturday           23   \n",
      "\n",
      "         Cluster  \n",
      "4742           0  \n",
      "40621          0  \n",
      "69152          0  \n",
      "85763          0  \n",
      "90684          0  \n",
      "...          ...  \n",
      "5071168        0  \n",
      "5073375        0  \n",
      "5074248        0  \n",
      "5075056        0  \n",
      "5077204        0  \n",
      "\n",
      "[5177 rows x 6 columns]\n",
      "Conversational answer: To display all data with a value of 1 in the Is Laundering column, you can filter the dataset. This will show you all transactions where money laundering is suspected. The resulting table will include columns for Amount Received, Amount Paid, Day of Week, Hour of Day, and Cluster. There are a total of 5177 transactions that meet this criteria.\n"
     ]
    },
    {
     "data": {
      "text/plain": "'To display all data with a value of 1 in the Is Laundering column, you can filter the dataset. This will show you all transactions where money laundering is suspected. The resulting table will include columns for Amount Received, Amount Paid, Day of Week, Hour of Day, and Cluster. There are a total of 5177 transactions that meet this criteria.'"
     },
     "execution_count": 17,
     "metadata": {},
     "output_type": "execute_result"
    }
   ],
   "source": [
    "pandas_ai.run(df, 'tampilkan semua data yang nilai Is Laundering nya 1')"
   ],
   "metadata": {
    "collapsed": false,
    "ExecuteTime": {
     "start_time": "2023-05-23T11:00:13.348089Z",
     "end_time": "2023-05-23T11:00:37.713200Z"
    }
   }
  },
  {
   "cell_type": "code",
   "execution_count": 16,
   "outputs": [],
   "source": [
    "df = dataframe\n",
    "df[df['Is Laundering'] == 1].to_csv('laundering_transactions.csv', index=False)"
   ],
   "metadata": {
    "collapsed": false,
    "ExecuteTime": {
     "start_time": "2023-05-23T10:57:42.342152Z",
     "end_time": "2023-05-23T10:57:42.403924Z"
    }
   }
  },
  {
   "cell_type": "code",
   "execution_count": null,
   "outputs": [],
   "source": [],
   "metadata": {
    "collapsed": false
   }
  }
 ],
 "metadata": {
  "kernelspec": {
   "name": "python3",
   "language": "python",
   "display_name": "Python 3 (ipykernel)"
  },
  "language_info": {
   "codemirror_mode": {
    "name": "ipython",
    "version": 3
   },
   "file_extension": ".py",
   "mimetype": "text/x-python",
   "name": "python",
   "nbconvert_exporter": "python",
   "pygments_lexer": "ipython3",
   "version": "3.10.10"
  }
 },
 "nbformat": 4,
 "nbformat_minor": 5
}
