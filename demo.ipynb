{
 "cells": [
  {
   "cell_type": "code",
   "execution_count": null,
   "id": "8887bb25",
   "metadata": {},
   "outputs": [],
   "source": [
    "import ipywidgets as widgets\n",
    "from IPython.display import display\n",
    "\n",
    "slider = widgets.IntSlider(value=1, min=0, max=10, step=1)\n",
    "display(slider)\n"
   ]
  },
  {
   "cell_type": "code",
   "execution_count": null,
   "id": "b9605bc7",
   "metadata": {
    "ExecuteTime": {
     "end_time": "2023-05-23T10:32:13.103189Z",
     "start_time": "2023-05-23T10:32:13.097950Z"
    }
   },
   "outputs": [],
   "source": [
    "import os\n",
    "from dotenv import load_dotenv\n",
    "import matplotlib.pyplot as plt\n",
    "from pandasai.llm.openai import OpenAI\n",
    "from examples.data.aml import dataframe\n",
    "from sklearn.preprocessing import StandardScaler\n",
    "from sklearn.cluster import DBSCAN"
   ]
  },
  {
   "cell_type": "code",
   "execution_count": null,
   "id": "583bc2ad",
   "metadata": {
    "ExecuteTime": {
     "end_time": "2023-05-23T10:32:13.870219Z",
     "start_time": "2023-05-23T10:32:13.864763Z"
    }
   },
   "outputs": [],
   "source": [
    "load_dotenv()\n",
    "\n",
    "# Dapatkan API key dari variabel lingkungan\n",
    "OPENAI_API_KEY = os.getenv(\"OPENAI_API_KEY\")\n",
    "# Inisialisasi OpenAI dengan API key yang dibaca\n",
    "llm = OpenAI()"
   ]
  },
  {
   "cell_type": "code",
   "execution_count": null,
   "id": "0a6f6432",
   "metadata": {
    "ExecuteTime": {
     "end_time": "2023-05-23T10:32:14.506515Z",
     "start_time": "2023-05-23T10:32:14.502499Z"
    }
   },
   "outputs": [],
   "source": [
    "#contoh sumber data yang berasal dari file csv yang disimpan di examples/data/Loan payments data.csv\n",
    "from pandasai import PandasAI\n",
    "from pandasai.llm.openai import OpenAI\n",
    "pandas_ai = PandasAI(llm, verbose=True)\n",
    "df = dataframe"
   ]
  },
  {
   "cell_type": "markdown",
   "id": "b699cfec",
   "metadata": {},
   "source": [
    "### memeriksa dataframe berhasil di load atau tidak\n"
   ]
  },
  {
   "cell_type": "code",
   "execution_count": null,
   "id": "f4ee2841",
   "metadata": {
    "ExecuteTime": {
     "end_time": "2023-05-23T10:32:20.853334Z",
     "start_time": "2023-05-23T10:32:20.800825Z"
    }
   },
   "outputs": [],
   "source": [
    "import pandas as pd\n",
    "\n",
    "try:\n",
    "    df = dataframe\n",
    "    print(\"Data berhasil dimuat!\")\n",
    "except FileNotFoundError:\n",
    "    print(\"File tidak ditemukan!\")\n",
    "except Exception as e:\n",
    "    print(\"Terjadi kesalahan saat memuat data: \", e)\n"
   ]
  },
  {
   "cell_type": "markdown",
   "id": "4046f95b",
   "metadata": {},
   "source": [
    "### Menampilkan Informasi RIngkas tentang Dataframe"
   ]
  },
  {
   "cell_type": "code",
   "execution_count": 5,
   "id": "a15f0099",
   "metadata": {
    "ExecuteTime": {
     "end_time": "2023-05-23T09:29:30.683116Z",
     "start_time": "2023-05-23T09:28:51.225810Z"
    }
   },
   "outputs": [
    {
     "name": "stdout",
     "output_type": "stream",
     "text": [
      "Running PandasAI with openai LLM...\n",
      "\n",
      "Code generated:\n",
      "```\n",
      "import pandas as pd\n",
      "\n",
      "# Print a summary of the dataframe\n",
      "print(df.info())\n",
      "```\n",
      "\n",
      "Code running:\n",
      "```\n",
      "print(df.info())\n",
      "```\n",
      "<class 'pandas.core.frame.DataFrame'>\n",
      "RangeIndex: 5078345 entries, 0 to 5078344\n",
      "Data columns (total 11 columns):\n",
      " #   Column              Dtype  \n",
      "---  ------              -----  \n",
      " 0   Timestamp           object \n",
      " 1   From Bank           int64  \n",
      " 2   Account             object \n",
      " 3   To Bank             int64  \n",
      " 4   Account.1           object \n",
      " 5   Amount Received     float64\n",
      " 6   Receiving Currency  object \n",
      " 7   Amount Paid         float64\n",
      " 8   Payment Currency    object \n",
      " 9   Payment Format      object \n",
      " 10  Is Laundering       int64  \n",
      "dtypes: float64(2), int64(3), object(6)\n",
      "memory usage: 426.2+ MB\n",
      "Answer: None\n",
      "Conversational answer: Tentu! Dataframe ini adalah struktur data tabular yang terdiri dari baris dan kolom. Biasanya digunakan untuk menyimpan dan mengolah data dalam format tabel. Dataframe sangat berguna dalam analisis data, pengolahan data, dan visualisasi data. Jadi, jika Anda memiliki data dalam bentuk tabel, Anda dapat menggunakan dataframe untuk mengelola dan menganalisisnya dengan lebih mudah.\n"
     ]
    },
    {
     "data": {
      "text/plain": [
       "'Tentu! Dataframe ini adalah struktur data tabular yang terdiri dari baris dan kolom. Biasanya digunakan untuk menyimpan dan mengolah data dalam format tabel. Dataframe sangat berguna dalam analisis data, pengolahan data, dan visualisasi data. Jadi, jika Anda memiliki data dalam bentuk tabel, Anda dapat menggunakan dataframe untuk mengelola dan menganalisisnya dengan lebih mudah.'"
      ]
     },
     "execution_count": 5,
     "metadata": {},
     "output_type": "execute_result"
    }
   ],
   "source": [
    "pandas_ai.run(df, 'berikan informasi ringkas tentang dataframe ini')"
   ]
  },
  {
   "cell_type": "markdown",
   "id": "897daf5c",
   "metadata": {},
   "source": [
    "### Menampilkan 5 baris pertama dari Dataframe"
   ]
  },
  {
   "cell_type": "code",
   "execution_count": null,
   "id": "bf9c4b3c",
   "metadata": {
    "ExecuteTime": {
     "end_time": "2023-05-23T10:24:09.704215Z",
     "start_time": "2023-05-23T10:23:11.867307Z"
    }
   },
   "outputs": [],
   "source": [
    "pandas_ai.run(df, 'tampilkan 5 baris pertama dari dataframe ini')"
   ]
  },
  {
   "cell_type": "markdown",
   "id": "7b65b874",
   "metadata": {},
   "source": [
    "### Mendapatkan nama kolom dari Dataframe"
   ]
  },
  {
   "cell_type": "code",
   "execution_count": null,
   "id": "15a6c564",
   "metadata": {
    "ExecuteTime": {
     "end_time": "2023-05-23T09:34:46.173528Z",
     "start_time": "2023-05-23T09:34:33.415481Z"
    }
   },
   "outputs": [],
   "source": [
    "pandas_ai.run(df, 'apa saja kolom yang ada di dataframe ini')"
   ]
  },
  {
   "cell_type": "code",
   "execution_count": null,
   "id": "51df2797",
   "metadata": {
    "ExecuteTime": {
     "end_time": "2023-05-23T09:40:18.326950Z",
     "start_time": "2023-05-23T09:40:13.591071Z"
    }
   },
   "outputs": [],
   "source": [
    "pandas_ai.run(df, 'Hitung frekuensi unik dari kolom Payment Currency.')"
   ]
  },
  {
   "cell_type": "markdown",
   "id": "8cbc31c4",
   "metadata": {},
   "source": [
    "### Menampilkan frekuensi unik dari kolom Payment Currency"
   ]
  },
  {
   "cell_type": "code",
   "execution_count": null,
   "id": "6d5b192b",
   "metadata": {},
   "outputs": [],
   "source": [
    "pandas_ai.run(df, 'tampilkan frekuensi unik dari kolom Payment Currency')"
   ]
  },
  {
   "cell_type": "markdown",
   "id": "d2cbc6f3",
   "metadata": {},
   "source": [
    "### membuat histogram  dari kolom Payment Currency dengan bins 10"
   ]
  },
  {
   "cell_type": "code",
   "execution_count": null,
   "id": "82346f45",
   "metadata": {
    "ExecuteTime": {
     "end_time": "2023-05-23T09:57:51.552000Z",
     "start_time": "2023-05-23T09:57:04.436684Z"
    }
   },
   "outputs": [],
   "source": [
    "pandas_ai.run(df, 'buat histogram dari kolom \"Payment Currency\" dengan bins 10')"
   ]
  },
  {
   "cell_type": "code",
   "execution_count": null,
   "id": "9fac4400",
   "metadata": {
    "ExecuteTime": {
     "end_time": "2023-05-23T10:00:55.850341Z",
     "start_time": "2023-05-23T10:00:55.016568Z"
    }
   },
   "outputs": [],
   "source": [
    "df = dataframe\n",
    "plt.hist(df['Payment Currency'], bins=10)\n",
    "plt.xlabel('Payment Currency')\n",
    "plt.ylabel('Frequency')\n",
    "plt.title('Histogram of Payment Currency')\n",
    "plt.show()"
   ]
  },
  {
   "cell_type": "code",
   "execution_count": null,
   "id": "9e324a72",
   "metadata": {
    "ExecuteTime": {
     "end_time": "2023-05-23T10:03:14.107311Z",
     "start_time": "2023-05-23T10:02:25.164300Z"
    }
   },
   "outputs": [],
   "source": [
    "pandas_ai.run(df, 'buat countplot dari kolom \"Payment Currency\" dengan menggunakan seaborn')"
   ]
  },
  {
   "cell_type": "code",
   "execution_count": null,
   "id": "725ef572",
   "metadata": {
    "ExecuteTime": {
     "end_time": "2023-05-23T10:04:00.836505Z",
     "start_time": "2023-05-23T10:03:59.457568Z"
    }
   },
   "outputs": [],
   "source": [
    "import seaborn as sns\n",
    "import matplotlib.pyplot as plt\n",
    "\n",
    "df = dataframe\n",
    "sns.countplot(x=\"Payment Currency\", data=df)\n",
    "plt.show()\n"
   ]
  },
  {
   "cell_type": "code",
   "execution_count": null,
   "id": "e8680147",
   "metadata": {
    "ExecuteTime": {
     "end_time": "2023-05-23T10:07:43.710823Z",
     "start_time": "2023-05-23T10:05:46.526869Z"
    }
   },
   "outputs": [],
   "source": [
    "pandas_ai.run(df, 'identifikasi suspicious money laundering transaction detection dengan metode core detection and clustering algorithm')"
   ]
  },
  {
   "cell_type": "code",
   "execution_count": null,
   "id": "e1a7b636",
   "metadata": {},
   "outputs": [],
   "source": [
    "print(df.head(5))\n",
    "print(df.info())\n",
    "print(df.isnull().sum())\n",
    "print(df.duplicated().sum())\n",
    "X = df[['Amount Received', 'Amount Paid']]\n",
    "scaler = StandardScaler()\n",
    "X_scaled = scaler.fit_transform(X)\n",
    "dbscan = DBSCAN(eps=0.5, min_samples=10)\n",
    "clusters = dbscan.fit_predict(X_scaled)\n",
    "df['Cluster'] = clusters\n",
    "suspicious_transactions = df[df['Cluster'] == -1]\n",
    "print(suspicious_transactions)"
   ]
  },
  {
   "cell_type": "code",
   "execution_count": null,
   "id": "3153a8c8",
   "metadata": {
    "ExecuteTime": {
     "end_time": "2023-05-23T10:33:28.788405Z",
     "start_time": "2023-05-23T10:33:17.271501Z"
    }
   },
   "outputs": [],
   "source": [
    "pandas_ai.run(df, 'tampilkan frekuensi unik dari kolom \"Is Laundering\"')"
   ]
  },
  {
   "cell_type": "code",
   "execution_count": null,
   "id": "97440e29",
   "metadata": {
    "ExecuteTime": {
     "end_time": "2023-05-23T10:39:10.759715Z",
     "start_time": "2023-05-23T10:38:04.709934Z"
    }
   },
   "outputs": [],
   "source": [
    "pandas_ai.run(df, 'Identifikasi dan cetak transaksi yang dicurigai sebagai pencucian uang berdasarkan hasil clustering, simpan dalam format csv')"
   ]
  },
  {
   "cell_type": "code",
   "execution_count": null,
   "id": "f350d90a",
   "metadata": {
    "ExecuteTime": {
     "end_time": "2023-05-23T10:45:27.038353Z",
     "start_time": "2023-05-23T10:45:24.181672Z"
    }
   },
   "outputs": [],
   "source": [
    "from sklearn.cluster import KMeans\n",
    "X = df[['Amount Received', 'Amount Paid']]\n",
    "kmeans = KMeans(n_clusters=2, random_state=0).fit(X)\n",
    "df['Cluster'] = kmeans.labels_\n",
    "suspicious_transactions = df[df['Cluster'] == 1]\n",
    "suspicious_transactions.to_csv('suspicious_transactions.csv', index=False)\n",
    "print(suspicious_transactions)"
   ]
  },
  {
   "cell_type": "code",
   "execution_count": null,
   "id": "49a3aad8",
   "metadata": {
    "ExecuteTime": {
     "end_time": "2023-05-23T11:00:37.713200Z",
     "start_time": "2023-05-23T11:00:13.348089Z"
    }
   },
   "outputs": [],
   "source": [
    "pandas_ai.run(df, 'tampilkan semua data yang nilai Is Laundering nya 1')"
   ]
  },
  {
   "cell_type": "code",
   "execution_count": null,
   "id": "182f1e68",
   "metadata": {
    "ExecuteTime": {
     "end_time": "2023-05-23T10:57:42.403924Z",
     "start_time": "2023-05-23T10:57:42.342152Z"
    }
   },
   "outputs": [],
   "source": [
    "df = dataframe\n",
    "df[df['Is Laundering'] == 1].to_csv('laundering_transactions.csv', index=False)"
   ]
  },
  {
   "cell_type": "code",
   "execution_count": null,
   "id": "d669be27",
   "metadata": {},
   "outputs": [],
   "source": []
  }
 ],
 "metadata": {
  "kernelspec": {
   "display_name": "pandas-ai",
   "language": "python",
   "name": "pandas-ai"
  },
  "language_info": {
   "codemirror_mode": {
    "name": "ipython",
    "version": 3
   },
   "file_extension": ".py",
   "mimetype": "text/x-python",
   "name": "python",
   "nbconvert_exporter": "python",
   "pygments_lexer": "ipython3",
   "version": "3.10.10"
  }
 },
 "nbformat": 4,
 "nbformat_minor": 5
}
