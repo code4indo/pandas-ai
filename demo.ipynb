{
 "cells": [
  {
   "cell_type": "code",
<<<<<<< HEAD
   "execution_count": null,
   "id": "8887bb25",
   "metadata": {},
   "outputs": [],
   "source": [
    "import ipywidgets as widgets\n",
    "from IPython.display import display\n",
    "\n",
    "slider = widgets.IntSlider(value=1, min=0, max=10, step=1)\n",
    "display(slider)\n"
   ]
  },
  {
   "cell_type": "code",
   "execution_count": null,
   "id": "b9605bc7",
   "metadata": {
    "ExecuteTime": {
     "end_time": "2023-05-23T10:32:13.103189Z",
     "start_time": "2023-05-23T10:32:13.097950Z"
=======
   "execution_count": 1,
   "id": "b9605bc7",
   "metadata": {
    "ExecuteTime": {
     "end_time": "2023-05-27T08:24:45.263540394Z",
     "start_time": "2023-05-27T08:24:39.420270013Z"
>>>>>>> cd76c1a7e03647b2d7df10ace5c65fea73f7aa80
    }
   },
   "outputs": [],
   "source": [
    "import os\n",
    "from dotenv import load_dotenv\n",
    "import matplotlib.pyplot as plt\n",
    "from pandasai.llm.openai import OpenAI\n",
    "from examples.data.aml import dataframe\n",
    "from sklearn.preprocessing import StandardScaler\n",
    "from sklearn.cluster import DBSCAN"
   ]
  },
  {
   "cell_type": "code",
<<<<<<< HEAD
   "execution_count": null,
   "id": "583bc2ad",
   "metadata": {
    "ExecuteTime": {
     "end_time": "2023-05-23T10:32:13.870219Z",
     "start_time": "2023-05-23T10:32:13.864763Z"
=======
   "execution_count": 2,
   "id": "583bc2ad",
   "metadata": {
    "ExecuteTime": {
     "end_time": "2023-05-27T08:24:47.047965135Z",
     "start_time": "2023-05-27T08:24:47.046340160Z"
>>>>>>> cd76c1a7e03647b2d7df10ace5c65fea73f7aa80
    }
   },
   "outputs": [],
   "source": [
    "load_dotenv()\n",
    "# Dapatkan API key dari variabel lingkungan\n",
    "OPENAI_API_KEY = os.getenv(\"OPENAI_API_KEY\")\n",
    "# Inisialisasi OpenAI dengan API key yang dibaca\n",
    "llm = OpenAI()"
   ]
  },
  {
   "cell_type": "code",
<<<<<<< HEAD
   "execution_count": null,
   "id": "0a6f6432",
   "metadata": {
    "ExecuteTime": {
     "end_time": "2023-05-23T10:32:14.506515Z",
     "start_time": "2023-05-23T10:32:14.502499Z"
=======
   "execution_count": 3,
   "id": "0a6f6432",
   "metadata": {
    "ExecuteTime": {
     "end_time": "2023-05-27T08:24:49.200822853Z",
     "start_time": "2023-05-27T08:24:49.181788133Z"
>>>>>>> cd76c1a7e03647b2d7df10ace5c65fea73f7aa80
    }
   },
   "outputs": [],
   "source": [
    "#contoh sumber data yang berasal dari file csv yang disimpan di examples/data/Loan payments data.csv\n",
    "from pandasai import PandasAI\n",
    "from pandasai.llm.openai import OpenAI\n",
    "pandas_ai = PandasAI(llm, verbose=True)\n",
    "df = dataframe"
   ]
  },
  {
   "cell_type": "markdown",
   "id": "b699cfec",
   "metadata": {},
   "source": [
    "### memeriksa dataframe berhasil di load atau tidak\n"
   ]
  },
  {
   "cell_type": "code",
<<<<<<< HEAD
   "execution_count": null,
   "id": "f4ee2841",
   "metadata": {
    "ExecuteTime": {
     "end_time": "2023-05-23T10:32:20.853334Z",
     "start_time": "2023-05-23T10:32:20.800825Z"
=======
   "execution_count": 4,
   "outputs": [
    {
     "name": "stdout",
     "output_type": "stream",
     "text": [
      "Data berhasil dimuat!\n"
     ]
>>>>>>> cd76c1a7e03647b2d7df10ace5c65fea73f7aa80
    }
   },
   "outputs": [],
   "source": [
    "import pandas as pd\n",
    "\n",
    "try:\n",
    "    df = dataframe\n",
    "    print(\"Data berhasil dimuat!\")\n",
    "except FileNotFoundError:\n",
    "    print(\"File tidak ditemukan!\")\n",
    "except Exception as e:\n",
    "    print(\"Terjadi kesalahan saat memuat data: \", e)\n"
<<<<<<< HEAD
   ]
=======
   ],
   "metadata": {
    "collapsed": false,
    "ExecuteTime": {
     "end_time": "2023-05-27T08:24:52.942018664Z",
     "start_time": "2023-05-27T08:24:52.924237555Z"
    }
   }
>>>>>>> cd76c1a7e03647b2d7df10ace5c65fea73f7aa80
  },
  {
   "cell_type": "markdown",
   "id": "4046f95b",
   "metadata": {},
   "source": [
    "### Menampilkan Informasi RIngkas tentang Dataframe"
   ]
  },
  {
   "cell_type": "code",
   "execution_count": 5,
<<<<<<< HEAD
   "id": "a15f0099",
   "metadata": {
    "ExecuteTime": {
     "end_time": "2023-05-23T09:29:30.683116Z",
     "start_time": "2023-05-23T09:28:51.225810Z"
    }
   },
=======
>>>>>>> cd76c1a7e03647b2d7df10ace5c65fea73f7aa80
   "outputs": [
    {
     "name": "stdout",
     "output_type": "stream",
     "text": [
      "Running PandasAI with openai LLM...\n",
      "\n",
      "Code generated:\n",
      "```\n",
<<<<<<< HEAD
      "import pandas as pd\n",
      "\n",
      "# Print a summary of the dataframe\n",
=======
>>>>>>> cd76c1a7e03647b2d7df10ace5c65fea73f7aa80
      "print(df.info())\n",
      "```\n",
      "\n",
      "Code running:\n",
      "```\n",
      "print(df.info())\n",
      "```\n",
      "<class 'pandas.core.frame.DataFrame'>\n",
<<<<<<< HEAD
      "RangeIndex: 5078345 entries, 0 to 5078344\n",
=======
      "RangeIndex: 6924049 entries, 0 to 6924048\n",
>>>>>>> cd76c1a7e03647b2d7df10ace5c65fea73f7aa80
      "Data columns (total 11 columns):\n",
      " #   Column              Dtype  \n",
      "---  ------              -----  \n",
      " 0   Timestamp           object \n",
      " 1   From Bank           int64  \n",
      " 2   Account             object \n",
      " 3   To Bank             int64  \n",
      " 4   Account.1           object \n",
      " 5   Amount Received     float64\n",
      " 6   Receiving Currency  object \n",
      " 7   Amount Paid         float64\n",
      " 8   Payment Currency    object \n",
      " 9   Payment Format      object \n",
      " 10  Is Laundering       int64  \n",
      "dtypes: float64(2), int64(3), object(6)\n",
<<<<<<< HEAD
      "memory usage: 426.2+ MB\n",
      "Answer: None\n",
      "Conversational answer: Tentu! Dataframe ini adalah struktur data tabular yang terdiri dari baris dan kolom. Biasanya digunakan untuk menyimpan dan mengolah data dalam format tabel. Dataframe sangat berguna dalam analisis data, pengolahan data, dan visualisasi data. Jadi, jika Anda memiliki data dalam bentuk tabel, Anda dapat menggunakan dataframe untuk mengelola dan menganalisisnya dengan lebih mudah.\n"
=======
      "memory usage: 581.1+ MB\n",
      "Answer: None\n",
      "Conversational answer: Dataframe ini adalah sebuah struktur data yang terdiri dari baris dan kolom, mirip dengan tabel pada spreadsheet. Dataframe digunakan untuk menyimpan dan mengolah data dalam format tabular, sehingga memudahkan analisis dan manipulasi data. Biasanya, dataframe digunakan dalam bahasa pemrograman seperti Python (dengan library Pandas) dan R (dengan library dplyr).\n"
>>>>>>> cd76c1a7e03647b2d7df10ace5c65fea73f7aa80
     ]
    },
    {
     "data": {
<<<<<<< HEAD
      "text/plain": [
       "'Tentu! Dataframe ini adalah struktur data tabular yang terdiri dari baris dan kolom. Biasanya digunakan untuk menyimpan dan mengolah data dalam format tabel. Dataframe sangat berguna dalam analisis data, pengolahan data, dan visualisasi data. Jadi, jika Anda memiliki data dalam bentuk tabel, Anda dapat menggunakan dataframe untuk mengelola dan menganalisisnya dengan lebih mudah.'"
      ]
=======
      "text/plain": "'Dataframe ini adalah sebuah struktur data yang terdiri dari baris dan kolom, mirip dengan tabel pada spreadsheet. Dataframe digunakan untuk menyimpan dan mengolah data dalam format tabular, sehingga memudahkan analisis dan manipulasi data. Biasanya, dataframe digunakan dalam bahasa pemrograman seperti Python (dengan library Pandas) dan R (dengan library dplyr).'"
>>>>>>> cd76c1a7e03647b2d7df10ace5c65fea73f7aa80
     },
     "execution_count": 5,
     "metadata": {},
     "output_type": "execute_result"
    }
   ],
   "source": [
    "pandas_ai.run(df, 'berikan informasi ringkas tentang dataframe ini')"
<<<<<<< HEAD
   ]
=======
   ],
   "metadata": {
    "collapsed": false,
    "ExecuteTime": {
     "end_time": "2023-05-27T08:25:24.191760680Z",
     "start_time": "2023-05-27T08:25:02.519281737Z"
    }
   }
>>>>>>> cd76c1a7e03647b2d7df10ace5c65fea73f7aa80
  },
  {
   "cell_type": "markdown",
   "id": "897daf5c",
   "metadata": {},
   "source": [
    "### Menampilkan 5 baris pertama dari Dataframe"
   ]
  },
  {
   "cell_type": "code",
<<<<<<< HEAD
   "execution_count": null,
   "id": "bf9c4b3c",
=======
   "execution_count": 6,
   "outputs": [
    {
     "name": "stdout",
     "output_type": "stream",
     "text": [
      "Running PandasAI with openai LLM...\n",
      "\n",
      "Code generated:\n",
      "```\n",
      "print(df.head(5))\n",
      "```\n",
      "\n",
      "Code running:\n",
      "```\n",
      "print(df.head(5))\n",
      "```\n",
      "Answer:           Timestamp  From Bank    Account  To Bank  Account.1   \n",
      "0  2022/09/01 00:08         11  8000ECA90       11  8000ECA90  \\\n",
      "1  2022/09/01 00:21       3402  80021DAD0     3402  80021DAD0   \n",
      "2  2022/09/01 00:00         11  8000ECA90     1120  8006AA910   \n",
      "3  2022/09/01 00:16       3814  8006AD080     3814  8006AD080   \n",
      "4  2022/09/01 00:00         20  8006AD530       20  8006AD530   \n",
      "\n",
      "   Amount Received Receiving Currency  Amount Paid Payment Currency   \n",
      "0       3195403.00          US Dollar   3195403.00        US Dollar  \\\n",
      "1          1858.96          US Dollar      1858.96        US Dollar   \n",
      "2        592571.00          US Dollar    592571.00        US Dollar   \n",
      "3            12.32          US Dollar        12.32        US Dollar   \n",
      "4          2941.56          US Dollar      2941.56        US Dollar   \n",
      "\n",
      "  Payment Format  Is Laundering  \n",
      "0   Reinvestment              0  \n",
      "1   Reinvestment              0  \n",
      "2         Cheque              0  \n",
      "3   Reinvestment              0  \n",
      "4   Reinvestment              0  \n",
      "Conversational answer: Berikut adalah 5 baris pertama dari dataframe yang diminta:\n",
      "\n",
      "1. Timestamp: 2022/09/01 00:08, From Bank: 11, Account: 8000ECA90, To Bank: 11, Account.1: 8000ECA90, Amount Received: 3,195,403.00 US Dollar, Amount Paid: 3,195,403.00 US Dollar, Payment Format: Reinvestment, Is Laundering: 0\n",
      "2. Timestamp: 2022/09/01 00:21, From Bank: 3402, Account: 80021DAD0, To Bank: 3402, Account.1: 80021DAD0, Amount Received: 1,858.96 US Dollar, Amount Paid: 1,858.96 US Dollar, Payment Format: Reinvestment, Is Laundering: 0\n",
      "3. Timestamp: 2022/09/01 00:00, From Bank: 11, Account: 8000ECA90, To Bank: 1120, Account.1: 8006AA910, Amount Received: 592,571.00 US Dollar, Amount Paid: 592,571.00 US Dollar, Payment Format: Cheque, Is Laundering: 0\n",
      "4. Timestamp: 2022/09/01 00:16, From Bank: 3814, Account: 8006AD080, To Bank: 3814, Account.1: 8006AD080, Amount Received: 12.32 US Dollar, Amount Paid: 12.32 US Dollar, Payment Format: Reinvestment, Is Laundering: 0\n",
      "5. Timestamp: 2022/09/01 00:00, From Bank: 20, Account: 8006AD530, To Bank: 20, Account.1: 8006AD530, Amount Received: 2,941.56 US Dollar, Amount Paid: 2,941.56 US Dollar, Payment Format: Reinvestment, Is Laundering: 0\n"
     ]
    },
    {
     "data": {
      "text/plain": "'Berikut adalah 5 baris pertama dari dataframe yang diminta:\\n\\n1. Timestamp: 2022/09/01 00:08, From Bank: 11, Account: 8000ECA90, To Bank: 11, Account.1: 8000ECA90, Amount Received: 3,195,403.00 US Dollar, Amount Paid: 3,195,403.00 US Dollar, Payment Format: Reinvestment, Is Laundering: 0\\n2. Timestamp: 2022/09/01 00:21, From Bank: 3402, Account: 80021DAD0, To Bank: 3402, Account.1: 80021DAD0, Amount Received: 1,858.96 US Dollar, Amount Paid: 1,858.96 US Dollar, Payment Format: Reinvestment, Is Laundering: 0\\n3. Timestamp: 2022/09/01 00:00, From Bank: 11, Account: 8000ECA90, To Bank: 1120, Account.1: 8006AA910, Amount Received: 592,571.00 US Dollar, Amount Paid: 592,571.00 US Dollar, Payment Format: Cheque, Is Laundering: 0\\n4. Timestamp: 2022/09/01 00:16, From Bank: 3814, Account: 8006AD080, To Bank: 3814, Account.1: 8006AD080, Amount Received: 12.32 US Dollar, Amount Paid: 12.32 US Dollar, Payment Format: Reinvestment, Is Laundering: 0\\n5. Timestamp: 2022/09/01 00:00, From Bank: 20, Account: 8006AD530, To Bank: 20, Account.1: 8006AD530, Amount Received: 2,941.56 US Dollar, Amount Paid: 2,941.56 US Dollar, Payment Format: Reinvestment, Is Laundering: 0'"
     },
     "execution_count": 6,
     "metadata": {},
     "output_type": "execute_result"
    }
   ],
   "source": [
    "pandas_ai.run(df, 'tampilkan 5 baris pertama dari dataframe ini')"
   ],
>>>>>>> cd76c1a7e03647b2d7df10ace5c65fea73f7aa80
   "metadata": {
    "ExecuteTime": {
<<<<<<< HEAD
     "end_time": "2023-05-23T10:24:09.704215Z",
     "start_time": "2023-05-23T10:23:11.867307Z"
=======
     "end_time": "2023-05-27T08:27:17.899535371Z",
     "start_time": "2023-05-27T08:25:47.922195672Z"
>>>>>>> cd76c1a7e03647b2d7df10ace5c65fea73f7aa80
    }
   },
   "outputs": [],
   "source": [
    "pandas_ai.run(df, 'tampilkan 5 baris pertama dari dataframe ini')"
   ]
  },
  {
   "cell_type": "markdown",
   "id": "7b65b874",
   "metadata": {},
   "source": [
    "### Mendapatkan nama kolom dari Dataframe"
   ]
  },
  {
   "cell_type": "code",
<<<<<<< HEAD
   "execution_count": null,
   "id": "15a6c564",
=======
   "execution_count": 7,
   "outputs": [
    {
     "name": "stdout",
     "output_type": "stream",
     "text": [
      "Running PandasAI with openai LLM...\n",
      "\n",
      "Code generated:\n",
      "```\n",
      "list(df.columns)\n",
      "```\n",
      "\n",
      "Code running:\n",
      "```\n",
      "list(df.columns)\n",
      "```\n",
      "Answer: ['Timestamp', 'From Bank', 'Account', 'To Bank', 'Account.1', 'Amount Received', 'Receiving Currency', 'Amount Paid', 'Payment Currency', 'Payment Format', 'Is Laundering']\n",
      "Conversational answer: Kolom-kolom yang ada di dataframe ini meliputi 'Timestamp', 'From Bank', 'Account', 'To Bank', 'Account.1', 'Amount Received', 'Receiving Currency', 'Amount Paid', 'Payment Currency', 'Payment Format', dan 'Is Laundering'.\n"
     ]
    },
    {
     "data": {
      "text/plain": "\"Kolom-kolom yang ada di dataframe ini meliputi 'Timestamp', 'From Bank', 'Account', 'To Bank', 'Account.1', 'Amount Received', 'Receiving Currency', 'Amount Paid', 'Payment Currency', 'Payment Format', dan 'Is Laundering'.\""
     },
     "execution_count": 7,
     "metadata": {},
     "output_type": "execute_result"
    }
   ],
   "source": [
    "pandas_ai.run(df, 'apa saja kolom yang ada di dataframe ini')"
   ],
>>>>>>> cd76c1a7e03647b2d7df10ace5c65fea73f7aa80
   "metadata": {
    "ExecuteTime": {
<<<<<<< HEAD
     "end_time": "2023-05-23T09:34:46.173528Z",
     "start_time": "2023-05-23T09:34:33.415481Z"
=======
     "end_time": "2023-05-27T08:27:34.971412210Z",
     "start_time": "2023-05-27T08:27:17.899210614Z"
>>>>>>> cd76c1a7e03647b2d7df10ace5c65fea73f7aa80
    }
   },
   "outputs": [],
   "source": [
    "pandas_ai.run(df, 'apa saja kolom yang ada di dataframe ini')"
   ]
  },
  {
   "cell_type": "code",
<<<<<<< HEAD
   "execution_count": null,
   "id": "51df2797",
=======
   "execution_count": 8,
   "outputs": [
    {
     "name": "stdout",
     "output_type": "stream",
     "text": [
      "Running PandasAI with openai LLM...\n",
      "\n",
      "Code generated:\n",
      "```\n",
      "unique_payment_currency_count = df['Payment Currency'].nunique()\n",
      "unique_payment_currency_count\n",
      "```\n",
      "\n",
      "Code running:\n",
      "```\n",
      "unique_payment_currency_count = df['Payment Currency'].nunique()\n",
      "unique_payment_currency_count\n",
      "```\n",
      "Answer: \n",
      "Conversational answer: Untuk menghitung frekuensi unik dari kolom Payment Currency, kita perlu mengidentifikasi berapa banyak mata uang yang berbeda muncul dalam kolom tersebut dan seberapa sering masing-masing mata uang muncul. Setelah kita memiliki informasi ini, kita dapat menentukan frekuensi unik untuk setiap mata uang dalam kolom Payment Currency.\n"
     ]
    },
    {
     "data": {
      "text/plain": "'Untuk menghitung frekuensi unik dari kolom Payment Currency, kita perlu mengidentifikasi berapa banyak mata uang yang berbeda muncul dalam kolom tersebut dan seberapa sering masing-masing mata uang muncul. Setelah kita memiliki informasi ini, kita dapat menentukan frekuensi unik untuk setiap mata uang dalam kolom Payment Currency.'"
     },
     "execution_count": 8,
     "metadata": {},
     "output_type": "execute_result"
    }
   ],
   "source": [
    "pandas_ai.run(df, 'Hitung frekuensi unik dari kolom Payment Currency.')"
   ],
>>>>>>> cd76c1a7e03647b2d7df10ace5c65fea73f7aa80
   "metadata": {
    "ExecuteTime": {
<<<<<<< HEAD
     "end_time": "2023-05-23T09:40:18.326950Z",
     "start_time": "2023-05-23T09:40:13.591071Z"
=======
     "end_time": "2023-05-27T08:28:12.859808567Z",
     "start_time": "2023-05-27T08:27:47.938988302Z"
>>>>>>> cd76c1a7e03647b2d7df10ace5c65fea73f7aa80
    }
   },
   "outputs": [],
   "source": [
    "pandas_ai.run(df, 'Hitung frekuensi unik dari kolom Payment Currency.')"
   ]
  },
  {
   "cell_type": "markdown",
   "id": "8cbc31c4",
   "metadata": {},
   "source": [
    "### Menampilkan frekuensi unik dari kolom Payment Currency"
   ]
  },
  {
   "cell_type": "code",
   "execution_count": null,
   "id": "6d5b192b",
   "metadata": {},
   "outputs": [],
   "source": [
    "pandas_ai.run(df, 'tampilkan frekuensi unik dari kolom Payment Currency')"
   ]
  },
  {
   "cell_type": "markdown",
   "id": "d2cbc6f3",
   "metadata": {},
   "source": [
    "### membuat histogram  dari kolom Payment Currency dengan bins 10"
   ]
  },
  {
   "cell_type": "code",
   "execution_count": null,
   "id": "82346f45",
   "metadata": {
    "ExecuteTime": {
     "end_time": "2023-05-23T09:57:51.552000Z",
     "start_time": "2023-05-23T09:57:04.436684Z"
    }
   },
   "outputs": [],
   "source": [
    "pandas_ai.run(df, 'buat histogram dari kolom \"Payment Currency\" dengan bins 10')"
   ]
  },
  {
   "cell_type": "code",
   "execution_count": null,
   "id": "9fac4400",
   "metadata": {
    "ExecuteTime": {
     "end_time": "2023-05-23T10:00:55.850341Z",
     "start_time": "2023-05-23T10:00:55.016568Z"
    }
   },
   "outputs": [],
   "source": [
    "df = dataframe\n",
    "plt.hist(df['Payment Currency'], bins=10)\n",
    "plt.xlabel('Payment Currency')\n",
    "plt.ylabel('Frequency')\n",
    "plt.title('Histogram of Payment Currency')\n",
    "plt.show()"
   ]
  },
  {
   "cell_type": "code",
   "execution_count": null,
   "id": "9e324a72",
   "metadata": {
    "ExecuteTime": {
     "end_time": "2023-05-23T10:03:14.107311Z",
     "start_time": "2023-05-23T10:02:25.164300Z"
    }
   },
   "outputs": [],
   "source": [
    "pandas_ai.run(df, 'buat countplot dari kolom \"Payment Currency\" dengan menggunakan seaborn')"
   ]
  },
  {
   "cell_type": "code",
   "execution_count": null,
   "id": "725ef572",
   "metadata": {
    "ExecuteTime": {
     "end_time": "2023-05-23T10:04:00.836505Z",
     "start_time": "2023-05-23T10:03:59.457568Z"
    }
   },
   "outputs": [],
   "source": [
    "import seaborn as sns\n",
    "import matplotlib.pyplot as plt\n",
    "\n",
    "df = dataframe\n",
    "sns.countplot(x=\"Payment Currency\", data=df)\n",
    "plt.show()\n"
   ]
  },
  {
   "cell_type": "code",
   "execution_count": null,
   "id": "e8680147",
   "metadata": {
    "ExecuteTime": {
     "end_time": "2023-05-23T10:07:43.710823Z",
     "start_time": "2023-05-23T10:05:46.526869Z"
    }
   },
   "outputs": [],
   "source": [
    "pandas_ai.run(df, 'identifikasi suspicious money laundering transaction detection dengan metode core detection and clustering algorithm')"
   ]
  },
  {
   "cell_type": "code",
   "execution_count": null,
   "id": "e1a7b636",
   "metadata": {},
   "outputs": [],
   "source": [
    "print(df.head(5))\n",
    "print(df.info())\n",
    "print(df.isnull().sum())\n",
    "print(df.duplicated().sum())\n",
    "X = df[['Amount Received', 'Amount Paid']]\n",
    "scaler = StandardScaler()\n",
    "X_scaled = scaler.fit_transform(X)\n",
    "dbscan = DBSCAN(eps=0.5, min_samples=10)\n",
    "clusters = dbscan.fit_predict(X_scaled)\n",
    "df['Cluster'] = clusters\n",
    "suspicious_transactions = df[df['Cluster'] == -1]\n",
    "print(suspicious_transactions)"
   ]
  },
  {
   "cell_type": "code",
   "execution_count": null,
   "id": "3153a8c8",
   "metadata": {
    "ExecuteTime": {
     "end_time": "2023-05-23T10:33:28.788405Z",
     "start_time": "2023-05-23T10:33:17.271501Z"
    }
   },
   "outputs": [],
   "source": [
    "pandas_ai.run(df, 'tampilkan frekuensi unik dari kolom \"Is Laundering\"')"
   ]
  },
  {
   "cell_type": "code",
   "execution_count": null,
   "id": "97440e29",
   "metadata": {
    "ExecuteTime": {
     "end_time": "2023-05-23T10:39:10.759715Z",
     "start_time": "2023-05-23T10:38:04.709934Z"
    }
   },
   "outputs": [],
   "source": [
    "pandas_ai.run(df, 'Identifikasi dan cetak transaksi yang dicurigai sebagai pencucian uang berdasarkan hasil clustering, simpan dalam format csv')"
   ]
  },
  {
   "cell_type": "code",
   "execution_count": null,
   "id": "f350d90a",
   "metadata": {
    "ExecuteTime": {
     "end_time": "2023-05-23T10:45:27.038353Z",
     "start_time": "2023-05-23T10:45:24.181672Z"
    }
   },
   "outputs": [],
   "source": [
    "from sklearn.cluster import KMeans\n",
    "X = df[['Amount Received', 'Amount Paid']]\n",
    "kmeans = KMeans(n_clusters=2, random_state=0).fit(X)\n",
    "df['Cluster'] = kmeans.labels_\n",
    "suspicious_transactions = df[df['Cluster'] == 1]\n",
    "suspicious_transactions.to_csv('suspicious_transactions.csv', index=False)\n",
    "print(suspicious_transactions)"
   ]
  },
  {
   "cell_type": "code",
   "execution_count": null,
   "id": "49a3aad8",
   "metadata": {
    "ExecuteTime": {
     "end_time": "2023-05-23T11:00:37.713200Z",
     "start_time": "2023-05-23T11:00:13.348089Z"
    }
   },
   "outputs": [],
   "source": [
    "pandas_ai.run(df, 'tampilkan semua data yang nilai Is Laundering nya 1')"
   ]
  },
  {
   "cell_type": "code",
   "execution_count": null,
   "id": "182f1e68",
   "metadata": {
    "ExecuteTime": {
     "end_time": "2023-05-23T10:57:42.403924Z",
     "start_time": "2023-05-23T10:57:42.342152Z"
    }
   },
   "outputs": [],
   "source": [
    "df = dataframe\n",
    "df[df['Is Laundering'] == 1].to_csv('laundering_transactions.csv', index=False)"
   ]
  },
  {
   "cell_type": "code",
   "execution_count": null,
   "id": "d669be27",
   "metadata": {},
   "outputs": [],
   "source": []
  }
 ],
 "metadata": {
  "kernelspec": {
   "name": "python3",
   "language": "python",
   "display_name": "Python 3 (ipykernel)"
  },
  "language_info": {
   "codemirror_mode": {
    "name": "ipython",
    "version": 3
   },
   "file_extension": ".py",
   "mimetype": "text/x-python",
   "name": "python",
   "nbconvert_exporter": "python",
   "pygments_lexer": "ipython3",
   "version": "3.10.10"
  }
 },
 "nbformat": 4,
 "nbformat_minor": 5
}
