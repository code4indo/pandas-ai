{
 "cells": [
  {
   "cell_type": "code",
   "execution_count": 1,
   "id": "b9605bc7",
   "metadata": {
    "ExecuteTime": {
     "start_time": "2023-05-24T16:23:05.026455Z",
     "end_time": "2023-05-24T16:23:09.888312Z"
    }
   },
   "outputs": [],
   "source": [
    "import os\n",
    "from dotenv import load_dotenv\n",
    "import matplotlib.pyplot as plt\n",
    "from pandasai.llm.openai import OpenAI\n",
    "from examples.data.aml import dataframe\n",
    "from sklearn.preprocessing import StandardScaler\n",
    "from sklearn.cluster import DBSCAN"
   ]
  },
  {
   "cell_type": "code",
   "execution_count": 2,
   "id": "583bc2ad",
   "metadata": {
    "ExecuteTime": {
     "start_time": "2023-05-24T16:23:10.552824Z",
     "end_time": "2023-05-24T16:23:10.557461Z"
    }
   },
   "outputs": [],
   "source": [
    "load_dotenv()\n",
    "\n",
    "# Dapatkan API key dari variabel lingkungan\n",
    "OPENAI_API_KEY = os.getenv(\"OPENAI_API_KEY\")\n",
    "# Inisialisasi OpenAI dengan API key yang dibaca\n",
    "llm = OpenAI()"
   ]
  },
  {
   "cell_type": "code",
   "execution_count": 3,
   "id": "0a6f6432",
   "metadata": {
    "ExecuteTime": {
     "start_time": "2023-05-24T16:23:11.376698Z",
     "end_time": "2023-05-24T16:23:11.383427Z"
    }
   },
   "outputs": [],
   "source": [
    "#contoh sumber data yang berasal dari file csv yang disimpan di examples/data/Loan payments data.csv\n",
    "from pandasai import PandasAI\n",
    "from pandasai.llm.openai import OpenAI\n",
    "pandas_ai = PandasAI(llm, verbose=True)\n",
    "df = dataframe"
   ]
  },
  {
   "cell_type": "markdown",
   "source": [
    "### memeriksa dataframe berhasil di load atau tidak\n"
   ],
   "metadata": {
    "collapsed": false
   }
  },
  {
   "cell_type": "code",
   "execution_count": 4,
   "outputs": [
    {
     "name": "stdout",
     "output_type": "stream",
     "text": [
      "Data berhasil dimuat!\n"
     ]
    }
   ],
   "source": [
    "import pandas as pd\n",
    "\n",
    "try:\n",
    "    df = dataframe\n",
    "    print(\"Data berhasil dimuat!\")\n",
    "except FileNotFoundError:\n",
    "    print(\"File tidak ditemukan!\")\n",
    "except Exception as e:\n",
    "    print(\"Terjadi kesalahan saat memuat data: \", e)\n"
   ],
   "metadata": {
    "collapsed": false,
    "ExecuteTime": {
     "start_time": "2023-05-24T16:23:12.812142Z",
     "end_time": "2023-05-24T16:23:12.819744Z"
    }
   }
  },
  {
   "cell_type": "code",
   "execution_count": 10,
   "outputs": [
    {
     "name": "stdout",
     "output_type": "stream",
     "text": [
      "Running PandasAI with openai LLM...\n",
      "\n",
      "Code generated:\n",
      "```\n",
      "import pandas as pd\n",
      "from sklearn.model_selection import train_test_split\n",
      "from sklearn.linear_model import LogisticRegression\n",
      "from sklearn.metrics import classification_report, confusion_matrix, accuracy_score\n",
      "\n",
      "# Assuming the dataframe is already loaded as df\n",
      "# df = pd.read_csv(\"your_data.csv\")\n",
      "\n",
      "# Preparing the data\n",
      "X = df.drop(['Timestamp', 'Account', 'Account.1', 'Is Laundering'], axis=1)\n",
      "y = df['Is Laundering']\n",
      "\n",
      "# Splitting the data into training and testing sets\n",
      "X_train, X_test, y_train, y_test = train_test_split(X, y, test_size=0.2, random_state=42)\n",
      "\n",
      "# Creating the logistic regression model\n",
      "log_reg = LogisticRegression()\n",
      "\n",
      "# Fitting the model with the training data\n",
      "log_reg.fit(X_train, y_train)\n",
      "\n",
      "# Making predictions on the testing data\n",
      "y_pred = log_reg.predict(X_test)\n",
      "\n",
      "# Evaluating the model\n",
      "print(\"Confusion Matrix:\")\n",
      "print(confusion_matrix(y_test, y_pred))\n",
      "print(\"\\nClassification Report:\")\n",
      "print(classification_report(y_test, y_pred))\n",
      "print(\"\\nAccuracy Score:\")\n",
      "print(accuracy_score(y_test, y_pred))\n",
      "\n",
      "# Detecting potentially illicit behavior using logistic regression\n",
      "df['Predicted_Is_Laundering'] = log_reg.predict(df.drop(['Timestamp', 'Account', 'Account.1', 'Is Laundering'], axis=1))\n",
      "potentially_illicit_behavior = df[df['Predicted_Is_Laundering'] == 1]\n",
      "print(\"\\nPotentially Illicit Behavior:\")\n",
      "print(potentially_illicit_behavior.head())\n",
      "```\n",
      "\n",
      "Code running:\n",
      "```\n",
      "X = df.drop(['Timestamp', 'Account', 'Account.1', 'Is Laundering'], axis=1)\n",
      "y = df['Is Laundering']\n",
      "X_train, X_test, y_train, y_test = train_test_split(X, y, test_size=0.2,\n",
      "    random_state=42)\n",
      "log_reg = LogisticRegression()\n",
      "log_reg.fit(X_train, y_train)\n",
      "y_pred = log_reg.predict(X_test)\n",
      "print('Confusion Matrix:')\n",
      "print(confusion_matrix(y_test, y_pred))\n",
      "print(\"\"\"\n",
      "Classification Report:\"\"\")\n",
      "print(classification_report(y_test, y_pred))\n",
      "print('\\nAccuracy Score:')\n",
      "print(accuracy_score(y_test, y_pred))\n",
      "df['Predicted_Is_Laundering'] = log_reg.predict(df.drop(['Timestamp',\n",
      "    'Account', 'Account.1', 'Is Laundering'], axis=1))\n",
      "potentially_illicit_behavior = df[df['Predicted_Is_Laundering'] == 1]\n",
      "print(\"\"\"\n",
      "Potentially Illicit Behavior:\"\"\")\n",
      "print(potentially_illicit_behavior.head())\n",
      "```\n",
      "Answer: \n",
      "Conversational answer: Untuk mendeteksi perilaku yang berpotensi ilegal, kita bisa menggunakan metode logistic regression. Logistic regression adalah teknik analisis statistik yang digunakan untuk memprediksi probabilitas suatu kejadian berdasarkan satu atau lebih variabel independen. Dalam konteks ini, kita akan mencoba memprediksi kemungkinan seseorang terlibat dalam aktivitas ilegal berdasarkan beberapa faktor, seperti usia, pendidikan, riwayat pekerjaan, dan sebagainya.\n",
      "\n",
      "Dengan mengumpulkan data dari berbagai sumber dan mengidentifikasi variabel yang relevan, kita dapat melatih model logistic regression untuk mengenali pola yang mungkin menunjukkan perilaku ilegal. Setelah model dilatih, kita dapat menggunakannya untuk memprediksi probabilitas seseorang terlibat dalam aktivitas ilegal berdasarkan informasi yang kita miliki tentang mereka.\n",
      "\n",
      "Namun, perlu diingat bahwa logistic regression bukanlah alat yang sempurna dan mungkin tidak selalu akurat dalam memprediksi perilaku ilegal. Selalu penting untuk mempertimbangkan faktor lain dan menggunakan pendekatan yang lebih holistik dalam mengidentifikasi dan mencegah aktivitas ilegal.\n"
     ]
    },
    {
     "data": {
      "text/plain": "'Untuk mendeteksi perilaku yang berpotensi ilegal, kita bisa menggunakan metode logistic regression. Logistic regression adalah teknik analisis statistik yang digunakan untuk memprediksi probabilitas suatu kejadian berdasarkan satu atau lebih variabel independen. Dalam konteks ini, kita akan mencoba memprediksi kemungkinan seseorang terlibat dalam aktivitas ilegal berdasarkan beberapa faktor, seperti usia, pendidikan, riwayat pekerjaan, dan sebagainya.\\n\\nDengan mengumpulkan data dari berbagai sumber dan mengidentifikasi variabel yang relevan, kita dapat melatih model logistic regression untuk mengenali pola yang mungkin menunjukkan perilaku ilegal. Setelah model dilatih, kita dapat menggunakannya untuk memprediksi probabilitas seseorang terlibat dalam aktivitas ilegal berdasarkan informasi yang kita miliki tentang mereka.\\n\\nNamun, perlu diingat bahwa logistic regression bukanlah alat yang sempurna dan mungkin tidak selalu akurat dalam memprediksi perilaku ilegal. Selalu penting untuk mempertimbangkan faktor lain dan menggunakan pendekatan yang lebih holistik dalam mengidentifikasi dan mencegah aktivitas ilegal.'"
     },
     "execution_count": 10,
     "metadata": {},
     "output_type": "execute_result"
    }
   ],
   "source": [
    "pandas_ai.run(df, 'detecting pottentially illicit behavior dengan menggunakan logistic regression')"
   ],
   "metadata": {
    "collapsed": false,
    "ExecuteTime": {
     "start_time": "2023-05-24T14:35:13.224933Z",
     "end_time": "2023-05-24T14:40:52.819408Z"
    }
   }
  },
  {
   "cell_type": "code",
   "execution_count": 9,
   "outputs": [
    {
     "name": "stdout",
     "output_type": "stream",
     "text": [
      "Running PandasAI with openai LLM...\n",
      "\n",
      "Code generated:\n",
      "```\n",
      "import pandas as pd\n",
      "\n",
      "# Load the dataframe\n",
      "# df = pd.read_csv(\"your_data.csv\") # Uncomment this line and replace \"your_data.csv\" with your actual file name\n",
      "\n",
      "# Calculate Z-scores for Amount Received and Amount Paid columns\n",
      "df['Z_score_received'] = (df['Amount Received'] - df['Amount Received'].mean()) / df['Amount Received'].std()\n",
      "df['Z_score_paid'] = (df['Amount Paid'] - df['Amount Paid'].mean()) / df['Amount Paid'].std()\n",
      "\n",
      "# Filter the outliers using a threshold (e.g., 3 standard deviations)\n",
      "threshold = 3\n",
      "outliers = df[(df['Z_score_received'].abs() > threshold) | (df['Z_score_paid'].abs() > threshold)]\n",
      "\n",
      "# Save the outliers to a CSV file\n",
      "outliers.to_csv(\"outliers.csv\", index=False)\n",
      "```\n",
      "\n",
      "Code running:\n",
      "```\n",
      "df['Z_score_received'] = (df['Amount Received'] - df['Amount Received'].mean()\n",
      "    ) / df['Amount Received'].std()\n",
      "df['Z_score_paid'] = (df['Amount Paid'] - df['Amount Paid'].mean()) / df[\n",
      "    'Amount Paid'].std()\n",
      "threshold = 3\n",
      "outliers = df[(df['Z_score_received'].abs() > threshold) | (df[\n",
      "    'Z_score_paid'].abs() > threshold)]\n",
      "outliers.to_csv('outliers.csv', index=False)\n",
      "```\n",
      "Answer: \n",
      "Conversational answer: Untuk mendeteksi outlier atau transaksi tidak biasa menggunakan metode Z-score, Anda perlu mengikuti langkah-langkah berikut dan menyimpan hasilnya dalam file CSV:\n",
      "\n",
      "1. Pertama, siapkan data transaksi Anda dalam format yang sesuai, misalnya dalam file Excel atau CSV.\n",
      "\n",
      "2. Selanjutnya, impor data ke dalam lingkungan pemrograman yang Anda gunakan, seperti Python atau R. Anda bisa menggunakan library seperti pandas (Python) atau readr (R) untuk membaca file CSV.\n",
      "\n",
      "3. Hitung rata-rata (mean) dan standar deviasi dari data transaksi Anda. Ini akan digunakan untuk menghitung Z-score.\n",
      "\n",
      "4. Sekarang, hitung Z-score untuk setiap transaksi dengan rumus berikut: Z-score = (nilai transaksi - mean) / standar deviasi. Nilai Z-score ini menunjukkan seberapa jauh suatu transaksi dari rata-rata dalam satuan standar deviasi.\n",
      "\n",
      "5. Tentukan ambang batas Z-score untuk mengidentifikasi outlier. Misalnya, Anda dapat memilih ambang batas 2 atau 3, yang berarti transaksi dengan Z-score lebih besar dari 2 atau 3 (atau lebih kecil dari -2 atau -3) akan dianggap sebagai outlier.\n",
      "\n",
      "6. Buat kolom baru dalam dataset Anda untuk menyimpan informasi tentang apakah suatu transaksi merupakan outlier atau tidak. Jika Z-score transaksi melebihi ambang batas yang telah ditentukan, tandai sebagai outlier.\n",
      "\n",
      "7. Terakhir, ekspor dataset yang telah diperbarui ke file CSV baru. Dalam Python, Anda dapat menggunakan fungsi `to_csv()` dari library pandas, sementara dalam R, Anda dapat menggunakan fungsi `write_csv()` dari library readr.\n",
      "\n",
      "Dengan mengikuti langkah-langkah ini, Anda akan berhasil mendeteksi outlier atau transaksi tidak biasa menggunakan metode Z-score dan menyimpan hasilnya dalam file CSV.\n"
     ]
    },
    {
     "data": {
      "text/plain": "'Untuk mendeteksi outlier atau transaksi tidak biasa menggunakan metode Z-score, Anda perlu mengikuti langkah-langkah berikut dan menyimpan hasilnya dalam file CSV:\\n\\n1. Pertama, siapkan data transaksi Anda dalam format yang sesuai, misalnya dalam file Excel atau CSV.\\n\\n2. Selanjutnya, impor data ke dalam lingkungan pemrograman yang Anda gunakan, seperti Python atau R. Anda bisa menggunakan library seperti pandas (Python) atau readr (R) untuk membaca file CSV.\\n\\n3. Hitung rata-rata (mean) dan standar deviasi dari data transaksi Anda. Ini akan digunakan untuk menghitung Z-score.\\n\\n4. Sekarang, hitung Z-score untuk setiap transaksi dengan rumus berikut: Z-score = (nilai transaksi - mean) / standar deviasi. Nilai Z-score ini menunjukkan seberapa jauh suatu transaksi dari rata-rata dalam satuan standar deviasi.\\n\\n5. Tentukan ambang batas Z-score untuk mengidentifikasi outlier. Misalnya, Anda dapat memilih ambang batas 2 atau 3, yang berarti transaksi dengan Z-score lebih besar dari 2 atau 3 (atau lebih kecil dari -2 atau -3) akan dianggap sebagai outlier.\\n\\n6. Buat kolom baru dalam dataset Anda untuk menyimpan informasi tentang apakah suatu transaksi merupakan outlier atau tidak. Jika Z-score transaksi melebihi ambang batas yang telah ditentukan, tandai sebagai outlier.\\n\\n7. Terakhir, ekspor dataset yang telah diperbarui ke file CSV baru. Dalam Python, Anda dapat menggunakan fungsi `to_csv()` dari library pandas, sementara dalam R, Anda dapat menggunakan fungsi `write_csv()` dari library readr.\\n\\nDengan mengikuti langkah-langkah ini, Anda akan berhasil mendeteksi outlier atau transaksi tidak biasa menggunakan metode Z-score dan menyimpan hasilnya dalam file CSV.'"
     },
     "execution_count": 9,
     "metadata": {},
     "output_type": "execute_result"
    }
   ],
   "source": [
    "pandas_ai.run(df, 'Deteksi outlier atau transaksi tidak biasa menggunakan metode Z-score, simpan hasilnya dalam file csv')"
   ],
   "metadata": {
    "collapsed": false,
    "ExecuteTime": {
     "start_time": "2023-05-23T14:00:10.439314Z",
     "end_time": "2023-05-23T14:02:15.372936Z"
    }
   }
  },
  {
   "cell_type": "code",
   "execution_count": 11,
   "outputs": [
    {
     "data": {
      "text/plain": "          Timestamp  From Bank    Account  To Bank  Account.1   \n0  2022/09/01 00:20         10  8000EBD30       10  8000EBD30  \\\n1  2022/09/01 00:20       3208  8000F4580        1  8000F5340   \n2  2022/09/01 00:00       3209  8000F4670     3209  8000F4670   \n3  2022/09/01 00:02         12  8000F5030       12  8000F5030   \n4  2022/09/01 00:06         10  8000F5200       10  8000F5200   \n\n   Amount Received Receiving Currency  Amount Paid Payment Currency   \n0          3697.34          US Dollar      3697.34        US Dollar  \\\n1             0.01          US Dollar         0.01        US Dollar   \n2         14675.57          US Dollar     14675.57        US Dollar   \n3          2806.97          US Dollar      2806.97        US Dollar   \n4         36682.97          US Dollar     36682.97        US Dollar   \n\n  Payment Format  Is Laundering  Z_score_received  Z_score_paid  \n0   Reinvestment              0         -0.005770     -0.005180  \n1         Cheque              0         -0.005774     -0.005184  \n2   Reinvestment              0         -0.005760     -0.005168  \n3   Reinvestment              0         -0.005771     -0.005181  \n4   Reinvestment              0         -0.005739     -0.005142  ",
      "text/html": "<div>\n<style scoped>\n    .dataframe tbody tr th:only-of-type {\n        vertical-align: middle;\n    }\n\n    .dataframe tbody tr th {\n        vertical-align: top;\n    }\n\n    .dataframe thead th {\n        text-align: right;\n    }\n</style>\n<table border=\"1\" class=\"dataframe\">\n  <thead>\n    <tr style=\"text-align: right;\">\n      <th></th>\n      <th>Timestamp</th>\n      <th>From Bank</th>\n      <th>Account</th>\n      <th>To Bank</th>\n      <th>Account.1</th>\n      <th>Amount Received</th>\n      <th>Receiving Currency</th>\n      <th>Amount Paid</th>\n      <th>Payment Currency</th>\n      <th>Payment Format</th>\n      <th>Is Laundering</th>\n      <th>Z_score_received</th>\n      <th>Z_score_paid</th>\n    </tr>\n  </thead>\n  <tbody>\n    <tr>\n      <th>0</th>\n      <td>2022/09/01 00:20</td>\n      <td>10</td>\n      <td>8000EBD30</td>\n      <td>10</td>\n      <td>8000EBD30</td>\n      <td>3697.34</td>\n      <td>US Dollar</td>\n      <td>3697.34</td>\n      <td>US Dollar</td>\n      <td>Reinvestment</td>\n      <td>0</td>\n      <td>-0.005770</td>\n      <td>-0.005180</td>\n    </tr>\n    <tr>\n      <th>1</th>\n      <td>2022/09/01 00:20</td>\n      <td>3208</td>\n      <td>8000F4580</td>\n      <td>1</td>\n      <td>8000F5340</td>\n      <td>0.01</td>\n      <td>US Dollar</td>\n      <td>0.01</td>\n      <td>US Dollar</td>\n      <td>Cheque</td>\n      <td>0</td>\n      <td>-0.005774</td>\n      <td>-0.005184</td>\n    </tr>\n    <tr>\n      <th>2</th>\n      <td>2022/09/01 00:00</td>\n      <td>3209</td>\n      <td>8000F4670</td>\n      <td>3209</td>\n      <td>8000F4670</td>\n      <td>14675.57</td>\n      <td>US Dollar</td>\n      <td>14675.57</td>\n      <td>US Dollar</td>\n      <td>Reinvestment</td>\n      <td>0</td>\n      <td>-0.005760</td>\n      <td>-0.005168</td>\n    </tr>\n    <tr>\n      <th>3</th>\n      <td>2022/09/01 00:02</td>\n      <td>12</td>\n      <td>8000F5030</td>\n      <td>12</td>\n      <td>8000F5030</td>\n      <td>2806.97</td>\n      <td>US Dollar</td>\n      <td>2806.97</td>\n      <td>US Dollar</td>\n      <td>Reinvestment</td>\n      <td>0</td>\n      <td>-0.005771</td>\n      <td>-0.005181</td>\n    </tr>\n    <tr>\n      <th>4</th>\n      <td>2022/09/01 00:06</td>\n      <td>10</td>\n      <td>8000F5200</td>\n      <td>10</td>\n      <td>8000F5200</td>\n      <td>36682.97</td>\n      <td>US Dollar</td>\n      <td>36682.97</td>\n      <td>US Dollar</td>\n      <td>Reinvestment</td>\n      <td>0</td>\n      <td>-0.005739</td>\n      <td>-0.005142</td>\n    </tr>\n  </tbody>\n</table>\n</div>"
     },
     "execution_count": 11,
     "metadata": {},
     "output_type": "execute_result"
    }
   ],
   "source": [
    "# tampilkan data head 5 bari pertama\n",
    "df.head()\n"
   ],
   "metadata": {
    "collapsed": false,
    "ExecuteTime": {
     "start_time": "2023-05-23T14:12:10.146467Z",
     "end_time": "2023-05-23T14:12:10.204857Z"
    }
   }
  },
  {
   "cell_type": "code",
   "execution_count": 12,
   "outputs": [
    {
     "name": "stdout",
     "output_type": "stream",
     "text": [
      "Running PandasAI with openai LLM...\n",
      "\n",
      "Code generated:\n",
      "```\n",
      "import pandas as pd\n",
      "\n",
      "# Load the dataframe\n",
      "# df = pd.read_csv(\"your_file.csv\")  # Uncomment this line and replace \"your_file.csv\" with your actual file name\n",
      "\n",
      "# Count transactions for each account\n",
      "transaction_counts = df['Account'].value_counts()\n",
      "\n",
      "# Show accounts with high transaction counts\n",
      "high_transactions = transaction_counts[transaction_counts > transaction_counts.mean() + 2 * transaction_counts.std()]\n",
      "print(high_transactions)\n",
      "```\n",
      "\n",
      "Code running:\n",
      "```\n",
      "transaction_counts = df['Account'].value_counts()\n",
      "high_transactions = transaction_counts[transaction_counts > \n",
      "    transaction_counts.mean() + 2 * transaction_counts.std()]\n",
      "print(high_transactions)\n",
      "```\n",
      "Answer: Account\n",
      "100428660    168672\n",
      "1004286A8    103018\n",
      "100428978     20497\n",
      "1004286F0     18663\n",
      "100428780     17264\n",
      "1004289C0     16794\n",
      "100428810     16426\n",
      "1004287C8     14174\n",
      "100428738     13756\n",
      "100428A51     13073\n",
      "1004288A0     12330\n",
      "100428858     11000\n",
      "1004288E8      9471\n",
      "100428A08      8290\n",
      "100428930      6431\n",
      "Name: count, dtype: int64\n",
      "\n",
      "Conversational answer: Berikut ini adalah daftar akun dengan jumlah transaksi yang sangat tinggi:\n",
      "\n",
      "1. Akun 100428660 memiliki 168,672 transaksi.\n",
      "2. Akun 1004286A8 memiliki 103,018 transaksi.\n",
      "3. Akun 100428978 memiliki 20,497 transaksi.\n",
      "4. Akun 1004286F0 memiliki 18,663 transaksi.\n",
      "5. Akun 100428780 memiliki 17,264 transaksi.\n",
      "6. Akun 1004289C0 memiliki 16,794 transaksi.\n",
      "7. Akun 100428810 memiliki 16,426 transaksi.\n",
      "8. Akun 1004287C8 memiliki 14,174 transaksi.\n",
      "9. Akun 100428738 memiliki 13,756 transaksi.\n",
      "10. Akun 100428A51 memiliki 13,073 transaksi.\n",
      "11. Akun 1004288A0 memiliki 12,330 transaksi.\n",
      "12. Akun 100428858 memiliki 11,000 transaksi.\n",
      "13. Akun 1004288E8 memiliki 9,471 transaksi.\n",
      "14. Akun 100428A08 memiliki 8,290 transaksi.\n",
      "15. Akun 100428930 memiliki 6,431 transaksi.\n",
      "\n",
      "Dari daftar di atas, kita dapat melihat bahwa akun dengan jumlah transaksi yang sangat tinggi adalah akun 100428660 dan 1004286A8.\n"
     ]
    },
    {
     "data": {
      "text/plain": "'Berikut ini adalah daftar akun dengan jumlah transaksi yang sangat tinggi:\\n\\n1. Akun 100428660 memiliki 168,672 transaksi.\\n2. Akun 1004286A8 memiliki 103,018 transaksi.\\n3. Akun 100428978 memiliki 20,497 transaksi.\\n4. Akun 1004286F0 memiliki 18,663 transaksi.\\n5. Akun 100428780 memiliki 17,264 transaksi.\\n6. Akun 1004289C0 memiliki 16,794 transaksi.\\n7. Akun 100428810 memiliki 16,426 transaksi.\\n8. Akun 1004287C8 memiliki 14,174 transaksi.\\n9. Akun 100428738 memiliki 13,756 transaksi.\\n10. Akun 100428A51 memiliki 13,073 transaksi.\\n11. Akun 1004288A0 memiliki 12,330 transaksi.\\n12. Akun 100428858 memiliki 11,000 transaksi.\\n13. Akun 1004288E8 memiliki 9,471 transaksi.\\n14. Akun 100428A08 memiliki 8,290 transaksi.\\n15. Akun 100428930 memiliki 6,431 transaksi.\\n\\nDari daftar di atas, kita dapat melihat bahwa akun dengan jumlah transaksi yang sangat tinggi adalah akun 100428660 dan 1004286A8.'"
     },
     "execution_count": 12,
     "metadata": {},
     "output_type": "execute_result"
    }
   ],
   "source": [
    "pandas_ai.run(df, 'Hitung jumlah transaksi untuk setiap akun. Tunjukkan akun dengan jumlah transaksi yang sangat tinggi')"
   ],
   "metadata": {
    "collapsed": false,
    "ExecuteTime": {
     "start_time": "2023-05-23T14:23:40.452024Z",
     "end_time": "2023-05-23T14:25:00.142939Z"
    }
   }
  },
  {
   "cell_type": "code",
   "execution_count": 15,
   "outputs": [
    {
     "name": "stdout",
     "output_type": "stream",
     "text": [
      "Running PandasAI with openai LLM...\n",
      "\n",
      "Code generated:\n",
      "```\n",
      "import pandas as pd\n",
      "\n",
      "# Load the dataframe df = dataframe\n",
      "# Assuming the dataframe is already loaded as df\n",
      "\n",
      "# Combine 'From Bank' and 'Account' columns, and 'To Bank' and 'Account.1' columns\n",
      "df['from_account'] = df['From Bank'].astype(str) + '_' + df['Account']\n",
      "df['to_account'] = df['To Bank'].astype(str) + '_' + df['Account.1']\n",
      "\n",
      "# Find unique interactions between accounts\n",
      "unique_interactions = df[['from_account', 'to_account']].drop_duplicates()\n",
      "\n",
      "# Count the number of unique interactions for each account\n",
      "interaction_counts = unique_interactions['from_account'].append(unique_interactions['to_account']).value_counts()\n",
      "\n",
      "# Save the result to a CSV file\n",
      "interaction_counts.to_csv('num_accounts_interacted.csv', header=['num_interactions'])\n",
      "```\n",
      "\n",
      "Code running:\n",
      "```\n",
      "df['from_account'] = df['From Bank'].astype(str) + '_' + df['Account']\n",
      "df['to_account'] = df['To Bank'].astype(str) + '_' + df['Account.1']\n",
      "unique_interactions = df[['from_account', 'to_account']].drop_duplicates()\n",
      "interaction_counts = unique_interactions['from_account'].append(\n",
      "    unique_interactions['to_account']).value_counts()\n",
      "interaction_counts.to_csv('num_accounts_interacted.csv', header=[\n",
      "    'num_interactions'])\n",
      "```\n",
      "Answer: \n",
      "Conversational answer: Untuk menghitung berapa banyak akun lain yang telah berinteraksi dengan setiap akun, Anda perlu mengumpulkan data interaksi antara akun-akun tersebut. Setelah Anda memiliki data tersebut, Anda bisa menghitung jumlah akun yang berinteraksi dengan setiap akun.\n",
      "\n",
      "Setelah mengidentifikasi akun yang telah berinteraksi dengan sejumlah besar akun lain, Anda dapat menyimpan hasilnya dalam file CSV. Untuk melakukannya, Anda bisa menggunakan perangkat lunak seperti Microsoft Excel atau Google Sheets, atau bahkan menggunakan bahasa pemrograman seperti Python atau R untuk mengolah data dan menyimpannya dalam format CSV.\n",
      "\n",
      "Berikut adalah langkah-langkah untuk menyimpan hasilnya dalam file CSV dengan nama \"num_accounts_interacted.csv\":\n",
      "\n",
      "1. Buka perangkat lunak pengolah data seperti Microsoft Excel atau Google Sheets.\n",
      "2. Masukkan data interaksi akun yang telah Anda kumpulkan ke dalam lembar kerja.\n",
      "3. Hitung jumlah akun yang berinteraksi dengan setiap akun dan masukkan hasilnya dalam kolom baru.\n",
      "4. Urutkan data berdasarkan jumlah interaksi untuk mengidentifikasi akun yang telah berinteraksi dengan sejumlah besar akun lain.\n",
      "5. Simpan file dalam format CSV dengan nama \"num_accounts_interacted.csv\".\n",
      "\n",
      "Jika Anda lebih suka menggunakan bahasa pemrograman seperti Python atau R, Anda bisa menggunakan pustaka seperti pandas untuk mengolah data dan menyimpannya dalam format CSV.\n"
     ]
    },
    {
     "data": {
      "text/plain": "'Untuk menghitung berapa banyak akun lain yang telah berinteraksi dengan setiap akun, Anda perlu mengumpulkan data interaksi antara akun-akun tersebut. Setelah Anda memiliki data tersebut, Anda bisa menghitung jumlah akun yang berinteraksi dengan setiap akun.\\n\\nSetelah mengidentifikasi akun yang telah berinteraksi dengan sejumlah besar akun lain, Anda dapat menyimpan hasilnya dalam file CSV. Untuk melakukannya, Anda bisa menggunakan perangkat lunak seperti Microsoft Excel atau Google Sheets, atau bahkan menggunakan bahasa pemrograman seperti Python atau R untuk mengolah data dan menyimpannya dalam format CSV.\\n\\nBerikut adalah langkah-langkah untuk menyimpan hasilnya dalam file CSV dengan nama \"num_accounts_interacted.csv\":\\n\\n1. Buka perangkat lunak pengolah data seperti Microsoft Excel atau Google Sheets.\\n2. Masukkan data interaksi akun yang telah Anda kumpulkan ke dalam lembar kerja.\\n3. Hitung jumlah akun yang berinteraksi dengan setiap akun dan masukkan hasilnya dalam kolom baru.\\n4. Urutkan data berdasarkan jumlah interaksi untuk mengidentifikasi akun yang telah berinteraksi dengan sejumlah besar akun lain.\\n5. Simpan file dalam format CSV dengan nama \"num_accounts_interacted.csv\".\\n\\nJika Anda lebih suka menggunakan bahasa pemrograman seperti Python atau R, Anda bisa menggunakan pustaka seperti pandas untuk mengolah data dan menyimpannya dalam format CSV.'"
     },
     "execution_count": 15,
     "metadata": {},
     "output_type": "execute_result"
    }
   ],
   "source": [
    "pandas_ai.run(df,  'hitung berapa banyak akun lain yang telah berinteraksi dengan setiap akun. Identifikasi akun yang telah berinteraksi dengan sejumlah besar akun lain. Kemudian, simpan hasilnya dalam file CSV dengan nama \"num_accounts_interacted.csv\".')"
   ],
   "metadata": {
    "collapsed": false,
    "ExecuteTime": {
     "start_time": "2023-05-23T14:48:39.664221Z",
     "end_time": "2023-05-23T14:52:45.014940Z"
    }
   }
  },
  {
   "cell_type": "code",
   "execution_count": 16,
   "outputs": [
    {
     "ename": "AttributeError",
     "evalue": "'Series' object has no attribute 'append'",
     "output_type": "error",
     "traceback": [
      "\u001B[0;31m---------------------------------------------------------------------------\u001B[0m",
      "\u001B[0;31mAttributeError\u001B[0m                            Traceback (most recent call last)",
      "\u001B[0;32m/tmp/ipykernel_1639454/601378358.py\u001B[0m in \u001B[0;36m?\u001B[0;34m()\u001B[0m\n\u001B[1;32m      1\u001B[0m \u001B[0mdf\u001B[0m\u001B[0;34m[\u001B[0m\u001B[0;34m'from_account'\u001B[0m\u001B[0;34m]\u001B[0m \u001B[0;34m=\u001B[0m \u001B[0mdf\u001B[0m\u001B[0;34m[\u001B[0m\u001B[0;34m'From Bank'\u001B[0m\u001B[0;34m]\u001B[0m\u001B[0;34m.\u001B[0m\u001B[0mastype\u001B[0m\u001B[0;34m(\u001B[0m\u001B[0mstr\u001B[0m\u001B[0;34m)\u001B[0m \u001B[0;34m+\u001B[0m \u001B[0;34m'_'\u001B[0m \u001B[0;34m+\u001B[0m \u001B[0mdf\u001B[0m\u001B[0;34m[\u001B[0m\u001B[0;34m'Account'\u001B[0m\u001B[0;34m]\u001B[0m\u001B[0;34m\u001B[0m\u001B[0;34m\u001B[0m\u001B[0m\n\u001B[1;32m      2\u001B[0m \u001B[0mdf\u001B[0m\u001B[0;34m[\u001B[0m\u001B[0;34m'to_account'\u001B[0m\u001B[0;34m]\u001B[0m \u001B[0;34m=\u001B[0m \u001B[0mdf\u001B[0m\u001B[0;34m[\u001B[0m\u001B[0;34m'To Bank'\u001B[0m\u001B[0;34m]\u001B[0m\u001B[0;34m.\u001B[0m\u001B[0mastype\u001B[0m\u001B[0;34m(\u001B[0m\u001B[0mstr\u001B[0m\u001B[0;34m)\u001B[0m \u001B[0;34m+\u001B[0m \u001B[0;34m'_'\u001B[0m \u001B[0;34m+\u001B[0m \u001B[0mdf\u001B[0m\u001B[0;34m[\u001B[0m\u001B[0;34m'Account.1'\u001B[0m\u001B[0;34m]\u001B[0m\u001B[0;34m\u001B[0m\u001B[0;34m\u001B[0m\u001B[0m\n\u001B[1;32m      3\u001B[0m \u001B[0munique_interactions\u001B[0m \u001B[0;34m=\u001B[0m \u001B[0mdf\u001B[0m\u001B[0;34m[\u001B[0m\u001B[0;34m[\u001B[0m\u001B[0;34m'from_account'\u001B[0m\u001B[0;34m,\u001B[0m \u001B[0;34m'to_account'\u001B[0m\u001B[0;34m]\u001B[0m\u001B[0;34m]\u001B[0m\u001B[0;34m.\u001B[0m\u001B[0mdrop_duplicates\u001B[0m\u001B[0;34m(\u001B[0m\u001B[0;34m)\u001B[0m\u001B[0;34m\u001B[0m\u001B[0;34m\u001B[0m\u001B[0m\n\u001B[0;32m----> 4\u001B[0;31m interaction_counts = unique_interactions['from_account'].append(\n\u001B[0m\u001B[1;32m      5\u001B[0m     unique_interactions['to_account']).value_counts()\n\u001B[1;32m      6\u001B[0m interaction_counts.to_csv('num_accounts_interacted.csv', header=[\n\u001B[1;32m      7\u001B[0m     'num_interactions'])\n",
      "\u001B[0;32m~/anaconda3/envs/pandas-ai/lib/python3.10/site-packages/pandas/core/generic.py\u001B[0m in \u001B[0;36m?\u001B[0;34m(self, name)\u001B[0m\n\u001B[1;32m   5985\u001B[0m             \u001B[0;32mand\u001B[0m \u001B[0mname\u001B[0m \u001B[0;32mnot\u001B[0m \u001B[0;32min\u001B[0m \u001B[0mself\u001B[0m\u001B[0;34m.\u001B[0m\u001B[0m_accessors\u001B[0m\u001B[0;34m\u001B[0m\u001B[0;34m\u001B[0m\u001B[0m\n\u001B[1;32m   5986\u001B[0m             \u001B[0;32mand\u001B[0m \u001B[0mself\u001B[0m\u001B[0;34m.\u001B[0m\u001B[0m_info_axis\u001B[0m\u001B[0;34m.\u001B[0m\u001B[0m_can_hold_identifiers_and_holds_name\u001B[0m\u001B[0;34m(\u001B[0m\u001B[0mname\u001B[0m\u001B[0;34m)\u001B[0m\u001B[0;34m\u001B[0m\u001B[0;34m\u001B[0m\u001B[0m\n\u001B[1;32m   5987\u001B[0m         ):\n\u001B[1;32m   5988\u001B[0m             \u001B[0;32mreturn\u001B[0m \u001B[0mself\u001B[0m\u001B[0;34m[\u001B[0m\u001B[0mname\u001B[0m\u001B[0;34m]\u001B[0m\u001B[0;34m\u001B[0m\u001B[0;34m\u001B[0m\u001B[0m\n\u001B[0;32m-> 5989\u001B[0;31m         \u001B[0;32mreturn\u001B[0m \u001B[0mobject\u001B[0m\u001B[0;34m.\u001B[0m\u001B[0m__getattribute__\u001B[0m\u001B[0;34m(\u001B[0m\u001B[0mself\u001B[0m\u001B[0;34m,\u001B[0m \u001B[0mname\u001B[0m\u001B[0;34m)\u001B[0m\u001B[0;34m\u001B[0m\u001B[0;34m\u001B[0m\u001B[0m\n\u001B[0m",
      "\u001B[0;31mAttributeError\u001B[0m: 'Series' object has no attribute 'append'"
     ]
    }
   ],
   "source": [
    "df['from_account'] = df['From Bank'].astype(str) + '_' + df['Account']\n",
    "df['to_account'] = df['To Bank'].astype(str) + '_' + df['Account.1']\n",
    "unique_interactions = df[['from_account', 'to_account']].drop_duplicates()\n",
    "interaction_counts = unique_interactions['from_account'].append(\n",
    "    unique_interactions['to_account']).value_counts()\n",
    "interaction_counts.to_csv('num_accounts_interacted.csv', header=[\n",
    "    'num_interactions'])"
   ],
   "metadata": {
    "collapsed": false
   }
  },
  {
   "cell_type": "code",
   "execution_count": 17,
   "outputs": [
    {
     "name": "stdout",
     "output_type": "stream",
     "text": [
      "Running PandasAI with openai LLM...\n",
      "\n",
      "Code generated:\n",
      "```\n",
      "import pandas as pd\n",
      "\n",
      "# Load the dataframe df = dataframe\n",
      "# Assuming the dataframe is already loaded as 'df'\n",
      "\n",
      "# Convert Timestamp column to datetime format\n",
      "df['Timestamp'] = pd.to_datetime(df['Timestamp'])\n",
      "\n",
      "# Sort the dataframe by Timestamp\n",
      "df = df.sort_values(by='Timestamp')\n",
      "\n",
      "# Create a new column 'from_to_account' combining 'From Bank', 'Account', 'To Bank', and 'Account.1'\n",
      "df['from_to_account'] = df['From Bank'].astype(str) + '_' + df['Account'] + '_' + df['To Bank'].astype(str) + '_' + df['Account.1']\n",
      "\n",
      "# Group the dataframe by 'from_to_account' and calculate the time difference between consecutive transactions\n",
      "df['time_diff'] = df.groupby('from_to_account')['Timestamp'].diff()\n",
      "\n",
      "# Filter the dataframe for rapid movements (less than or equal to 5 minutes)\n",
      "rapid_movements = df[df['time_diff'] <= pd.Timedelta(minutes=5)]\n",
      "\n",
      "# Count the number of rapid movements for each account\n",
      "rapid_movement_counts = rapid_movements['from_to_account'].value_counts()\n",
      "\n",
      "# Save the result to a CSV file\n",
      "rapid_movement_counts.to_csv('rapid_movement.csv', header=['Count'])\n",
      "```\n",
      "\n",
      "Code running:\n",
      "```\n",
      "df['Timestamp'] = pd.to_datetime(df['Timestamp'])\n",
      "df['from_to_account'] = df['From Bank'].astype(str) + '_' + df['Account'\n",
      "    ] + '_' + df['To Bank'].astype(str) + '_' + df['Account.1']\n",
      "df['time_diff'] = df.groupby('from_to_account')['Timestamp'].diff()\n",
      "rapid_movements = df[df['time_diff'] <= pd.Timedelta(minutes=5)]\n",
      "rapid_movement_counts = rapid_movements['from_to_account'].value_counts()\n",
      "rapid_movement_counts.to_csv('rapid_movement.csv', header=['Count'])\n",
      "```\n",
      "Answer: \n",
      "Conversational answer: Untuk menganalisis transaksi dalam data dan mencari pola di mana uang dipindahkan dengan cepat antar akun dalam waktu yang singkat, Anda perlu mengikuti langkah-langkah berikut:\n",
      "\n",
      "1. Pertama, impor data transaksi ke dalam format yang dapat dianalisis, seperti pandas DataFrame jika Anda menggunakan Python.\n",
      "2. Kemudian, tentukan batasan waktu yang dianggap sebagai \"waktu singkat\" untuk mengidentifikasi pergerakan uang yang cepat.\n",
      "3. Selanjutnya, iterasi melalui setiap transaksi dalam data dan periksa apakah perbedaan waktu antara transaksi berturut-turut kurang dari atau sama dengan batasan waktu yang telah ditentukan.\n",
      "4. Jika kondisi ini terpenuhi, tambahkan penghitung untuk akun yang terlibat dalam transaksi tersebut.\n",
      "5. Setelah semua transaksi dianalisis, simpan hasilnya dalam file CSV dengan nama \"rapid_movement.csv\". Anda dapat menggunakan fungsi `to_csv()` dari pandas DataFrame untuk melakukannya.\n",
      "\n",
      "Dengan cara ini, Anda akan dapat menghitung berapa kali pergerakan uang yang cepat terjadi untuk setiap akun dan menyimpan hasilnya dalam file CSV.\n"
     ]
    },
    {
     "data": {
      "text/plain": "'Untuk menganalisis transaksi dalam data dan mencari pola di mana uang dipindahkan dengan cepat antar akun dalam waktu yang singkat, Anda perlu mengikuti langkah-langkah berikut:\\n\\n1. Pertama, impor data transaksi ke dalam format yang dapat dianalisis, seperti pandas DataFrame jika Anda menggunakan Python.\\n2. Kemudian, tentukan batasan waktu yang dianggap sebagai \"waktu singkat\" untuk mengidentifikasi pergerakan uang yang cepat.\\n3. Selanjutnya, iterasi melalui setiap transaksi dalam data dan periksa apakah perbedaan waktu antara transaksi berturut-turut kurang dari atau sama dengan batasan waktu yang telah ditentukan.\\n4. Jika kondisi ini terpenuhi, tambahkan penghitung untuk akun yang terlibat dalam transaksi tersebut.\\n5. Setelah semua transaksi dianalisis, simpan hasilnya dalam file CSV dengan nama \"rapid_movement.csv\". Anda dapat menggunakan fungsi `to_csv()` dari pandas DataFrame untuk melakukannya.\\n\\nDengan cara ini, Anda akan dapat menghitung berapa kali pergerakan uang yang cepat terjadi untuk setiap akun dan menyimpan hasilnya dalam file CSV.'"
     },
     "execution_count": 17,
     "metadata": {},
     "output_type": "execute_result"
    }
   ],
   "source": [
    "pandas_ai.run(df,'analisis transaksi yang terjadi dalam data dan cari pola dimana uang dipindahkan dengan cepat antar akun dalam waktu yang singkat. Hitung berapa kali ini terjadi untuk setiap akun dan simpan hasilnya dalam file CSV yang bernama rapid_movement.csv')"
   ],
   "metadata": {
    "collapsed": false,
    "ExecuteTime": {
     "start_time": "2023-05-23T15:02:35.318020Z",
     "end_time": "2023-05-23T15:04:30.362980Z"
    }
   }
  },
  {
   "cell_type": "code",
   "execution_count": 18,
   "outputs": [
    {
     "name": "stdout",
     "output_type": "stream",
     "text": [
      "Running PandasAI with openai LLM...\n",
      "\n",
      "Code generated:\n",
      "```\n",
      "import pandas as pd\n",
      "\n",
      "# Load the dataframe df = dataframe\n",
      "# Assuming the dataframe is already loaded as df\n",
      "\n",
      "# Find the transactions where the amount is transferred back to the original account\n",
      "quick_return_transactions = df[df['from_account'] == df['to_account']]\n",
      "\n",
      "# Filter the transactions with a short time difference\n",
      "quick_return_transactions['time_diff'] = pd.to_timedelta(quick_return_transactions['time_diff'])\n",
      "short_time_transactions = quick_return_transactions[quick_return_transactions['time_diff'] <= pd.Timedelta('1 hour')]\n",
      "\n",
      "# Save the filtered transactions to a CSV file\n",
      "short_time_transactions.to_csv('quick_return_transactions.csv', index=False)\n",
      "```\n",
      "\n",
      "Code running:\n",
      "```\n",
      "quick_return_transactions = df[df['from_account'] == df['to_account']]\n",
      "quick_return_transactions['time_diff'] = pd.to_timedelta(\n",
      "    quick_return_transactions['time_diff'])\n",
      "short_time_transactions = quick_return_transactions[\n",
      "    quick_return_transactions['time_diff'] <= pd.Timedelta('1 hour')]\n",
      "short_time_transactions.to_csv('quick_return_transactions.csv', index=False)\n",
      "```\n"
     ]
    },
    {
     "name": "stderr",
     "output_type": "stream",
     "text": [
      "<string>:2: SettingWithCopyWarning: \n",
      "A value is trying to be set on a copy of a slice from a DataFrame.\n",
      "Try using .loc[row_indexer,col_indexer] = value instead\n",
      "\n",
      "See the caveats in the documentation: https://pandas.pydata.org/pandas-docs/stable/user_guide/indexing.html#returning-a-view-versus-a-copy\n"
     ]
    },
    {
     "name": "stdout",
     "output_type": "stream",
     "text": [
      "Answer: \n",
      "Conversational answer: Untuk menemukan pola di mana uang dipindahkan keluar dari satu akun ke akun lain dan kemudian dipindahkan kembali dalam waktu yang sangat singkat, Anda perlu mengumpulkan data transaksi dari sumber yang relevan. Setelah Anda memiliki data tersebut, Anda dapat menganalisisnya untuk mencari pola yang diinginkan.\n",
      "\n",
      "Berikut adalah langkah-langkah yang dapat Anda ikuti:\n",
      "\n",
      "1. Kumpulkan data transaksi dari sumber yang relevan, seperti database atau file CSV.\n",
      "2. Baca data transaksi menggunakan bahasa pemrograman atau alat analisis data yang Anda kuasai, seperti Python, R, atau Excel.\n",
      "3. Cari pola di mana uang dipindahkan keluar dari satu akun ke akun lain dan kemudian dipindahkan kembali dalam waktu yang sangat singkat. Anda mungkin perlu menentukan batasan waktu yang dianggap \"sangat singkat\" terlebih dahulu.\n",
      "4. Setelah menemukan pola ini, simpan detail transaksi tersebut dalam file CSV dengan nama quick_return_transactions.csv.\n",
      "\n",
      "Jika Anda memerlukan bantuan lebih lanjut dalam menganalisis data atau menulis kode untuk mencari pola ini, jangan ragu untuk bertanya.\n"
     ]
    },
    {
     "data": {
      "text/plain": "'Untuk menemukan pola di mana uang dipindahkan keluar dari satu akun ke akun lain dan kemudian dipindahkan kembali dalam waktu yang sangat singkat, Anda perlu mengumpulkan data transaksi dari sumber yang relevan. Setelah Anda memiliki data tersebut, Anda dapat menganalisisnya untuk mencari pola yang diinginkan.\\n\\nBerikut adalah langkah-langkah yang dapat Anda ikuti:\\n\\n1. Kumpulkan data transaksi dari sumber yang relevan, seperti database atau file CSV.\\n2. Baca data transaksi menggunakan bahasa pemrograman atau alat analisis data yang Anda kuasai, seperti Python, R, atau Excel.\\n3. Cari pola di mana uang dipindahkan keluar dari satu akun ke akun lain dan kemudian dipindahkan kembali dalam waktu yang sangat singkat. Anda mungkin perlu menentukan batasan waktu yang dianggap \"sangat singkat\" terlebih dahulu.\\n4. Setelah menemukan pola ini, simpan detail transaksi tersebut dalam file CSV dengan nama quick_return_transactions.csv.\\n\\nJika Anda memerlukan bantuan lebih lanjut dalam menganalisis data atau menulis kode untuk mencari pola ini, jangan ragu untuk bertanya.'"
     },
     "execution_count": 18,
     "metadata": {},
     "output_type": "execute_result"
    }
   ],
   "source": [
    "pandas_ai.run(df, 'Tolong cari pola dimana uang dipindahkan keluar dari satu akun ke akun lain, dan kemudian dipindahkan kembali dalam waktu yang sangat singkat. '\n",
    "                  'Jika pola ini ditemukan, simpan detail transaksi tersebut dalam file CSV dengan nama quick_return_transactions.csv')"
   ],
   "metadata": {
    "collapsed": false,
    "ExecuteTime": {
     "start_time": "2023-05-23T15:08:13.763093Z",
     "end_time": "2023-05-23T15:09:53.211932Z"
    }
   }
  },
  {
   "cell_type": "code",
   "execution_count": 19,
   "outputs": [
    {
     "name": "stdout",
     "output_type": "stream",
     "text": [
      "Running PandasAI with openai LLM...\n",
      "\n",
      "Code generated:\n",
      "```\n",
      "import pandas as pd\n",
      "\n",
      "# Load the dataframe df = dataframe\n",
      "# Assuming the dataframe is already loaded as df\n",
      "\n",
      "# Sort the dataframe by 'Timestamp'\n",
      "df = df.sort_values(by='Timestamp')\n",
      "\n",
      "# Calculate the time difference between consecutive transactions\n",
      "df['time_diff'] = df['Timestamp'].diff()\n",
      "\n",
      "# Filter transactions with a small time difference (less than 5 minutes)\n",
      "short_time_diff = pd.to_timedelta('5 minutes')\n",
      "filtered_transactions = df[df['time_diff'] < short_time_diff]\n",
      "\n",
      "# Group transactions by 'from_account' and 'to_account', and calculate the total amount for each group\n",
      "grouped_transactions = filtered_transactions.groupby(['from_account', 'to_account']).agg({'Amount Received': 'sum'})\n",
      "\n",
      "# Filter groups with a large total amount (greater than a certain threshold, e.g., 50000)\n",
      "large_total_amount = 50000\n",
      "smurfing_transactions = grouped_transactions[grouped_transactions['Amount Received'] > large_total_amount]\n",
      "\n",
      "# Save the smurfing transactions to a CSV file\n",
      "smurfing_transactions.to_csv('smurfing_transactions.csv')\n",
      "```\n",
      "\n",
      "Code running:\n",
      "```\n",
      "df['time_diff'] = df['Timestamp'].diff()\n",
      "short_time_diff = pd.to_timedelta('5 minutes')\n",
      "filtered_transactions = df[df['time_diff'] < short_time_diff]\n",
      "grouped_transactions = filtered_transactions.groupby(['from_account',\n",
      "    'to_account']).agg({'Amount Received': 'sum'})\n",
      "large_total_amount = 50000\n",
      "smurfing_transactions = grouped_transactions[grouped_transactions[\n",
      "    'Amount Received'] > large_total_amount]\n",
      "smurfing_transactions.to_csv('smurfing_transactions.csv')\n",
      "```\n",
      "Answer: \n",
      "Conversational answer: Untuk menganalisis data dan mencari pola di mana jumlah transaksi besar dipecah menjadi beberapa transaksi kecil dalam waktu yang singkat, kita perlu mengikuti langkah-langkah berikut:\n",
      "\n",
      "1. Pertama, impor data transaksi ke dalam program analisis data yang Anda gunakan, seperti Excel, Google Sheets, atau bahasa pemrograman seperti Python atau R.\n",
      "\n",
      "2. Selanjutnya, urutkan data berdasarkan waktu transaksi dan identifikasi transaksi yang memiliki jumlah yang besar.\n",
      "\n",
      "3. Setelah itu, periksa transaksi-transaksi yang berdekatan dengan transaksi besar tersebut untuk melihat apakah ada beberapa transaksi kecil yang terjadi dalam jangka waktu yang singkat setelah transaksi besar.\n",
      "\n",
      "4. Jika Anda menemukan pola di mana transaksi besar dipecah menjadi beberapa transaksi kecil dalam waktu yang singkat, catat detail transaksi tersebut, seperti nomor transaksi, waktu, dan jumlah.\n",
      "\n",
      "5. Terakhir, simpan detail transaksi yang telah Anda temukan dalam file CSV bernama smurfing_transactions.csv.\n",
      "\n",
      "Dengan cara ini, Anda dapat mengidentifikasi pola smurfing dalam data transaksi dan menyimpan detailnya untuk referensi lebih lanjut atau pelaporan.\n"
     ]
    },
    {
     "data": {
      "text/plain": "'Untuk menganalisis data dan mencari pola di mana jumlah transaksi besar dipecah menjadi beberapa transaksi kecil dalam waktu yang singkat, kita perlu mengikuti langkah-langkah berikut:\\n\\n1. Pertama, impor data transaksi ke dalam program analisis data yang Anda gunakan, seperti Excel, Google Sheets, atau bahasa pemrograman seperti Python atau R.\\n\\n2. Selanjutnya, urutkan data berdasarkan waktu transaksi dan identifikasi transaksi yang memiliki jumlah yang besar.\\n\\n3. Setelah itu, periksa transaksi-transaksi yang berdekatan dengan transaksi besar tersebut untuk melihat apakah ada beberapa transaksi kecil yang terjadi dalam jangka waktu yang singkat setelah transaksi besar.\\n\\n4. Jika Anda menemukan pola di mana transaksi besar dipecah menjadi beberapa transaksi kecil dalam waktu yang singkat, catat detail transaksi tersebut, seperti nomor transaksi, waktu, dan jumlah.\\n\\n5. Terakhir, simpan detail transaksi yang telah Anda temukan dalam file CSV bernama smurfing_transactions.csv.\\n\\nDengan cara ini, Anda dapat mengidentifikasi pola smurfing dalam data transaksi dan menyimpan detailnya untuk referensi lebih lanjut atau pelaporan.'"
     },
     "execution_count": 19,
     "metadata": {},
     "output_type": "execute_result"
    }
   ],
   "source": [
    "pandas_ai.run(df,'Silakan analisis data dan cari pola di mana jumlah transaksi besar dipecah menjadi beberapa transaksi kecil dalam waktu yang singkat. '\n",
    "                 'Jika Anda menemukan pola tersebut, tolong simpan detailnya dalam file CSV bernama smurfing_transactions.csv')"
   ],
   "metadata": {
    "collapsed": false,
    "ExecuteTime": {
     "start_time": "2023-05-23T15:17:48.825329Z",
     "end_time": "2023-05-23T15:20:10.334743Z"
    }
   }
  },
  {
   "cell_type": "code",
   "execution_count": 5,
   "outputs": [
    {
     "name": "stdout",
     "output_type": "stream",
     "text": [
      "Running PandasAI with openai LLM...\n",
      "\n",
      "Code generated:\n",
      "```\n",
      "import pandas as pd\n",
      "from sklearn.model_selection import train_test_split\n",
      "from sklearn.tree import DecisionTreeClassifier\n",
      "from sklearn.metrics import accuracy_score\n",
      "\n",
      "# Assuming the dataframe is already provided\n",
      "df = dataframe\n",
      "\n",
      "# Preprocessing the data\n",
      "df['Timestamp'] = pd.to_datetime(df['Timestamp'])\n",
      "df['Receiving Currency'] = df['Receiving Currency'].astype('category').cat.codes\n",
      "df['Payment Currency'] = df['Payment Currency'].astype('category').cat.codes\n",
      "df['Payment Format'] = df['Payment Format'].astype('category').cat.codes\n",
      "\n",
      "# Splitting the data into training and testing sets\n",
      "X = df.drop(['Is Laundering', 'Timestamp'], axis=1)\n",
      "y = df['Is Laundering']\n",
      "X_train, X_test, y_train, y_test = train_test_split(X, y, test_size=0.2, random_state=42)\n",
      "\n",
      "# Training the decision tree model\n",
      "clf = DecisionTreeClassifier()\n",
      "clf.fit(X_train, y_train)\n",
      "\n",
      "# Predicting on the test set\n",
      "y_pred = clf.predict(X_test)\n",
      "\n",
      "# Evaluating the model\n",
      "accuracy = accuracy_score(y_test, y_pred)\n",
      "print(f\"Accuracy: {accuracy}\")\n",
      "\n",
      "# Identifying suspicious transactions\n",
      "suspicious_transactions = df[y_pred == 1]\n",
      "\n",
      "# Saving the suspicious transactions to a CSV file\n",
      "suspicious_transactions.to_csv('decision_tree.csv', index=False)\n",
      "```\n",
      "\n",
      "Code running:\n",
      "```\n",
      "df['Timestamp'] = pd.to_datetime(df['Timestamp'])\n",
      "df['Receiving Currency'] = df['Receiving Currency'].astype('category'\n",
      "    ).cat.codes\n",
      "df['Payment Currency'] = df['Payment Currency'].astype('category').cat.codes\n",
      "df['Payment Format'] = df['Payment Format'].astype('category').cat.codes\n",
      "X = df.drop(['Is Laundering', 'Timestamp'], axis=1)\n",
      "y = df['Is Laundering']\n",
      "X_train, X_test, y_train, y_test = train_test_split(X, y, test_size=0.2,\n",
      "    random_state=42)\n",
      "clf = DecisionTreeClassifier()\n",
      "clf.fit(X_train, y_train)\n",
      "y_pred = clf.predict(X_test)\n",
      "accuracy = accuracy_score(y_test, y_pred)\n",
      "print(f'Accuracy: {accuracy}')\n",
      "suspicious_transactions = df[y_pred == 1]\n",
      "suspicious_transactions.to_csv('decision_tree.csv', index=False)\n",
      "```\n",
      "Answer: \n",
      "Conversational answer: Untuk mengidentifikasi aktivitas pencucian uang yang mencurigakan menggunakan metode decision tree, Anda perlu mengikuti langkah-langkah berikut:\n",
      "\n",
      "1. Kumpulkan data: Pertama, Anda harus mengumpulkan data transaksi dan akun yang relevan. Data ini mungkin mencakup informasi seperti jumlah transaksi, tanggal, jenis transaksi, dan detail akun.\n",
      "\n",
      "2. Praproses data: Setelah mengumpulkan data, Anda perlu membersihkan dan memformatnya agar sesuai untuk digunakan dalam algoritma decision tree. Ini mungkin melibatkan menghapus data yang hilang atau tidak relevan, serta mengubah tipe data jika diperlukan.\n",
      "\n",
      "3. Buat fitur: Selanjutnya, Anda perlu membuat fitur yang akan digunakan oleh decision tree untuk membuat keputusan. Fitur ini mungkin mencakup variabel seperti jumlah transaksi yang melebihi batas tertentu, frekuensi transaksi yang tinggi dalam periode waktu yang singkat, atau transaksi dengan negara berisiko tinggi.\n",
      "\n",
      "4. Latih decision tree: Setelah membuat fitur, Anda dapat melatih decision tree menggunakan data yang telah diproses. Anda mungkin perlu menyesuaikan parameter seperti kedalaman pohon atau jumlah minimum sampel yang diperlukan untuk membagi simpul.\n",
      "\n",
      "5. Evaluasi model: Setelah melatih decision tree, Anda perlu mengevaluasi kinerjanya untuk memastikan bahwa ia dapat mengidentifikasi aktivitas pencucian uang yang mencurigakan dengan akurat. Anda dapat menggunakan metrik seperti akurasi, presisi, dan recall untuk menilai kinerja model.\n",
      "\n",
      "6. Identifikasi aktivitas mencurigakan: Setelah Anda puas dengan kinerja decision tree, Anda dapat menggunakannya untuk mengidentifikasi aktivitas pencucian uang yang mencurigakan dalam data Anda. Ini akan melibatkan menerapkan model ke data dan mengekstrak transaksi dan akun yang dianggap mencurigakan.\n",
      "\n",
      "7. Simpan detail dalam file CSV: Terakhir, Anda perlu menyimpan detail akun dan transaksi yang mencurigakan dalam file CSV dengan nama \"decision_tree.csv\". Anda dapat melakukannya dengan menggunakan bahasa pemrograman seperti Python atau R dan\n"
     ]
    },
    {
     "data": {
      "text/plain": "'Untuk mengidentifikasi aktivitas pencucian uang yang mencurigakan menggunakan metode decision tree, Anda perlu mengikuti langkah-langkah berikut:\\n\\n1. Kumpulkan data: Pertama, Anda harus mengumpulkan data transaksi dan akun yang relevan. Data ini mungkin mencakup informasi seperti jumlah transaksi, tanggal, jenis transaksi, dan detail akun.\\n\\n2. Praproses data: Setelah mengumpulkan data, Anda perlu membersihkan dan memformatnya agar sesuai untuk digunakan dalam algoritma decision tree. Ini mungkin melibatkan menghapus data yang hilang atau tidak relevan, serta mengubah tipe data jika diperlukan.\\n\\n3. Buat fitur: Selanjutnya, Anda perlu membuat fitur yang akan digunakan oleh decision tree untuk membuat keputusan. Fitur ini mungkin mencakup variabel seperti jumlah transaksi yang melebihi batas tertentu, frekuensi transaksi yang tinggi dalam periode waktu yang singkat, atau transaksi dengan negara berisiko tinggi.\\n\\n4. Latih decision tree: Setelah membuat fitur, Anda dapat melatih decision tree menggunakan data yang telah diproses. Anda mungkin perlu menyesuaikan parameter seperti kedalaman pohon atau jumlah minimum sampel yang diperlukan untuk membagi simpul.\\n\\n5. Evaluasi model: Setelah melatih decision tree, Anda perlu mengevaluasi kinerjanya untuk memastikan bahwa ia dapat mengidentifikasi aktivitas pencucian uang yang mencurigakan dengan akurat. Anda dapat menggunakan metrik seperti akurasi, presisi, dan recall untuk menilai kinerja model.\\n\\n6. Identifikasi aktivitas mencurigakan: Setelah Anda puas dengan kinerja decision tree, Anda dapat menggunakannya untuk mengidentifikasi aktivitas pencucian uang yang mencurigakan dalam data Anda. Ini akan melibatkan menerapkan model ke data dan mengekstrak transaksi dan akun yang dianggap mencurigakan.\\n\\n7. Simpan detail dalam file CSV: Terakhir, Anda perlu menyimpan detail akun dan transaksi yang mencurigakan dalam file CSV dengan nama \"decision_tree.csv\". Anda dapat melakukannya dengan menggunakan bahasa pemrograman seperti Python atau R dan'"
     },
     "execution_count": 5,
     "metadata": {},
     "output_type": "execute_result"
    }
   ],
   "source": [
    "pandas_ai.run(df, 'identify suspicious money laundering activities dengan metode decision tree,'\n",
    "' kemudian, simpan detail dari akun dan transaksi tersebut dalam file CSV dengan nama decision_tree.csv')"
   ],
   "metadata": {
    "collapsed": false,
    "ExecuteTime": {
     "start_time": "2023-05-23T15:51:25.936072Z",
     "end_time": "2023-05-23T15:58:51.434831Z"
    }
   }
  },
  {
   "cell_type": "code",
   "execution_count": 11,
   "outputs": [
    {
     "name": "stdout",
     "output_type": "stream",
     "text": [
      "Running PandasAI with openai LLM...\n",
      "\n",
      "Code generated:\n",
      "```\n",
      "import pandas as pd\n",
      "from sklearn.cluster import DBSCAN\n",
      "from sklearn.preprocessing import StandardScaler\n",
      "\n",
      "# Assuming the dataframe is provided as 'dataframe'\n",
      "df = dataframe\n",
      "\n",
      "# Preprocess the data\n",
      "df['Timestamp'] = pd.to_datetime(df['Timestamp'])\n",
      "df['Hour'] = df['Timestamp'].dt.hour\n",
      "df['Day'] = df['Timestamp'].dt.day\n",
      "df['Month'] = df['Timestamp'].dt.month\n",
      "\n",
      "# Select relevant features for clustering\n",
      "features = ['From Bank', 'To Bank', 'Amount Received', 'Receiving Currency', 'Amount Paid', 'Payment Currency', 'Payment Format', 'Hour', 'Day', 'Month']\n",
      "X = df[features]\n",
      "\n",
      "# Scale the features\n",
      "scaler = StandardScaler()\n",
      "X_scaled = scaler.fit_transform(X)\n",
      "\n",
      "# Apply DBSCAN clustering algorithm\n",
      "dbscan = DBSCAN(eps=0.5, min_samples=10)\n",
      "clusters = dbscan.fit_predict(X_scaled)\n",
      "\n",
      "# Add cluster labels to the dataframe\n",
      "df['Cluster'] = clusters\n",
      "\n",
      "# Identify suspicious transactions (outliers)\n",
      "suspicious_transactions = df[df['Cluster'] == -1]\n",
      "\n",
      "# Save suspicious transactions to a CSV file\n",
      "suspicious_transactions.to_csv('transaksi_mencurigakan.csv', index=False)\n",
      "```\n",
      "\n",
      "Code running:\n",
      "```\n",
      "df['Timestamp'] = pd.to_datetime(df['Timestamp'])\n",
      "df['Hour'] = df['Timestamp'].dt.hour\n",
      "df['Day'] = df['Timestamp'].dt.day\n",
      "df['Month'] = df['Timestamp'].dt.month\n",
      "features = ['From Bank', 'To Bank', 'Amount Received', 'Receiving Currency',\n",
      "    'Amount Paid', 'Payment Currency', 'Payment Format', 'Hour', 'Day', 'Month'\n",
      "    ]\n",
      "X = df[features]\n",
      "scaler = StandardScaler()\n",
      "X_scaled = scaler.fit_transform(X)\n",
      "dbscan = DBSCAN(eps=0.5, min_samples=10)\n",
      "clusters = dbscan.fit_predict(X_scaled)\n",
      "df['Cluster'] = clusters\n",
      "suspicious_transactions = df[df['Cluster'] == -1]\n",
      "suspicious_transactions.to_csv('transaksi_mencurigakan.csv', index=False)\n",
      "```\n",
      "Answer: \n",
      "Conversational answer: Untuk mengidentifikasi transaksi yang mencurigakan yang mungkin menunjukkan aktivitas pencucian uang, kita dapat menggunakan teknik data mining. Dalam proses ini, kita akan menganalisis pola transaksi dan menyoroti aktivitas yang tidak biasa. Setelah kita menemukan transaksi mencurigakan tersebut, kita akan menyimpan hasilnya dalam file bernama \"transaksi_mencurigakan.csv\". Dengan cara ini, kita dapat lebih mudah melacak dan menginvestigasi aktivitas yang mencurigakan yang mungkin terkait dengan pencucian uang.\n"
     ]
    },
    {
     "data": {
      "text/plain": "'Untuk mengidentifikasi transaksi yang mencurigakan yang mungkin menunjukkan aktivitas pencucian uang, kita dapat menggunakan teknik data mining. Dalam proses ini, kita akan menganalisis pola transaksi dan menyoroti aktivitas yang tidak biasa. Setelah kita menemukan transaksi mencurigakan tersebut, kita akan menyimpan hasilnya dalam file bernama \"transaksi_mencurigakan.csv\". Dengan cara ini, kita dapat lebih mudah melacak dan menginvestigasi aktivitas yang mencurigakan yang mungkin terkait dengan pencucian uang.'"
     },
     "execution_count": 11,
     "metadata": {},
     "output_type": "execute_result"
    }
   ],
   "source": [
    "pandas_ai.run(df,'identifikasi transaksi yang mencurigakan yang mungkin menunjukkan aktivitas pencucian uang. Gunakan teknik data mining untuk menganalisis pola transaksi dan menyoroti aktivitas yang tidak biasa, simpan hasilnya dalam transaksi_mencurigakan.csv')"
   ],
   "metadata": {
    "collapsed": false,
    "ExecuteTime": {
     "start_time": "2023-05-24T14:59:48.429523Z",
     "end_time": "2023-05-24T15:04:41.074811Z"
    }
   }
  },
  {
   "cell_type": "code",
   "execution_count": 6,
   "outputs": [
    {
     "name": "stdout",
     "output_type": "stream",
     "text": [
      "Running PandasAI with openai LLM...\n",
      "\n",
      "Code generated:\n",
      "```\n",
      "import pandas as pd\n",
      "from sklearn.cluster import KMeans\n",
      "from sklearn.preprocessing import StandardScaler\n",
      "\n",
      "# Assuming the dataframe is already provided as df\n",
      "# df = pd.read_csv('your_data.csv')\n",
      "\n",
      "# Select relevant columns for clustering\n",
      "columns_to_cluster = ['From Bank', 'Account', 'To Bank', 'Account.1', 'Amount Received', 'Receiving Currency', 'Amount Paid', 'Payment Currency', 'Payment Format', 'Is Laundering', 'Hour', 'Day', 'Month']\n",
      "df_cluster = df[columns_to_cluster]\n",
      "\n",
      "# Convert categorical columns to numerical values\n",
      "df_cluster['Receiving Currency'] = pd.Categorical(df_cluster['Receiving Currency']).codes\n",
      "df_cluster['Payment Currency'] = pd.Categorical(df_cluster['Payment Currency']).codes\n",
      "df_cluster['Payment Format'] = pd.Categorical(df_cluster['Payment Format']).codes\n",
      "\n",
      "# Scale the data\n",
      "scaler = StandardScaler()\n",
      "df_scaled = scaler.fit_transform(df_cluster)\n",
      "\n",
      "# Apply KMeans clustering\n",
      "kmeans = KMeans(n_clusters=5, random_state=42)\n",
      "df['Cluster'] = kmeans.fit_predict(df_scaled)\n",
      "\n",
      "# Save the clustered data to a CSV file\n",
      "df.to_csv('Kluster_Klien.csv', index=False)\n",
      "```\n",
      "\n",
      "Code running:\n",
      "```\n",
      "columns_to_cluster = ['From Bank', 'Account', 'To Bank', 'Account.1',\n",
      "    'Amount Received', 'Receiving Currency', 'Amount Paid',\n",
      "    'Payment Currency', 'Payment Format', 'Is Laundering', 'Hour', 'Day',\n",
      "    'Month']\n",
      "df_cluster = df[columns_to_cluster]\n",
      "df_cluster['Receiving Currency'] = pd.Categorical(df_cluster[\n",
      "    'Receiving Currency']).codes\n",
      "df_cluster['Payment Currency'] = pd.Categorical(df_cluster['Payment Currency']\n",
      "    ).codes\n",
      "df_cluster['Payment Format'] = pd.Categorical(df_cluster['Payment Format']\n",
      "    ).codes\n",
      "scaler = StandardScaler()\n",
      "df_scaled = scaler.fit_transform(df_cluster)\n",
      "kmeans = KMeans(n_clusters=5, random_state=42)\n",
      "df['Cluster'] = kmeans.fit_predict(df_scaled)\n",
      "df.to_csv('Kluster_Klien.csv', index=False)\n",
      "```\n"
     ]
    },
    {
     "name": "stderr",
     "output_type": "stream",
     "text": [
      "<string>:6: SettingWithCopyWarning: \n",
      "A value is trying to be set on a copy of a slice from a DataFrame.\n",
      "Try using .loc[row_indexer,col_indexer] = value instead\n",
      "\n",
      "See the caveats in the documentation: https://pandas.pydata.org/pandas-docs/stable/user_guide/indexing.html#returning-a-view-versus-a-copy\n",
      "<string>:8: SettingWithCopyWarning: \n",
      "A value is trying to be set on a copy of a slice from a DataFrame.\n",
      "Try using .loc[row_indexer,col_indexer] = value instead\n",
      "\n",
      "See the caveats in the documentation: https://pandas.pydata.org/pandas-docs/stable/user_guide/indexing.html#returning-a-view-versus-a-copy\n",
      "<string>:10: SettingWithCopyWarning: \n",
      "A value is trying to be set on a copy of a slice from a DataFrame.\n",
      "Try using .loc[row_indexer,col_indexer] = value instead\n",
      "\n",
      "See the caveats in the documentation: https://pandas.pydata.org/pandas-docs/stable/user_guide/indexing.html#returning-a-view-versus-a-copy\n"
     ]
    },
    {
     "name": "stdout",
     "output_type": "stream",
     "text": [
      "Answer: None\n",
      "Conversational answer: Untuk mengelompokkan klien ke dalam kluster berdasarkan profil mereka, Anda dapat menggunakan teknik pengelompokan seperti K-Means, Hierarchical Clustering, atau DBSCAN. Berikut adalah langkah-langkah yang dapat Anda ikuti:\n",
      "\n",
      "1. Pertama, siapkan data klien Anda dalam format yang sesuai, misalnya dalam bentuk tabel dengan fitur-fitur yang relevan untuk pengelompokan.\n",
      "\n",
      "2. Kemudian, pilih algoritma pengelompokan yang ingin Anda gunakan. Misalnya, jika Anda memilih K-Means, tentukan jumlah kluster yang diinginkan (misalnya, K = 3).\n",
      "\n",
      "3. Selanjutnya, lakukan proses pengelompokan dengan algoritma yang dipilih menggunakan perangkat lunak atau bahasa pemrograman yang Anda kuasai, seperti Python, R, atau Excel.\n",
      "\n",
      "4. Setelah proses pengelompokan selesai, tambahkan kolom baru pada tabel data klien yang berisi label kluster yang ditemukan oleh algoritma pengelompokan.\n",
      "\n",
      "5. Terakhir, simpan tabel data klien yang telah diberi label kluster ini dalam format CSV dengan nama \"Kluster_Klien.csv\".\n",
      "\n",
      "Dengan cara ini, Anda akan memiliki file CSV yang berisi informasi klien dan kluster yang telah dikelompokkan berdasarkan profil mereka. Selamat mencoba!\n"
     ]
    },
    {
     "data": {
      "text/plain": "'Untuk mengelompokkan klien ke dalam kluster berdasarkan profil mereka, Anda dapat menggunakan teknik pengelompokan seperti K-Means, Hierarchical Clustering, atau DBSCAN. Berikut adalah langkah-langkah yang dapat Anda ikuti:\\n\\n1. Pertama, siapkan data klien Anda dalam format yang sesuai, misalnya dalam bentuk tabel dengan fitur-fitur yang relevan untuk pengelompokan.\\n\\n2. Kemudian, pilih algoritma pengelompokan yang ingin Anda gunakan. Misalnya, jika Anda memilih K-Means, tentukan jumlah kluster yang diinginkan (misalnya, K = 3).\\n\\n3. Selanjutnya, lakukan proses pengelompokan dengan algoritma yang dipilih menggunakan perangkat lunak atau bahasa pemrograman yang Anda kuasai, seperti Python, R, atau Excel.\\n\\n4. Setelah proses pengelompokan selesai, tambahkan kolom baru pada tabel data klien yang berisi label kluster yang ditemukan oleh algoritma pengelompokan.\\n\\n5. Terakhir, simpan tabel data klien yang telah diberi label kluster ini dalam format CSV dengan nama \"Kluster_Klien.csv\".\\n\\nDengan cara ini, Anda akan memiliki file CSV yang berisi informasi klien dan kluster yang telah dikelompokkan berdasarkan profil mereka. Selamat mencoba!'"
     },
     "execution_count": 6,
     "metadata": {},
     "output_type": "execute_result"
    }
   ],
   "source": [
    "pandas_ai.run(df,'Gunakan teknik pengelompokan untuk mengelompokkan klien ke dalam kluster berdasarkan profil mereka. Simpan hasil pengelompokan ini dalam format CSV dengan nama Kluster_Klien.csv')"
   ],
   "metadata": {
    "collapsed": false,
    "ExecuteTime": {
     "start_time": "2023-05-24T15:25:01.572665Z",
     "end_time": "2023-05-24T15:29:57.051002Z"
    }
   }
  },
  {
   "cell_type": "code",
   "execution_count": null,
   "outputs": [
    {
     "name": "stdout",
     "output_type": "stream",
     "text": [
      "Running PandasAI with openai LLM...\n",
      "\n",
      "Code generated:\n",
      "```\n",
      "import pandas as pd\n",
      "import matplotlib.pyplot as plt\n",
      "\n",
      "# Assuming the dataframe is already provided as df\n",
      "# df = pd.read_csv('your_data.csv') # Uncomment this line if you need to read from a CSV file\n",
      "\n",
      "# Filter transactions with different account names but same beneficiary\n",
      "smurfing_transactions = df[df['Account'] != df['Account.1']]\n",
      "\n",
      "# Save the filtered transactions to a CSV file\n",
      "smurfing_transactions.to_csv('Transaksi_Smurfing.csv', index=False)\n",
      "\n",
      "# Create a bar plot showing the number of transactions per account\n",
      "transaction_counts = smurfing_transactions['Account'].value_counts()\n",
      "transaction_counts.plot(kind='bar', figsize=(10, 5))\n",
      "plt.xlabel('Account')\n",
      "plt.ylabel('Number of Transactions')\n",
      "plt.title('Transactions per Account')\n",
      "plt.savefig('Transactions_per_Account.png')\n",
      "plt.show()\n",
      "```\n",
      "\n",
      "Code running:\n",
      "```\n",
      "smurfing_transactions = df[df['Account'] != df['Account.1']]\n",
      "smurfing_transactions.to_csv('Transaksi_Smurfing.csv', index=False)\n",
      "transaction_counts = smurfing_transactions['Account'].value_counts()\n",
      "transaction_counts.plot(kind='bar', figsize=(10, 5))\n",
      "plt.xlabel('Account')\n",
      "plt.ylabel('Number of Transactions')\n",
      "plt.title('Transactions per Account')\n",
      "plt.savefig('Transactions_per_Account.png')\n",
      "plt.show()\n",
      "```\n"
     ]
    }
   ],
   "source": [
    "pandas_ai.run(df, \"Berikan daftar transaksi yang dilakukan menggunakan beberapa rekening atas nama individu yang berbeda-beda untuk kepentingan satu orang tertentu. Simpan hasilnya dalam format CSV dengan nama 'Transaksi_Smurfing.csv', buat diagram batang untuk menunjukan transaksi per rekening.\")"
   ],
   "metadata": {
    "collapsed": false
   }
  },
  {
   "cell_type": "code",
   "execution_count": 5,
   "outputs": [
    {
     "data": {
      "text/plain": "<Figure size 1000x500 with 1 Axes>",
      "image/png": "[encoded data removed]"
     },
     "metadata": {},
     "output_type": "display_data"
    }
   ],
   "source": [
    "smurfing_transactions = df[df['Account'] != df['Account.1']]\n",
    "smurfing_transactions.to_csv('Transaksi_Smurfing.csv', index=False)\n",
    "transaction_counts = smurfing_transactions['Account'].value_counts()\n",
    "transaction_counts.plot(kind='bar', figsize=(10, 5))\n",
    "plt.xlabel('Account')\n",
    "plt.ylabel('Number of Transactions')\n",
    "plt.title('Transactions per Account')\n",
    "plt.savefig('Transactions_per_Account.png')\n",
    "plt.show()"
   ],
   "metadata": {
    "collapsed": false,
    "ExecuteTime": {
     "start_time": "2023-05-24T16:23:27.564671Z",
     "end_time": "2023-05-24T16:55:23.121931Z"
    }
   }
  },
  {
   "cell_type": "code",
   "execution_count": null,
   "outputs": [],
   "source": [],
   "metadata": {
    "collapsed": false
   }
  }
 ],
 "metadata": {
  "kernelspec": {
   "display_name": "pandas-ai",
   "language": "python",
   "name": "pandas-ai"
  },
  "language_info": {
   "codemirror_mode": {
    "name": "ipython",
    "version": 3
   },
   "file_extension": ".py",
   "mimetype": "text/x-python",
   "name": "python",
   "nbconvert_exporter": "python",
   "pygments_lexer": "ipython3",
   "version": "3.10.10"
  }
 },
 "nbformat": 4,
 "nbformat_minor": 5
}
